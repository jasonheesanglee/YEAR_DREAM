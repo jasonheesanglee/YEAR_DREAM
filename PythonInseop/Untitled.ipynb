{
 "cells": [
  {
   "cell_type": "code",
   "execution_count": 1,
   "id": "c3953912",
   "metadata": {},
   "outputs": [],
   "source": [
    "# !pip install openpyxl\n",
    "import openpyxl"
   ]
  },
  {
   "cell_type": "code",
   "execution_count": 2,
   "id": "ff3dc534",
   "metadata": {},
   "outputs": [],
   "source": [
    "# 기본적인 엑셀 파일 생성\n",
    "from datetime import datetime\n",
    "\n",
    "workbook = openpyxl.Workbook() # 하나의 엑셀 파일을 생성\n",
    "# worksheet = workbook['Sheet1']\n",
    "worksheet = workbook.active # 기본 Sheet를 연다\n",
    "\n",
    "worksheet.title = \"Info\"\n",
    "worksheet.append([\"1\", \"2\", \"3\", \"4\", \"5\"])\n",
    "worksheet.append([\"1\", \"2\", \"3\", \"4\", \"5\"])\n",
    "worksheet.append([\"1\", \"2\", \"3\", \"4\", \"5\"])\n",
    "worksheet.append([\"1\", \"2\", \"3\", \"4\", \"5\"])\n",
    "worksheet.append([\"1\", \"2\", \"3\", \"4\", \"5\"])\n",
    "\n",
    "worksheet.insert_rows(3) # 3행에 비어있는 칸을 생성해죠\n",
    "worksheet.insert_rows(3) # 3행에 비어있는 칸을 생성해죠\n",
    "worksheet.insert_rows(3) # 3행에 비어있는 칸을 생성해죠\n",
    "\n",
    "workbook.save(\"./test.xlsx\")"
   ]
  },
  {
   "cell_type": "code",
   "execution_count": 6,
   "id": "7d30382e",
   "metadata": {},
   "outputs": [
    {
     "ename": "InvalidFileException",
     "evalue": "openpyxl does not support  file format, please check you can open it with Excel first. Supported formats are: .xlsx,.xlsm,.xltx,.xltm",
     "output_type": "error",
     "traceback": [
      "\u001b[0;31m---------------------------------------------------------------------------\u001b[0m",
      "\u001b[0;31mInvalidFileException\u001b[0m                      Traceback (most recent call last)",
      "Cell \u001b[0;32mIn[6], line 3\u001b[0m\n\u001b[1;32m      1\u001b[0m \u001b[38;5;66;03m# 엑셀 데이터 불러오기\u001b[39;00m\n\u001b[0;32m----> 3\u001b[0m wb \u001b[38;5;241m=\u001b[39m \u001b[43mopenpyxl\u001b[49m\u001b[38;5;241;43m.\u001b[39;49m\u001b[43mload_workbook\u001b[49m\u001b[43m(\u001b[49m\u001b[38;5;124;43m\"\u001b[39;49m\u001b[38;5;124;43m/Users/b05/Desktop/Python/PythonInseop/xlsxtxt\u001b[39;49m\u001b[38;5;124;43m\"\u001b[39;49m\u001b[43m)\u001b[49m\n\u001b[1;32m      4\u001b[0m ws \u001b[38;5;241m=\u001b[39m wb[\u001b[38;5;124m'\u001b[39m\u001b[38;5;124mInfo\u001b[39m\u001b[38;5;124m'\u001b[39m] \u001b[38;5;66;03m# sheet 이름\u001b[39;00m\n\u001b[1;32m      6\u001b[0m \u001b[38;5;66;03m# (1) 좌표값으로 데이터를 불러오는 방법\u001b[39;00m\n",
      "File \u001b[0;32m/opt/homebrew/Caskroom/miniconda/base/lib/python3.10/site-packages/openpyxl/reader/excel.py:344\u001b[0m, in \u001b[0;36mload_workbook\u001b[0;34m(filename, read_only, keep_vba, data_only, keep_links, rich_text)\u001b[0m\n\u001b[1;32m    314\u001b[0m \u001b[38;5;28;01mdef\u001b[39;00m \u001b[38;5;21mload_workbook\u001b[39m(filename, read_only\u001b[38;5;241m=\u001b[39m\u001b[38;5;28;01mFalse\u001b[39;00m, keep_vba\u001b[38;5;241m=\u001b[39mKEEP_VBA,\n\u001b[1;32m    315\u001b[0m                   data_only\u001b[38;5;241m=\u001b[39m\u001b[38;5;28;01mFalse\u001b[39;00m, keep_links\u001b[38;5;241m=\u001b[39m\u001b[38;5;28;01mTrue\u001b[39;00m, rich_text\u001b[38;5;241m=\u001b[39m\u001b[38;5;28;01mFalse\u001b[39;00m):\n\u001b[1;32m    316\u001b[0m     \u001b[38;5;124;03m\"\"\"Open the given filename and return the workbook\u001b[39;00m\n\u001b[1;32m    317\u001b[0m \n\u001b[1;32m    318\u001b[0m \u001b[38;5;124;03m    :param filename: the path to open or a file-like object\u001b[39;00m\n\u001b[0;32m   (...)\u001b[0m\n\u001b[1;32m    342\u001b[0m \n\u001b[1;32m    343\u001b[0m \u001b[38;5;124;03m    \"\"\"\u001b[39;00m\n\u001b[0;32m--> 344\u001b[0m     reader \u001b[38;5;241m=\u001b[39m \u001b[43mExcelReader\u001b[49m\u001b[43m(\u001b[49m\u001b[43mfilename\u001b[49m\u001b[43m,\u001b[49m\u001b[43m \u001b[49m\u001b[43mread_only\u001b[49m\u001b[43m,\u001b[49m\u001b[43m \u001b[49m\u001b[43mkeep_vba\u001b[49m\u001b[43m,\u001b[49m\n\u001b[1;32m    345\u001b[0m \u001b[43m                         \u001b[49m\u001b[43mdata_only\u001b[49m\u001b[43m,\u001b[49m\u001b[43m \u001b[49m\u001b[43mkeep_links\u001b[49m\u001b[43m,\u001b[49m\u001b[43m \u001b[49m\u001b[43mrich_text\u001b[49m\u001b[43m)\u001b[49m\n\u001b[1;32m    346\u001b[0m     reader\u001b[38;5;241m.\u001b[39mread()\n\u001b[1;32m    347\u001b[0m     \u001b[38;5;28;01mreturn\u001b[39;00m reader\u001b[38;5;241m.\u001b[39mwb\n",
      "File \u001b[0;32m/opt/homebrew/Caskroom/miniconda/base/lib/python3.10/site-packages/openpyxl/reader/excel.py:123\u001b[0m, in \u001b[0;36mExcelReader.__init__\u001b[0;34m(self, fn, read_only, keep_vba, data_only, keep_links, rich_text)\u001b[0m\n\u001b[1;32m    121\u001b[0m \u001b[38;5;28;01mdef\u001b[39;00m \u001b[38;5;21m__init__\u001b[39m(\u001b[38;5;28mself\u001b[39m, fn, read_only\u001b[38;5;241m=\u001b[39m\u001b[38;5;28;01mFalse\u001b[39;00m, keep_vba\u001b[38;5;241m=\u001b[39mKEEP_VBA,\n\u001b[1;32m    122\u001b[0m              data_only\u001b[38;5;241m=\u001b[39m\u001b[38;5;28;01mFalse\u001b[39;00m, keep_links\u001b[38;5;241m=\u001b[39m\u001b[38;5;28;01mTrue\u001b[39;00m, rich_text\u001b[38;5;241m=\u001b[39m\u001b[38;5;28;01mFalse\u001b[39;00m):\n\u001b[0;32m--> 123\u001b[0m     \u001b[38;5;28mself\u001b[39m\u001b[38;5;241m.\u001b[39marchive \u001b[38;5;241m=\u001b[39m \u001b[43m_validate_archive\u001b[49m\u001b[43m(\u001b[49m\u001b[43mfn\u001b[49m\u001b[43m)\u001b[49m\n\u001b[1;32m    124\u001b[0m     \u001b[38;5;28mself\u001b[39m\u001b[38;5;241m.\u001b[39mvalid_files \u001b[38;5;241m=\u001b[39m \u001b[38;5;28mself\u001b[39m\u001b[38;5;241m.\u001b[39marchive\u001b[38;5;241m.\u001b[39mnamelist()\n\u001b[1;32m    125\u001b[0m     \u001b[38;5;28mself\u001b[39m\u001b[38;5;241m.\u001b[39mread_only \u001b[38;5;241m=\u001b[39m read_only\n",
      "File \u001b[0;32m/opt/homebrew/Caskroom/miniconda/base/lib/python3.10/site-packages/openpyxl/reader/excel.py:93\u001b[0m, in \u001b[0;36m_validate_archive\u001b[0;34m(filename)\u001b[0m\n\u001b[1;32m     87\u001b[0m         \u001b[38;5;28;01melse\u001b[39;00m:\n\u001b[1;32m     88\u001b[0m             msg \u001b[38;5;241m=\u001b[39m (\u001b[38;5;124m'\u001b[39m\u001b[38;5;124mopenpyxl does not support \u001b[39m\u001b[38;5;132;01m%s\u001b[39;00m\u001b[38;5;124m file format, \u001b[39m\u001b[38;5;124m'\u001b[39m\n\u001b[1;32m     89\u001b[0m                    \u001b[38;5;124m'\u001b[39m\u001b[38;5;124mplease check you can open \u001b[39m\u001b[38;5;124m'\u001b[39m\n\u001b[1;32m     90\u001b[0m                    \u001b[38;5;124m'\u001b[39m\u001b[38;5;124mit with Excel first. \u001b[39m\u001b[38;5;124m'\u001b[39m\n\u001b[1;32m     91\u001b[0m                    \u001b[38;5;124m'\u001b[39m\u001b[38;5;124mSupported formats are: \u001b[39m\u001b[38;5;132;01m%s\u001b[39;00m\u001b[38;5;124m'\u001b[39m) \u001b[38;5;241m%\u001b[39m (file_format,\n\u001b[1;32m     92\u001b[0m                                                    \u001b[38;5;124m'\u001b[39m\u001b[38;5;124m,\u001b[39m\u001b[38;5;124m'\u001b[39m\u001b[38;5;241m.\u001b[39mjoin(SUPPORTED_FORMATS))\n\u001b[0;32m---> 93\u001b[0m         \u001b[38;5;28;01mraise\u001b[39;00m InvalidFileException(msg)\n\u001b[1;32m     95\u001b[0m archive \u001b[38;5;241m=\u001b[39m ZipFile(filename, \u001b[38;5;124m'\u001b[39m\u001b[38;5;124mr\u001b[39m\u001b[38;5;124m'\u001b[39m)\n\u001b[1;32m     96\u001b[0m \u001b[38;5;28;01mreturn\u001b[39;00m archive\n",
      "\u001b[0;31mInvalidFileException\u001b[0m: openpyxl does not support  file format, please check you can open it with Excel first. Supported formats are: .xlsx,.xlsm,.xltx,.xltm"
     ]
    }
   ],
   "source": [
    "# 엑셀 데이터 불러오기\n",
    "\n",
    "wb = openpyxl.load_workbook(\"/Users/b05/Desktop/Python/PythonInseop/xlsxtxt/\")\n",
    "ws = wb['Info'] # sheet 이름\n",
    "\n",
    "# (1) 좌표값으로 데이터를 불러오는 방법\n",
    "ws.cell(2,5).value # 행, 열\n",
    "\n",
    "# (2) 고유값으로 데이터 불러오는 방법\n",
    "ws['E2'].value\n",
    "\n",
    "# (3) 엑셀 데이터 정보\n",
    "print(ws.max_row)\n",
    "print(ws.max_column)"
   ]
  },
  {
   "cell_type": "code",
   "execution_count": null,
   "id": "2f61a076",
   "metadata": {},
   "outputs": [
    {
     "ename": "",
     "evalue": "",
     "output_type": "error",
     "traceback": [
      "\u001b[1;31mFailed to start the Kernel. \n",
      "\u001b[1;31mFailed to start the Kernel 'Python 3.9.6'. \n",
      "\u001b[1;31mView Jupyter <a href='command:jupyter.viewOutput'>log</a> for further details. Activating /usr/bin/python3 to run Jupyter failed with function toString() { [native code] }"
     ]
    }
   ],
   "source": [
    "# (4) 셀 데이터 변경하는 법\n",
    "ws['E2'].value = \"데이터 변경\"\n",
    "wb.save(\"./test.xlsx\")"
   ]
  },
  {
   "cell_type": "code",
   "execution_count": null,
   "id": "7da690cb",
   "metadata": {},
   "outputs": [
    {
     "ename": "",
     "evalue": "",
     "output_type": "error",
     "traceback": [
      "\u001b[1;31mFailed to start the Kernel. \n",
      "\u001b[1;31mFailed to start the Kernel 'Python 3.9.6'. \n",
      "\u001b[1;31mView Jupyter <a href='command:jupyter.viewOutput'>log</a> for further details. Activating /usr/bin/python3 to run Jupyter failed with function toString() { [native code] }"
     ]
    }
   ],
   "source": [
    "# (1) 엑셀파일을 읽어온다\n",
    "wb = openpyxl.Workbook(\"/Users/b05/Desktop/Python/PythonInseop/xlsxtxt/final.xlsx\")\n",
    "\n",
    "print(\"opened final\")\n",
    "# (2) Sheet1에 있는 음식명 데이터를 Sheet4로 옮긴다.\n",
    "\n",
    "ws = wb[\"Sht1\"]\n",
    "\n",
    "food_name_list = []\n",
    "\n",
    "for i in range(2,6):\n",
    "    food_name = ws.cell(i,2).value\n",
    "    food_name_list.append(food_name)\n",
    "\n",
    "\n",
    "\n",
    "\n",
    "\n",
    "#(3) Sheet4로 데이터를 넣어준다.\n",
    "ws4 = wb.create_sheet(\"음식명\")\n",
    "\n",
    "for i in range(4):\n",
    "    ws4['A' + str(i+1)] = food_name_list[i]\n",
    "\n",
    "    # ws4['A1'] = food_name_list[0]\n",
    "    # ws4['A2'] = food_name_list[1]\n",
    "    # ws4['A3'] = food_name_list[2]\n",
    "    # ws4['A4'] = food_name_list[3]\n",
    "\n",
    "wb.save(\"./food_final.xlsx\")"
   ]
  },
  {
   "cell_type": "code",
   "execution_count": null,
   "id": "c21fb698",
   "metadata": {},
   "outputs": [
    {
     "ename": "",
     "evalue": "",
     "output_type": "error",
     "traceback": [
      "\u001b[1;31mFailed to start the Kernel. \n",
      "\u001b[1;31mFailed to start the Kernel 'Python 3.9.6'. \n",
      "\u001b[1;31mView Jupyter <a href='command:jupyter.viewOutput'>log</a> for further details. Activating /usr/bin/python3 to run Jupyter failed with function toString() { [native code] }"
     ]
    }
   ],
   "source": [
    "import openpyxl\n",
    "from datetime import datetime\n",
    "\n",
    "zoom_path = \"/Users/b05/Desktop/Python/PythonInseop/xlsxtxt/zoom.xlsx\"\n",
    "today = datetime.today().strftime(\"%Y-%m-%d\") # 2023-04-28\n",
    "final_path = today + \"_zoom.xlsx\"\n",
    "\n",
    "wb = openpyxl.load_workbook(zoom_path)\n",
    "\n",
    "ws = wb.active\n",
    "\n",
    "# c2~c30까지의 데이터를 가져온다.\n",
    "for i in range(2, 31):\n",
    "    time = int(ws['C' + str(i)].value) # 줌에 참석한 시간 데이터\n",
    "\n",
    "    attendance = \"\" # 출결여부\n",
    "    if time >= 45: \n",
    "        attendance = \"출석\"\n",
    "    elif time >= 15:\n",
    "        attendance = \"지각\"\n",
    "    else:\n",
    "        attendance = \"결석\"\n",
    "\n",
    "    ws[\"E\" + str(i)] = attendance\n",
    "\n",
    "wb.save(final_path)\n",
    "wb.close()\n",
    "\n",
    "\n"
   ]
  },
  {
   "cell_type": "code",
   "execution_count": null,
   "id": "ed111374",
   "metadata": {},
   "outputs": [
    {
     "ename": "",
     "evalue": "",
     "output_type": "error",
     "traceback": [
      "\u001b[1;31mFailed to start the Kernel. \n",
      "\u001b[1;31mFailed to start the Kernel 'Python 3.9.6'. \n",
      "\u001b[1;31mView Jupyter <a href='command:jupyter.viewOutput'>log</a> for further details. Activating /usr/bin/python3 to run Jupyter failed with function toString() { [native code] }"
     ]
    }
   ],
   "source": [
    "# Q. 참가시간을 기준으로 출결 여부를 체크하는 자동화 프로그램을 만드시오.\n",
    "\n",
    "# (1) 조건\n",
    "## - 45분 이상 참석자 출석\n",
    "## - 15분 이상 참석자 지각\n",
    "## - 그 외 모두 결석\n",
    "\n",
    "# (2) 새로운 엑셀 파일에 저장을 하시오. 파일명: zoom_result.xlsx\n",
    " \n",
    "# divide\n",
    "#(1) 참가한 사람들의 참가 시간 데이터를 전부 불러온다. C2~C30\n",
    "#(2) 불러온 데이터 값을 위의 조건에 따라 분류한다.\n",
    "#(3) 분류한 조건값(출석,지각,결석)을 E열에 입력한다."
   ]
  },
  {
   "cell_type": "code",
   "execution_count": null,
   "id": "fc639fc1",
   "metadata": {},
   "outputs": [],
   "source": []
  }
 ],
 "metadata": {
  "kernelspec": {
   "display_name": "Python 3 (ipykernel)",
   "language": "python",
   "name": "python3"
  },
  "language_info": {
   "codemirror_mode": {
    "name": "ipython",
    "version": 3
   },
   "file_extension": ".py",
   "mimetype": "text/x-python",
   "name": "python",
   "nbconvert_exporter": "python",
   "pygments_lexer": "ipython3",
   "version": "3.10.9"
  }
 },
 "nbformat": 4,
 "nbformat_minor": 5
}
