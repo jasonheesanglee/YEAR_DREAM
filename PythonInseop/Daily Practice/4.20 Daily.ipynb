{
 "cells": [
  {
   "cell_type": "code",
   "execution_count": 2,
   "id": "cc521ee6",
   "metadata": {},
   "outputs": [],
   "source": [
    "import numpy as np"
   ]
  },
  {
   "cell_type": "markdown",
   "id": "2dd7d392",
   "metadata": {},
   "source": [
    "Q1. 2차원 배열에서 행렬의 각 행의 평균을 계산하는 코드를 작성하세요."
   ]
  },
  {
   "cell_type": "code",
   "execution_count": 4,
   "id": "af3cec56",
   "metadata": {},
   "outputs": [
    {
     "name": "stdout",
     "output_type": "stream",
     "text": [
      "[2. 5. 8.]\n"
     ]
    }
   ],
   "source": [
    "arr = np.array([[1,2,3], [4,5,6], [7,8,9]])\n",
    "\n",
    "arr_avg = np.average(arr, axis = 1)\n",
    "print(arr_avg)"
   ]
  },
  {
   "cell_type": "markdown",
   "id": "f4202833",
   "metadata": {},
   "source": [
    "Q2. 1차원 배열에서 짝수 인덱스의 값을 출력하는 코드를 작성하세요."
   ]
  },
  {
   "cell_type": "code",
   "execution_count": 30,
   "id": "5b9ceb5e",
   "metadata": {},
   "outputs": [
    {
     "name": "stdout",
     "output_type": "stream",
     "text": [
      "[2 4 6 8]\n"
     ]
    }
   ],
   "source": [
    "arr = np.array([[1,2,3],\n",
    "                [4,5,6],\n",
    "                [7,8,9]])\n",
    "arr_evens = np.arange(2, arr.size,2)\n",
    "print(arr_evens)\n"
   ]
  },
  {
   "cell_type": "markdown",
   "id": "72c934b8",
   "metadata": {},
   "source": [
    "Q3. 2차원 배열의 주 대각선 상에 있는 원소들을 출력하는 코드를 작성하세요."
   ]
  },
  {
   "cell_type": "code",
   "execution_count": 34,
   "id": "e695cd34",
   "metadata": {},
   "outputs": [
    {
     "name": "stdout",
     "output_type": "stream",
     "text": [
      "[1 5 9]\n",
      "[1 5 9]\n"
     ]
    }
   ],
   "source": [
    "arr = np.array([[1, 2, 3],\n",
    "                [4, 5, 6],\n",
    "                [7, 8, 9]])\n",
    "\n",
    "arr_diag = np.diag(arr)\n",
    "print(arr_diag)\n",
    "print(arr.diagonal(0))"
   ]
  },
  {
   "cell_type": "markdown",
   "id": "9d1d9309",
   "metadata": {},
   "source": [
    "Q4. 2차원 배열에서 각 열의 표준 편차를 계산하는 코드를 작성하세요."
   ]
  },
  {
   "cell_type": "code",
   "execution_count": 38,
   "id": "ee48003d",
   "metadata": {},
   "outputs": [
    {
     "name": "stdout",
     "output_type": "stream",
     "text": [
      "[2.44948974 2.44948974 2.44948974]\n",
      "[0.81649658 0.81649658 0.81649658]\n"
     ]
    }
   ],
   "source": [
    "arr = np.array([[1, 2, 3],\n",
    "                [4, 5, 6],\n",
    "                [7, 8, 9]])\n",
    "arr_stdev_0 = np.std(arr, axis = 0) # y축에서 가로로 뻗어가는\n",
    "arr_stdev_1 = np.std(arr, axis = 1) # x축에서 세로로 뻗어가는\n",
    "print(arr_stdev_0)\n",
    "print(arr_stdev_1)"
   ]
  },
  {
   "cell_type": "markdown",
   "id": "507bc18c",
   "metadata": {},
   "source": [
    "Q5. 1차원 배열에서 원소들의 순위를 계산하는 코드를 작성하세요."
   ]
  },
  {
   "cell_type": "code",
   "execution_count": 113,
   "id": "6492071b",
   "metadata": {},
   "outputs": [
    {
     "name": "stdout",
     "output_type": "stream",
     "text": [
      "[9 6 5 4 3 2 1 1]\n"
     ]
    }
   ],
   "source": [
    "arr = np.array([3, 1, 4, 1, 5, 9, 2, 6])\n",
    "arr_sorted = np.sort(arr)\n",
    "print(arr_sorted[::-1])"
   ]
  },
  {
   "cell_type": "markdown",
   "id": "e5b230df",
   "metadata": {},
   "source": [
    "Q6. 2차원 배열에서 각 행의 최대값과 그 인덱스를 출력하는 코드를 작성하세요."
   ]
  },
  {
   "cell_type": "code",
   "execution_count": 5,
   "id": "b1dc886a",
   "metadata": {},
   "outputs": [
    {
     "name": "stdout",
     "output_type": "stream",
     "text": [
      "[3 6 9]\n",
      "(array([0]), array([2]))\n",
      "(array([1]), array([2]))\n",
      "(array([2]), array([2]))\n",
      "[7 8 9]\n",
      "[7 8 9]\n"
     ]
    }
   ],
   "source": [
    "arr = np.array([[1, 2, 3], [4, 5, 6], [7, 8, 9]])\n",
    "arr_max = np.max(arr, axis = 1)\n",
    "\n",
    "np.array([[1, 2, 3], [4, 5, 6], [7, 8, 9]])\n",
    "print(arr_max)\n",
    "\n",
    "arr_max_0 = np.where(arr == arr_max[0])\n",
    "arr_max_1 = np.where(arr == arr_max[1])\n",
    "arr_max_2 = np.where(arr == arr_max[2])\n",
    "arr_max_3 = np.amax(arr, axis = 0)\n",
    "arr_max_4 = np.max(arr,axis = 0)\n",
    "\n",
    "print(arr_max_0)\n",
    "print(arr_max_1)\n",
    "print(arr_max_2)\n",
    "print(arr_max_3)\n",
    "print(arr_max_4)"
   ]
  },
  {
   "cell_type": "markdown",
   "id": "a8f6bba6",
   "metadata": {},
   "source": [
    "Q7. 1차원 배열에서 중앙값(median)을 계산하는 코드를 작성하세요."
   ]
  },
  {
   "cell_type": "code",
   "execution_count": 90,
   "id": "1db0156d",
   "metadata": {},
   "outputs": [
    {
     "name": "stdout",
     "output_type": "stream",
     "text": [
      "3\n"
     ]
    }
   ],
   "source": [
    "arr = np.array([1, 2, 3, 4, 5])\n",
    "arr_med = np.median(arr)\n",
    "print(int(arr_med))"
   ]
  },
  {
   "cell_type": "markdown",
   "id": "881e9c30",
   "metadata": {},
   "source": [
    "Q8. 1차원 배열에서 원소의 값이 5 이상인 것들만 출력하는 코드를 작성하세요."
   ]
  },
  {
   "cell_type": "code",
   "execution_count": 100,
   "id": "ecca7310",
   "metadata": {},
   "outputs": [
    {
     "name": "stdout",
     "output_type": "stream",
     "text": [
      "[6 9 7 8]\n"
     ]
    }
   ],
   "source": [
    "arr = np.array([1, 4, 6, 3, 9, 2, 7, 8])\n",
    "print(arr[arr >= 5])"
   ]
  },
  {
   "cell_type": "markdown",
   "id": "7d918a4d",
   "metadata": {},
   "source": [
    "Q9. 2차원 배열에서 모든 원소의 값을 2배로 만드는 코드를 작성하세요."
   ]
  },
  {
   "cell_type": "code",
   "execution_count": 101,
   "id": "f0ef0f61",
   "metadata": {},
   "outputs": [
    {
     "name": "stdout",
     "output_type": "stream",
     "text": [
      "[[ 2  4  6]\n",
      " [ 8 10 12]\n",
      " [14 16 18]]\n"
     ]
    }
   ],
   "source": [
    "arr = np.array([[1, 2, 3],\n",
    "                [4, 5, 6],\n",
    "                [7, 8, 9]])\n",
    "\n",
    "arr_doub = arr*2\n",
    "print(arr_doub)"
   ]
  },
  {
   "cell_type": "markdown",
   "id": "c67a1bb7",
   "metadata": {},
   "source": [
    "Q10. 1차원 배열에서 원소의 값이 3 또는 5인 것들의 인덱스를 출력하는 코드를 작성하세요."
   ]
  },
  {
   "cell_type": "code",
   "execution_count": 111,
   "id": "47385ffe",
   "metadata": {},
   "outputs": [
    {
     "name": "stdout",
     "output_type": "stream",
     "text": [
      "[1 2 6 7]\n"
     ]
    }
   ],
   "source": [
    "arr = np.array([1, 3, 5, 2, 4, 6, 3, 5, 7])\n",
    "ind_3 = np.where(arr == 3)\n",
    "ind_5 = np.where(arr == 5)\n",
    "\n",
    "ind_3_5 = np.append(ind_3, ind_5)\n",
    "print(np.sort(ind_3_5))"
   ]
  },
  {
   "cell_type": "markdown",
   "id": "dc9f90eb",
   "metadata": {},
   "source": [
    "Q11. 2차원 배열에서 행렬의 각 열의 값을 오름차순으로 정렬하는 코드를 작성하세요."
   ]
  },
  {
   "cell_type": "code",
   "execution_count": 112,
   "id": "f25aab28",
   "metadata": {},
   "outputs": [
    {
     "name": "stdout",
     "output_type": "stream",
     "text": [
      "[[1 2 3]\n",
      " [4 5 6]\n",
      " [7 8 9]]\n"
     ]
    }
   ],
   "source": [
    "arr = np.array([[3, 2, 1], [6, 5, 4], [9, 8, 7]]) # 3x3, 2차원 행렬\n",
    "\n",
    "arr_sorted_1 = np.sort(arr)\n",
    "print(arr_sorted_1)"
   ]
  },
  {
   "cell_type": "markdown",
   "id": "d918e5e5",
   "metadata": {},
   "source": [
    "Q12. 1차원 배열에서 중복되는 값을 제거하는 코드를 작성하세요."
   ]
  },
  {
   "cell_type": "code",
   "execution_count": 115,
   "id": "8b08618e",
   "metadata": {},
   "outputs": [
    {
     "name": "stdout",
     "output_type": "stream",
     "text": [
      "[1 2 3 4 5]\n"
     ]
    }
   ],
   "source": [
    "arr = np.array([1, 2, 3, 2, 4, 3, 5])\n",
    "\n",
    "arr_unique = np.unique(arr)\n",
    "\n",
    "print(arr_unique)"
   ]
  },
  {
   "cell_type": "code",
   "execution_count": null,
   "id": "57bacda5",
   "metadata": {},
   "outputs": [],
   "source": []
  }
 ],
 "metadata": {
  "kernelspec": {
   "display_name": "Python 3 (ipykernel)",
   "language": "python",
   "name": "python3"
  },
  "language_info": {
   "codemirror_mode": {
    "name": "ipython",
    "version": 3
   },
   "file_extension": ".py",
   "mimetype": "text/x-python",
   "name": "python",
   "nbconvert_exporter": "python",
   "pygments_lexer": "ipython3",
   "version": "3.10.9"
  }
 },
 "nbformat": 4,
 "nbformat_minor": 5
}
