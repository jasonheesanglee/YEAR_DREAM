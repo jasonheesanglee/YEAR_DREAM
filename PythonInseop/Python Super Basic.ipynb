{
 "cells": [
  {
   "cell_type": "code",
   "execution_count": 51,
   "id": "266eb6af",
   "metadata": {},
   "outputs": [
    {
     "name": "stdout",
     "output_type": "stream",
     "text": [
      "(a,1), (b,2), (c,3), \n",
      "(a,1), (b,2), (c,3)\n",
      "\n",
      "(a,1), (b,2), (c,3), \n",
      "(a,1), (b,2), (c,3)\n",
      "\n",
      "(a,1), (b,2), (c,3)\n",
      "\n",
      "[('a', 1), ('b', 2), ('c', 3)]\n",
      "('a', 1)\n",
      "('b', 2)\n",
      "('c', 3)\n",
      "('a', 1),('b', 2),('c', 3)\n",
      "('a', 1) Hello ('b', 2) Hello ('c', 3)\n"
     ]
    }
   ],
   "source": [
    "# for 문\n",
    "\n",
    "# for i in range(5): # iterator / in 뒤에 tuple, list, range 등 가능\n",
    "#     i + 3\n",
    "    \n",
    "\n",
    "# with open(\"a.txt\", \"r\") as f:\n",
    "#     for lin in f:\n",
    "        \n",
    "L = [\"a\", \"b\", \"c\"]\n",
    "L2 = [1, 2, 3]\n",
    "\n",
    "# ('a', 1), ('b', 2) (c, 3)\n",
    "\n",
    "# for i in L:\n",
    "#     for j in L2:\n",
    "#         print(i, j)\n",
    "        \n",
    "# print()\n",
    "        \n",
    "# for i, j in L, L2:\n",
    "    \n",
    "# 1) 인덱스를 사용하는 방법\n",
    "for i in range(len(L)):\n",
    "    print(f\"({L[i]},{L2[i]})\", end = \", \")\n",
    "\n",
    "print(\"\")\n",
    "    \n",
    "for i in range(len(L)):\n",
    "    if i == (len(L) - 1): \n",
    "        print(f\"({L[i]},{L2[i]})\")\n",
    "    else:\n",
    "        print(f\"({L[i]},{L2[i]})\", end = \", \") # boundary condition\n",
    "\n",
    "print()\n",
    "# 2) enumerate, zip 함수를 사용\n",
    "\n",
    "idx = 0\n",
    "for i, j in zip(L, L2):\n",
    "    if i == (len(L)-1):\n",
    "        print(f\"({i},{j})\")\n",
    "    else:\n",
    "        print(f\"({i},{j})\", end=\", \")\n",
    "    idx +=1\n",
    "\n",
    "print()\n",
    "\n",
    "idx = 0\n",
    "for idx, (i, j) in enumerate(zip(L, L2)):\n",
    "    if idx == (len(L)-1):\n",
    "        print(f\"({i},{j})\")\n",
    "    else:\n",
    "        print(f\"({i},{j})\", end=\", \")\n",
    "    idx +=1\n",
    "\n",
    "print()\n",
    "\n",
    "idx = 0\n",
    "for idx, val in enumerate(zip(L, L2)):\n",
    "    i, j = val # unpacking\n",
    "    if idx == (len(L)-1):\n",
    "        print(f\"({i},{j})\")\n",
    "    else:\n",
    "        print(f\"({i},{j})\", end=\", \")\n",
    "    idx +=1\n",
    "    \n",
    "print()\n",
    "\n",
    "# 3) list comprehension\n",
    "L3 = [(a, b) for a, b in zip(L,L2)]\n",
    "print(L3)\n",
    "for x in L3:\n",
    "    print(x)\n",
    "\n",
    "print(*L3, sep=\",\")\n",
    "print(*L3, sep=\" Hello \")\n",
    "\n",
    "# [f\"({i},{j})\" for idx,val in enumerate(zip(L,L2); i,j = val; if idx==(len(L)-1):print(f\"({i},{j})\"; else: print(f\"({i},(j))\",end=\",\"))]\n",
    "                             \n",
    "                             "
   ]
  },
  {
   "cell_type": "code",
   "execution_count": 43,
   "id": "03c7508b",
   "metadata": {},
   "outputs": [
    {
     "name": "stdout",
     "output_type": "stream",
     "text": [
      "[0, 1, 2]\n",
      "\n",
      "[0, 1, 2]\n",
      "\n",
      "[10, 11, 1234, 11]\n",
      "[10, 11, 1234, 11]\n"
     ]
    }
   ],
   "source": [
    "# 3) list comprehension practice\n",
    "\n",
    "# [원소표현 for x in 반복가능한객체 if 조건]\n",
    "\n",
    "L = []\n",
    "for x in range(3):\n",
    "    L.append(x)\n",
    "print(L)\n",
    "print()\n",
    "\n",
    "L2 = [x for x in range(3)]\n",
    "print(L2)\n",
    "print()\n",
    "\n",
    "\n",
    "L3 = [int(s) for s in [\"10\",\"11\",\"1234\",\"0011\"]]\n",
    "L3_list=[]\n",
    "print(L3)\n",
    "\n",
    "for s in [\"10\",\"11\",\"1234\",\"0011\"]:\n",
    "    L3_list.append(int(s))\n",
    "print(L3_list)"
   ]
  },
  {
   "cell_type": "code",
   "execution_count": 86,
   "id": "62b5b46f",
   "metadata": {},
   "outputs": [
    {
     "name": "stdout",
     "output_type": "stream",
     "text": [
      "kim\n",
      "lee\n",
      "choi\n",
      "\n",
      "dict_keys(['kim', 'lee', 'choi'])\n",
      "dict_values([90, 75, 100])\n",
      "dict_items([('kim', 90), ('lee', 75), ('choi', 100)])\n",
      "\n",
      "(kim,90), (lee,75), (choi,100)\n",
      "\n",
      "(kim,90), (lee,75), (choi,100)\n"
     ]
    }
   ],
   "source": [
    "# dictionary와 for 문\n",
    "\n",
    "D = {\n",
    "    'kim' : 90,\n",
    "    'lee' : 75,\n",
    "    'choi' : 100}\n",
    "#(\"kim\", 90), (\"lee\", 75), (\"choi\", 100)\n",
    "\n",
    "for i in D:\n",
    "    print(i)\n",
    "\n",
    "print()\n",
    "\n",
    "print(D.keys())\n",
    "print(D.values())\n",
    "print(D.items())\n",
    "\n",
    "print()\n",
    "\n",
    "for idx, val in enumerate(zip(D.keys(), D.values())):\n",
    "    i, j = val # unpacking\n",
    "    if idx == (len(D)-1):\n",
    "        print(f\"({i},{j})\")\n",
    "    else:\n",
    "        print(f\"({i},{j})\", end=\", \")\n",
    "\n",
    "print()\n",
    "\n",
    "for idx, val in enumerate(D.items()):\n",
    "    i, j = val # unpacking\n",
    "    if idx == (len(D)-1):\n",
    "        print(f\"({i},{j})\")\n",
    "    else:\n",
    "        print(f\"({i},{j})\", end=\", \")"
   ]
  },
  {
   "cell_type": "code",
   "execution_count": 84,
   "id": "67de722e",
   "metadata": {},
   "outputs": [
    {
     "name": "stdout",
     "output_type": "stream",
     "text": [
      "{'kim': 90, 'lee': 75, 'choi': 100}\n"
     ]
    }
   ],
   "source": [
    "name_list = [\"kim\", \"lee\", \"choi\"]\n",
    "score_list = [90, 75, 100]\n",
    "\n",
    "D_LIST = {}\n",
    "\n",
    "for name, score in zip (name_list, score_list):\n",
    "    D_LIST[name] = score\n",
    "print(D)"
   ]
  },
  {
   "cell_type": "markdown",
   "id": "4be34b7c",
   "metadata": {},
   "source": [
    "MapReduce\n",
    "word count"
   ]
  },
  {
   "cell_type": "code",
   "execution_count": 119,
   "id": "3ddec3c2",
   "metadata": {},
   "outputs": [],
   "source": [
    "#아래 5개의 변수들은 각각 하나의 문서를 의미합니다.\n",
    "news1 = \"earn champion products ch approves stock split champion products inc said its board of directors approved a two for one stock split of its common shares for shareholders of record as of april the company also said its board voted to recommend to shareholders at the annual meeting april an increase in the authorized capital stock from five mln to mln shares reuter\"\n",
    "news2 = \"acq computer terminal systems cpml completes sale computer terminal systems inc said it has completed the sale of shares of its common stock and warrants to acquire an additional one mln shares to sedio n v of lugano switzerland for dlrs the company said the warrants are exercisable for five years at a purchase price of dlrs per share computer terminal said sedio also has the right to buy additional shares and increase its total holdings up to pct of the computer terminal s outstanding common stock under certain circumstances involving change of control at the company the company said if the conditions occur the warrants would be exercisable at a price equal to pct of its common stock s market price at the time not to exceed dlrs per share computer terminal also said it sold the technolgy rights to its dot matrix impact technology including any future improvements to woodco inc of houston tex for dlrs but it said it would continue to be the exclusive worldwide licensee of the technology for woodco the company said the moves were part of its reorganization plan and would help pay current operation costs and ensure product delivery computer terminal makes computer generated labels forms tags and ticket printers and terminals reuter\"\n",
    "news3 = \"earn cobanco inc cbco year net shr cts vs dlrs net vs assets mln vs mln deposits mln vs mln loans mln vs mln note th qtr not available year includes extraordinary gain from tax carry forward of dlrs or five cts per shr reuter\"\n",
    "news4 = \"earn am international inc am nd qtr jan oper shr loss two cts vs profit seven cts oper shr profit vs profit revs mln vs mln avg shrs mln vs mln six mths oper shr profit nil vs profit cts oper net profit vs profit revs mln vs mln avg shrs mln vs mln note per shr calculated after payment of preferred dividends results exclude credits of or four cts and or nine cts for qtr and six mths vs or six cts and or cts for prior periods from operating loss carryforwards reuter\"\n",
    "news5 = \"earn brown forman inc bfd th qtr net shr one dlr vs cts net mln vs mln revs mln vs mln nine mths shr dlrs vs dlrs net mln vs mln revs billion vs mln reuter\"\n",
    "\n",
    "# All_news = news1.split() + \" \" + news2.split() + \" \" + news3.split() + \" \" + news4.split() + \" \" + news5.split()\n",
    "\n",
    "# from collections import Counter\n",
    "# Counter(news1.split())\n",
    "# # Counter(str(All_news).split())\n",
    "\n",
    "# print(All_news)\n",
    "\n"
   ]
  },
  {
   "cell_type": "code",
   "execution_count": 95,
   "id": "e2b54c0c",
   "metadata": {},
   "outputs": [
    {
     "name": "stdout",
     "output_type": "stream",
     "text": [
      "Collecting nltk\n",
      "  Downloading nltk-3.8.1-py3-none-any.whl (1.5 MB)\n",
      "\u001b[2K     \u001b[38;2;114;156;31m━━━━━━━━━━━━━━━━━━━━━━━━━━━━━━━━━━━━━━━━\u001b[0m \u001b[32m1.5/1.5 MB\u001b[0m \u001b[31m19.1 MB/s\u001b[0m eta \u001b[36m0:00:00\u001b[0m MB/s\u001b[0m eta \u001b[36m0:00:01\u001b[0m\n",
      "\u001b[?25hCollecting regex>=2021.8.3\n",
      "  Downloading regex-2023.3.23-cp310-cp310-macosx_11_0_arm64.whl (288 kB)\n",
      "\u001b[2K     \u001b[38;2;114;156;31m━━━━━━━━━━━━━━━━━━━━━━━━━━━━━━━━━━━━━━\u001b[0m \u001b[32m288.9/288.9 kB\u001b[0m \u001b[31m30.2 MB/s\u001b[0m eta \u001b[36m0:00:00\u001b[0m\n",
      "\u001b[?25hCollecting joblib\n",
      "  Downloading joblib-1.2.0-py3-none-any.whl (297 kB)\n",
      "\u001b[2K     \u001b[38;2;114;156;31m━━━━━━━━━━━━━━━━━━━━━━━━━━━━━━━━━━━━━━\u001b[0m \u001b[32m298.0/298.0 kB\u001b[0m \u001b[31m19.5 MB/s\u001b[0m eta \u001b[36m0:00:00\u001b[0m\n",
      "\u001b[?25hCollecting click\n",
      "  Downloading click-8.1.3-py3-none-any.whl (96 kB)\n",
      "\u001b[2K     \u001b[38;2;114;156;31m━━━━━━━━━━━━━━━━━━━━━━━━━━━━━━━━━━━━━━━━\u001b[0m \u001b[32m96.6/96.6 kB\u001b[0m \u001b[31m14.2 MB/s\u001b[0m eta \u001b[36m0:00:00\u001b[0m\n",
      "\u001b[?25hRequirement already satisfied: tqdm in /opt/homebrew/Caskroom/miniconda/base/lib/python3.10/site-packages (from nltk) (4.64.1)\n",
      "Installing collected packages: regex, joblib, click, nltk\n",
      "Successfully installed click-8.1.3 joblib-1.2.0 nltk-3.8.1 regex-2023.3.23\n"
     ]
    },
    {
     "data": {
      "text/plain": [
       "1"
      ]
     },
     "execution_count": 95,
     "metadata": {},
     "output_type": "execute_result"
    }
   ],
   "source": [
    "!pip install nltk\n",
    "import nltk\n",
    "\n",
    "text = nltk.Text(news1.split())\n",
    "text.count(\"earn\")"
   ]
  },
  {
   "cell_type": "code",
   "execution_count": 123,
   "id": "82ec9183",
   "metadata": {},
   "outputs": [
    {
     "name": "stdout",
     "output_type": "stream",
     "text": [
      "\n",
      "1\n",
      "{'earn': 1, 'champion': 2, 'products': 2, 'ch': 1, 'approves': 1, 'stock': 3, 'split': 2, 'inc': 1, 'said': 2, 'its': 3, 'board': 2, 'of': 4, 'directors': 1, 'approved': 1, 'a': 1, 'two': 1, 'for': 2, 'one': 1, 'common': 1, 'shares': 2, 'shareholders': 2, 'record': 1, 'as': 1, 'april': 2, 'the': 3, 'company': 1, 'also': 1, 'voted': 1, 'to': 3, 'recommend': 1, 'at': 1, 'annual': 1, 'meeting': 1, 'an': 1, 'increase': 1, 'in': 1, 'authorized': 1, 'capital': 1, 'from': 1, 'five': 1, 'mln': 2, 'reuter': 1}\n",
      "\n",
      "2\n",
      "{'earn': 0, 'champion': 0, 'products': 0, 'ch': 0, 'approves': 0, 'stock': 0, 'split': 0, 'inc': 0, 'said': 0, 'its': 0, 'board': 0, 'of': 0, 'directors': 0, 'approved': 0, 'a': 0, 'two': 0, 'for': 0, 'one': 0, 'common': 0, 'shares': 0, 'shareholders': 0, 'record': 0, 'as': 0, 'april': 0, 'the': 0, 'company': 0, 'also': 0, 'voted': 0, 'to': 0, 'recommend': 0, 'at': 0, 'annual': 0, 'meeting': 0, 'an': 0, 'increase': 0, 'in': 0, 'authorized': 0, 'capital': 0, 'from': 0, 'five': 0, 'mln': 0, 'reuter': 0}\n",
      "\n",
      "{'earn': 1, 'champion': 2, 'products': 2, 'ch': 1, 'approves': 1, 'stock': 3, 'split': 2, 'inc': 1, 'said': 2, 'its': 3, 'board': 2, 'of': 4, 'directors': 1, 'approved': 1, 'a': 1, 'two': 1, 'for': 2, 'one': 1, 'common': 1, 'shares': 2, 'shareholders': 2, 'record': 1, 'as': 1, 'april': 2, 'the': 3, 'company': 1, 'also': 1, 'voted': 1, 'to': 3, 'recommend': 1, 'at': 1, 'annual': 1, 'meeting': 1, 'an': 1, 'increase': 1, 'in': 1, 'authorized': 1, 'capital': 1, 'from': 1, 'five': 1, 'mln': 2, 'reuter': 1}\n",
      "\n",
      "2-2\n",
      "defaultdict(<class 'int'>, {'earn': 1, 'champion': 2, 'products': 2, 'ch': 1, 'approves': 1, 'stock': 3, 'split': 2, 'inc': 1, 'said': 2, 'its': 3, 'board': 2, 'of': 4, 'directors': 1, 'approved': 1, 'a': 1, 'two': 1, 'for': 2, 'one': 1, 'common': 1, 'shares': 2, 'shareholders': 2, 'record': 1, 'as': 1, 'april': 2, 'the': 3, 'company': 1, 'also': 1, 'voted': 1, 'to': 3, 'recommend': 1, 'at': 1, 'annual': 1, 'meeting': 1, 'an': 1, 'increase': 1, 'in': 1, 'authorized': 1, 'capital': 1, 'from': 1, 'five': 1, 'mln': 2, 'reuter': 1})\n",
      "\n",
      "3\n",
      "{'earn': 1, 'champion': 2, 'products': 2, 'ch': 1, 'approves': 1, 'stock': 3, 'split': 2, 'inc': 1, 'said': 2, 'its': 3, 'board': 2, 'of': 4, 'directors': 1, 'approved': 1, 'a': 1, 'two': 1, 'for': 2, 'one': 1, 'common': 1, 'shares': 2, 'shareholders': 2, 'record': 1, 'as': 1, 'april': 2, 'the': 3, 'company': 1, 'also': 1, 'voted': 1, 'to': 3, 'recommend': 1, 'at': 1, 'annual': 1, 'meeting': 1, 'an': 1, 'increase': 1, 'in': 1, 'authorized': 1, 'capital': 1, 'from': 1, 'five': 1, 'mln': 2, 'reuter': 1}\n",
      "\n",
      "['earn', 'champion', 'products', 'ch', 'approves', 'stock', 'split', 'champion', 'products', 'inc', 'said', 'its', 'board', 'of', 'directors', 'approved', 'a', 'two', 'for', 'one', 'stock', 'split', 'of', 'its', 'common', 'shares', 'for', 'shareholders', 'of', 'record', 'as', 'of', 'april', 'the', 'company', 'also', 'said', 'its', 'board', 'voted', 'to', 'recommend', 'to', 'shareholders', 'at', 'the', 'annual', 'meeting', 'april', 'an', 'increase', 'in', 'the', 'authorized', 'capital', 'stock', 'from', 'five', 'mln', 'to', 'mln', 'shares', 'reuter']\n",
      "5\n",
      "Counter({'of': 4, 'stock': 3, 'its': 3, 'the': 3, 'to': 3, 'champion': 2, 'products': 2, 'split': 2, 'said': 2, 'board': 2, 'for': 2, 'shares': 2, 'shareholders': 2, 'april': 2, 'mln': 2, 'earn': 1, 'ch': 1, 'approves': 1, 'inc': 1, 'directors': 1, 'approved': 1, 'a': 1, 'two': 1, 'one': 1, 'common': 1, 'record': 1, 'as': 1, 'company': 1, 'also': 1, 'voted': 1, 'recommend': 1, 'at': 1, 'annual': 1, 'meeting': 1, 'an': 1, 'increase': 1, 'in': 1, 'authorized': 1, 'capital': 1, 'from': 1, 'five': 1, 'reuter': 1})\n"
     ]
    }
   ],
   "source": [
    "data = news1.split()\n",
    "word_Dict = {}\n",
    "word_count = []\n",
    "\n",
    "word_Dict[\"earn\"] = word_count\n",
    "\n",
    "# \"champion\" --> 1 --> word_count += 1 이걸 아래처럼 그냥 쓸 수 있음\n",
    "# word[\"champion\"] += 1\n",
    "\n",
    "# n = 1\n",
    "# word_Dict = {}\n",
    "# for word in data:\n",
    "#     word_Dict[word] = n\n",
    "#     n += 1\n",
    "\n",
    "# print(word_Dict)\n",
    "\n",
    "print()\n",
    "print(\"1\")\n",
    "\n",
    "word_Dict = {}\n",
    "for word in data:\n",
    "    if word in word_Dict:\n",
    "#         word_Dict[word] = word_Dict[word] +1\n",
    "        word_Dict[word] += 1\n",
    "    else:\n",
    "        word_Dict[word] = 1\n",
    "\n",
    "print(word_Dict)\n",
    "\n",
    "print()\n",
    "print(\"2\")\n",
    "\n",
    "word_Dict = {}\n",
    "for word in data:\n",
    "    word_Dict[word] = 0\n",
    "print(word_Dict)\n",
    "\n",
    "print()\n",
    "\n",
    "for word in data:\n",
    "    word_Dict[word] = word_Dict[word] + 1\n",
    "print(word_Dict)\n",
    "\n",
    "print()\n",
    "\n",
    "print(\"2-2\")\n",
    "word_Dict = {}\n",
    "from collections import defaultdict\n",
    "\n",
    "word_Dict = defaultdict(int)\n",
    "\n",
    "for word in data:\n",
    "    word_Dict[word] = word_Dict[word] + 1\n",
    "print(word_Dict)\n",
    "\n",
    "print()\n",
    "    \n",
    "print(\"3\")\n",
    "\n",
    "word_Dict = {}\n",
    "for word in data:\n",
    "    word_Dict[word] = word_Dict.get(word, 0) + 1\n",
    "print(word_Dict)\n",
    "\n",
    "print()\n",
    "\n",
    "print(data)\n",
    "\n",
    "print(\"5\")\n",
    "word_Dict = {}\n",
    "from collections import Counter\n",
    "print(Counter(data))\n"
   ]
  },
  {
   "cell_type": "code",
   "execution_count": 124,
   "id": "7ca9739b",
   "metadata": {},
   "outputs": [
    {
     "data": {
      "text/plain": [
       "Counter({'earn': 1,\n",
       "         'champion': 2,\n",
       "         'products': 2,\n",
       "         'ch': 1,\n",
       "         'approves': 1,\n",
       "         'stock': 3,\n",
       "         'split': 2,\n",
       "         'inc': 1,\n",
       "         'said': 2,\n",
       "         'its': 3,\n",
       "         'board': 2,\n",
       "         'of': 4,\n",
       "         'directors': 1,\n",
       "         'approved': 1,\n",
       "         'a': 1,\n",
       "         'two': 1,\n",
       "         'for': 2,\n",
       "         'one': 1,\n",
       "         'common': 1,\n",
       "         'shares': 2,\n",
       "         'shareholders': 2,\n",
       "         'record': 1,\n",
       "         'as': 1,\n",
       "         'april': 2,\n",
       "         'the': 3,\n",
       "         'company': 1,\n",
       "         'also': 1,\n",
       "         'voted': 1,\n",
       "         'to': 3,\n",
       "         'recommend': 1,\n",
       "         'at': 1,\n",
       "         'annual': 1,\n",
       "         'meeting': 1,\n",
       "         'an': 1,\n",
       "         'increase': 1,\n",
       "         'in': 1,\n",
       "         'authorized': 1,\n",
       "         'capital': 1,\n",
       "         'from': 1,\n",
       "         'five': 1,\n",
       "         'mln': 2,\n",
       "         'reuter': 1})"
      ]
     },
     "execution_count": 124,
     "metadata": {},
     "output_type": "execute_result"
    }
   ],
   "source": [
    "Counter(data)"
   ]
  },
  {
   "cell_type": "markdown",
   "id": "89ab5cba",
   "metadata": {},
   "source": [
    "### Function\n",
    "\n",
    "- definition\n",
    "\n",
    "- lambda expression\n",
    "\n",
    "- function call\n",
    "\n",
    "- parameter passing\n",
    "\n",
    "- local variable\n",
    "\n",
    "- (variable) scope, lifetime"
   ]
  },
  {
   "cell_type": "code",
   "execution_count": null,
   "id": "f9fba16a",
   "metadata": {},
   "outputs": [],
   "source": [
    "# function\n",
    "\n",
    "def func(param1, param2, ...):\n",
    "    '''\n",
    "    docstring : 함수 설명\n",
    "    '''\n",
    "    '''\n",
    "    code here\n",
    "    '''\n",
    "    pass\n",
    "\n",
    "    return"
   ]
  },
  {
   "cell_type": "code",
   "execution_count": 131,
   "id": "62e6720c",
   "metadata": {},
   "outputs": [
    {
     "name": "stdout",
     "output_type": "stream",
     "text": [
      "8\n",
      "[1, 2, 3, 4]\n",
      "\n",
      "8\n",
      "[1, 2, 3, 4]\n"
     ]
    }
   ],
   "source": [
    "# function : 특정 기능을 하는 코드를 재사용 하고 싶을 때\n",
    "\n",
    "# function definition\n",
    "def add(a, b):\n",
    "    c = a + b\n",
    "    return c\n",
    "\n",
    "# function call\n",
    "number = add(3, 5)\n",
    "print(number)\n",
    "\n",
    "number_1 = add([1, 2], [3, 4])\n",
    "print(number_1)\n",
    "\n",
    "print()\n",
    "\n",
    "# function definition2\n",
    "def add(a: int, b:int) -> int:\n",
    "    c = a + b\n",
    "    return c\n",
    "\n",
    "# function call2\n",
    "number3 = add(3, 5)\n",
    "print(number3)\n",
    "\n",
    "number_4 = add([1, 2], [3, 4])\n",
    "print(number_4)"
   ]
  },
  {
   "cell_type": "code",
   "execution_count": 132,
   "id": "3aa43d5d",
   "metadata": {},
   "outputs": [
    {
     "ename": "SyntaxError",
     "evalue": "invalid syntax (4049580867.py, line 2)",
     "output_type": "error",
     "traceback": [
      "\u001b[0;36m  Cell \u001b[0;32mIn[132], line 2\u001b[0;36m\u001b[0m\n\u001b[0;31m    int add_number(int a, int b){\u001b[0m\n\u001b[0m        ^\u001b[0m\n\u001b[0;31mSyntaxError\u001b[0m\u001b[0;31m:\u001b[0m invalid syntax\n"
     ]
    }
   ],
   "source": [
    "# C function definition\n",
    "int add_number(int a, int b){\n",
    "    int c = a + b;\n",
    "    return c\n",
    "}\n",
    "\n",
    "#python function definition with Type Hint\n",
    "def add_number(a: int, b: int) -> int:\n",
    "    '''\n",
    "    두 개의 숫자를 받아서 더한 결과를 돌려주는 함수입니다.\n",
    "    '''\n",
    "    c = a + b\n",
    "    return c"
   ]
  },
  {
   "cell_type": "code",
   "execution_count": 137,
   "id": "681ee730",
   "metadata": {},
   "outputs": [
    {
     "name": "stdout",
     "output_type": "stream",
     "text": [
      "8\n"
     ]
    },
    {
     "data": {
      "text/plain": [
       "7"
      ]
     },
     "execution_count": 137,
     "metadata": {},
     "output_type": "execute_result"
    }
   ],
   "source": [
    "# function definition\n",
    "def add_number(a, b):\n",
    "    return a + b\n",
    "\n",
    "# function call\n",
    "number = add_number(3, 5)\n",
    "print(number)\n",
    "\n",
    "# inline function (= lambda expression)\n",
    "addnumber = lambda a, b: a + b\n",
    "addnumber(3,4)"
   ]
  },
  {
   "cell_type": "code",
   "execution_count": 141,
   "id": "4f5d8f14",
   "metadata": {},
   "outputs": [
    {
     "name": "stdout",
     "output_type": "stream",
     "text": [
      "['kim', 'yoon', 'jeong', 'jessica']\n",
      "['kim', 'yoon', 'jeong', 'jessica']\n"
     ]
    }
   ],
   "source": [
    "# Q. 리스트의 원소들을 길이에 따라 오름차순으로 정렬해주세요\n",
    "\n",
    "# f: x->y\n",
    "# sorted(x)\n",
    "# sorted(x, key = f) # sorted(y)\n",
    "\n",
    "def f(x): # x->len(x)\n",
    "    return len(x)\n",
    "\n",
    "L = [\"kim\", \"yoon\", \"jeong\", \"jessica\"]\n",
    "\n",
    "#sorted(L, key = 원소의 길이)\n",
    "print(sorted(L, key = f))\n",
    "print(sorted(L, key=lambda x: len(x))) ## functional programming\n"
   ]
  },
  {
   "cell_type": "code",
   "execution_count": 145,
   "id": "6317f149",
   "metadata": {},
   "outputs": [
    {
     "name": "stdout",
     "output_type": "stream",
     "text": [
      "0.3\n"
     ]
    }
   ],
   "source": [
    "def div(a, b):\n",
    "    N = a / b\n",
    "    return N\n",
    "print(div(3, 10))\n"
   ]
  },
  {
   "cell_type": "code",
   "execution_count": 163,
   "id": "eed2484e",
   "metadata": {},
   "outputs": [
    {
     "name": "stdout",
     "output_type": "stream",
     "text": [
      "Do not enter 0 in divider\n"
     ]
    },
    {
     "data": {
      "text/plain": [
       "3000000.0"
      ]
     },
     "execution_count": 163,
     "metadata": {},
     "output_type": "execute_result"
    }
   ],
   "source": [
    "# epsilon을 안쓰는 경우     \n",
    "\n",
    "def div(a : float, b : float, eps=0.0) -> float:\n",
    "    '''\n",
    "    input : a, b\n",
    "    return : a / b\n",
    "    '''\n",
    "    if eps: #True\n",
    "        N = a / (b+eps)\n",
    "        return N\n",
    "    else: #False\n",
    "        \n",
    "        try:\n",
    "            N = a / b   \n",
    "            return N\n",
    "        except ZeroDivisionError:\n",
    "            print(\"Do not enter 0 in divider\")\n",
    "\n",
    "div(3,0)\n",
    "print(div(3, 0, 1e-6))"
   ]
  },
  {
   "cell_type": "code",
   "execution_count": 164,
   "id": "de3f45a3",
   "metadata": {},
   "outputs": [
    {
     "name": "stdout",
     "output_type": "stream",
     "text": [
      "1.333332888889037\n",
      "3000000.0\n",
      "Do not enter non-numerical value\n"
     ]
    }
   ],
   "source": [
    "def div(a : float, b : float, eps=1e-6) -> float:\n",
    "    '''\n",
    "    input : a, b\n",
    "    return : a / b\n",
    "    '''\n",
    "    try:\n",
    "        N = a / (b+eps)        \n",
    "        return print(N)\n",
    "    except ZeroDivisionError:\n",
    "        print(\"Do not enter 0 in divider\")\n",
    "    except TypeError:\n",
    "        print(\"Do not enter non-numerical value\")\n",
    "#     except\n",
    "        \n",
    "        \n",
    "div(4, 3)\n",
    "div(3, 0)\n",
    "div(3, \"a\")\n"
   ]
  },
  {
   "cell_type": "code",
   "execution_count": 165,
   "id": "ac866a1c",
   "metadata": {},
   "outputs": [
    {
     "name": "stdout",
     "output_type": "stream",
     "text": [
      "a, b :  3 0\n",
      "b is 0.\n",
      "a, b :  3 0\n",
      "N :  3000000.0\n",
      "a, b :  10 1\n",
      "N :  9.990009990009991\n"
     ]
    },
    {
     "data": {
      "text/plain": [
       "9.990009990009991"
      ]
     },
     "execution_count": 165,
     "metadata": {},
     "output_type": "execute_result"
    }
   ],
   "source": [
    "def div(a: float, b: float, eps=0.0, debug=False) -> float:\n",
    "    '''\n",
    "    input :  a, b\n",
    "    return : a / b\n",
    "    '''\n",
    "    if debug:\n",
    "        print(\"a, b : \", a, b)\n",
    "    if eps: # True\n",
    "        N = a / (b + eps)\n",
    "        if debug:\n",
    "            print(\"N : \", N)\n",
    "        return N\n",
    "    else:  # False\n",
    "        try:\n",
    "            N = a / b  # epslion를 안쓰는 경우.\n",
    "            return N\n",
    "        except ZeroDivisionError:\n",
    "            print(\"b is 0.\")\n",
    "\n",
    "div(3, 0, debug=True)\n",
    "div(3, 0, 1e-6, True)\n",
    "div(debug=True, eps=1e-3, b=1, a=10)"
   ]
  },
  {
   "cell_type": "markdown",
   "id": "59d29c00",
   "metadata": {},
   "source": [
    "## Parameter Passing"
   ]
  },
  {
   "cell_type": "code",
   "execution_count": 183,
   "id": "61483b53",
   "metadata": {},
   "outputs": [
    {
     "name": "stdout",
     "output_type": "stream",
     "text": [
      "[1, 2, 3, 4, 5] 3\n",
      "[1, 2, 5, 7, 8, 10] 6.0\n",
      "[128, 94, 44, 45, 66, 110001] 80.0\n",
      "\n",
      "[1, 2, 3, 4, 5]\n",
      "[1, 2, 5, 7, 8, 10]\n",
      "[128, 94, 44, 45, 66, 110001]\n",
      "\n",
      "[1, 2, 3, 4, 5] 3\n",
      "[1, 2, 5, 7, 8, 10] 6.0\n",
      "[128, 94, 44, 45, 66, 110001] 80.0\n",
      "\n",
      "[1, 2, 3, 4, 5]\n",
      "[1, 2, 5, 7, 8, 10]\n",
      "[128, 94, 44, 45, 66, 110001]\n"
     ]
    }
   ],
   "source": [
    "L = [1, 2, 3, 4, 5]\n",
    "L2 = [1, 2, 5, 7, 8, 10]\n",
    "L3 = [128, 94, 44, 45, 66, 110001]\n",
    "\n",
    "# L, L2, L3 각각의 중앙값을 찾아주는 코드를 작성하세요\n",
    "\n",
    "\n",
    "\n",
    "List_total = [L, L2, L3]\n",
    "\n",
    "# 중앙값 (Median)\n",
    "\n",
    "# 오름차순으로 정렬했을 때, 한가운데 있는 값\n",
    "# --> 홀수 개 : 한 가운데!\n",
    "# --> 짝수 개 : 가운데 있는 두 값의 평균\n",
    "\n",
    "\n",
    "def find_median(L: list[int]) -> float:\n",
    "    L = sorted(L)\n",
    "    med_idx = int(len(L)/2)\n",
    "    if len(L) % 2 == 0:\n",
    "        median = (L[med_idx] + L[med_idx-1]) / 2\n",
    "    else:\n",
    "        median = L[med_idx]\n",
    "    return median\n",
    "\n",
    "# 솔루션 1 : def 내에 sorted로 사용\n",
    "\n",
    "print(L, find_median(L))\n",
    "print(L2, find_median(L2))\n",
    "print(L3, find_median(L3))\n",
    "\n",
    "print()\n",
    "\n",
    "print(L)\n",
    "print(L2)\n",
    "print(L3)\n",
    "\n",
    "print()\n",
    "\n",
    "def find_median(L: list[int]) -> float:\n",
    "    L.sort()\n",
    "    med_idx = int(len(L)/2)\n",
    "    if len(L) % 2 == 0: #짝수\n",
    "        median = (L[med_idx] + L[med_idx-1]) / 2\n",
    "    else: # 홀수\n",
    "        median = L[med_idx]\n",
    "    return median\n",
    "\n",
    "# 솔루션 2 : copy 해서 복제본 사용\n",
    "\n",
    "\n",
    "# python에서 mutable object를 parameter로 넣으면, 내부에서 해당 변수를 변경하면 그대로 반영됩니다.\n",
    "# mutable object --> Call by Reference (함수 내부로 파라미터 원본이 그대로 넘어간다.)\n",
    "# immutable object --> Call by Value (함수 내부로 파라미터에 해당하는 값을 복사해서 넘어간다.)\n",
    "\n",
    "\n",
    "\n",
    "print(L, find_median(L.copy()))\n",
    "print(L2, find_median(L2.copy()))\n",
    "print(L3, find_median(L3.copy()))\n",
    "\n",
    "print()\n",
    "\n",
    "print(L)\n",
    "print(L2)\n",
    "print(L3)"
   ]
  },
  {
   "cell_type": "code",
   "execution_count": 195,
   "id": "e127dbb5",
   "metadata": {},
   "outputs": [
    {
     "name": "stdout",
     "output_type": "stream",
     "text": [
      "1.  0.0\n",
      "3.  3\n",
      "4.  3\n",
      "[1, 2, 3, 4, 5] 3\n",
      "5.  3\n"
     ]
    }
   ],
   "source": [
    "# global variable\n",
    "\n",
    "L = [1, 2, 3, 4, 5]\n",
    "L2 = [1, 2, 5, 7, 8, 10]\n",
    "L3 = [128, 94, 44, 45, 66, 110001]\n",
    "median = 0.0\n",
    "\n",
    "# L, L2, L3 각각의 중앙값을 찾아주는 코드를 작성하세요\n",
    "\n",
    "\n",
    "# scope => 어떤 변수가 적용되는 범위 (확인할 수 있는 범위) (변수마다 다름)\n",
    "\n",
    "def find_median(L: list[int]) -> float:\n",
    "    # L.sort()\n",
    "    \n",
    "    #local variable (특정 code block 내에 있는 variable)\n",
    "    ## local variable은 code block을 나오는 순간 메모리에서 release\n",
    "    ### Python에서는 indentation으로 code block을 구분합니다.\n",
    "    L = sorted(L)\n",
    "    med_idx = int(len(L)/2)\n",
    "    global median # 암살 시도\n",
    "    # code block 내에 global variable과 이름이 같으면, 무조건 Local 취급 => import한 library내 우연히도 동일한 변수 이름이 있을 수도 있어서\n",
    "    \n",
    "    print(\"1. \", median)\n",
    "    \n",
    "    if len(L) % 2 == 0:\n",
    "        median = (L[med_idx] + L[med_idx-1]) / 2\n",
    "        print(\"2. \", median)\n",
    "    else:\n",
    "        median = L[med_idx]\n",
    "        print(\"3. \", median)\n",
    "            \n",
    "    print(\"4. \", median)\n",
    "    return median\n",
    "\n",
    "\n",
    "print(L, find_median(L))\n",
    "print(\"5. \", median)"
   ]
  },
  {
   "cell_type": "code",
   "execution_count": null,
   "id": "08ec1eed",
   "metadata": {},
   "outputs": [],
   "source": [
    "# 강사님 코드\n",
    "\n",
    "# global variable L\n",
    "L = [1, 2, 3, 4, 5]\n",
    "L2 = [1, 2, 5, 7, 8, 10]\n",
    "L3 = [128, 94, 44, 45, 66, 110001]\n",
    "median = 0.0\n",
    "\n",
    "# L, L2, L3의 중앙값을 찾아주는 코드를 작성하세요.\n",
    "def find_median(L: list[int]) -> float:\n",
    "    # Solution 2. L을 정렬하지 않고, 정렬된 L을 대신 사용한다.\n",
    "    # L.sort() # 오름차순 정렬.\n",
    "    \n",
    "    # local variable(특정 code block내에 있는 variable)\n",
    "    ## python에서는 indentation으로 code block을 구분합니다.\n",
    "    L = sorted(L)\n",
    "    med_idx = int(len(L)/2)\n",
    "    global median\n",
    "    \n",
    "    # code block내에 global variable과 이름이 같으면, 무조건 Local 취급.\n",
    "    print(\"1. \", median)\n",
    "    \n",
    "    if len(L)%2 == 0: # 짝수 개\n",
    "        median = (L[med_idx] + L[med_idx - 1]) / 2\n",
    "        print(\"2. \", median)\n",
    "        \n",
    "    else: # 홀수 개\n",
    "        median = L[med_idx]\n",
    "        print(\"3. \", median)\n",
    "    \n",
    "    print(\"4. \", median)\n",
    "    return median\n",
    "\n",
    "\n",
    "# Python에서 mutable object를 parameter로 넣으면, 내부에서 해당 변수를 변경하면 그대로 반영됩니다.\n",
    "# mutable object --> Call by Reference (함수 내부로 파라미터 원본이 그대로 넘어간다.)\n",
    "# immutable object --> Call by Value (함수 내부로 파라미터에 해당하는 값을 복사해서 넘겨준다.)\n",
    "\n",
    "# Solution 1. copy 해서 넘겨준다.\n",
    "# print(L, find_median(L.copy()))\n",
    "# print(L2, find_median(L2.copy()))\n",
    "# print(L3, find_median(L3.copy()))\n",
    "print(L, find_median(L))\n",
    "print(\"5. \", median)\n",
    "# print(L2, find_median(L2))\n",
    "# print(L3, find_median(L3))\n",
    "\n",
    "# print(L)\n",
    "# print(L2)\n",
    "# print(L3)"
   ]
  },
  {
   "cell_type": "code",
   "execution_count": null,
   "id": "3930b994",
   "metadata": {},
   "outputs": [],
   "source": [
    "# global variable\n",
    "\n",
    "L = [1, 2, 3, 4, 5]\n",
    "L2 = [1, 2, 5, 7, 8, 10]\n",
    "L3 = [128, 94, 44, 45, 66, 110001]\n",
    "median = 0.0\n",
    "\n",
    "# L, L2, L3 각각의 중앙값을 찾아주는 코드를 작성하세요\n",
    "\n",
    "\n",
    "# scope => 어떤 변수가 적용되는 범위 (확인할 수 있는 범위) (변수마다 다름)\n",
    "\n",
    "def find_median(L: list[int]) -> float:\n",
    "    # L.sort()\n",
    "    \n",
    "    #local variable (특정 code block 내에 있는 variable)\n",
    "    ## local variable은 code block을 나오는 순간 메모리에서 release\n",
    "    \n",
    "    ### Python에서는 indentation으로 code block을 구분합니다.\n",
    "    L = sorted(L)\n",
    "    med_idx = int(len(L)/2)\n",
    "    median = 0.0\n",
    "    #global median # 암살 시도\n",
    "    # code block 내에 global variable과 이름이 같으면, 무조건 Local 취급 => import한 library내 우연히도 동일한 변수 이름이 있을 수도 있어서\n",
    "    \n",
    "    if len(L) % 2 == 0:\n",
    "        median = (L[med_idx] + L[med_idx-1]) / 2\n",
    "\n",
    "    else:\n",
    "       # median = L[med_idx]            \n",
    "        pass\n",
    "\n",
    "    return median # find median?\n",
    "\n",
    "\n",
    "print(L, find_median(L))"
   ]
  },
  {
   "cell_type": "code",
   "execution_count": 196,
   "id": "4b0f38a8",
   "metadata": {},
   "outputs": [
    {
     "name": "stdout",
     "output_type": "stream",
     "text": [
      "Collecting torch\n",
      "  Downloading torch-2.0.0-cp310-none-macosx_11_0_arm64.whl (55.8 MB)\n",
      "\u001b[2K     \u001b[38;2;114;156;31m━━━━━━━━━━━━━━━━━━━━━━━━━━━━━━━━━━━━━━━━\u001b[0m \u001b[32m55.8/55.8 MB\u001b[0m \u001b[31m10.6 MB/s\u001b[0m eta \u001b[36m0:00:00\u001b[0mm eta \u001b[36m0:00:01\u001b[0m[36m0:00:01\u001b[0m\n",
      "\u001b[?25hCollecting networkx\n",
      "  Downloading networkx-3.1-py3-none-any.whl (2.1 MB)\n",
      "\u001b[2K     \u001b[38;2;114;156;31m━━━━━━━━━━━━━━━━━━━━━━━━━━━━━━━━━━━━━━━━\u001b[0m \u001b[32m2.1/2.1 MB\u001b[0m \u001b[31m24.0 MB/s\u001b[0m eta \u001b[36m0:00:00\u001b[0m MB/s\u001b[0m eta \u001b[36m0:00:01\u001b[0m:01\u001b[0m\n",
      "\u001b[?25hCollecting filelock\n",
      "  Downloading filelock-3.12.0-py3-none-any.whl (10 kB)\n",
      "Requirement already satisfied: jinja2 in /opt/homebrew/Caskroom/miniconda/base/lib/python3.10/site-packages (from torch) (3.1.2)\n",
      "Collecting sympy\n",
      "  Downloading sympy-1.11.1-py3-none-any.whl (6.5 MB)\n",
      "\u001b[2K     \u001b[38;2;114;156;31m━━━━━━━━━━━━━━━━━━━━━━━━━━━━━━━━━━━━━━━━\u001b[0m \u001b[32m6.5/6.5 MB\u001b[0m \u001b[31m10.3 MB/s\u001b[0m eta \u001b[36m0:00:00\u001b[0mm eta \u001b[36m0:00:01\u001b[0m[36m0:00:01\u001b[0m\n",
      "\u001b[?25hRequirement already satisfied: typing-extensions in /opt/homebrew/Caskroom/miniconda/base/lib/python3.10/site-packages (from torch) (4.4.0)\n",
      "Requirement already satisfied: MarkupSafe>=2.0 in /opt/homebrew/Caskroom/miniconda/base/lib/python3.10/site-packages (from jinja2->torch) (2.1.1)\n",
      "Collecting mpmath>=0.19\n",
      "  Downloading mpmath-1.3.0-py3-none-any.whl (536 kB)\n",
      "\u001b[2K     \u001b[38;2;114;156;31m━━━━━━━━━━━━━━━━━━━━━━━━━━━━━━━━━━━━━━━\u001b[0m \u001b[32m536.2/536.2 kB\u001b[0m \u001b[31m8.1 MB/s\u001b[0m eta \u001b[36m0:00:00\u001b[0m MB/s\u001b[0m eta \u001b[36m0:00:01\u001b[0m\n",
      "\u001b[?25hInstalling collected packages: mpmath, sympy, networkx, filelock, torch\n",
      "Successfully installed filelock-3.12.0 mpmath-1.3.0 networkx-3.1 sympy-1.11.1 torch-2.0.0\n"
     ]
    }
   ],
   "source": [
    "!pip install torch"
   ]
  },
  {
   "cell_type": "markdown",
   "id": "10c986c1",
   "metadata": {},
   "source": [
    "- Task : MNIST(28 X 28) -> Image를 10가지로 분류하는 문제\n",
    "- Model : Input image(28, 28) -> Flatten(28*28, 1) -> Hidden Layer(200, 1) -> Activation Function (200, 1) -> Output(10, 1)"
   ]
  },
  {
   "cell_type": "code",
   "execution_count": 200,
   "id": "5f78168d",
   "metadata": {},
   "outputs": [
    {
     "data": {
      "text/plain": [
       "Net(\n",
       "  (fc1): Linear(in_features=784, out_features=200, bias=True)\n",
       "  (fc2): Linear(in_features=200, out_features=10, bias=True)\n",
       "  (result): ReLU()\n",
       ")"
      ]
     },
     "execution_count": 200,
     "metadata": {},
     "output_type": "execute_result"
    }
   ],
   "source": [
    "import torch\n",
    "import torch.nn as nn # PyTorch에 있는 nn (neural network) 구현 모듈을 불러옵니다.\n",
    "\n",
    "class Net(nn.Module):\n",
    "    def __init__(self):\n",
    "        super().__init__() # superclass에 있는 __init__()함수 호출.\n",
    "        self.fc1 = nn.Linear(28*28, 200) # Flattened이 된 Input --> Hidden\n",
    "        self.fc2 = nn.Linear(200, 10)    # Hidden --> Output\n",
    "        self.result = nn.ReLU()           # activation function, ReLU\n",
    "        \n",
    "    def __forward__(self, x):\n",
    "        '''\n",
    "        input : x - input image (28, 28)\n",
    "        return : 10 dim vector - 0부터 9까지의 각 class에 속할 확률.\n",
    "\n",
    "        e.g. [0, 0, 0, 0, 0.1, 0.1, 0, 0, 0.8, 0]\n",
    "        '''\n",
    "        # feed-forward 연산. input에서 시작해서 output까지 순서대로 수행하는 함수.\n",
    "        x = torch.flatten(x, 1) # (28, 28) -> (28*28, 1)\n",
    "        x = self.fc1(x)         # (28*28, 1) -> (200, 1)\n",
    "        x = self.relu(x)        # (200, 1) -> (200, 1)\n",
    "        x = self.fc2(x)         # (200, 1) -> (200, 1)\n",
    "        return x\n",
    "    \n",
    "model = Net()\n",
    "model\n",
    "# model.__init__() # self == model\n",
    "# model2 = Net()\n",
    "# model2.__init__() # self == model2"
   ]
  },
  {
   "cell_type": "code",
   "execution_count": 201,
   "id": "a925c948",
   "metadata": {},
   "outputs": [
    {
     "data": {
      "text/plain": [
       "Net(\n",
       "  (fc1): Linear(in_features=784, out_features=200, bias=True)\n",
       "  (fc2): Linear(in_features=200, out_features=10, bias=True)\n",
       "  (relu): ReLU()\n",
       ")"
      ]
     },
     "execution_count": 201,
     "metadata": {},
     "output_type": "execute_result"
    }
   ],
   "source": [
    "import torch\n",
    "import torch.nn as nn  # PyTorch에 있는 nn(neural network) 구현 모듈을 불러옵니다.\n",
    "\n",
    "class Net(nn.Module):\n",
    "    def __init__(self):\n",
    "        super().__init__()  # superclass에 있는 __init__() 함수 호출.\n",
    "        self.fc1 = nn.Linear(28*28, 200) # Flattened Input --> Hidden\n",
    "        self.fc2 = nn.Linear(200, 10)    # Hidden --> Output\n",
    "        self.relu = nn.ReLU()            # activation function, ReLU\n",
    "        \n",
    "    def forward(self, x):\n",
    "        \"\"\"\n",
    "        input : x - input image (28, 28)\n",
    "        return : 10 dim vector - 0부터 9까지의 각 class에 속할 확률.\n",
    "        \n",
    "        e.g. input image(8) --> [0, 0, 0, 0, 0.1, 0.1, 0, 0, 0.8, 0]\n",
    "        \"\"\"\n",
    "        # feed-forward 연산. input에서 시작해서 output까지 순서대로 수행하는 함수.\n",
    "        x = torch.flatten(x, 1) # (28, 28) -> (28*28, 1)\n",
    "        x = self.fc1(x)         # (28*28, 1) -> (200, 1)\n",
    "        x = self.relu(x)        # (200, 1) -> (200, 1)\n",
    "        x = self.fc2(x)         # (200, 1) -> (10, 1)\n",
    "        return x\n",
    "    \n",
    "        \n",
    "model = Net()\n",
    "model"
   ]
  },
  {
   "cell_type": "code",
   "execution_count": 202,
   "id": "f337d38e",
   "metadata": {},
   "outputs": [
    {
     "name": "stdout",
     "output_type": "stream",
     "text": [
      "Collecting tensor\n",
      "  Downloading tensor-0.3.6.tar.gz (50 kB)\n",
      "\u001b[2K     \u001b[38;2;114;156;31m━━━━━━━━━━━━━━━━━━━━━━━━━━━━━━━━━━━━━━━━\u001b[0m \u001b[32m50.3/50.3 kB\u001b[0m \u001b[31m1.6 MB/s\u001b[0m eta \u001b[36m0:00:00\u001b[0m\n",
      "\u001b[?25h  Preparing metadata (setup.py) ... \u001b[?25ldone\n",
      "\u001b[?25hCollecting Twisted\n",
      "  Downloading Twisted-22.10.0-py3-none-any.whl (3.1 MB)\n",
      "\u001b[2K     \u001b[38;2;114;156;31m━━━━━━━━━━━━━━━━━━━━━━━━━━━━━━━━━━━━━━━━\u001b[0m \u001b[32m3.1/3.1 MB\u001b[0m \u001b[31m22.6 MB/s\u001b[0m eta \u001b[36m0:00:00\u001b[0m31m21.5 MB/s\u001b[0m eta \u001b[36m0:00:01\u001b[0m\n",
      "\u001b[?25hCollecting PyYaml\n",
      "  Downloading PyYAML-6.0-cp310-cp310-macosx_11_0_arm64.whl (173 kB)\n",
      "\u001b[2K     \u001b[38;2;114;156;31m━━━━━━━━━━━━━━━━━━━━━━━━━━━━━━━━━━━━━━\u001b[0m \u001b[32m174.0/174.0 kB\u001b[0m \u001b[31m28.5 MB/s\u001b[0m eta \u001b[36m0:00:00\u001b[0m\n",
      "\u001b[?25hCollecting protobuf\n",
      "  Downloading protobuf-4.22.3-cp37-abi3-macosx_10_9_universal2.whl (397 kB)\n",
      "\u001b[2K     \u001b[38;2;114;156;31m━━━━━━━━━━━━━━━━━━━━━━━━━━━━━━━━━━━━━━\u001b[0m \u001b[32m397.2/397.2 kB\u001b[0m \u001b[31m26.7 MB/s\u001b[0m eta \u001b[36m0:00:00\u001b[0m\n",
      "\u001b[?25hCollecting construct\n",
      "  Downloading construct-2.10.68.tar.gz (57 kB)\n",
      "\u001b[2K     \u001b[38;2;114;156;31m━━━━━━━━━━━━━━━━━━━━━━━━━━━━━━━━━━━━━━━━\u001b[0m \u001b[32m57.9/57.9 kB\u001b[0m \u001b[31m8.0 MB/s\u001b[0m eta \u001b[36m0:00:00\u001b[0m\n",
      "\u001b[?25h  Preparing metadata (setup.py) ... \u001b[?25ldone\n",
      "\u001b[?25hCollecting pysnmp\n",
      "  Downloading pysnmp-4.4.12-py2.py3-none-any.whl (296 kB)\n",
      "\u001b[2K     \u001b[38;2;114;156;31m━━━━━━━━━━━━━━━━━━━━━━━━━━━━━━━━━━━━━━\u001b[0m \u001b[32m296.5/296.5 kB\u001b[0m \u001b[31m24.3 MB/s\u001b[0m eta \u001b[36m0:00:00\u001b[0m\n",
      "\u001b[?25hCollecting pysmi\n",
      "  Downloading pysmi-0.3.4-py2.py3-none-any.whl (80 kB)\n",
      "\u001b[2K     \u001b[38;2;114;156;31m━━━━━━━━━━━━━━━━━━━━━━━━━━━━━━━━━━━━━━━━\u001b[0m \u001b[32m80.0/80.0 kB\u001b[0m \u001b[31m11.2 MB/s\u001b[0m eta \u001b[36m0:00:00\u001b[0m\n",
      "\u001b[?25hCollecting pycryptodomex\n",
      "  Downloading pycryptodomex-3.17-cp35-abi3-macosx_10_9_universal2.whl (2.4 MB)\n",
      "\u001b[2K     \u001b[38;2;114;156;31m━━━━━━━━━━━━━━━━━━━━━━━━━━━━━━━━━━━━━━━━\u001b[0m \u001b[32m2.4/2.4 MB\u001b[0m \u001b[31m29.8 MB/s\u001b[0m eta \u001b[36m0:00:00\u001b[0mm eta \u001b[36m0:00:01\u001b[0m[36m0:00:01\u001b[0m\n",
      "\u001b[?25hCollecting pyasn1>=0.2.3\n",
      "  Downloading pyasn1-0.5.0-py2.py3-none-any.whl (83 kB)\n",
      "\u001b[2K     \u001b[38;2;114;156;31m━━━━━━━━━━━━━━━━━━━━━━━━━━━━━━━━━━━━━━━━\u001b[0m \u001b[32m83.9/83.9 kB\u001b[0m \u001b[31m15.1 MB/s\u001b[0m eta \u001b[36m0:00:00\u001b[0m\n",
      "\u001b[?25hCollecting hyperlink>=17.1.1\n",
      "  Downloading hyperlink-21.0.0-py2.py3-none-any.whl (74 kB)\n",
      "\u001b[2K     \u001b[38;2;114;156;31m━━━━━━━━━━━━━━━━━━━━━━━━━━━━━━━━━━━━━━━━\u001b[0m \u001b[32m74.6/74.6 kB\u001b[0m \u001b[31m12.4 MB/s\u001b[0m eta \u001b[36m0:00:00\u001b[0m\n",
      "\u001b[?25hCollecting Automat>=0.8.0\n",
      "  Downloading Automat-22.10.0-py2.py3-none-any.whl (26 kB)\n",
      "Collecting zope.interface>=4.4.2\n",
      "  Downloading zope.interface-6.0-cp310-cp310-macosx_11_0_arm64.whl (202 kB)\n",
      "\u001b[2K     \u001b[38;2;114;156;31m━━━━━━━━━━━━━━━━━━━━━━━━━━━━━━━━━━━━━━\u001b[0m \u001b[32m202.4/202.4 kB\u001b[0m \u001b[31m25.4 MB/s\u001b[0m eta \u001b[36m0:00:00\u001b[0m\n",
      "\u001b[?25hRequirement already satisfied: attrs>=19.2.0 in /opt/homebrew/Caskroom/miniconda/base/lib/python3.10/site-packages (from Twisted->tensor) (22.1.0)\n",
      "Collecting incremental>=21.3.0\n",
      "  Downloading incremental-22.10.0-py2.py3-none-any.whl (16 kB)\n",
      "Collecting constantly>=15.1\n",
      "  Downloading constantly-15.1.0-py2.py3-none-any.whl (7.9 kB)\n",
      "Requirement already satisfied: typing-extensions>=3.6.5 in /opt/homebrew/Caskroom/miniconda/base/lib/python3.10/site-packages (from Twisted->tensor) (4.4.0)\n",
      "Requirement already satisfied: six in /opt/homebrew/Caskroom/miniconda/base/lib/python3.10/site-packages (from Automat>=0.8.0->Twisted->tensor) (1.16.0)\n",
      "Requirement already satisfied: idna>=2.5 in /opt/homebrew/Caskroom/miniconda/base/lib/python3.10/site-packages (from hyperlink>=17.1.1->Twisted->tensor) (3.4)\n",
      "Requirement already satisfied: setuptools in /opt/homebrew/Caskroom/miniconda/base/lib/python3.10/site-packages (from zope.interface>=4.4.2->Twisted->tensor) (65.6.3)\n",
      "Requirement already satisfied: ply in /opt/homebrew/Caskroom/miniconda/base/lib/python3.10/site-packages (from pysmi->pysnmp->tensor) (3.11)\n",
      "Building wheels for collected packages: tensor, construct\n",
      "  Building wheel for tensor (setup.py) ... \u001b[?25ldone\n",
      "\u001b[?25h  Created wheel for tensor: filename=tensor-0.3.6-py3-none-any.whl size=71551 sha256=66c0da047a28a41f4afdd110dfcb5ed35e4e9d800d48607b41b224864493680c\n",
      "  Stored in directory: /Users/b05/Library/Caches/pip/wheels/77/2a/3a/e2d2b630bd7c9ca2e4ce3ee27882804e933b34c26ba6b04e70\n",
      "  Building wheel for construct (setup.py) ... \u001b[?25ldone\n",
      "\u001b[?25h  Created wheel for construct: filename=construct-2.10.68-py3-none-any.whl size=59225 sha256=324d4962eba963f11bb093003d3a3284d869bac180370e33389ee41c7d61680a\n",
      "  Stored in directory: /Users/b05/Library/Caches/pip/wheels/ec/5e/ca/c78b06ea839091503020b0402a0f03372dd85963072222dd72\n",
      "Successfully built tensor construct\n",
      "Installing collected packages: incremental, constantly, zope.interface, PyYaml, pysmi, pycryptodomex, pyasn1, protobuf, hyperlink, construct, Automat, Twisted, pysnmp, tensor\n",
      "Successfully installed Automat-22.10.0 PyYaml-6.0 Twisted-22.10.0 constantly-15.1.0 construct-2.10.68 hyperlink-21.0.0 incremental-22.10.0 protobuf-4.22.3 pyasn1-0.5.0 pycryptodomex-3.17 pysmi-0.3.4 pysnmp-4.4.12 tensor-0.3.6 zope.interface-6.0\n"
     ]
    }
   ],
   "source": [
    "!pip install tensor"
   ]
  },
  {
   "cell_type": "code",
   "execution_count": null,
   "id": "2c80e2a6",
   "metadata": {},
   "outputs": [],
   "source": []
  }
 ],
 "metadata": {
  "kernelspec": {
   "display_name": "Python 3 (ipykernel)",
   "language": "python",
   "name": "python3"
  },
  "language_info": {
   "codemirror_mode": {
    "name": "ipython",
    "version": 3
   },
   "file_extension": ".py",
   "mimetype": "text/x-python",
   "name": "python",
   "nbconvert_exporter": "python",
   "pygments_lexer": "ipython3",
   "version": "3.10.9"
  }
 },
 "nbformat": 4,
 "nbformat_minor": 5
}
