{
 "cells": [
  {
   "cell_type": "code",
   "execution_count": null,
   "id": "ba11efcf",
   "metadata": {},
   "outputs": [],
   "source": [
    "df_last['분양가격'] = pd.to_numeric(df_last['분양가격(㎡)'], errors='coerce')\n",
    "\n",
    "# errors\n",
    "# - ignore: 변경할 수 없는 데이터면 -> 원본 데이터 그대로 반환\n",
    "# - coerce: 변경할 수 없는 데이터면 -> 그냥 지워버려.\n",
    "# - raise: numeric으로 변경할 수 없는 경우 오류가 발생하며 작업 중단"
   ]
  },
  {
   "cell_type": "code",
   "execution_count": null,
   "id": "db0209ce",
   "metadata": {},
   "outputs": [],
   "source": [
    "# 규모구분 데이터에서 \n",
    "# (1) 전용면적,이하 문자열을 제거하고\n",
    "# (2) 초과 문자열을 ~로 변경\n",
    "# (3) 빈 문자열 제거\n",
    "# array(['전체', '60㎡', '60㎡~85㎡', '85㎡~102㎡', '102㎡~'], dtype=object)\n",
    "\n",
    "df_last['전용면적'] = df_last['규모구분'].str.replace(\"전용면적\", \"\")\n",
    "df_last['전용면적'] = df_last['전용면적'].str.replace(\"이하\", \"\")\n",
    "df_last['전용면적'] = df_last['전용면적'].str.replace(\"초과\", \"~\")\n",
    "df_last['전용면적'] = df_last['전용면적'].str.replace(\" \", \"\")\n",
    "\n",
    "df_last['전용면적']"
   ]
  }
 ],
 "metadata": {
  "kernelspec": {
   "display_name": "Python 3 (ipykernel)",
   "language": "python",
   "name": "python3"
  },
  "language_info": {
   "codemirror_mode": {
    "name": "ipython",
    "version": 3
   },
   "file_extension": ".py",
   "mimetype": "text/x-python",
   "name": "python",
   "nbconvert_exporter": "python",
   "pygments_lexer": "ipython3",
   "version": "3.10.9"
  }
 },
 "nbformat": 4,
 "nbformat_minor": 5
}
