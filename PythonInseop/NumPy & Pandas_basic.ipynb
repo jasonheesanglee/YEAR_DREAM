{
 "cells": [
  {
   "cell_type": "code",
   "execution_count": 2,
   "id": "0fb11119",
   "metadata": {},
   "outputs": [
    {
     "name": "stdout",
     "output_type": "stream",
     "text": [
      "Requirement already satisfied: numpy in /opt/homebrew/Caskroom/miniconda/base/lib/python3.10/site-packages (1.23.5)\n",
      "Requirement already satisfied: pandas in /opt/homebrew/Caskroom/miniconda/base/lib/python3.10/site-packages (1.5.3)\n",
      "Requirement already satisfied: python-dateutil>=2.8.1 in /opt/homebrew/Caskroom/miniconda/base/lib/python3.10/site-packages (from pandas) (2.8.2)\n",
      "Requirement already satisfied: pytz>=2020.1 in /opt/homebrew/Caskroom/miniconda/base/lib/python3.10/site-packages (from pandas) (2022.7)\n",
      "Requirement already satisfied: numpy>=1.21.0 in /opt/homebrew/Caskroom/miniconda/base/lib/python3.10/site-packages (from pandas) (1.23.5)\n",
      "Requirement already satisfied: six>=1.5 in /opt/homebrew/Caskroom/miniconda/base/lib/python3.10/site-packages (from python-dateutil>=2.8.1->pandas) (1.16.0)\n"
     ]
    }
   ],
   "source": [
    "!pip install numpy\n",
    "!pip install pandas\n",
    "import numpy as np\n",
    "\n"
   ]
  },
  {
   "cell_type": "code",
   "execution_count": 11,
   "id": "19c54d25",
   "metadata": {},
   "outputs": [
    {
     "name": "stdout",
     "output_type": "stream",
     "text": [
      "['1' '2' 'w']\n",
      "(3,)\n",
      "<U21\n",
      "1\n",
      "\n",
      "[['1' '2' '3']\n",
      " ['a' 'b' 'c']]\n",
      "(2, 3)\n",
      "<U21\n",
      "2\n",
      "\n",
      "[[['1' '2' '3']\n",
      "  ['a' 'b' 'c']]\n",
      "\n",
      " [['9' '8' '7']\n",
      "  ['z' 'y' 'w']]\n",
      "\n",
      " [['4' '5' '6']\n",
      "  ['t' 's' 'r']]]\n",
      "(3, 2, 3)\n",
      "<U21\n",
      "3\n"
     ]
    }
   ],
   "source": [
    "arr1 = np.array([1,2,\"w\"])\n",
    "arr2 = np.array([[1,2,3],\n",
    "                 [\"a\",\"b\",\"c\"]])\n",
    "\n",
    "arr3 = np.array([[[1,2,3],[\"a\",\"b\",\"c\"]],\n",
    "                 [[9,8,7],[\"z\",\"y\",\"w\"]],\n",
    "                 [[4,5,6],[\"t\",\"s\",\"r\"]]])\n",
    "\n",
    "print(arr1)\n",
    "print(arr1.shape)\n",
    "print(arr1.dtype)\n",
    "print(arr1.ndim)\n",
    "print()\n",
    "print(arr2)\n",
    "print(arr2.shape)\n",
    "print(arr2.dtype)\n",
    "print(arr2.ndim)\n",
    "print()\n",
    "print(arr3)\n",
    "print(arr3.shape)\n",
    "print(arr3.dtype)\n",
    "print(arr3.ndim)"
   ]
  },
  {
   "cell_type": "code",
   "execution_count": 14,
   "id": "1e397807",
   "metadata": {},
   "outputs": [
    {
     "name": "stdout",
     "output_type": "stream",
     "text": [
      "<U1\n",
      "float64\n",
      "int64\n"
     ]
    }
   ],
   "source": [
    "arr = np.array([\"1\",\"2\",\"3\",\"4\",\"5\"])\n",
    "print(arr.dtype)\n",
    "\n",
    "float_arr = arr.astype(\"float\")\n",
    "print(float_arr.dtype)\n",
    "\n",
    "int_arr = arr.astype(\"int\")\n",
    "print(int_arr.dtype)"
   ]
  },
  {
   "cell_type": "code",
   "execution_count": 15,
   "id": "b8d1283c",
   "metadata": {},
   "outputs": [
    {
     "name": "stdout",
     "output_type": "stream",
     "text": [
      "[False False False False False False  True  True  True  True]\n",
      "[6 7 8 9]\n"
     ]
    }
   ],
   "source": [
    "arr = np.arange(10)\n",
    "\n",
    "#slicing\n",
    "arr[0:6]\n",
    "\n",
    "#indexing\n",
    "arr[-1]\n",
    "\n",
    "print(arr > 5)\n",
    "print(arr[arr>5])\n"
   ]
  },
  {
   "cell_type": "code",
   "execution_count": 19,
   "id": "4be06085",
   "metadata": {},
   "outputs": [
    {
     "name": "stdout",
     "output_type": "stream",
     "text": [
      "[[0 0]\n",
      " [0 0]\n",
      " [0 0]]\n",
      "\n",
      "[[0 0]\n",
      " [0 0]\n",
      " [0 0]] 2 int32 (3, 2)\n"
     ]
    }
   ],
   "source": [
    "arr_z = np.zeros((3,2),dtype='int32')\n",
    "print(arr_z)\n",
    "\n",
    "print()\n",
    "print(arr_z, arr_z.ndim, arr_z.dtype, arr_z.shape)"
   ]
  },
  {
   "cell_type": "code",
   "execution_count": 26,
   "id": "05670732",
   "metadata": {},
   "outputs": [
    {
     "name": "stdout",
     "output_type": "stream",
     "text": [
      "[[1 1 1 1 1 1 1 1 1 1]\n",
      " [1 1 1 1 1 1 1 1 1 1]\n",
      " [1 1 1 1 1 1 1 1 1 1]\n",
      " [1 1 1 1 1 1 1 1 1 1]\n",
      " [1 1 1 1 1 1 1 1 1 1]\n",
      " [1 1 1 1 1 1 1 1 1 1]\n",
      " [1 1 1 1 1 1 1 1 1 1]\n",
      " [1 1 1 1 1 1 1 1 1 1]\n",
      " [1 1 1 1 1 1 1 1 1 1]\n",
      " [1 1 1 1 1 1 1 1 1 1]]\n"
     ]
    },
    {
     "data": {
      "text/plain": [
       "array([[1, 1, 1, 1, 1, 1, 1, 1, 1, 1],\n",
       "       [1, 1, 1, 1, 1, 1, 1, 1, 1, 1],\n",
       "       [1, 1, 1, 1, 1, 1, 1, 1, 1, 1],\n",
       "       [1, 1, 1, 1, 1, 1, 1, 1, 1, 1],\n",
       "       [1, 1, 1, 1, 1, 1, 1, 1, 1, 1],\n",
       "       [1, 1, 1, 1, 1, 1, 1, 1, 1, 1],\n",
       "       [1, 1, 1, 1, 1, 1, 1, 1, 1, 1],\n",
       "       [1, 1, 1, 1, 1, 1, 1, 1, 1, 1],\n",
       "       [1, 1, 1, 1, 1, 1, 1, 1, 1, 1],\n",
       "       [1, 1, 1, 1, 1, 1, 1, 1, 1, 1]])"
      ]
     },
     "execution_count": 26,
     "metadata": {},
     "output_type": "execute_result"
    }
   ],
   "source": [
    "arr_ones = np.ones((10,10),dtype=\"int\")\n",
    "print(arr_ones)\n",
    "arr_ones"
   ]
  },
  {
   "cell_type": "markdown",
   "id": "627106c2",
   "metadata": {},
   "source": [
    "### reshape() - 차원과 크기 변경"
   ]
  },
  {
   "cell_type": "code",
   "execution_count": 29,
   "id": "f7d73526",
   "metadata": {},
   "outputs": [
    {
     "name": "stdout",
     "output_type": "stream",
     "text": [
      "[0 1 2 3 4 5 6 7 8 9]\n",
      "\n",
      "[[0 1 2 3 4]\n",
      " [5 6 7 8 9]]\n",
      "\n"
     ]
    },
    {
     "ename": "ValueError",
     "evalue": "cannot reshape array of size 3 into shape (5,2)",
     "output_type": "error",
     "traceback": [
      "\u001b[0;31m---------------------------------------------------------------------------\u001b[0m",
      "\u001b[0;31mValueError\u001b[0m                                Traceback (most recent call last)",
      "Cell \u001b[0;32mIn[29], line 11\u001b[0m\n\u001b[1;32m      7\u001b[0m \u001b[38;5;28mprint\u001b[39m(arr_rshped)\n\u001b[1;32m      9\u001b[0m \u001b[38;5;28mprint\u001b[39m()\n\u001b[0;32m---> 11\u001b[0m arr_rshped_2 \u001b[38;5;241m=\u001b[39m \u001b[43marr1\u001b[49m\u001b[38;5;241;43m.\u001b[39;49m\u001b[43mreshape\u001b[49m\u001b[43m(\u001b[49m\u001b[38;5;241;43m5\u001b[39;49m\u001b[43m,\u001b[49m\u001b[38;5;241;43m2\u001b[39;49m\u001b[43m)\u001b[49m\n\u001b[1;32m     12\u001b[0m \u001b[38;5;28mprint\u001b[39m(arr_rshped_2)\n\u001b[1;32m     14\u001b[0m \u001b[38;5;28mprint\u001b[39m()\n",
      "\u001b[0;31mValueError\u001b[0m: cannot reshape array of size 3 into shape (5,2)"
     ]
    }
   ],
   "source": [
    "arr_1 = np.arange(10)\n",
    "print(arr_1)\n",
    "\n",
    "print()\n",
    "\n",
    "arr_rshped = arr_1.reshape(2,5)\n",
    "print(arr_rshped)\n",
    "\n",
    "print()\n",
    "\n",
    "arr_rshped_2 = arr1.reshape(5,2)\n",
    "print(arr_rshped_2)\n",
    "\n",
    "print()\n",
    "\n",
    "arr_rshped_3 = arr1.reshape(3,4) #error size mismatch\n",
    "print(arr_rshped_3)"
   ]
  },
  {
   "cell_type": "code",
   "execution_count": 30,
   "id": "b561ea6d",
   "metadata": {},
   "outputs": [
    {
     "name": "stdout",
     "output_type": "stream",
     "text": [
      "[0 1 2 3 4 5 6 7]\n",
      "\n"
     ]
    },
    {
     "ename": "ValueError",
     "evalue": "cannot reshape array of size 10 into shape (4)",
     "output_type": "error",
     "traceback": [
      "\u001b[0;31m---------------------------------------------------------------------------\u001b[0m",
      "\u001b[0;31mValueError\u001b[0m                                Traceback (most recent call last)",
      "Cell \u001b[0;32mIn[30], line 6\u001b[0m\n\u001b[1;32m      2\u001b[0m \u001b[38;5;28mprint\u001b[39m(arr_1)\n\u001b[1;32m      4\u001b[0m \u001b[38;5;28mprint\u001b[39m()\n\u001b[0;32m----> 6\u001b[0m arr_2 \u001b[38;5;241m=\u001b[39m \u001b[43marr\u001b[49m\u001b[38;5;241;43m.\u001b[39;49m\u001b[43mreshape\u001b[49m\u001b[43m(\u001b[49m\u001b[38;5;241;43m-\u001b[39;49m\u001b[38;5;241;43m1\u001b[39;49m\u001b[43m,\u001b[49m\u001b[38;5;241;43m4\u001b[39;49m\u001b[43m)\u001b[49m\n\u001b[1;32m      7\u001b[0m \u001b[38;5;28mprint\u001b[39m(arr_2)\n",
      "\u001b[0;31mValueError\u001b[0m: cannot reshape array of size 10 into shape (4)"
     ]
    }
   ],
   "source": [
    "arr_1 = np.arange(8)\n",
    "print(arr_1)\n",
    "\n",
    "print()\n",
    "\n",
    "arr_2 = arr.reshape(-1,4)\n",
    "print(arr_2)"
   ]
  },
  {
   "cell_type": "code",
   "execution_count": 31,
   "id": "2e6ceb0b",
   "metadata": {},
   "outputs": [
    {
     "name": "stdout",
     "output_type": "stream",
     "text": [
      "[0 1 2 3 4 5 6 7 8 9]\n",
      "[[0 1 2 3 4]\n",
      " [5 6 7 8 9]]\n",
      "(2, 5)\n",
      "[[0 1]\n",
      " [2 3]\n",
      " [4 5]\n",
      " [6 7]\n",
      " [8 9]]\n",
      "(5, 2)\n"
     ]
    },
    {
     "data": {
      "text/plain": [
       "array([[0, 1, 2, 3, 4],\n",
       "       [5, 6, 7, 8, 9]])"
      ]
     },
     "execution_count": 31,
     "metadata": {},
     "output_type": "execute_result"
    }
   ],
   "source": [
    "array1 = np.arange(10)\n",
    "print(array1)\n",
    "\n",
    "array2 = array1.reshape(-1, 5) # 5열에 맞춰서 -> 행을 만들어줘 (알아서)\n",
    "print(array2)\n",
    "print(array2.shape)\n",
    "\n",
    "array3 = array1.reshape(5, -1) # 5행에 맞춰서 -> 열을 만들어줘 (알아서)\n",
    "print(array3)\n",
    "print(array3.shape)\n",
    "\n",
    "array4 = array1.reshape(2, -1) # 2행에 맞춰서 -> 열을 만들어줘 (알아서)\n",
    "array4"
   ]
  },
  {
   "cell_type": "markdown",
   "id": "59204c91",
   "metadata": {},
   "source": [
    "## 인덱싱, 슬라이싱"
   ]
  },
  {
   "cell_type": "code",
   "execution_count": 32,
   "id": "8685f695",
   "metadata": {},
   "outputs": [
    {
     "name": "stdout",
     "output_type": "stream",
     "text": [
      "1\n",
      "[1 2 3 4 5]\n",
      "[1 2 3 4 5 6 7 8 9]\n"
     ]
    }
   ],
   "source": [
    "arr = np.arange(1,10)\n",
    "print(arr[0])\n",
    "print(arr[0:5])\n",
    "print(arr[:])\n"
   ]
  },
  {
   "cell_type": "code",
   "execution_count": 41,
   "id": "f967cb48",
   "metadata": {},
   "outputs": [
    {
     "name": "stdout",
     "output_type": "stream",
     "text": [
      "[[1 2 3]\n",
      " [4 5 6]\n",
      " [7 8 9]]\n",
      "5\n",
      "9\n",
      "[1 2 3]\n",
      "[1 2 3]\n",
      "[4 5 6]\n",
      "[4 5 6]\n",
      "[4 5 6]\n",
      "[3 6 9]\n",
      "[3 6 9]\n",
      "[7]\n"
     ]
    }
   ],
   "source": [
    "arr = np.arange(1,10)\n",
    "arr2 = arr.reshape(3,3)\n",
    "print(arr2)\n",
    "\n",
    "print(arr2[1,1])\n",
    "print(arr2[2,2])\n",
    "print(arr2[0,])\n",
    "print(arr2[0,0:3])\n",
    "\n",
    "print(arr2[1,])\n",
    "print(arr2[1,:])\n",
    "print(arr2[1,0:3])\n",
    "\n",
    "print(arr2[:,2])\n",
    "print(arr2[0:3,2])\n",
    "\n",
    "arr3 = arr2[2,:1]\n",
    "print(arr3)"
   ]
  },
  {
   "cell_type": "code",
   "execution_count": 42,
   "id": "97b9759d",
   "metadata": {},
   "outputs": [
    {
     "data": {
      "text/plain": [
       "array([False, False, False, False, False,  True,  True,  True,  True])"
      ]
     },
     "execution_count": 42,
     "metadata": {},
     "output_type": "execute_result"
    }
   ],
   "source": [
    "arr = np.arange(1,10)\n",
    "arr > 5"
   ]
  },
  {
   "cell_type": "markdown",
   "id": "42bb2211",
   "metadata": {},
   "source": [
    "## sort() 정렬"
   ]
  },
  {
   "cell_type": "code",
   "execution_count": 51,
   "id": "d89d3572",
   "metadata": {},
   "outputs": [
    {
     "name": "stdout",
     "output_type": "stream",
     "text": [
      "[  1   5  10  30 100]\n",
      "[100  30  10   5   1]\n"
     ]
    }
   ],
   "source": [
    "arr = np.array([10, 30, 5, 1, 100])\n",
    "arr_sorted = np.sort(arr)\n",
    "print(arr_sorted)\n",
    "\n",
    "\n",
    "arr_desc = arr_sorted[::-1]\n",
    "print(arr_desc)\n",
    "\n",
    "# np.sort(arr), Reverse == True"
   ]
  },
  {
   "cell_type": "code",
   "execution_count": 53,
   "id": "9b95e7e4",
   "metadata": {},
   "outputs": [
    {
     "name": "stdout",
     "output_type": "stream",
     "text": [
      "['canada' 'kor' 'usa']\n"
     ]
    }
   ],
   "source": [
    "arr_countries = np.array([\"kor\", \"usa\", \"canada\"])\n",
    "arr_sorted = np.sort(arr_countries)\n",
    "print(arr_sorted)"
   ]
  },
  {
   "cell_type": "markdown",
   "id": "6a4be20a",
   "metadata": {},
   "source": [
    "## 행렬의 연산"
   ]
  },
  {
   "cell_type": "code",
   "execution_count": 62,
   "id": "dead36f5",
   "metadata": {},
   "outputs": [
    {
     "name": "stdout",
     "output_type": "stream",
     "text": [
      "[[1 2]\n",
      " [3 4]]\n",
      "  +, x\n",
      "[[5 6]\n",
      " [7 8]]\n",
      "\n",
      "[[ 6  8]\n",
      " [10 12]]\n",
      "\n",
      "[[ 5 12]\n",
      " [21 32]]\n",
      "\n",
      "[[19 22]\n",
      " [43 50]]\n"
     ]
    }
   ],
   "source": [
    "arr1 = np.array([[1,2], [3,4]])\n",
    "arr2 = np.array([[5,6], [7,8]])\n",
    "\n",
    "print(arr1)\n",
    "print(\"  +, x\")\n",
    "print(arr2)\n",
    "\n",
    "print()\n",
    "\n",
    "add_arr = np.add(arr1,arr2)\n",
    "print(add_arr)\n",
    "\n",
    "print()\n",
    "\n",
    "mult_arr = np.multiply(arr1,arr2)\n",
    "print(mult_arr)\n",
    "\n",
    "print()\n",
    "\n",
    "arr_dot = np.dot(arr1,arr2)\n",
    "print(arr_dot)"
   ]
  },
  {
   "cell_type": "code",
   "execution_count": 80,
   "id": "9db4b6b6",
   "metadata": {},
   "outputs": [
    {
     "name": "stdout",
     "output_type": "stream",
     "text": [
      "[2. 5. 8.]\n"
     ]
    }
   ],
   "source": [
    "#Q1. 2차원 배열에서 행렬의 각 행의 평균을 계산하는 코드를 작성하세요.\n",
    "\n",
    "arr = np.array([[1,2,3],\n",
    "                [4,5,6],\n",
    "                [7,8,9]])\n",
    "\n",
    "avg_arr_0 = np.mean(arr, axis = 1)\n",
    "print(avg_arr_0)"
   ]
  },
  {
   "cell_type": "code",
   "execution_count": 94,
   "id": "89253cf0",
   "metadata": {},
   "outputs": [
    {
     "name": "stdout",
     "output_type": "stream",
     "text": [
      "[1 3 5]\n",
      "[0 2 4]\n",
      "[1 3 5]\n"
     ]
    }
   ],
   "source": [
    "# Q2. 1차원 배열에서 짝수 인덱스의 값을 출력하는 코드를 작성하세요.\n",
    "\n",
    "arr = np.array([1, 2, 3, 4, 5, 6])\n",
    "arr_evens = arr[::2]\n",
    "print(arr_evens)\n",
    "\n",
    "arr_evens_kim = np.arange(0,arr.size,2)\n",
    "print(arr_evens_kim)\n",
    "\n",
    "print(arr[arr_evens_kim])\n",
    "\n",
    "#arr_diag = arr[0, 0], arr[1, 1], arr[2,2] ??"
   ]
  },
  {
   "cell_type": "code",
   "execution_count": 99,
   "id": "34d2a0bd",
   "metadata": {},
   "outputs": [
    {
     "name": "stdout",
     "output_type": "stream",
     "text": [
      "(1, 5, 9)\n",
      "[1 5 9]\n",
      "[1 5 9]\n"
     ]
    }
   ],
   "source": [
    "# Q3. 2차원 배열의 주 대각선 상에 있는 원소들을 출력하는 코드를 작성하세요.\n",
    "\n",
    "arr = np.array([[1, 2, 3], \n",
    "                [4, 5, 6], \n",
    "                [7, 8, 9]])\n",
    "\n",
    "\n",
    "\n",
    "arr_diag = arr[0, 0], arr[1, 1], arr[2,2]\n",
    "print(arr_diag)\n",
    "print(np.diag(arr))\n",
    "print(arr.diagonal(0))"
   ]
  },
  {
   "cell_type": "code",
   "execution_count": 101,
   "id": "4bfef1d2",
   "metadata": {},
   "outputs": [
    {
     "name": "stdout",
     "output_type": "stream",
     "text": [
      "[[1 2 3]\n",
      " [4 5 6]\n",
      " [7 8 9]]\n",
      "(3, 3)\n",
      "[2.44948974 2.44948974 2.44948974]\n",
      "[0.81649658 0.81649658 0.81649658]\n"
     ]
    }
   ],
   "source": [
    "#Q4. 2차원 배열의 표준편차를 구하시오\n",
    "\n",
    "arr = np.array([[1,2,3],[4,5,6],[7,8,9]])\n",
    "print(arr)\n",
    "print(arr.shape)\n",
    "\n",
    "print(np.std(arr, axis = 0))\n",
    "print(np.std(arr, axis = 1))"
   ]
  },
  {
   "cell_type": "markdown",
   "id": "7fa74cdd",
   "metadata": {},
   "source": [
    "# Pandas"
   ]
  },
  {
   "cell_type": "code",
   "execution_count": 10,
   "id": "4c2ad8fe",
   "metadata": {},
   "outputs": [],
   "source": [
    "import numpy as np\n",
    "import pandas as pd"
   ]
  },
  {
   "cell_type": "code",
   "execution_count": 104,
   "id": "adfb8660",
   "metadata": {},
   "outputs": [
    {
     "data": {
      "text/plain": [
       "'1.5.3'"
      ]
     },
     "execution_count": 104,
     "metadata": {},
     "output_type": "execute_result"
    }
   ],
   "source": [
    "pd.__version__"
   ]
  },
  {
   "cell_type": "markdown",
   "id": "39208e43",
   "metadata": {},
   "source": [
    "## Series\n",
    "- 한개의 컬럼으로 구성된 1차원 데이터 셋"
   ]
  },
  {
   "cell_type": "code",
   "execution_count": 129,
   "id": "684261c1",
   "metadata": {},
   "outputs": [
    {
     "name": "stdout",
     "output_type": "stream",
     "text": [
      "0    A\n",
      "1    B\n",
      "2    C\n",
      "3    D\n",
      "4    E\n",
      "dtype: object\n"
     ]
    }
   ],
   "source": [
    "data = [\"A\", \"B\", \"C\", \"D\", \"E\"]\n",
    "se = pd.Series(data)\n",
    "print(se)"
   ]
  },
  {
   "cell_type": "code",
   "execution_count": 130,
   "id": "2bb2ed9a",
   "metadata": {},
   "outputs": [
    {
     "name": "stdout",
     "output_type": "stream",
     "text": [
      "RangeIndex(start=0, stop=5, step=1)\n",
      "['A' 'B' 'C' 'D' 'E']\n",
      "\n",
      "A\n",
      "0    A\n",
      "1    B\n",
      "2    C\n",
      "dtype: object\n"
     ]
    }
   ],
   "source": [
    "print(se.index)\n",
    "print(se.values)\n",
    "print()\n",
    "print(se[0])\n",
    "print(se[0:3])"
   ]
  },
  {
   "cell_type": "code",
   "execution_count": 131,
   "id": "05ba53fc",
   "metadata": {},
   "outputs": [
    {
     "name": "stdout",
     "output_type": "stream",
     "text": [
      "No. \n",
      "0    A\n",
      "1    B\n",
      "2    C\n",
      "3    D\n",
      "4    E\n",
      "dtype: object\n",
      "\n",
      "No. \n",
      "0    A\n",
      "1    B\n",
      "2    C\n",
      "3    D\n",
      "4    E\n",
      "Name: alphabet, dtype: object\n"
     ]
    }
   ],
   "source": [
    "se.index.name = \"No. \"\n",
    "print(se)\n",
    "print()\n",
    "se.name = \"alphabet\"\n",
    "print(se)"
   ]
  },
  {
   "cell_type": "code",
   "execution_count": 132,
   "id": "45ff0441",
   "metadata": {},
   "outputs": [
    {
     "name": "stdout",
     "output_type": "stream",
     "text": [
      "a    A\n",
      "b    B\n",
      "c    C\n",
      "d    D\n",
      "e    E\n",
      "Name: alphabet, dtype: object\n"
     ]
    }
   ],
   "source": [
    "se.index = [\"a\",\"b\",\"c\",\"d\",\"e\"]\n",
    "print(se)"
   ]
  },
  {
   "cell_type": "markdown",
   "id": "118e7a68",
   "metadata": {},
   "source": [
    "## Data Frame\n",
    "- 기획직군, PM직군도 Data Analysis 기술 장착하는 추세 (default)"
   ]
  },
  {
   "cell_type": "code",
   "execution_count": 1,
   "id": "5460c7d9",
   "metadata": {},
   "outputs": [],
   "source": [
    "import numpy as np\n",
    "import pandas as pd"
   ]
  },
  {
   "cell_type": "code",
   "execution_count": 20,
   "id": "25ee87f0",
   "metadata": {},
   "outputs": [],
   "source": [
    "data_A = np.array([[1,2,3], [4,5,6], [7,8,9]])\n",
    "columms_A = ['D','E','F']"
   ]
  },
  {
   "cell_type": "code",
   "execution_count": 17,
   "id": "3a96a80d",
   "metadata": {},
   "outputs": [
    {
     "name": "stdout",
     "output_type": "stream",
     "text": [
      "   0  1  2\n",
      "0  1  2  3\n",
      "1  4  5  6\n",
      "2  7  8  9\n",
      "\n",
      "   0  1  2\n",
      "0  1  2  3\n",
      "1  4  5  6\n",
      "2  7  8  9\n"
     ]
    }
   ],
   "source": [
    "print(pd.DataFrame(data_A))\n",
    "print()\n",
    "print(pd.DataFrame(data=data_A))"
   ]
  },
  {
   "cell_type": "code",
   "execution_count": 22,
   "id": "37a4d712",
   "metadata": {},
   "outputs": [
    {
     "name": "stdout",
     "output_type": "stream",
     "text": [
      "   0  1  2\n",
      "A  1  2  3\n",
      "B  4  5  6\n",
      "C  7  8  9\n",
      "   D  E  F\n",
      "A  1  2  3\n",
      "B  4  5  6\n",
      "C  7  8  9\n"
     ]
    }
   ],
   "source": [
    "print(pd.DataFrame(data=data_A, index = [\"A\",\"B\",\"C\"]))\n",
    "print(pd.DataFrame(data=data_A, index = [\"A\",\"B\",\"C\"], columns=columms_A))"
   ]
  },
  {
   "cell_type": "code",
   "execution_count": 23,
   "id": "062dbec2",
   "metadata": {},
   "outputs": [
    {
     "name": "stdout",
     "output_type": "stream",
     "text": [
      "  country  rank grade\n",
      "0     kor     1     A\n",
      "1     usa     2     B\n",
      "2   china     3     C\n",
      "3   japan     4     D\n"
     ]
    }
   ],
   "source": [
    "data_B = {\n",
    "    'country': [\"kor\", \"usa\", \"china\", \"japan\"],\n",
    "    'rank': [1, 2, 3, 4],\n",
    "    'grade': ['A', 'B', 'C', 'D']\n",
    "}\n",
    "df = pd.DataFrame(data_B)\n",
    "print(df)"
   ]
  },
  {
   "cell_type": "code",
   "execution_count": 25,
   "id": "61f01edb",
   "metadata": {},
   "outputs": [
    {
     "name": "stdout",
     "output_type": "stream",
     "text": [
      "  country  rank grade\n",
      "a     kor     1     A\n",
      "b     usa     2     B\n",
      "c   china     3     C\n",
      "d   japan     4     D\n"
     ]
    }
   ],
   "source": [
    "# index 값 변경\n",
    "df.index = [\"a\", \"b\", \"c\", \"d\"]\n",
    "print(df)"
   ]
  },
  {
   "cell_type": "code",
   "execution_count": 26,
   "id": "6804fd6d",
   "metadata": {},
   "outputs": [
    {
     "name": "stdout",
     "output_type": "stream",
     "text": [
      "     country grade\n",
      "rank              \n",
      "1        kor     A\n",
      "2        usa     B\n",
      "3      china     C\n",
      "4      japan     D\n"
     ]
    }
   ],
   "source": [
    "# 기존 입력된 값을 인덱스로 추가\n",
    "new_df = df.set_index(\"rank\")\n",
    "print(new_df)"
   ]
  },
  {
   "cell_type": "code",
   "execution_count": 28,
   "id": "163da71c",
   "metadata": {},
   "outputs": [
    {
     "name": "stdout",
     "output_type": "stream",
     "text": [
      "           country\n",
      "rank grade        \n",
      "1    A         kor\n",
      "2    B         usa\n",
      "3    C       china\n",
      "4    D       japan\n"
     ]
    }
   ],
   "source": [
    "# 기존 입력된 값을 인덱스로 추가 (2개)\n",
    "new_df = df.set_index([\"rank\",\"grade\"])\n",
    "print(new_df)"
   ]
  },
  {
   "cell_type": "markdown",
   "id": "200a846d",
   "metadata": {},
   "source": [
    "## Data Selection\n",
    " - df.컬럼명, df[컬럼명]\n",
    " - df.loc[] # 인덱스 명, 컬럼명 기반이라 좀 더 직관적이다. df.loc[0:100, [\"rank\", \"grade\"]]\n",
    " - df.iloc[] # 위치기반이라 숫자데이터가 들어간다. df.iloc[:,0:3]"
   ]
  },
  {
   "cell_type": "code",
   "execution_count": 42,
   "id": "f21f7699",
   "metadata": {},
   "outputs": [
    {
     "name": "stdout",
     "output_type": "stream",
     "text": [
      "a      kor\n",
      "b      usa\n",
      "c    china\n",
      "d    japan\n",
      "Name: country, dtype: object\n"
     ]
    }
   ],
   "source": [
    "# (1) df.컬럼명, df['컬럼명']\n",
    "print(df.country)"
   ]
  },
  {
   "cell_type": "code",
   "execution_count": 33,
   "id": "ee05fa03",
   "metadata": {},
   "outputs": [
    {
     "name": "stdout",
     "output_type": "stream",
     "text": [
      "a      kor\n",
      "b      usa\n",
      "c    china\n",
      "d    japan\n",
      "Name: country, dtype: object\n"
     ]
    }
   ],
   "source": [
    "print(df['country'])"
   ]
  },
  {
   "cell_type": "code",
   "execution_count": 35,
   "id": "486bd8af",
   "metadata": {},
   "outputs": [
    {
     "ename": "KeyError",
     "evalue": "('rank', 'country')",
     "output_type": "error",
     "traceback": [
      "\u001b[0;31m---------------------------------------------------------------------------\u001b[0m",
      "\u001b[0;31mKeyError\u001b[0m                                  Traceback (most recent call last)",
      "File \u001b[0;32m/opt/homebrew/Caskroom/miniconda/base/lib/python3.10/site-packages/pandas/core/indexes/base.py:3802\u001b[0m, in \u001b[0;36mIndex.get_loc\u001b[0;34m(self, key, method, tolerance)\u001b[0m\n\u001b[1;32m   3801\u001b[0m \u001b[38;5;28;01mtry\u001b[39;00m:\n\u001b[0;32m-> 3802\u001b[0m     \u001b[38;5;28;01mreturn\u001b[39;00m \u001b[38;5;28;43mself\u001b[39;49m\u001b[38;5;241;43m.\u001b[39;49m\u001b[43m_engine\u001b[49m\u001b[38;5;241;43m.\u001b[39;49m\u001b[43mget_loc\u001b[49m\u001b[43m(\u001b[49m\u001b[43mcasted_key\u001b[49m\u001b[43m)\u001b[49m\n\u001b[1;32m   3803\u001b[0m \u001b[38;5;28;01mexcept\u001b[39;00m \u001b[38;5;167;01mKeyError\u001b[39;00m \u001b[38;5;28;01mas\u001b[39;00m err:\n",
      "File \u001b[0;32m/opt/homebrew/Caskroom/miniconda/base/lib/python3.10/site-packages/pandas/_libs/index.pyx:138\u001b[0m, in \u001b[0;36mpandas._libs.index.IndexEngine.get_loc\u001b[0;34m()\u001b[0m\n",
      "File \u001b[0;32m/opt/homebrew/Caskroom/miniconda/base/lib/python3.10/site-packages/pandas/_libs/index.pyx:165\u001b[0m, in \u001b[0;36mpandas._libs.index.IndexEngine.get_loc\u001b[0;34m()\u001b[0m\n",
      "File \u001b[0;32mpandas/_libs/hashtable_class_helper.pxi:5745\u001b[0m, in \u001b[0;36mpandas._libs.hashtable.PyObjectHashTable.get_item\u001b[0;34m()\u001b[0m\n",
      "File \u001b[0;32mpandas/_libs/hashtable_class_helper.pxi:5753\u001b[0m, in \u001b[0;36mpandas._libs.hashtable.PyObjectHashTable.get_item\u001b[0;34m()\u001b[0m\n",
      "\u001b[0;31mKeyError\u001b[0m: ('rank', 'country')",
      "\nThe above exception was the direct cause of the following exception:\n",
      "\u001b[0;31mKeyError\u001b[0m                                  Traceback (most recent call last)",
      "Cell \u001b[0;32mIn[35], line 2\u001b[0m\n\u001b[1;32m      1\u001b[0m \u001b[38;5;66;03m# Data Frame안에 한개만 있을땐 대괄호가 하나만 있어도 되지만, 두개 이상일 경우 리스트로 만들어야 하기때문에 대괄호로 한번 더 감싸 줘야함\u001b[39;00m\n\u001b[0;32m----> 2\u001b[0m \u001b[38;5;28mprint\u001b[39m(\u001b[43mdf\u001b[49m\u001b[43m[\u001b[49m\u001b[38;5;124;43m'\u001b[39;49m\u001b[38;5;124;43mrank\u001b[39;49m\u001b[38;5;124;43m'\u001b[39;49m\u001b[43m,\u001b[49m\u001b[38;5;124;43m'\u001b[39;49m\u001b[38;5;124;43mcountry\u001b[39;49m\u001b[38;5;124;43m'\u001b[39;49m\u001b[43m]\u001b[49m)\n",
      "File \u001b[0;32m/opt/homebrew/Caskroom/miniconda/base/lib/python3.10/site-packages/pandas/core/frame.py:3807\u001b[0m, in \u001b[0;36mDataFrame.__getitem__\u001b[0;34m(self, key)\u001b[0m\n\u001b[1;32m   3805\u001b[0m \u001b[38;5;28;01mif\u001b[39;00m \u001b[38;5;28mself\u001b[39m\u001b[38;5;241m.\u001b[39mcolumns\u001b[38;5;241m.\u001b[39mnlevels \u001b[38;5;241m>\u001b[39m \u001b[38;5;241m1\u001b[39m:\n\u001b[1;32m   3806\u001b[0m     \u001b[38;5;28;01mreturn\u001b[39;00m \u001b[38;5;28mself\u001b[39m\u001b[38;5;241m.\u001b[39m_getitem_multilevel(key)\n\u001b[0;32m-> 3807\u001b[0m indexer \u001b[38;5;241m=\u001b[39m \u001b[38;5;28;43mself\u001b[39;49m\u001b[38;5;241;43m.\u001b[39;49m\u001b[43mcolumns\u001b[49m\u001b[38;5;241;43m.\u001b[39;49m\u001b[43mget_loc\u001b[49m\u001b[43m(\u001b[49m\u001b[43mkey\u001b[49m\u001b[43m)\u001b[49m\n\u001b[1;32m   3808\u001b[0m \u001b[38;5;28;01mif\u001b[39;00m is_integer(indexer):\n\u001b[1;32m   3809\u001b[0m     indexer \u001b[38;5;241m=\u001b[39m [indexer]\n",
      "File \u001b[0;32m/opt/homebrew/Caskroom/miniconda/base/lib/python3.10/site-packages/pandas/core/indexes/base.py:3804\u001b[0m, in \u001b[0;36mIndex.get_loc\u001b[0;34m(self, key, method, tolerance)\u001b[0m\n\u001b[1;32m   3802\u001b[0m     \u001b[38;5;28;01mreturn\u001b[39;00m \u001b[38;5;28mself\u001b[39m\u001b[38;5;241m.\u001b[39m_engine\u001b[38;5;241m.\u001b[39mget_loc(casted_key)\n\u001b[1;32m   3803\u001b[0m \u001b[38;5;28;01mexcept\u001b[39;00m \u001b[38;5;167;01mKeyError\u001b[39;00m \u001b[38;5;28;01mas\u001b[39;00m err:\n\u001b[0;32m-> 3804\u001b[0m     \u001b[38;5;28;01mraise\u001b[39;00m \u001b[38;5;167;01mKeyError\u001b[39;00m(key) \u001b[38;5;28;01mfrom\u001b[39;00m \u001b[38;5;21;01merr\u001b[39;00m\n\u001b[1;32m   3805\u001b[0m \u001b[38;5;28;01mexcept\u001b[39;00m \u001b[38;5;167;01mTypeError\u001b[39;00m:\n\u001b[1;32m   3806\u001b[0m     \u001b[38;5;66;03m# If we have a listlike key, _check_indexing_error will raise\u001b[39;00m\n\u001b[1;32m   3807\u001b[0m     \u001b[38;5;66;03m#  InvalidIndexError. Otherwise we fall through and re-raise\u001b[39;00m\n\u001b[1;32m   3808\u001b[0m     \u001b[38;5;66;03m#  the TypeError.\u001b[39;00m\n\u001b[1;32m   3809\u001b[0m     \u001b[38;5;28mself\u001b[39m\u001b[38;5;241m.\u001b[39m_check_indexing_error(key)\n",
      "\u001b[0;31mKeyError\u001b[0m: ('rank', 'country')"
     ]
    }
   ],
   "source": [
    "# Data Frame안에 한개만 있을땐 대괄호가 하나만 있어도 되지만, 두개 이상일 경우 리스트로 만들어야 하기때문에 대괄호로 한번 더 감싸 줘야함\n",
    "print(df['rank','country'])"
   ]
  },
  {
   "cell_type": "code",
   "execution_count": 37,
   "id": "5e613c3e",
   "metadata": {},
   "outputs": [
    {
     "name": "stdout",
     "output_type": "stream",
     "text": [
      "   rank country\n",
      "a     1     kor\n",
      "b     2     usa\n",
      "c     3   china\n",
      "d     4   japan\n",
      "\n",
      "   rank grade country\n",
      "a     1     A     kor\n",
      "b     2     B     usa\n",
      "c     3     C   china\n",
      "d     4     D   japan\n",
      "\n",
      "   rank country\n",
      "a     1     kor\n",
      "b     2     usa\n",
      "c     3   china\n",
      "d     4   japan\n"
     ]
    }
   ],
   "source": [
    "print(df[['rank','country']])\n",
    "print()\n",
    "print(df[['rank', 'grade','country']])\n",
    "print()\n",
    "columns = ['rank', 'country']\n",
    "print(df[columns])"
   ]
  },
  {
   "cell_type": "code",
   "execution_count": 40,
   "id": "ce040fcf",
   "metadata": {},
   "outputs": [
    {
     "name": "stdout",
     "output_type": "stream",
     "text": [
      "   rank country\n",
      "a     1     kor\n",
      "b     2     usa\n",
      "c     3   china\n",
      "d     4   japan\n",
      "\n",
      "   rank grade\n",
      "a     1     A\n",
      "b     2     B\n",
      "c     3     C\n",
      "d     4     D\n",
      "\n",
      "  grade country\n",
      "a     A     kor\n",
      "b     B     usa\n",
      "c     C   china\n",
      "d     D   japan\n"
     ]
    }
   ],
   "source": [
    "test_column1 = ['rank', 'country']\n",
    "test_column2 = ['rank', 'grade']\n",
    "test_column3 = ['grade', 'country']\n",
    "\n",
    "new_df1 = df[test_column1]\n",
    "new_df2 = df[test_column2]\n",
    "new_df3 = df[test_column3]\n",
    "\n",
    "print(new_df1)\n",
    "print()\n",
    "print(new_df2)\n",
    "print()\n",
    "print(new_df3)\n"
   ]
  },
  {
   "cell_type": "code",
   "execution_count": 48,
   "id": "89f27267",
   "metadata": {},
   "outputs": [
    {
     "name": "stdout",
     "output_type": "stream",
     "text": [
      "  country  rank grade\n",
      "a     kor     1     A\n",
      "b     usa     2     B\n",
      "c   china     3     C\n",
      "d   japan     4     D\n",
      "\n",
      "country    kor\n",
      "rank         1\n",
      "grade        A\n",
      "Name: a, dtype: object\n",
      "\n",
      "A\n",
      "\n",
      "grade    C\n",
      "rank     3\n",
      "Name: c, dtype: object\n",
      "\n",
      "  grade  rank\n",
      "a     A     1\n",
      "b     B     2\n",
      "c     C     3\n",
      "\n",
      "  grade  rank\n",
      "a     A     1\n",
      "b     B     2\n",
      "c     C     3\n",
      "d     D     4\n"
     ]
    }
   ],
   "source": [
    "# (2) loc[인덱스명, 컬럼명]\n",
    "print(df)\n",
    "print()\n",
    "\n",
    "print(df.loc[\"a\"])\n",
    "print()\n",
    "print(df.loc[\"a\", \"grade\"])\n",
    "print()\n",
    "print(df.loc[\"c\", [\"grade\",\"rank\"]])\n",
    "print()\n",
    "print(df.loc[\"a\":\"c\", [\"grade\",\"rank\"]])\n",
    "print()\n",
    "print(df.loc[\"a\":, [\"grade\",\"rank\"]])"
   ]
  },
  {
   "cell_type": "code",
   "execution_count": 52,
   "id": "c605823d",
   "metadata": {},
   "outputs": [
    {
     "name": "stdout",
     "output_type": "stream",
     "text": [
      "  country  rank grade\n",
      "a     kor     1     A\n",
      "b     usa     2     B\n",
      "c   china     3     C\n",
      "d   japan     4     D\n"
     ]
    }
   ],
   "source": [
    "print(df.loc[:])\n",
    "# print(df.loc[[],[:]]) -> loc를 받을때 행이 생략되고 컬럼이 들어올 수 있지만, 이렇게 하면 컬럼이 지정이 안되기 때문에 실행이 안됨"
   ]
  },
  {
   "cell_type": "code",
   "execution_count": 90,
   "id": "7297b5a4",
   "metadata": {},
   "outputs": [
    {
     "name": "stdout",
     "output_type": "stream",
     "text": [
      "0     True\n",
      "1    False\n",
      "2    False\n",
      "3    False\n",
      "Name: country, dtype: bool\n",
      "\n",
      "  country  rank grade\n",
      "0     kor     1     A\n",
      "\n"
     ]
    },
    {
     "ename": "ValueError",
     "evalue": "The truth value of a Series is ambiguous. Use a.empty, a.bool(), a.item(), a.any() or a.all().",
     "output_type": "error",
     "traceback": [
      "\u001b[0;31m---------------------------------------------------------------------------\u001b[0m",
      "\u001b[0;31mValueError\u001b[0m                                Traceback (most recent call last)",
      "Cell \u001b[0;32mIn[90], line 6\u001b[0m\n\u001b[1;32m      4\u001b[0m \u001b[38;5;28mprint\u001b[39m(df[df[\u001b[38;5;124m\"\u001b[39m\u001b[38;5;124mcountry\u001b[39m\u001b[38;5;124m\"\u001b[39m]\u001b[38;5;241m==\u001b[39m\u001b[38;5;124m\"\u001b[39m\u001b[38;5;124mkor\u001b[39m\u001b[38;5;124m\"\u001b[39m])\n\u001b[1;32m      5\u001b[0m \u001b[38;5;28mprint\u001b[39m()\n\u001b[0;32m----> 6\u001b[0m \u001b[38;5;28mprint\u001b[39m(df[df[\u001b[38;5;124m\"\u001b[39m\u001b[38;5;124mcountry\u001b[39m\u001b[38;5;124m\"\u001b[39m]\u001b[38;5;241m==\u001b[39m\u001b[38;5;124m\"\u001b[39m\u001b[38;5;124mkor\u001b[39m\u001b[38;5;124m\"\u001b[39m \u001b[38;5;129;01mor\u001b[39;00m df[\u001b[38;5;124m\"\u001b[39m\u001b[38;5;124mcountry\u001b[39m\u001b[38;5;124m\"\u001b[39m]\u001b[38;5;241m==\u001b[39m\u001b[38;5;124m\"\u001b[39m\u001b[38;5;124musa\u001b[39m\u001b[38;5;124m\"\u001b[39m])\n\u001b[1;32m      7\u001b[0m \u001b[38;5;28mprint\u001b[39m(df[(df[\u001b[38;5;124m\"\u001b[39m\u001b[38;5;124mcountry\u001b[39m\u001b[38;5;124m\"\u001b[39m]\u001b[38;5;241m==\u001b[39m\u001b[38;5;124m\"\u001b[39m\u001b[38;5;124mkor\u001b[39m\u001b[38;5;124m\"\u001b[39m) \u001b[38;5;241m|\u001b[39m (df[\u001b[38;5;124m\"\u001b[39m\u001b[38;5;124mcountry\u001b[39m\u001b[38;5;124m\"\u001b[39m]\u001b[38;5;241m==\u001b[39m\u001b[38;5;124m\"\u001b[39m\u001b[38;5;124musa\u001b[39m\u001b[38;5;124m\"\u001b[39m)])\n",
      "File \u001b[0;32m/opt/homebrew/Caskroom/miniconda/base/lib/python3.10/site-packages/pandas/core/generic.py:1527\u001b[0m, in \u001b[0;36mNDFrame.__nonzero__\u001b[0;34m(self)\u001b[0m\n\u001b[1;32m   1525\u001b[0m \u001b[38;5;129m@final\u001b[39m\n\u001b[1;32m   1526\u001b[0m \u001b[38;5;28;01mdef\u001b[39;00m \u001b[38;5;21m__nonzero__\u001b[39m(\u001b[38;5;28mself\u001b[39m) \u001b[38;5;241m-\u001b[39m\u001b[38;5;241m>\u001b[39m NoReturn:\n\u001b[0;32m-> 1527\u001b[0m     \u001b[38;5;28;01mraise\u001b[39;00m \u001b[38;5;167;01mValueError\u001b[39;00m(\n\u001b[1;32m   1528\u001b[0m         \u001b[38;5;124mf\u001b[39m\u001b[38;5;124m\"\u001b[39m\u001b[38;5;124mThe truth value of a \u001b[39m\u001b[38;5;132;01m{\u001b[39;00m\u001b[38;5;28mtype\u001b[39m(\u001b[38;5;28mself\u001b[39m)\u001b[38;5;241m.\u001b[39m\u001b[38;5;18m__name__\u001b[39m\u001b[38;5;132;01m}\u001b[39;00m\u001b[38;5;124m is ambiguous. \u001b[39m\u001b[38;5;124m\"\u001b[39m\n\u001b[1;32m   1529\u001b[0m         \u001b[38;5;124m\"\u001b[39m\u001b[38;5;124mUse a.empty, a.bool(), a.item(), a.any() or a.all().\u001b[39m\u001b[38;5;124m\"\u001b[39m\n\u001b[1;32m   1530\u001b[0m     )\n",
      "\u001b[0;31mValueError\u001b[0m: The truth value of a Series is ambiguous. Use a.empty, a.bool(), a.item(), a.any() or a.all()."
     ]
    }
   ],
   "source": [
    "# country 값이 kor, usa 인 값을 출력해 주세요\n",
    "print(df[\"country\"]==\"kor\")\n",
    "print()\n",
    "print(df[df[\"country\"]==\"kor\"])\n",
    "print()\n",
    "# print(df[df[\"country\"]==\"kor\" or df[\"country\"]==\"usa\"])\n",
    "print(df[(df[\"country\"]==\"kor\") | (df[\"country\"]==\"usa\")])"
   ]
  },
  {
   "cell_type": "code",
   "execution_count": 61,
   "id": "4a0ffb0e",
   "metadata": {},
   "outputs": [
    {
     "name": "stdout",
     "output_type": "stream",
     "text": [
      "a    False\n",
      "b    False\n",
      "c     True\n",
      "d     True\n",
      "Name: rank, dtype: bool\n",
      "  country  rank grade\n",
      "c   china     3     C\n",
      "d   japan     4     D\n"
     ]
    }
   ],
   "source": [
    "# rank 가 3보다 큰 겂을 찾아주세요\n",
    "\n",
    "print(df['rank']>2)\n",
    "print(df[df['rank']>2])"
   ]
  },
  {
   "cell_type": "code",
   "execution_count": 79,
   "id": "a6498226",
   "metadata": {},
   "outputs": [
    {
     "name": "stdout",
     "output_type": "stream",
     "text": [
      "  country  rank grade\n",
      "a     kor     1     A\n",
      "b     usa     2     B\n",
      "c   china     3     C\n",
      "d   japan     4     D\n",
      "\n",
      "country    kor\n",
      "rank         1\n",
      "grade        A\n",
      "Name: a, dtype: object\n",
      "\n",
      "  country  rank grade\n",
      "a     kor     1     A\n",
      "b     usa     2     B\n",
      "\n",
      "  country  rank grade\n",
      "a     kor     1     A\n",
      "b     usa     2     B\n",
      "c   china     3     C\n",
      "d   japan     4     D\n"
     ]
    }
   ],
   "source": [
    "# (3) iloc[인덱스, 컬럼인덱스] => location 위치 기반으로 데이터를 가져온다.\n",
    "print(df)\n",
    "print()\n",
    "# print(df.loc[0]) # -> 에러, loc뒤에는 인덱스\"명\", 컬럼\"명\"이 들어와야함\n",
    "print(df.iloc[0])\n",
    "print()\n",
    "print(df.iloc[0:2]) # 범위를 가져올 때도 범위를 챙겨야함\n",
    "print()\n",
    "print(df.iloc[:,:]) # iloc 사용할 땐 범위로 가져올 수 있다"
   ]
  },
  {
   "cell_type": "code",
   "execution_count": 81,
   "id": "6f2a7e5f",
   "metadata": {},
   "outputs": [
    {
     "name": "stdout",
     "output_type": "stream",
     "text": [
      "  country  rank grade\n",
      "0     kor     1     A\n",
      "1     usa     2     B\n",
      "2   china     3     C\n",
      "3   japan     4     D\n"
     ]
    }
   ],
   "source": [
    "new_df = df\n",
    "new_df.index = [0, 1, 2, 3]\n",
    "print(new_df)"
   ]
  },
  {
   "cell_type": "code",
   "execution_count": 85,
   "id": "3082e494",
   "metadata": {},
   "outputs": [
    {
     "name": "stdout",
     "output_type": "stream",
     "text": [
      "country    kor\n",
      "rank         1\n",
      "grade        A\n",
      "Name: 0, dtype: object\n",
      "\n",
      "  country  rank grade\n",
      "0     kor     1     A\n",
      "1     usa     2     B\n",
      "2   china     3     C\n",
      "3   japan     4     D\n",
      "\n",
      "  country  rank grade\n",
      "0     kor     1     A\n",
      "1     usa     2     B\n",
      "2   china     3     C\n"
     ]
    }
   ],
   "source": [
    "print(new_df.loc[0])\n",
    "print()\n",
    "print(new_df.loc[0:3]) # 인덱스명 -> 숫자\n",
    "print()\n",
    "print(new_df.iloc[0:3]) # 인덱스"
   ]
  },
  {
   "cell_type": "markdown",
   "id": "1e485fc3",
   "metadata": {},
   "source": [
    "## filter()를 통한 데이터 가져오기"
   ]
  },
  {
   "cell_type": "code",
   "execution_count": 96,
   "id": "8dbe6936",
   "metadata": {},
   "outputs": [
    {
     "name": "stdout",
     "output_type": "stream",
     "text": [
      "  country  rank grade\n",
      "0     kor     1     A\n",
      "1     usa     2     B\n",
      "2   china     3     C\n",
      "3   japan     4     D\n",
      "\n",
      "Empty DataFrame\n",
      "Columns: [country, rank, grade]\n",
      "Index: []\n",
      "\n"
     ]
    },
    {
     "data": {
      "text/html": [
       "<div>\n",
       "<style scoped>\n",
       "    .dataframe tbody tr th:only-of-type {\n",
       "        vertical-align: middle;\n",
       "    }\n",
       "\n",
       "    .dataframe tbody tr th {\n",
       "        vertical-align: top;\n",
       "    }\n",
       "\n",
       "    .dataframe thead th {\n",
       "        text-align: right;\n",
       "    }\n",
       "</style>\n",
       "<table border=\"1\" class=\"dataframe\">\n",
       "  <thead>\n",
       "    <tr style=\"text-align: right;\">\n",
       "      <th></th>\n",
       "      <th>country</th>\n",
       "      <th>rank</th>\n",
       "      <th>grade</th>\n",
       "    </tr>\n",
       "  </thead>\n",
       "  <tbody>\n",
       "    <tr>\n",
       "      <th>0</th>\n",
       "      <td>kor</td>\n",
       "      <td>1</td>\n",
       "      <td>A</td>\n",
       "    </tr>\n",
       "  </tbody>\n",
       "</table>\n",
       "</div>"
      ],
      "text/plain": [
       "  country  rank grade\n",
       "0     kor     1     A"
      ]
     },
     "execution_count": 96,
     "metadata": {},
     "output_type": "execute_result"
    }
   ],
   "source": [
    "print(df)\n",
    "print()\n",
    "print(df.filter(like = \"a\", axis = 0))\n",
    "print()\n",
    "df.filter(like = \"0\", axis = 0)"
   ]
  },
  {
   "cell_type": "code",
   "execution_count": 99,
   "id": "706ea1a6",
   "metadata": {},
   "outputs": [
    {
     "data": {
      "text/html": [
       "<div>\n",
       "<style scoped>\n",
       "    .dataframe tbody tr th:only-of-type {\n",
       "        vertical-align: middle;\n",
       "    }\n",
       "\n",
       "    .dataframe tbody tr th {\n",
       "        vertical-align: top;\n",
       "    }\n",
       "\n",
       "    .dataframe thead th {\n",
       "        text-align: right;\n",
       "    }\n",
       "</style>\n",
       "<table border=\"1\" class=\"dataframe\">\n",
       "  <thead>\n",
       "    <tr style=\"text-align: right;\">\n",
       "      <th></th>\n",
       "      <th>rank</th>\n",
       "      <th>grade</th>\n",
       "    </tr>\n",
       "  </thead>\n",
       "  <tbody>\n",
       "    <tr>\n",
       "      <th>0</th>\n",
       "      <td>1</td>\n",
       "      <td>A</td>\n",
       "    </tr>\n",
       "    <tr>\n",
       "      <th>1</th>\n",
       "      <td>2</td>\n",
       "      <td>B</td>\n",
       "    </tr>\n",
       "    <tr>\n",
       "      <th>2</th>\n",
       "      <td>3</td>\n",
       "      <td>C</td>\n",
       "    </tr>\n",
       "    <tr>\n",
       "      <th>3</th>\n",
       "      <td>4</td>\n",
       "      <td>D</td>\n",
       "    </tr>\n",
       "  </tbody>\n",
       "</table>\n",
       "</div>"
      ],
      "text/plain": [
       "   rank grade\n",
       "0     1     A\n",
       "1     2     B\n",
       "2     3     C\n",
       "3     4     D"
      ]
     },
     "execution_count": 99,
     "metadata": {},
     "output_type": "execute_result"
    }
   ],
   "source": [
    "df.filter(like = 'a', axis = 1) # 컬럼 값 중에서 a가 포함된 컬럼 찾아주세요"
   ]
  },
  {
   "cell_type": "code",
   "execution_count": 100,
   "id": "04bac717",
   "metadata": {},
   "outputs": [
    {
     "data": {
      "text/html": [
       "<div>\n",
       "<style scoped>\n",
       "    .dataframe tbody tr th:only-of-type {\n",
       "        vertical-align: middle;\n",
       "    }\n",
       "\n",
       "    .dataframe tbody tr th {\n",
       "        vertical-align: top;\n",
       "    }\n",
       "\n",
       "    .dataframe thead th {\n",
       "        text-align: right;\n",
       "    }\n",
       "</style>\n",
       "<table border=\"1\" class=\"dataframe\">\n",
       "  <thead>\n",
       "    <tr style=\"text-align: right;\">\n",
       "      <th></th>\n",
       "      <th>country</th>\n",
       "    </tr>\n",
       "  </thead>\n",
       "  <tbody>\n",
       "    <tr>\n",
       "      <th>0</th>\n",
       "      <td>kor</td>\n",
       "    </tr>\n",
       "    <tr>\n",
       "      <th>1</th>\n",
       "      <td>usa</td>\n",
       "    </tr>\n",
       "    <tr>\n",
       "      <th>2</th>\n",
       "      <td>china</td>\n",
       "    </tr>\n",
       "    <tr>\n",
       "      <th>3</th>\n",
       "      <td>japan</td>\n",
       "    </tr>\n",
       "  </tbody>\n",
       "</table>\n",
       "</div>"
      ],
      "text/plain": [
       "  country\n",
       "0     kor\n",
       "1     usa\n",
       "2   china\n",
       "3   japan"
      ]
     },
     "execution_count": 100,
     "metadata": {},
     "output_type": "execute_result"
    }
   ],
   "source": [
    "df.filter(like = 'c', axis = 1) # 컬럼 값 중 c가 포함된 컬럼 찾아주세요"
   ]
  },
  {
   "cell_type": "code",
   "execution_count": 104,
   "id": "edbdcb17",
   "metadata": {},
   "outputs": [
    {
     "name": "stdout",
     "output_type": "stream",
     "text": [
      "0       yoon\n",
      "1      biden\n",
      "2    jinping\n",
      "3    kishida\n",
      "dtype: object\n",
      "\n",
      "  country  rank grade president\n",
      "0     kor     1     A      yoon\n",
      "1     usa     2     B     biden\n",
      "2   china     3     C   jinping\n",
      "3   japan     4     D   kishida\n"
     ]
    }
   ],
   "source": [
    "president = pd.Series([\"yoon\",\"biden\",\"jinping\",\"kishida\"])\n",
    "print(president)\n",
    "print()\n",
    "\n",
    "df[\"president\"] = president\n",
    "print(df)\n",
    "# 기존에 있는 컬럼의 값들을 계산해서 => 또 다른 컬럼을 추가하는 것."
   ]
  },
  {
   "cell_type": "code",
   "execution_count": 118,
   "id": "ff1e03ad",
   "metadata": {},
   "outputs": [
    {
     "name": "stdout",
     "output_type": "stream",
     "text": [
      "     country  rank grade president   gdp  boolean_rank  etc\n",
      "0        kor     1     A      yoon  1000          True    0\n",
      "1        usa     2     B     biden  2000          True    0\n",
      "2      China     3     C   jinping  3000         False    0\n",
      "3      japan     4     D   kishida  4000         False    0\n",
      "7  singapore     5     E      jiao   NaN         False    0\n"
     ]
    }
   ],
   "source": [
    "gdp = pd.Series([\"1000\", \"2000\", \"3000\", \"4000\"])\n",
    "df[\"gdp\"] = gdp\n",
    "df[\"etc\"] = 0\n",
    "\n",
    "print(df)"
   ]
  },
  {
   "cell_type": "code",
   "execution_count": 123,
   "id": "22e76342",
   "metadata": {},
   "outputs": [
    {
     "name": "stdout",
     "output_type": "stream",
     "text": [
      "0     True\n",
      "1     True\n",
      "2    False\n",
      "3    False\n",
      "7    False\n",
      "Name: rank, dtype: bool\n",
      "\n",
      "     country  rank grade president   gdp  boolean_rank  etc\n",
      "0        kor     1     A      yoon  1000          True    0\n",
      "1        usa     2     B     biden  2000          True    0\n",
      "2      China     3     C   jinping  3000         False    0\n",
      "3      japan     4     D   kishida  4000         False    0\n",
      "7  singapore     5     E      jiao   NaN         False    0\n"
     ]
    }
   ],
   "source": [
    "print(df['rank'] < 3)\n",
    "df['boolean_rank'] = df['rank'] < 3\n",
    "\n",
    "print()\n",
    "\n",
    "print(df)"
   ]
  },
  {
   "cell_type": "code",
   "execution_count": 124,
   "id": "b61fa3ca",
   "metadata": {},
   "outputs": [
    {
     "data": {
      "text/plain": [
       "country          kor\n",
       "rank               1\n",
       "grade              A\n",
       "president       yoon\n",
       "gdp             1000\n",
       "boolean_rank    True\n",
       "etc                0\n",
       "Name: 0, dtype: object"
      ]
     },
     "execution_count": 124,
     "metadata": {},
     "output_type": "execute_result"
    }
   ],
   "source": [
    "df.loc[0]"
   ]
  },
  {
   "cell_type": "code",
   "execution_count": 125,
   "id": "d2330109",
   "metadata": {},
   "outputs": [
    {
     "name": "stdout",
     "output_type": "stream",
     "text": [
      "     country  rank grade president   gdp  boolean_rank  etc\n",
      "0        kor     1     A      yoon  1000          True    0\n",
      "1        usa     2     B     biden  2000          True    0\n",
      "2      China     3     C   jinping  3000         False    0\n",
      "3      japan     4     D   kishida  4000         False    0\n",
      "7  singapore     5     E      jiao  2000         False    0\n"
     ]
    }
   ],
   "source": [
    "df.loc[7] = ['singapore', 5, 'E', 'jiao', \"2000\", False, 0]\n",
    "print(df)"
   ]
  },
  {
   "cell_type": "code",
   "execution_count": 127,
   "id": "1c9ccaca",
   "metadata": {},
   "outputs": [
    {
     "name": "stdout",
     "output_type": "stream",
     "text": [
      "     country  rank grade president   gdp  boolean_rank  etc\n",
      "0        kor     1     A      yoon  1000          True    0\n",
      "1        usa     2     B     biden  2000          True    0\n",
      "2  Indonesia     3     E      dodo  1500         False    0\n",
      "3      japan     4     D   kishida  4000         False    0\n",
      "7  singapore     5     E      jiao  2000         False    0\n",
      "     country  rank grade president   gdp  boolean_rank  etc\n",
      "0        kor     1     A      yoon  1000          True    0\n",
      "1        usa     2     B     biden  2000          True    0\n",
      "2      China     3     C   jinping  3000         False    0\n",
      "3      japan     4     D   kishida  4000         False    0\n",
      "7  singapore     5     E      jiao  2000         False    0\n"
     ]
    }
   ],
   "source": [
    "df.iloc[2] = ['Indonesia', 3, 'E', 'dodo', \"1500\", False, 0]\n",
    "print(df)\n",
    "\n",
    "df.iloc[2] = ['China', 3, 'C', 'jinping', \"3000\", False, 0]\n",
    "print(df)"
   ]
  },
  {
   "cell_type": "code",
   "execution_count": 131,
   "id": "bfddac44",
   "metadata": {},
   "outputs": [
    {
     "name": "stdout",
     "output_type": "stream",
     "text": [
      "     country  rank grade president   gdp  boolean_rank  etc\n",
      "0        kor     1     A      yoon  1000          True    0\n",
      "1        usa     2     B     biden  2000          True    0\n",
      "2      China     3     C   jinping  3000         False    0\n",
      "3      japan     4     D   kishida  4000         False    0\n",
      "7  singapore     5     E      jiao  2000         False    0\n",
      "\n",
      "     country  rank grade president   gdp  boolean_rank  etc\n",
      "0        kor     1     A      yoon  1000          True    0\n",
      "1        usa     2     B     biden  2000          True    0\n",
      "2      China     3     C   jinping  3000         False    0\n",
      "3      japan     4     D   kishida  4000         False    0\n",
      "7  singapore     5     E      jiao  2000         False    0\n"
     ]
    }
   ],
   "source": [
    "# drop\n",
    "df.drop(3)\n",
    "print(df)\n",
    "print()\n",
    "df.drop('etc', axis=1)\n",
    "print(df)"
   ]
  },
  {
   "cell_type": "code",
   "execution_count": 132,
   "id": "e344b4d1",
   "metadata": {},
   "outputs": [
    {
     "name": "stdout",
     "output_type": "stream",
     "text": [
      "     country  rank grade president   gdp  boolean_rank  etc\n",
      "0        kor     1     A      yoon  1000          True    0\n",
      "1        usa     2     B     biden  2000          True    0\n",
      "2      China     3     C   jinping  3000         False    0\n",
      "7  singapore     5     E      jiao  2000         False    0\n"
     ]
    }
   ],
   "source": [
    "# inplace옵션\n",
    "df.drop(3, inplace=True) #정말로 삭제하시겠습니까? True = 네, False = 아니오\n",
    "print(df)"
   ]
  },
  {
   "cell_type": "code",
   "execution_count": 133,
   "id": "99b9658b",
   "metadata": {},
   "outputs": [
    {
     "name": "stdout",
     "output_type": "stream",
     "text": [
      "     country  rank grade president   gdp  boolean_rank  etc\n",
      "0        kor     1     A      yoon  1000          True    0\n",
      "1        usa     2     B     biden  2000          True    0\n",
      "2      China     3     C   jinping  3000         False    0\n",
      "7  singapore     5     E      jiao  2000         False    0\n"
     ]
    }
   ],
   "source": [
    "print(df)"
   ]
  },
  {
   "cell_type": "code",
   "execution_count": 134,
   "id": "b236cd03",
   "metadata": {},
   "outputs": [
    {
     "ename": "KeyError",
     "evalue": "'[3] not found in axis'",
     "output_type": "error",
     "traceback": [
      "\u001b[0;31m---------------------------------------------------------------------------\u001b[0m",
      "\u001b[0;31mKeyError\u001b[0m                                  Traceback (most recent call last)",
      "Cell \u001b[0;32mIn[134], line 1\u001b[0m\n\u001b[0;32m----> 1\u001b[0m new_df \u001b[38;5;241m=\u001b[39m \u001b[43mdf\u001b[49m\u001b[38;5;241;43m.\u001b[39;49m\u001b[43mdrop\u001b[49m\u001b[43m(\u001b[49m\u001b[38;5;241;43m3\u001b[39;49m\u001b[43m)\u001b[49m\n",
      "File \u001b[0;32m/opt/homebrew/Caskroom/miniconda/base/lib/python3.10/site-packages/pandas/util/_decorators.py:331\u001b[0m, in \u001b[0;36mdeprecate_nonkeyword_arguments.<locals>.decorate.<locals>.wrapper\u001b[0;34m(*args, **kwargs)\u001b[0m\n\u001b[1;32m    325\u001b[0m \u001b[38;5;28;01mif\u001b[39;00m \u001b[38;5;28mlen\u001b[39m(args) \u001b[38;5;241m>\u001b[39m num_allow_args:\n\u001b[1;32m    326\u001b[0m     warnings\u001b[38;5;241m.\u001b[39mwarn(\n\u001b[1;32m    327\u001b[0m         msg\u001b[38;5;241m.\u001b[39mformat(arguments\u001b[38;5;241m=\u001b[39m_format_argument_list(allow_args)),\n\u001b[1;32m    328\u001b[0m         \u001b[38;5;167;01mFutureWarning\u001b[39;00m,\n\u001b[1;32m    329\u001b[0m         stacklevel\u001b[38;5;241m=\u001b[39mfind_stack_level(),\n\u001b[1;32m    330\u001b[0m     )\n\u001b[0;32m--> 331\u001b[0m \u001b[38;5;28;01mreturn\u001b[39;00m \u001b[43mfunc\u001b[49m\u001b[43m(\u001b[49m\u001b[38;5;241;43m*\u001b[39;49m\u001b[43margs\u001b[49m\u001b[43m,\u001b[49m\u001b[43m \u001b[49m\u001b[38;5;241;43m*\u001b[39;49m\u001b[38;5;241;43m*\u001b[39;49m\u001b[43mkwargs\u001b[49m\u001b[43m)\u001b[49m\n",
      "File \u001b[0;32m/opt/homebrew/Caskroom/miniconda/base/lib/python3.10/site-packages/pandas/core/frame.py:5399\u001b[0m, in \u001b[0;36mDataFrame.drop\u001b[0;34m(self, labels, axis, index, columns, level, inplace, errors)\u001b[0m\n\u001b[1;32m   5251\u001b[0m \u001b[38;5;129m@deprecate_nonkeyword_arguments\u001b[39m(version\u001b[38;5;241m=\u001b[39m\u001b[38;5;28;01mNone\u001b[39;00m, allowed_args\u001b[38;5;241m=\u001b[39m[\u001b[38;5;124m\"\u001b[39m\u001b[38;5;124mself\u001b[39m\u001b[38;5;124m\"\u001b[39m, \u001b[38;5;124m\"\u001b[39m\u001b[38;5;124mlabels\u001b[39m\u001b[38;5;124m\"\u001b[39m])\n\u001b[1;32m   5252\u001b[0m \u001b[38;5;28;01mdef\u001b[39;00m \u001b[38;5;21mdrop\u001b[39m(  \u001b[38;5;66;03m# type: ignore[override]\u001b[39;00m\n\u001b[1;32m   5253\u001b[0m     \u001b[38;5;28mself\u001b[39m,\n\u001b[0;32m   (...)\u001b[0m\n\u001b[1;32m   5260\u001b[0m     errors: IgnoreRaise \u001b[38;5;241m=\u001b[39m \u001b[38;5;124m\"\u001b[39m\u001b[38;5;124mraise\u001b[39m\u001b[38;5;124m\"\u001b[39m,\n\u001b[1;32m   5261\u001b[0m ) \u001b[38;5;241m-\u001b[39m\u001b[38;5;241m>\u001b[39m DataFrame \u001b[38;5;241m|\u001b[39m \u001b[38;5;28;01mNone\u001b[39;00m:\n\u001b[1;32m   5262\u001b[0m     \u001b[38;5;124;03m\"\"\"\u001b[39;00m\n\u001b[1;32m   5263\u001b[0m \u001b[38;5;124;03m    Drop specified labels from rows or columns.\u001b[39;00m\n\u001b[1;32m   5264\u001b[0m \n\u001b[0;32m   (...)\u001b[0m\n\u001b[1;32m   5397\u001b[0m \u001b[38;5;124;03m            weight  1.0     0.8\u001b[39;00m\n\u001b[1;32m   5398\u001b[0m \u001b[38;5;124;03m    \"\"\"\u001b[39;00m\n\u001b[0;32m-> 5399\u001b[0m     \u001b[38;5;28;01mreturn\u001b[39;00m \u001b[38;5;28;43msuper\u001b[39;49m\u001b[43m(\u001b[49m\u001b[43m)\u001b[49m\u001b[38;5;241;43m.\u001b[39;49m\u001b[43mdrop\u001b[49m\u001b[43m(\u001b[49m\n\u001b[1;32m   5400\u001b[0m \u001b[43m        \u001b[49m\u001b[43mlabels\u001b[49m\u001b[38;5;241;43m=\u001b[39;49m\u001b[43mlabels\u001b[49m\u001b[43m,\u001b[49m\n\u001b[1;32m   5401\u001b[0m \u001b[43m        \u001b[49m\u001b[43maxis\u001b[49m\u001b[38;5;241;43m=\u001b[39;49m\u001b[43maxis\u001b[49m\u001b[43m,\u001b[49m\n\u001b[1;32m   5402\u001b[0m \u001b[43m        \u001b[49m\u001b[43mindex\u001b[49m\u001b[38;5;241;43m=\u001b[39;49m\u001b[43mindex\u001b[49m\u001b[43m,\u001b[49m\n\u001b[1;32m   5403\u001b[0m \u001b[43m        \u001b[49m\u001b[43mcolumns\u001b[49m\u001b[38;5;241;43m=\u001b[39;49m\u001b[43mcolumns\u001b[49m\u001b[43m,\u001b[49m\n\u001b[1;32m   5404\u001b[0m \u001b[43m        \u001b[49m\u001b[43mlevel\u001b[49m\u001b[38;5;241;43m=\u001b[39;49m\u001b[43mlevel\u001b[49m\u001b[43m,\u001b[49m\n\u001b[1;32m   5405\u001b[0m \u001b[43m        \u001b[49m\u001b[43minplace\u001b[49m\u001b[38;5;241;43m=\u001b[39;49m\u001b[43minplace\u001b[49m\u001b[43m,\u001b[49m\n\u001b[1;32m   5406\u001b[0m \u001b[43m        \u001b[49m\u001b[43merrors\u001b[49m\u001b[38;5;241;43m=\u001b[39;49m\u001b[43merrors\u001b[49m\u001b[43m,\u001b[49m\n\u001b[1;32m   5407\u001b[0m \u001b[43m    \u001b[49m\u001b[43m)\u001b[49m\n",
      "File \u001b[0;32m/opt/homebrew/Caskroom/miniconda/base/lib/python3.10/site-packages/pandas/util/_decorators.py:331\u001b[0m, in \u001b[0;36mdeprecate_nonkeyword_arguments.<locals>.decorate.<locals>.wrapper\u001b[0;34m(*args, **kwargs)\u001b[0m\n\u001b[1;32m    325\u001b[0m \u001b[38;5;28;01mif\u001b[39;00m \u001b[38;5;28mlen\u001b[39m(args) \u001b[38;5;241m>\u001b[39m num_allow_args:\n\u001b[1;32m    326\u001b[0m     warnings\u001b[38;5;241m.\u001b[39mwarn(\n\u001b[1;32m    327\u001b[0m         msg\u001b[38;5;241m.\u001b[39mformat(arguments\u001b[38;5;241m=\u001b[39m_format_argument_list(allow_args)),\n\u001b[1;32m    328\u001b[0m         \u001b[38;5;167;01mFutureWarning\u001b[39;00m,\n\u001b[1;32m    329\u001b[0m         stacklevel\u001b[38;5;241m=\u001b[39mfind_stack_level(),\n\u001b[1;32m    330\u001b[0m     )\n\u001b[0;32m--> 331\u001b[0m \u001b[38;5;28;01mreturn\u001b[39;00m \u001b[43mfunc\u001b[49m\u001b[43m(\u001b[49m\u001b[38;5;241;43m*\u001b[39;49m\u001b[43margs\u001b[49m\u001b[43m,\u001b[49m\u001b[43m \u001b[49m\u001b[38;5;241;43m*\u001b[39;49m\u001b[38;5;241;43m*\u001b[39;49m\u001b[43mkwargs\u001b[49m\u001b[43m)\u001b[49m\n",
      "File \u001b[0;32m/opt/homebrew/Caskroom/miniconda/base/lib/python3.10/site-packages/pandas/core/generic.py:4505\u001b[0m, in \u001b[0;36mNDFrame.drop\u001b[0;34m(self, labels, axis, index, columns, level, inplace, errors)\u001b[0m\n\u001b[1;32m   4503\u001b[0m \u001b[38;5;28;01mfor\u001b[39;00m axis, labels \u001b[38;5;129;01min\u001b[39;00m axes\u001b[38;5;241m.\u001b[39mitems():\n\u001b[1;32m   4504\u001b[0m     \u001b[38;5;28;01mif\u001b[39;00m labels \u001b[38;5;129;01mis\u001b[39;00m \u001b[38;5;129;01mnot\u001b[39;00m \u001b[38;5;28;01mNone\u001b[39;00m:\n\u001b[0;32m-> 4505\u001b[0m         obj \u001b[38;5;241m=\u001b[39m \u001b[43mobj\u001b[49m\u001b[38;5;241;43m.\u001b[39;49m\u001b[43m_drop_axis\u001b[49m\u001b[43m(\u001b[49m\u001b[43mlabels\u001b[49m\u001b[43m,\u001b[49m\u001b[43m \u001b[49m\u001b[43maxis\u001b[49m\u001b[43m,\u001b[49m\u001b[43m \u001b[49m\u001b[43mlevel\u001b[49m\u001b[38;5;241;43m=\u001b[39;49m\u001b[43mlevel\u001b[49m\u001b[43m,\u001b[49m\u001b[43m \u001b[49m\u001b[43merrors\u001b[49m\u001b[38;5;241;43m=\u001b[39;49m\u001b[43merrors\u001b[49m\u001b[43m)\u001b[49m\n\u001b[1;32m   4507\u001b[0m \u001b[38;5;28;01mif\u001b[39;00m inplace:\n\u001b[1;32m   4508\u001b[0m     \u001b[38;5;28mself\u001b[39m\u001b[38;5;241m.\u001b[39m_update_inplace(obj)\n",
      "File \u001b[0;32m/opt/homebrew/Caskroom/miniconda/base/lib/python3.10/site-packages/pandas/core/generic.py:4546\u001b[0m, in \u001b[0;36mNDFrame._drop_axis\u001b[0;34m(self, labels, axis, level, errors, only_slice)\u001b[0m\n\u001b[1;32m   4544\u001b[0m         new_axis \u001b[38;5;241m=\u001b[39m axis\u001b[38;5;241m.\u001b[39mdrop(labels, level\u001b[38;5;241m=\u001b[39mlevel, errors\u001b[38;5;241m=\u001b[39merrors)\n\u001b[1;32m   4545\u001b[0m     \u001b[38;5;28;01melse\u001b[39;00m:\n\u001b[0;32m-> 4546\u001b[0m         new_axis \u001b[38;5;241m=\u001b[39m \u001b[43maxis\u001b[49m\u001b[38;5;241;43m.\u001b[39;49m\u001b[43mdrop\u001b[49m\u001b[43m(\u001b[49m\u001b[43mlabels\u001b[49m\u001b[43m,\u001b[49m\u001b[43m \u001b[49m\u001b[43merrors\u001b[49m\u001b[38;5;241;43m=\u001b[39;49m\u001b[43merrors\u001b[49m\u001b[43m)\u001b[49m\n\u001b[1;32m   4547\u001b[0m     indexer \u001b[38;5;241m=\u001b[39m axis\u001b[38;5;241m.\u001b[39mget_indexer(new_axis)\n\u001b[1;32m   4549\u001b[0m \u001b[38;5;66;03m# Case for non-unique axis\u001b[39;00m\n\u001b[1;32m   4550\u001b[0m \u001b[38;5;28;01melse\u001b[39;00m:\n",
      "File \u001b[0;32m/opt/homebrew/Caskroom/miniconda/base/lib/python3.10/site-packages/pandas/core/indexes/base.py:6934\u001b[0m, in \u001b[0;36mIndex.drop\u001b[0;34m(self, labels, errors)\u001b[0m\n\u001b[1;32m   6932\u001b[0m \u001b[38;5;28;01mif\u001b[39;00m mask\u001b[38;5;241m.\u001b[39many():\n\u001b[1;32m   6933\u001b[0m     \u001b[38;5;28;01mif\u001b[39;00m errors \u001b[38;5;241m!=\u001b[39m \u001b[38;5;124m\"\u001b[39m\u001b[38;5;124mignore\u001b[39m\u001b[38;5;124m\"\u001b[39m:\n\u001b[0;32m-> 6934\u001b[0m         \u001b[38;5;28;01mraise\u001b[39;00m \u001b[38;5;167;01mKeyError\u001b[39;00m(\u001b[38;5;124mf\u001b[39m\u001b[38;5;124m\"\u001b[39m\u001b[38;5;132;01m{\u001b[39;00m\u001b[38;5;28mlist\u001b[39m(labels[mask])\u001b[38;5;132;01m}\u001b[39;00m\u001b[38;5;124m not found in axis\u001b[39m\u001b[38;5;124m\"\u001b[39m)\n\u001b[1;32m   6935\u001b[0m     indexer \u001b[38;5;241m=\u001b[39m indexer[\u001b[38;5;241m~\u001b[39mmask]\n\u001b[1;32m   6936\u001b[0m \u001b[38;5;28;01mreturn\u001b[39;00m \u001b[38;5;28mself\u001b[39m\u001b[38;5;241m.\u001b[39mdelete(indexer)\n",
      "\u001b[0;31mKeyError\u001b[0m: '[3] not found in axis'"
     ]
    }
   ],
   "source": [
    "new_df = df.drop(3) # 이미 지웠기 때문에 에러가 남"
   ]
  },
  {
   "cell_type": "code",
   "execution_count": 136,
   "id": "572ebf39",
   "metadata": {},
   "outputs": [
    {
     "name": "stdout",
     "output_type": "stream",
     "text": [
      "     country  rank grade president   gdp  boolean_rank  etc\n",
      "1        usa     2     B     biden  2000          True    0\n",
      "2      China     3     C   jinping  3000         False    0\n",
      "7  singapore     5     E      jiao  2000         False    0\n"
     ]
    },
    {
     "ename": "KeyError",
     "evalue": "'[3] not found in axis'",
     "output_type": "error",
     "traceback": [
      "\u001b[0;31m---------------------------------------------------------------------------\u001b[0m",
      "\u001b[0;31mKeyError\u001b[0m                                  Traceback (most recent call last)",
      "Cell \u001b[0;32mIn[136], line 4\u001b[0m\n\u001b[1;32m      1\u001b[0m new_df \u001b[38;5;241m=\u001b[39m df\u001b[38;5;241m.\u001b[39mdrop(\u001b[38;5;241m0\u001b[39m)\n\u001b[1;32m      2\u001b[0m \u001b[38;5;28mprint\u001b[39m(new_df)\n\u001b[0;32m----> 4\u001b[0m new_df \u001b[38;5;241m=\u001b[39m \u001b[43mdf\u001b[49m\u001b[38;5;241;43m.\u001b[39;49m\u001b[43mdrop\u001b[49m\u001b[43m(\u001b[49m\u001b[38;5;241;43m3\u001b[39;49m\u001b[43m)\u001b[49m\n",
      "File \u001b[0;32m/opt/homebrew/Caskroom/miniconda/base/lib/python3.10/site-packages/pandas/util/_decorators.py:331\u001b[0m, in \u001b[0;36mdeprecate_nonkeyword_arguments.<locals>.decorate.<locals>.wrapper\u001b[0;34m(*args, **kwargs)\u001b[0m\n\u001b[1;32m    325\u001b[0m \u001b[38;5;28;01mif\u001b[39;00m \u001b[38;5;28mlen\u001b[39m(args) \u001b[38;5;241m>\u001b[39m num_allow_args:\n\u001b[1;32m    326\u001b[0m     warnings\u001b[38;5;241m.\u001b[39mwarn(\n\u001b[1;32m    327\u001b[0m         msg\u001b[38;5;241m.\u001b[39mformat(arguments\u001b[38;5;241m=\u001b[39m_format_argument_list(allow_args)),\n\u001b[1;32m    328\u001b[0m         \u001b[38;5;167;01mFutureWarning\u001b[39;00m,\n\u001b[1;32m    329\u001b[0m         stacklevel\u001b[38;5;241m=\u001b[39mfind_stack_level(),\n\u001b[1;32m    330\u001b[0m     )\n\u001b[0;32m--> 331\u001b[0m \u001b[38;5;28;01mreturn\u001b[39;00m \u001b[43mfunc\u001b[49m\u001b[43m(\u001b[49m\u001b[38;5;241;43m*\u001b[39;49m\u001b[43margs\u001b[49m\u001b[43m,\u001b[49m\u001b[43m \u001b[49m\u001b[38;5;241;43m*\u001b[39;49m\u001b[38;5;241;43m*\u001b[39;49m\u001b[43mkwargs\u001b[49m\u001b[43m)\u001b[49m\n",
      "File \u001b[0;32m/opt/homebrew/Caskroom/miniconda/base/lib/python3.10/site-packages/pandas/core/frame.py:5399\u001b[0m, in \u001b[0;36mDataFrame.drop\u001b[0;34m(self, labels, axis, index, columns, level, inplace, errors)\u001b[0m\n\u001b[1;32m   5251\u001b[0m \u001b[38;5;129m@deprecate_nonkeyword_arguments\u001b[39m(version\u001b[38;5;241m=\u001b[39m\u001b[38;5;28;01mNone\u001b[39;00m, allowed_args\u001b[38;5;241m=\u001b[39m[\u001b[38;5;124m\"\u001b[39m\u001b[38;5;124mself\u001b[39m\u001b[38;5;124m\"\u001b[39m, \u001b[38;5;124m\"\u001b[39m\u001b[38;5;124mlabels\u001b[39m\u001b[38;5;124m\"\u001b[39m])\n\u001b[1;32m   5252\u001b[0m \u001b[38;5;28;01mdef\u001b[39;00m \u001b[38;5;21mdrop\u001b[39m(  \u001b[38;5;66;03m# type: ignore[override]\u001b[39;00m\n\u001b[1;32m   5253\u001b[0m     \u001b[38;5;28mself\u001b[39m,\n\u001b[0;32m   (...)\u001b[0m\n\u001b[1;32m   5260\u001b[0m     errors: IgnoreRaise \u001b[38;5;241m=\u001b[39m \u001b[38;5;124m\"\u001b[39m\u001b[38;5;124mraise\u001b[39m\u001b[38;5;124m\"\u001b[39m,\n\u001b[1;32m   5261\u001b[0m ) \u001b[38;5;241m-\u001b[39m\u001b[38;5;241m>\u001b[39m DataFrame \u001b[38;5;241m|\u001b[39m \u001b[38;5;28;01mNone\u001b[39;00m:\n\u001b[1;32m   5262\u001b[0m     \u001b[38;5;124;03m\"\"\"\u001b[39;00m\n\u001b[1;32m   5263\u001b[0m \u001b[38;5;124;03m    Drop specified labels from rows or columns.\u001b[39;00m\n\u001b[1;32m   5264\u001b[0m \n\u001b[0;32m   (...)\u001b[0m\n\u001b[1;32m   5397\u001b[0m \u001b[38;5;124;03m            weight  1.0     0.8\u001b[39;00m\n\u001b[1;32m   5398\u001b[0m \u001b[38;5;124;03m    \"\"\"\u001b[39;00m\n\u001b[0;32m-> 5399\u001b[0m     \u001b[38;5;28;01mreturn\u001b[39;00m \u001b[38;5;28;43msuper\u001b[39;49m\u001b[43m(\u001b[49m\u001b[43m)\u001b[49m\u001b[38;5;241;43m.\u001b[39;49m\u001b[43mdrop\u001b[49m\u001b[43m(\u001b[49m\n\u001b[1;32m   5400\u001b[0m \u001b[43m        \u001b[49m\u001b[43mlabels\u001b[49m\u001b[38;5;241;43m=\u001b[39;49m\u001b[43mlabels\u001b[49m\u001b[43m,\u001b[49m\n\u001b[1;32m   5401\u001b[0m \u001b[43m        \u001b[49m\u001b[43maxis\u001b[49m\u001b[38;5;241;43m=\u001b[39;49m\u001b[43maxis\u001b[49m\u001b[43m,\u001b[49m\n\u001b[1;32m   5402\u001b[0m \u001b[43m        \u001b[49m\u001b[43mindex\u001b[49m\u001b[38;5;241;43m=\u001b[39;49m\u001b[43mindex\u001b[49m\u001b[43m,\u001b[49m\n\u001b[1;32m   5403\u001b[0m \u001b[43m        \u001b[49m\u001b[43mcolumns\u001b[49m\u001b[38;5;241;43m=\u001b[39;49m\u001b[43mcolumns\u001b[49m\u001b[43m,\u001b[49m\n\u001b[1;32m   5404\u001b[0m \u001b[43m        \u001b[49m\u001b[43mlevel\u001b[49m\u001b[38;5;241;43m=\u001b[39;49m\u001b[43mlevel\u001b[49m\u001b[43m,\u001b[49m\n\u001b[1;32m   5405\u001b[0m \u001b[43m        \u001b[49m\u001b[43minplace\u001b[49m\u001b[38;5;241;43m=\u001b[39;49m\u001b[43minplace\u001b[49m\u001b[43m,\u001b[49m\n\u001b[1;32m   5406\u001b[0m \u001b[43m        \u001b[49m\u001b[43merrors\u001b[49m\u001b[38;5;241;43m=\u001b[39;49m\u001b[43merrors\u001b[49m\u001b[43m,\u001b[49m\n\u001b[1;32m   5407\u001b[0m \u001b[43m    \u001b[49m\u001b[43m)\u001b[49m\n",
      "File \u001b[0;32m/opt/homebrew/Caskroom/miniconda/base/lib/python3.10/site-packages/pandas/util/_decorators.py:331\u001b[0m, in \u001b[0;36mdeprecate_nonkeyword_arguments.<locals>.decorate.<locals>.wrapper\u001b[0;34m(*args, **kwargs)\u001b[0m\n\u001b[1;32m    325\u001b[0m \u001b[38;5;28;01mif\u001b[39;00m \u001b[38;5;28mlen\u001b[39m(args) \u001b[38;5;241m>\u001b[39m num_allow_args:\n\u001b[1;32m    326\u001b[0m     warnings\u001b[38;5;241m.\u001b[39mwarn(\n\u001b[1;32m    327\u001b[0m         msg\u001b[38;5;241m.\u001b[39mformat(arguments\u001b[38;5;241m=\u001b[39m_format_argument_list(allow_args)),\n\u001b[1;32m    328\u001b[0m         \u001b[38;5;167;01mFutureWarning\u001b[39;00m,\n\u001b[1;32m    329\u001b[0m         stacklevel\u001b[38;5;241m=\u001b[39mfind_stack_level(),\n\u001b[1;32m    330\u001b[0m     )\n\u001b[0;32m--> 331\u001b[0m \u001b[38;5;28;01mreturn\u001b[39;00m \u001b[43mfunc\u001b[49m\u001b[43m(\u001b[49m\u001b[38;5;241;43m*\u001b[39;49m\u001b[43margs\u001b[49m\u001b[43m,\u001b[49m\u001b[43m \u001b[49m\u001b[38;5;241;43m*\u001b[39;49m\u001b[38;5;241;43m*\u001b[39;49m\u001b[43mkwargs\u001b[49m\u001b[43m)\u001b[49m\n",
      "File \u001b[0;32m/opt/homebrew/Caskroom/miniconda/base/lib/python3.10/site-packages/pandas/core/generic.py:4505\u001b[0m, in \u001b[0;36mNDFrame.drop\u001b[0;34m(self, labels, axis, index, columns, level, inplace, errors)\u001b[0m\n\u001b[1;32m   4503\u001b[0m \u001b[38;5;28;01mfor\u001b[39;00m axis, labels \u001b[38;5;129;01min\u001b[39;00m axes\u001b[38;5;241m.\u001b[39mitems():\n\u001b[1;32m   4504\u001b[0m     \u001b[38;5;28;01mif\u001b[39;00m labels \u001b[38;5;129;01mis\u001b[39;00m \u001b[38;5;129;01mnot\u001b[39;00m \u001b[38;5;28;01mNone\u001b[39;00m:\n\u001b[0;32m-> 4505\u001b[0m         obj \u001b[38;5;241m=\u001b[39m \u001b[43mobj\u001b[49m\u001b[38;5;241;43m.\u001b[39;49m\u001b[43m_drop_axis\u001b[49m\u001b[43m(\u001b[49m\u001b[43mlabels\u001b[49m\u001b[43m,\u001b[49m\u001b[43m \u001b[49m\u001b[43maxis\u001b[49m\u001b[43m,\u001b[49m\u001b[43m \u001b[49m\u001b[43mlevel\u001b[49m\u001b[38;5;241;43m=\u001b[39;49m\u001b[43mlevel\u001b[49m\u001b[43m,\u001b[49m\u001b[43m \u001b[49m\u001b[43merrors\u001b[49m\u001b[38;5;241;43m=\u001b[39;49m\u001b[43merrors\u001b[49m\u001b[43m)\u001b[49m\n\u001b[1;32m   4507\u001b[0m \u001b[38;5;28;01mif\u001b[39;00m inplace:\n\u001b[1;32m   4508\u001b[0m     \u001b[38;5;28mself\u001b[39m\u001b[38;5;241m.\u001b[39m_update_inplace(obj)\n",
      "File \u001b[0;32m/opt/homebrew/Caskroom/miniconda/base/lib/python3.10/site-packages/pandas/core/generic.py:4546\u001b[0m, in \u001b[0;36mNDFrame._drop_axis\u001b[0;34m(self, labels, axis, level, errors, only_slice)\u001b[0m\n\u001b[1;32m   4544\u001b[0m         new_axis \u001b[38;5;241m=\u001b[39m axis\u001b[38;5;241m.\u001b[39mdrop(labels, level\u001b[38;5;241m=\u001b[39mlevel, errors\u001b[38;5;241m=\u001b[39merrors)\n\u001b[1;32m   4545\u001b[0m     \u001b[38;5;28;01melse\u001b[39;00m:\n\u001b[0;32m-> 4546\u001b[0m         new_axis \u001b[38;5;241m=\u001b[39m \u001b[43maxis\u001b[49m\u001b[38;5;241;43m.\u001b[39;49m\u001b[43mdrop\u001b[49m\u001b[43m(\u001b[49m\u001b[43mlabels\u001b[49m\u001b[43m,\u001b[49m\u001b[43m \u001b[49m\u001b[43merrors\u001b[49m\u001b[38;5;241;43m=\u001b[39;49m\u001b[43merrors\u001b[49m\u001b[43m)\u001b[49m\n\u001b[1;32m   4547\u001b[0m     indexer \u001b[38;5;241m=\u001b[39m axis\u001b[38;5;241m.\u001b[39mget_indexer(new_axis)\n\u001b[1;32m   4549\u001b[0m \u001b[38;5;66;03m# Case for non-unique axis\u001b[39;00m\n\u001b[1;32m   4550\u001b[0m \u001b[38;5;28;01melse\u001b[39;00m:\n",
      "File \u001b[0;32m/opt/homebrew/Caskroom/miniconda/base/lib/python3.10/site-packages/pandas/core/indexes/base.py:6934\u001b[0m, in \u001b[0;36mIndex.drop\u001b[0;34m(self, labels, errors)\u001b[0m\n\u001b[1;32m   6932\u001b[0m \u001b[38;5;28;01mif\u001b[39;00m mask\u001b[38;5;241m.\u001b[39many():\n\u001b[1;32m   6933\u001b[0m     \u001b[38;5;28;01mif\u001b[39;00m errors \u001b[38;5;241m!=\u001b[39m \u001b[38;5;124m\"\u001b[39m\u001b[38;5;124mignore\u001b[39m\u001b[38;5;124m\"\u001b[39m:\n\u001b[0;32m-> 6934\u001b[0m         \u001b[38;5;28;01mraise\u001b[39;00m \u001b[38;5;167;01mKeyError\u001b[39;00m(\u001b[38;5;124mf\u001b[39m\u001b[38;5;124m\"\u001b[39m\u001b[38;5;132;01m{\u001b[39;00m\u001b[38;5;28mlist\u001b[39m(labels[mask])\u001b[38;5;132;01m}\u001b[39;00m\u001b[38;5;124m not found in axis\u001b[39m\u001b[38;5;124m\"\u001b[39m)\n\u001b[1;32m   6935\u001b[0m     indexer \u001b[38;5;241m=\u001b[39m indexer[\u001b[38;5;241m~\u001b[39mmask]\n\u001b[1;32m   6936\u001b[0m \u001b[38;5;28;01mreturn\u001b[39;00m \u001b[38;5;28mself\u001b[39m\u001b[38;5;241m.\u001b[39mdelete(indexer)\n",
      "\u001b[0;31mKeyError\u001b[0m: '[3] not found in axis'"
     ]
    }
   ],
   "source": [
    "new_df = df.drop(0)\n",
    "print(new_df)\n",
    "\n",
    "new_df = df.drop(3)"
   ]
  },
  {
   "cell_type": "markdown",
   "id": "89e107e8",
   "metadata": {},
   "source": [
    "## 집합함수 (Aggregation)\n",
    "- df.sum()\n",
    "- df.mean()\n",
    "- df.min()\n",
    "- df. max()\n",
    "- df. describe()\n",
    "\n",
    "- df.unique()\n",
    "- df.nunique()"
   ]
  },
  {
   "cell_type": "code",
   "execution_count": 137,
   "id": "4a5c9651",
   "metadata": {},
   "outputs": [
    {
     "data": {
      "text/plain": [
       "country         korusaChinasingapore\n",
       "rank                              11\n",
       "grade                           ABCE\n",
       "president       yoonbidenjinpingjiao\n",
       "gdp                 1000200030002000\n",
       "boolean_rank                       2\n",
       "etc                                0\n",
       "dtype: object"
      ]
     },
     "execution_count": 137,
     "metadata": {},
     "output_type": "execute_result"
    }
   ],
   "source": [
    "df.sum()"
   ]
  },
  {
   "cell_type": "code",
   "execution_count": 158,
   "id": "2b98b8f5",
   "metadata": {},
   "outputs": [
    {
     "name": "stdout",
     "output_type": "stream",
     "text": [
      "rank            2.750000e+00\n",
      "gdp             2.500500e+14\n",
      "boolean_rank    5.000000e-01\n",
      "etc             0.000000e+00\n",
      "check                    NaN\n",
      "dtype: float64\n",
      "\n",
      "rank            2.75\n",
      "boolean_rank    0.50\n",
      "etc             0.00\n",
      "check            NaN\n",
      "dtype: float64\n"
     ]
    },
    {
     "name": "stderr",
     "output_type": "stream",
     "text": [
      "/var/folders/0t/816d84452dn7h591gjkg32_m0000gn/T/ipykernel_4365/1952998678.py:1: FutureWarning: The default value of numeric_only in DataFrame.mean is deprecated. In a future version, it will default to False. In addition, specifying 'numeric_only=None' is deprecated. Select only valid columns or specify the value of numeric_only to silence this warning.\n",
      "  print(df.mean())\n"
     ]
    }
   ],
   "source": [
    "print(df.mean())\n"
   ]
  },
  {
   "cell_type": "code",
   "execution_count": 159,
   "id": "f7422efd",
   "metadata": {},
   "outputs": [
    {
     "name": "stdout",
     "output_type": "stream",
     "text": [
      "rank            2.75\n",
      "boolean_rank    0.50\n",
      "etc             0.00\n",
      "check            NaN\n",
      "dtype: float64\n"
     ]
    }
   ],
   "source": [
    "print(df.mean(numeric_only= True))"
   ]
  },
  {
   "cell_type": "code",
   "execution_count": 139,
   "id": "06a1c81d",
   "metadata": {},
   "outputs": [
    {
     "data": {
      "text/plain": [
       "country          usa\n",
       "rank               5\n",
       "grade              E\n",
       "president       yoon\n",
       "gdp             3000\n",
       "boolean_rank    True\n",
       "etc                0\n",
       "dtype: object"
      ]
     },
     "execution_count": 139,
     "metadata": {},
     "output_type": "execute_result"
    }
   ],
   "source": [
    "df.max()"
   ]
  },
  {
   "cell_type": "code",
   "execution_count": 140,
   "id": "bc11b11b",
   "metadata": {},
   "outputs": [
    {
     "data": {
      "text/plain": [
       "country         China\n",
       "rank                1\n",
       "grade               A\n",
       "president       biden\n",
       "gdp              1000\n",
       "boolean_rank    False\n",
       "etc                 0\n",
       "dtype: object"
      ]
     },
     "execution_count": 140,
     "metadata": {},
     "output_type": "execute_result"
    }
   ],
   "source": [
    "df.min()"
   ]
  },
  {
   "cell_type": "code",
   "execution_count": 141,
   "id": "e8845df4",
   "metadata": {},
   "outputs": [
    {
     "data": {
      "text/html": [
       "<div>\n",
       "<style scoped>\n",
       "    .dataframe tbody tr th:only-of-type {\n",
       "        vertical-align: middle;\n",
       "    }\n",
       "\n",
       "    .dataframe tbody tr th {\n",
       "        vertical-align: top;\n",
       "    }\n",
       "\n",
       "    .dataframe thead th {\n",
       "        text-align: right;\n",
       "    }\n",
       "</style>\n",
       "<table border=\"1\" class=\"dataframe\">\n",
       "  <thead>\n",
       "    <tr style=\"text-align: right;\">\n",
       "      <th></th>\n",
       "      <th>rank</th>\n",
       "      <th>etc</th>\n",
       "    </tr>\n",
       "  </thead>\n",
       "  <tbody>\n",
       "    <tr>\n",
       "      <th>count</th>\n",
       "      <td>4.000000</td>\n",
       "      <td>4.0</td>\n",
       "    </tr>\n",
       "    <tr>\n",
       "      <th>mean</th>\n",
       "      <td>2.750000</td>\n",
       "      <td>0.0</td>\n",
       "    </tr>\n",
       "    <tr>\n",
       "      <th>std</th>\n",
       "      <td>1.707825</td>\n",
       "      <td>0.0</td>\n",
       "    </tr>\n",
       "    <tr>\n",
       "      <th>min</th>\n",
       "      <td>1.000000</td>\n",
       "      <td>0.0</td>\n",
       "    </tr>\n",
       "    <tr>\n",
       "      <th>25%</th>\n",
       "      <td>1.750000</td>\n",
       "      <td>0.0</td>\n",
       "    </tr>\n",
       "    <tr>\n",
       "      <th>50%</th>\n",
       "      <td>2.500000</td>\n",
       "      <td>0.0</td>\n",
       "    </tr>\n",
       "    <tr>\n",
       "      <th>75%</th>\n",
       "      <td>3.500000</td>\n",
       "      <td>0.0</td>\n",
       "    </tr>\n",
       "    <tr>\n",
       "      <th>max</th>\n",
       "      <td>5.000000</td>\n",
       "      <td>0.0</td>\n",
       "    </tr>\n",
       "  </tbody>\n",
       "</table>\n",
       "</div>"
      ],
      "text/plain": [
       "           rank  etc\n",
       "count  4.000000  4.0\n",
       "mean   2.750000  0.0\n",
       "std    1.707825  0.0\n",
       "min    1.000000  0.0\n",
       "25%    1.750000  0.0\n",
       "50%    2.500000  0.0\n",
       "75%    3.500000  0.0\n",
       "max    5.000000  0.0"
      ]
     },
     "execution_count": 141,
     "metadata": {},
     "output_type": "execute_result"
    }
   ],
   "source": [
    "df.describe()"
   ]
  },
  {
   "cell_type": "code",
   "execution_count": 142,
   "id": "a049b49b",
   "metadata": {},
   "outputs": [
    {
     "name": "stdout",
     "output_type": "stream",
     "text": [
      "<class 'pandas.core.frame.DataFrame'>\n",
      "Int64Index: 4 entries, 0 to 7\n",
      "Data columns (total 7 columns):\n",
      " #   Column        Non-Null Count  Dtype \n",
      "---  ------        --------------  ----- \n",
      " 0   country       4 non-null      object\n",
      " 1   rank          4 non-null      int64 \n",
      " 2   grade         4 non-null      object\n",
      " 3   president     4 non-null      object\n",
      " 4   gdp           4 non-null      object\n",
      " 5   boolean_rank  4 non-null      bool  \n",
      " 6   etc           4 non-null      int64 \n",
      "dtypes: bool(1), int64(2), object(4)\n",
      "memory usage: 400.0+ bytes\n"
     ]
    }
   ],
   "source": [
    "df.info()"
   ]
  },
  {
   "cell_type": "code",
   "execution_count": 143,
   "id": "9ff2e0ee",
   "metadata": {},
   "outputs": [
    {
     "ename": "AttributeError",
     "evalue": "'DataFrame' object has no attribute 'unique'",
     "output_type": "error",
     "traceback": [
      "\u001b[0;31m---------------------------------------------------------------------------\u001b[0m",
      "\u001b[0;31mAttributeError\u001b[0m                            Traceback (most recent call last)",
      "Cell \u001b[0;32mIn[143], line 1\u001b[0m\n\u001b[0;32m----> 1\u001b[0m \u001b[43mdf\u001b[49m\u001b[38;5;241;43m.\u001b[39;49m\u001b[43munique\u001b[49m()\n",
      "File \u001b[0;32m/opt/homebrew/Caskroom/miniconda/base/lib/python3.10/site-packages/pandas/core/generic.py:5902\u001b[0m, in \u001b[0;36mNDFrame.__getattr__\u001b[0;34m(self, name)\u001b[0m\n\u001b[1;32m   5895\u001b[0m \u001b[38;5;28;01mif\u001b[39;00m (\n\u001b[1;32m   5896\u001b[0m     name \u001b[38;5;129;01mnot\u001b[39;00m \u001b[38;5;129;01min\u001b[39;00m \u001b[38;5;28mself\u001b[39m\u001b[38;5;241m.\u001b[39m_internal_names_set\n\u001b[1;32m   5897\u001b[0m     \u001b[38;5;129;01mand\u001b[39;00m name \u001b[38;5;129;01mnot\u001b[39;00m \u001b[38;5;129;01min\u001b[39;00m \u001b[38;5;28mself\u001b[39m\u001b[38;5;241m.\u001b[39m_metadata\n\u001b[1;32m   5898\u001b[0m     \u001b[38;5;129;01mand\u001b[39;00m name \u001b[38;5;129;01mnot\u001b[39;00m \u001b[38;5;129;01min\u001b[39;00m \u001b[38;5;28mself\u001b[39m\u001b[38;5;241m.\u001b[39m_accessors\n\u001b[1;32m   5899\u001b[0m     \u001b[38;5;129;01mand\u001b[39;00m \u001b[38;5;28mself\u001b[39m\u001b[38;5;241m.\u001b[39m_info_axis\u001b[38;5;241m.\u001b[39m_can_hold_identifiers_and_holds_name(name)\n\u001b[1;32m   5900\u001b[0m ):\n\u001b[1;32m   5901\u001b[0m     \u001b[38;5;28;01mreturn\u001b[39;00m \u001b[38;5;28mself\u001b[39m[name]\n\u001b[0;32m-> 5902\u001b[0m \u001b[38;5;28;01mreturn\u001b[39;00m \u001b[38;5;28;43mobject\u001b[39;49m\u001b[38;5;241;43m.\u001b[39;49m\u001b[38;5;21;43m__getattribute__\u001b[39;49m\u001b[43m(\u001b[49m\u001b[38;5;28;43mself\u001b[39;49m\u001b[43m,\u001b[49m\u001b[43m \u001b[49m\u001b[43mname\u001b[49m\u001b[43m)\u001b[49m\n",
      "\u001b[0;31mAttributeError\u001b[0m: 'DataFrame' object has no attribute 'unique'"
     ]
    }
   ],
   "source": [
    "df.unique()"
   ]
  },
  {
   "cell_type": "code",
   "execution_count": 144,
   "id": "70a7c92d",
   "metadata": {},
   "outputs": [
    {
     "data": {
      "text/plain": [
       "country         4\n",
       "rank            4\n",
       "grade           4\n",
       "president       4\n",
       "gdp             3\n",
       "boolean_rank    2\n",
       "etc             1\n",
       "dtype: int64"
      ]
     },
     "execution_count": 144,
     "metadata": {},
     "output_type": "execute_result"
    }
   ],
   "source": [
    "df.nunique()"
   ]
  },
  {
   "cell_type": "markdown",
   "id": "e06084b4",
   "metadata": {},
   "source": [
    "## 데이터 정렬 (sort)"
   ]
  },
  {
   "cell_type": "code",
   "execution_count": 147,
   "id": "01da3f71",
   "metadata": {},
   "outputs": [
    {
     "data": {
      "text/html": [
       "<div>\n",
       "<style scoped>\n",
       "    .dataframe tbody tr th:only-of-type {\n",
       "        vertical-align: middle;\n",
       "    }\n",
       "\n",
       "    .dataframe tbody tr th {\n",
       "        vertical-align: top;\n",
       "    }\n",
       "\n",
       "    .dataframe thead th {\n",
       "        text-align: right;\n",
       "    }\n",
       "</style>\n",
       "<table border=\"1\" class=\"dataframe\">\n",
       "  <thead>\n",
       "    <tr style=\"text-align: right;\">\n",
       "      <th></th>\n",
       "      <th>country</th>\n",
       "      <th>rank</th>\n",
       "      <th>grade</th>\n",
       "      <th>president</th>\n",
       "      <th>gdp</th>\n",
       "      <th>boolean_rank</th>\n",
       "      <th>etc</th>\n",
       "    </tr>\n",
       "  </thead>\n",
       "  <tbody>\n",
       "    <tr>\n",
       "      <th>0</th>\n",
       "      <td>kor</td>\n",
       "      <td>1</td>\n",
       "      <td>A</td>\n",
       "      <td>yoon</td>\n",
       "      <td>1000</td>\n",
       "      <td>True</td>\n",
       "      <td>0</td>\n",
       "    </tr>\n",
       "    <tr>\n",
       "      <th>1</th>\n",
       "      <td>usa</td>\n",
       "      <td>2</td>\n",
       "      <td>B</td>\n",
       "      <td>biden</td>\n",
       "      <td>2000</td>\n",
       "      <td>True</td>\n",
       "      <td>0</td>\n",
       "    </tr>\n",
       "    <tr>\n",
       "      <th>2</th>\n",
       "      <td>China</td>\n",
       "      <td>3</td>\n",
       "      <td>C</td>\n",
       "      <td>jinping</td>\n",
       "      <td>3000</td>\n",
       "      <td>False</td>\n",
       "      <td>0</td>\n",
       "    </tr>\n",
       "    <tr>\n",
       "      <th>7</th>\n",
       "      <td>singapore</td>\n",
       "      <td>5</td>\n",
       "      <td>E</td>\n",
       "      <td>jiao</td>\n",
       "      <td>2000</td>\n",
       "      <td>False</td>\n",
       "      <td>0</td>\n",
       "    </tr>\n",
       "  </tbody>\n",
       "</table>\n",
       "</div>"
      ],
      "text/plain": [
       "     country  rank grade president   gdp  boolean_rank  etc\n",
       "0        kor     1     A      yoon  1000          True    0\n",
       "1        usa     2     B     biden  2000          True    0\n",
       "2      China     3     C   jinping  3000         False    0\n",
       "7  singapore     5     E      jiao  2000         False    0"
      ]
     },
     "execution_count": 147,
     "metadata": {},
     "output_type": "execute_result"
    }
   ],
   "source": [
    "df.sort_values(by=['rank'])"
   ]
  },
  {
   "cell_type": "code",
   "execution_count": 148,
   "id": "75ec8e24",
   "metadata": {},
   "outputs": [
    {
     "data": {
      "text/html": [
       "<div>\n",
       "<style scoped>\n",
       "    .dataframe tbody tr th:only-of-type {\n",
       "        vertical-align: middle;\n",
       "    }\n",
       "\n",
       "    .dataframe tbody tr th {\n",
       "        vertical-align: top;\n",
       "    }\n",
       "\n",
       "    .dataframe thead th {\n",
       "        text-align: right;\n",
       "    }\n",
       "</style>\n",
       "<table border=\"1\" class=\"dataframe\">\n",
       "  <thead>\n",
       "    <tr style=\"text-align: right;\">\n",
       "      <th></th>\n",
       "      <th>country</th>\n",
       "      <th>rank</th>\n",
       "      <th>grade</th>\n",
       "      <th>president</th>\n",
       "      <th>gdp</th>\n",
       "      <th>boolean_rank</th>\n",
       "      <th>etc</th>\n",
       "    </tr>\n",
       "  </thead>\n",
       "  <tbody>\n",
       "    <tr>\n",
       "      <th>7</th>\n",
       "      <td>singapore</td>\n",
       "      <td>5</td>\n",
       "      <td>E</td>\n",
       "      <td>jiao</td>\n",
       "      <td>2000</td>\n",
       "      <td>False</td>\n",
       "      <td>0</td>\n",
       "    </tr>\n",
       "    <tr>\n",
       "      <th>2</th>\n",
       "      <td>China</td>\n",
       "      <td>3</td>\n",
       "      <td>C</td>\n",
       "      <td>jinping</td>\n",
       "      <td>3000</td>\n",
       "      <td>False</td>\n",
       "      <td>0</td>\n",
       "    </tr>\n",
       "    <tr>\n",
       "      <th>1</th>\n",
       "      <td>usa</td>\n",
       "      <td>2</td>\n",
       "      <td>B</td>\n",
       "      <td>biden</td>\n",
       "      <td>2000</td>\n",
       "      <td>True</td>\n",
       "      <td>0</td>\n",
       "    </tr>\n",
       "    <tr>\n",
       "      <th>0</th>\n",
       "      <td>kor</td>\n",
       "      <td>1</td>\n",
       "      <td>A</td>\n",
       "      <td>yoon</td>\n",
       "      <td>1000</td>\n",
       "      <td>True</td>\n",
       "      <td>0</td>\n",
       "    </tr>\n",
       "  </tbody>\n",
       "</table>\n",
       "</div>"
      ],
      "text/plain": [
       "     country  rank grade president   gdp  boolean_rank  etc\n",
       "7  singapore     5     E      jiao  2000         False    0\n",
       "2      China     3     C   jinping  3000         False    0\n",
       "1        usa     2     B     biden  2000          True    0\n",
       "0        kor     1     A      yoon  1000          True    0"
      ]
     },
     "execution_count": 148,
     "metadata": {},
     "output_type": "execute_result"
    }
   ],
   "source": [
    "df.sort_values(by=['rank'], ascending=False) # ascending = False => 내림차순"
   ]
  },
  {
   "cell_type": "code",
   "execution_count": 149,
   "id": "a8a01e41",
   "metadata": {},
   "outputs": [
    {
     "data": {
      "text/html": [
       "<div>\n",
       "<style scoped>\n",
       "    .dataframe tbody tr th:only-of-type {\n",
       "        vertical-align: middle;\n",
       "    }\n",
       "\n",
       "    .dataframe tbody tr th {\n",
       "        vertical-align: top;\n",
       "    }\n",
       "\n",
       "    .dataframe thead th {\n",
       "        text-align: right;\n",
       "    }\n",
       "</style>\n",
       "<table border=\"1\" class=\"dataframe\">\n",
       "  <thead>\n",
       "    <tr style=\"text-align: right;\">\n",
       "      <th></th>\n",
       "      <th>country</th>\n",
       "      <th>rank</th>\n",
       "      <th>grade</th>\n",
       "      <th>president</th>\n",
       "      <th>gdp</th>\n",
       "      <th>boolean_rank</th>\n",
       "      <th>etc</th>\n",
       "    </tr>\n",
       "  </thead>\n",
       "  <tbody>\n",
       "    <tr>\n",
       "      <th>2</th>\n",
       "      <td>China</td>\n",
       "      <td>3</td>\n",
       "      <td>C</td>\n",
       "      <td>jinping</td>\n",
       "      <td>3000</td>\n",
       "      <td>False</td>\n",
       "      <td>0</td>\n",
       "    </tr>\n",
       "    <tr>\n",
       "      <th>0</th>\n",
       "      <td>kor</td>\n",
       "      <td>1</td>\n",
       "      <td>A</td>\n",
       "      <td>yoon</td>\n",
       "      <td>1000</td>\n",
       "      <td>True</td>\n",
       "      <td>0</td>\n",
       "    </tr>\n",
       "    <tr>\n",
       "      <th>7</th>\n",
       "      <td>singapore</td>\n",
       "      <td>5</td>\n",
       "      <td>E</td>\n",
       "      <td>jiao</td>\n",
       "      <td>2000</td>\n",
       "      <td>False</td>\n",
       "      <td>0</td>\n",
       "    </tr>\n",
       "    <tr>\n",
       "      <th>1</th>\n",
       "      <td>usa</td>\n",
       "      <td>2</td>\n",
       "      <td>B</td>\n",
       "      <td>biden</td>\n",
       "      <td>2000</td>\n",
       "      <td>True</td>\n",
       "      <td>0</td>\n",
       "    </tr>\n",
       "  </tbody>\n",
       "</table>\n",
       "</div>"
      ],
      "text/plain": [
       "     country  rank grade president   gdp  boolean_rank  etc\n",
       "2      China     3     C   jinping  3000         False    0\n",
       "0        kor     1     A      yoon  1000          True    0\n",
       "7  singapore     5     E      jiao  2000         False    0\n",
       "1        usa     2     B     biden  2000          True    0"
      ]
     },
     "execution_count": 149,
     "metadata": {},
     "output_type": "execute_result"
    }
   ],
   "source": [
    "df.sort_values(by=['country'])"
   ]
  },
  {
   "cell_type": "code",
   "execution_count": 150,
   "id": "2e7d4c35",
   "metadata": {},
   "outputs": [
    {
     "data": {
      "text/html": [
       "<div>\n",
       "<style scoped>\n",
       "    .dataframe tbody tr th:only-of-type {\n",
       "        vertical-align: middle;\n",
       "    }\n",
       "\n",
       "    .dataframe tbody tr th {\n",
       "        vertical-align: top;\n",
       "    }\n",
       "\n",
       "    .dataframe thead th {\n",
       "        text-align: right;\n",
       "    }\n",
       "</style>\n",
       "<table border=\"1\" class=\"dataframe\">\n",
       "  <thead>\n",
       "    <tr style=\"text-align: right;\">\n",
       "      <th></th>\n",
       "      <th>country</th>\n",
       "      <th>rank</th>\n",
       "      <th>grade</th>\n",
       "      <th>president</th>\n",
       "      <th>gdp</th>\n",
       "      <th>boolean_rank</th>\n",
       "      <th>etc</th>\n",
       "    </tr>\n",
       "  </thead>\n",
       "  <tbody>\n",
       "    <tr>\n",
       "      <th>0</th>\n",
       "      <td>kor</td>\n",
       "      <td>1</td>\n",
       "      <td>A</td>\n",
       "      <td>yoon</td>\n",
       "      <td>1000</td>\n",
       "      <td>True</td>\n",
       "      <td>0</td>\n",
       "    </tr>\n",
       "    <tr>\n",
       "      <th>1</th>\n",
       "      <td>usa</td>\n",
       "      <td>2</td>\n",
       "      <td>B</td>\n",
       "      <td>biden</td>\n",
       "      <td>2000</td>\n",
       "      <td>True</td>\n",
       "      <td>0</td>\n",
       "    </tr>\n",
       "    <tr>\n",
       "      <th>7</th>\n",
       "      <td>singapore</td>\n",
       "      <td>5</td>\n",
       "      <td>E</td>\n",
       "      <td>jiao</td>\n",
       "      <td>2000</td>\n",
       "      <td>False</td>\n",
       "      <td>0</td>\n",
       "    </tr>\n",
       "    <tr>\n",
       "      <th>2</th>\n",
       "      <td>China</td>\n",
       "      <td>3</td>\n",
       "      <td>C</td>\n",
       "      <td>jinping</td>\n",
       "      <td>3000</td>\n",
       "      <td>False</td>\n",
       "      <td>0</td>\n",
       "    </tr>\n",
       "  </tbody>\n",
       "</table>\n",
       "</div>"
      ],
      "text/plain": [
       "     country  rank grade president   gdp  boolean_rank  etc\n",
       "0        kor     1     A      yoon  1000          True    0\n",
       "1        usa     2     B     biden  2000          True    0\n",
       "7  singapore     5     E      jiao  2000         False    0\n",
       "2      China     3     C   jinping  3000         False    0"
      ]
     },
     "execution_count": 150,
     "metadata": {},
     "output_type": "execute_result"
    }
   ],
   "source": [
    "df.sort_values(by=['gdp'])"
   ]
  },
  {
   "cell_type": "markdown",
   "id": "f43f3c19",
   "metadata": {},
   "source": [
    "## null 데이터 처리\n",
    "- NaN -> Not a Number (=> 비어있는 데이터, null, none 데이터)\n",
    "- isnull() : 데이터가 null이니? -> boolean indexing\n",
    "- fillna() : null 데이터들을 내가 원하는 어떤 값으로 채워주세요.\n",
    "- dropna() : null 데이터를 제거해주세요."
   ]
  },
  {
   "cell_type": "code",
   "execution_count": 151,
   "id": "cbba5992",
   "metadata": {},
   "outputs": [
    {
     "data": {
      "text/html": [
       "<div>\n",
       "<style scoped>\n",
       "    .dataframe tbody tr th:only-of-type {\n",
       "        vertical-align: middle;\n",
       "    }\n",
       "\n",
       "    .dataframe tbody tr th {\n",
       "        vertical-align: top;\n",
       "    }\n",
       "\n",
       "    .dataframe thead th {\n",
       "        text-align: right;\n",
       "    }\n",
       "</style>\n",
       "<table border=\"1\" class=\"dataframe\">\n",
       "  <thead>\n",
       "    <tr style=\"text-align: right;\">\n",
       "      <th></th>\n",
       "      <th>country</th>\n",
       "      <th>rank</th>\n",
       "      <th>grade</th>\n",
       "      <th>president</th>\n",
       "      <th>gdp</th>\n",
       "      <th>boolean_rank</th>\n",
       "      <th>etc</th>\n",
       "    </tr>\n",
       "  </thead>\n",
       "  <tbody>\n",
       "    <tr>\n",
       "      <th>0</th>\n",
       "      <td>False</td>\n",
       "      <td>False</td>\n",
       "      <td>False</td>\n",
       "      <td>False</td>\n",
       "      <td>False</td>\n",
       "      <td>False</td>\n",
       "      <td>False</td>\n",
       "    </tr>\n",
       "    <tr>\n",
       "      <th>1</th>\n",
       "      <td>False</td>\n",
       "      <td>False</td>\n",
       "      <td>False</td>\n",
       "      <td>False</td>\n",
       "      <td>False</td>\n",
       "      <td>False</td>\n",
       "      <td>False</td>\n",
       "    </tr>\n",
       "    <tr>\n",
       "      <th>2</th>\n",
       "      <td>False</td>\n",
       "      <td>False</td>\n",
       "      <td>False</td>\n",
       "      <td>False</td>\n",
       "      <td>False</td>\n",
       "      <td>False</td>\n",
       "      <td>False</td>\n",
       "    </tr>\n",
       "    <tr>\n",
       "      <th>7</th>\n",
       "      <td>False</td>\n",
       "      <td>False</td>\n",
       "      <td>False</td>\n",
       "      <td>False</td>\n",
       "      <td>False</td>\n",
       "      <td>False</td>\n",
       "      <td>False</td>\n",
       "    </tr>\n",
       "  </tbody>\n",
       "</table>\n",
       "</div>"
      ],
      "text/plain": [
       "   country   rank  grade  president    gdp  boolean_rank    etc\n",
       "0    False  False  False      False  False         False  False\n",
       "1    False  False  False      False  False         False  False\n",
       "2    False  False  False      False  False         False  False\n",
       "7    False  False  False      False  False         False  False"
      ]
     },
     "execution_count": 151,
     "metadata": {},
     "output_type": "execute_result"
    }
   ],
   "source": [
    "df.isna()"
   ]
  },
  {
   "cell_type": "code",
   "execution_count": 153,
   "id": "2b4176f1",
   "metadata": {},
   "outputs": [
    {
     "name": "stdout",
     "output_type": "stream",
     "text": [
      "     country  rank grade president   gdp  boolean_rank  etc  check\n",
      "0        kor     1     A      yoon  1000          True    0    NaN\n",
      "1        usa     2     B     biden  2000          True    0    NaN\n",
      "2      China     3     C   jinping  3000         False    0    NaN\n",
      "7  singapore     5     E      jiao  2000         False    0    NaN\n"
     ]
    }
   ],
   "source": [
    "df['check'] = np.nan\n",
    "print(df)"
   ]
  },
  {
   "cell_type": "code",
   "execution_count": 154,
   "id": "8fcfa9df",
   "metadata": {},
   "outputs": [
    {
     "data": {
      "text/html": [
       "<div>\n",
       "<style scoped>\n",
       "    .dataframe tbody tr th:only-of-type {\n",
       "        vertical-align: middle;\n",
       "    }\n",
       "\n",
       "    .dataframe tbody tr th {\n",
       "        vertical-align: top;\n",
       "    }\n",
       "\n",
       "    .dataframe thead th {\n",
       "        text-align: right;\n",
       "    }\n",
       "</style>\n",
       "<table border=\"1\" class=\"dataframe\">\n",
       "  <thead>\n",
       "    <tr style=\"text-align: right;\">\n",
       "      <th></th>\n",
       "      <th>country</th>\n",
       "      <th>rank</th>\n",
       "      <th>grade</th>\n",
       "      <th>president</th>\n",
       "      <th>gdp</th>\n",
       "      <th>boolean_rank</th>\n",
       "      <th>etc</th>\n",
       "      <th>check</th>\n",
       "    </tr>\n",
       "  </thead>\n",
       "  <tbody>\n",
       "    <tr>\n",
       "      <th>0</th>\n",
       "      <td>False</td>\n",
       "      <td>False</td>\n",
       "      <td>False</td>\n",
       "      <td>False</td>\n",
       "      <td>False</td>\n",
       "      <td>False</td>\n",
       "      <td>False</td>\n",
       "      <td>True</td>\n",
       "    </tr>\n",
       "    <tr>\n",
       "      <th>1</th>\n",
       "      <td>False</td>\n",
       "      <td>False</td>\n",
       "      <td>False</td>\n",
       "      <td>False</td>\n",
       "      <td>False</td>\n",
       "      <td>False</td>\n",
       "      <td>False</td>\n",
       "      <td>True</td>\n",
       "    </tr>\n",
       "    <tr>\n",
       "      <th>2</th>\n",
       "      <td>False</td>\n",
       "      <td>False</td>\n",
       "      <td>False</td>\n",
       "      <td>False</td>\n",
       "      <td>False</td>\n",
       "      <td>False</td>\n",
       "      <td>False</td>\n",
       "      <td>True</td>\n",
       "    </tr>\n",
       "    <tr>\n",
       "      <th>7</th>\n",
       "      <td>False</td>\n",
       "      <td>False</td>\n",
       "      <td>False</td>\n",
       "      <td>False</td>\n",
       "      <td>False</td>\n",
       "      <td>False</td>\n",
       "      <td>False</td>\n",
       "      <td>True</td>\n",
       "    </tr>\n",
       "  </tbody>\n",
       "</table>\n",
       "</div>"
      ],
      "text/plain": [
       "   country   rank  grade  president    gdp  boolean_rank    etc  check\n",
       "0    False  False  False      False  False         False  False   True\n",
       "1    False  False  False      False  False         False  False   True\n",
       "2    False  False  False      False  False         False  False   True\n",
       "7    False  False  False      False  False         False  False   True"
      ]
     },
     "execution_count": 154,
     "metadata": {},
     "output_type": "execute_result"
    }
   ],
   "source": [
    "df.isna()"
   ]
  },
  {
   "cell_type": "code",
   "execution_count": null,
   "id": "ce41bab8",
   "metadata": {},
   "outputs": [],
   "source": [
    "# null데이터를 마주했을 때?\n",
    "# (1) 제거한다. => 제거하고자 하는 데이터가 소량일때\n",
    "## 100만건의 데이터를 받음. nan데이터가 10만건 -> 지우고 90만건으로 분석을 했어요.\n",
    "### 담당자가 -> 데이터는 100만건 드렸는데요? 왜 90만건에 대한 결과 밖에 업죠?\n",
    "#### 제거를 하게되면 제거를 하게된 합당한 이유를 찾으셔야 합니다. 그리고 소통하셔야죠 (명분)\n",
    "\n",
    "# (2) 값을 채워넣는다.\n",
    "## 평균값을 넣는다. (통신사 고객 데이터 중 나이데이터가 비어있다 -> 고객 평균 나이를 넣어서 분석한다.)\n",
    "## 계산을 해서 넣는다. (고객 비율 또는 고객 데이터 중에서 페북 메신저 앱이 설치가 되어있으면 10대일 가능성이 높다 -> 10대 평균값 넣는다)\n",
    "\n",
    "# (3) 분석에서 제외한다.\n",
    "\n",
    "# null 값이 안들어가게 하는 방법은 없나요?\n",
    "\n",
    "# DE : 우리가 분석하는 데이터가 로그 데이터\n",
    "# 기본적인 유저 데이터나 DB데이터들 -> BI로 보통 해결이 됨\n",
    "# DS : 시각화 툴 사용 (엑셀 잘하면 엑셀, 다만 gpt가 더 잘한다)\n",
    "\n",
    "# 코드를 다 이해해서 커스텀을 할 수 있어야 하니까"
   ]
  },
  {
   "cell_type": "code",
   "execution_count": 162,
   "id": "417adcc1",
   "metadata": {},
   "outputs": [
    {
     "name": "stdout",
     "output_type": "stream",
     "text": [
      "     country  rank grade president   gdp  boolean_rank  etc check\n",
      "0        kor     1     A      yoon  1000          True    0  pass\n",
      "1        usa     2     B     biden  2000          True    0  pass\n",
      "2      China     3     C   jinping  3000         False    0  pass\n",
      "7  singapore     5     E      jiao  2000         False    0  pass\n"
     ]
    }
   ],
   "source": [
    "df.fillna(value=\"pass\", inplace=True) # null 데이터를 채우고 싶을 때\n",
    "print(df)"
   ]
  },
  {
   "cell_type": "code",
   "execution_count": 170,
   "id": "c477a17c",
   "metadata": {},
   "outputs": [
    {
     "name": "stdout",
     "output_type": "stream",
     "text": [
      "     country  rank grade president   gdp  boolean_rank  etc check\n",
      "0        kor     1     A      yoon  1000          True    0  pass\n",
      "1        usa     2     B     biden  2000          True    0  pass\n",
      "2      China     3     C       NaN  3000         False    0  pass\n",
      "7  singapore     5     E      jiao  2000         False    0  pass\n",
      "\n",
      "     country  rank grade president   gdp  boolean_rank  etc check\n",
      "0        kor     1     A      yoon  1000          True    0  pass\n",
      "1        usa     2     B     biden  2000          True    0  pass\n",
      "2      China     3     C       NaN  3000         False    0  pass\n",
      "7  singapore     5     E      jiao  2000         False    0  pass\n",
      "\n",
      "     country  rank grade president   gdp  boolean_rank  etc check\n",
      "0        kor     1     A      yoon  1000          True    0  pass\n",
      "1        usa     2     B     biden  2000          True    0  pass\n",
      "7  singapore     5     E      jiao  2000         False    0  pass\n"
     ]
    }
   ],
   "source": [
    "df.iloc[2,3] = np.nan # 있는 데이터를 null 데이터로 바꿀 때\n",
    "print(df)\n",
    "print()\n",
    "df.dropna(how=\"any\") # null 데이터를 제거할때 (\"any\"는 그 행에 null이 하나라도 있으면 제거)\n",
    "print(df)\n",
    "print()\n",
    "nullcheck_df = df.dropna(how=\"any\")\n",
    "print(nullcheck_df)"
   ]
  },
  {
   "cell_type": "code",
   "execution_count": 171,
   "id": "b90c707e",
   "metadata": {},
   "outputs": [
    {
     "name": "stdout",
     "output_type": "stream",
     "text": [
      "     country  rank grade president   gdp  boolean_rank  etc check       birth\n",
      "0        kor     1     A      yoon  1000          True    0  pass  2020.12.03\n",
      "1        usa     2     B     biden  2000          True    0  pass  2021.03.13\n",
      "2      China     3     C       NaN  3000         False    0  pass  1998.07.13\n",
      "7  singapore     5     E      jiao  2000         False    0  pass  1955.08.13\n"
     ]
    }
   ],
   "source": [
    "df['birth'] = [\"2020.12.03\", \"2021.03.13\", \"1998.07.13\", \"1955.08.13\"]\n",
    "print(df)"
   ]
  },
  {
   "cell_type": "code",
   "execution_count": 172,
   "id": "2f41495a",
   "metadata": {},
   "outputs": [
    {
     "data": {
      "text/plain": [
       "dtype('O')"
      ]
     },
     "execution_count": 172,
     "metadata": {},
     "output_type": "execute_result"
    }
   ],
   "source": [
    "df[\"birth\"].dtypes"
   ]
  },
  {
   "cell_type": "code",
   "execution_count": 173,
   "id": "7d126d29",
   "metadata": {},
   "outputs": [
    {
     "data": {
      "text/html": [
       "<div>\n",
       "<style scoped>\n",
       "    .dataframe tbody tr th:only-of-type {\n",
       "        vertical-align: middle;\n",
       "    }\n",
       "\n",
       "    .dataframe tbody tr th {\n",
       "        vertical-align: top;\n",
       "    }\n",
       "\n",
       "    .dataframe thead th {\n",
       "        text-align: right;\n",
       "    }\n",
       "</style>\n",
       "<table border=\"1\" class=\"dataframe\">\n",
       "  <thead>\n",
       "    <tr style=\"text-align: right;\">\n",
       "      <th></th>\n",
       "      <th>country</th>\n",
       "      <th>rank</th>\n",
       "      <th>grade</th>\n",
       "      <th>president</th>\n",
       "      <th>gdp</th>\n",
       "      <th>boolean_rank</th>\n",
       "      <th>etc</th>\n",
       "      <th>check</th>\n",
       "      <th>birth</th>\n",
       "    </tr>\n",
       "  </thead>\n",
       "  <tbody>\n",
       "    <tr>\n",
       "      <th>7</th>\n",
       "      <td>singapore</td>\n",
       "      <td>5</td>\n",
       "      <td>E</td>\n",
       "      <td>jiao</td>\n",
       "      <td>2000</td>\n",
       "      <td>False</td>\n",
       "      <td>0</td>\n",
       "      <td>pass</td>\n",
       "      <td>1955.08.13</td>\n",
       "    </tr>\n",
       "    <tr>\n",
       "      <th>2</th>\n",
       "      <td>China</td>\n",
       "      <td>3</td>\n",
       "      <td>C</td>\n",
       "      <td>NaN</td>\n",
       "      <td>3000</td>\n",
       "      <td>False</td>\n",
       "      <td>0</td>\n",
       "      <td>pass</td>\n",
       "      <td>1998.07.13</td>\n",
       "    </tr>\n",
       "    <tr>\n",
       "      <th>0</th>\n",
       "      <td>kor</td>\n",
       "      <td>1</td>\n",
       "      <td>A</td>\n",
       "      <td>yoon</td>\n",
       "      <td>1000</td>\n",
       "      <td>True</td>\n",
       "      <td>0</td>\n",
       "      <td>pass</td>\n",
       "      <td>2020.12.03</td>\n",
       "    </tr>\n",
       "    <tr>\n",
       "      <th>1</th>\n",
       "      <td>usa</td>\n",
       "      <td>2</td>\n",
       "      <td>B</td>\n",
       "      <td>biden</td>\n",
       "      <td>2000</td>\n",
       "      <td>True</td>\n",
       "      <td>0</td>\n",
       "      <td>pass</td>\n",
       "      <td>2021.03.13</td>\n",
       "    </tr>\n",
       "  </tbody>\n",
       "</table>\n",
       "</div>"
      ],
      "text/plain": [
       "     country  rank grade president   gdp  boolean_rank  etc check       birth\n",
       "7  singapore     5     E      jiao  2000         False    0  pass  1955.08.13\n",
       "2      China     3     C       NaN  3000         False    0  pass  1998.07.13\n",
       "0        kor     1     A      yoon  1000          True    0  pass  2020.12.03\n",
       "1        usa     2     B     biden  2000          True    0  pass  2021.03.13"
      ]
     },
     "execution_count": 173,
     "metadata": {},
     "output_type": "execute_result"
    }
   ],
   "source": [
    "df.sort_values('birth')"
   ]
  },
  {
   "cell_type": "markdown",
   "id": "69e0469f",
   "metadata": {},
   "source": [
    "## merge(), concat()\n",
    "- 서로다른 N개의 데이터 프레임을 합치기 위해 사용하는 함수\n",
    "- 왜 합쳐주는 거죠? -. 데이터를 저장할때 (일자별로 csv파일이 하나씩 생성되는 구조라고 해봅시다. -> 한달이면 요일별로 해서 파일로 총 30개가 생성되겠죠.\n",
    "-> 분석하려면 30개의 파일을 합쳐서 분석을 진행해야겠죠."
   ]
  },
  {
   "cell_type": "code",
   "execution_count": 189,
   "id": "77595f32",
   "metadata": {},
   "outputs": [
    {
     "name": "stdout",
     "output_type": "stream",
     "text": [
      "{'고객번호': [1001, 1002, 1003, 1004], '기업명': ['LG', 'Samsung', 'Hyundai', 'Kia'], '시총': ['10조', '44조', '22조', '3조']}\n"
     ]
    }
   ],
   "source": [
    "data = {\n",
    "\"고객번호\" : [1001,1002,1003,1004],\n",
    "\"기업명\" : [\"LG\", \"Samsung\", \"Hyundai\", \"Kia\"],\n",
    "\"시총\" : [\"10조\", \"44조\", \"22조\", \"3조\"]\n",
    "}\n",
    "print(data)"
   ]
  },
  {
   "cell_type": "code",
   "execution_count": 190,
   "id": "a76a1386",
   "metadata": {},
   "outputs": [
    {
     "name": "stdout",
     "output_type": "stream",
     "text": [
      "   고객번호      기업명   시총\n",
      "0  1001       LG  10조\n",
      "1  1002  Samsung  44조\n",
      "2  1003  Hyundai  22조\n",
      "3  1004      Kia   3조\n"
     ]
    }
   ],
   "source": [
    "df1 = pd. DataFrame(data)\n",
    "print(df1)"
   ]
  },
  {
   "cell_type": "code",
   "execution_count": 194,
   "id": "89f9a0e4",
   "metadata": {},
   "outputs": [
    {
     "name": "stdout",
     "output_type": "stream",
     "text": [
      "   고객번호   시총\n",
      "0  1001  10조\n",
      "1  1002  44조\n",
      "2  1005  22조\n",
      "3  1006   3조\n"
     ]
    }
   ],
   "source": [
    "data = {\n",
    "\"고객번호\" : [1001,1002,1005,1006],\n",
    "\"시총\" : [\"10조\", \"44조\", \"22조\", \"3조\"]\n",
    "}\n",
    "df2 = pd.DataFrame(data)\n",
    "print(df2)"
   ]
  },
  {
   "cell_type": "code",
   "execution_count": 192,
   "id": "78ffc295",
   "metadata": {},
   "outputs": [
    {
     "data": {
      "text/html": [
       "<div>\n",
       "<style scoped>\n",
       "    .dataframe tbody tr th:only-of-type {\n",
       "        vertical-align: middle;\n",
       "    }\n",
       "\n",
       "    .dataframe tbody tr th {\n",
       "        vertical-align: top;\n",
       "    }\n",
       "\n",
       "    .dataframe thead th {\n",
       "        text-align: right;\n",
       "    }\n",
       "</style>\n",
       "<table border=\"1\" class=\"dataframe\">\n",
       "  <thead>\n",
       "    <tr style=\"text-align: right;\">\n",
       "      <th></th>\n",
       "      <th>고객번호</th>\n",
       "      <th>기업명</th>\n",
       "      <th>시총</th>\n",
       "    </tr>\n",
       "  </thead>\n",
       "  <tbody>\n",
       "    <tr>\n",
       "      <th>0</th>\n",
       "      <td>1001</td>\n",
       "      <td>LG</td>\n",
       "      <td>10조</td>\n",
       "    </tr>\n",
       "    <tr>\n",
       "      <th>1</th>\n",
       "      <td>1002</td>\n",
       "      <td>Samsung</td>\n",
       "      <td>44조</td>\n",
       "    </tr>\n",
       "    <tr>\n",
       "      <th>2</th>\n",
       "      <td>1003</td>\n",
       "      <td>Hyundai</td>\n",
       "      <td>22조</td>\n",
       "    </tr>\n",
       "    <tr>\n",
       "      <th>3</th>\n",
       "      <td>1004</td>\n",
       "      <td>Kia</td>\n",
       "      <td>3조</td>\n",
       "    </tr>\n",
       "    <tr>\n",
       "      <th>4</th>\n",
       "      <td>1005</td>\n",
       "      <td>NaN</td>\n",
       "      <td>22조</td>\n",
       "    </tr>\n",
       "    <tr>\n",
       "      <th>5</th>\n",
       "      <td>1006</td>\n",
       "      <td>NaN</td>\n",
       "      <td>3조</td>\n",
       "    </tr>\n",
       "  </tbody>\n",
       "</table>\n",
       "</div>"
      ],
      "text/plain": [
       "   고객번호      기업명   시총\n",
       "0  1001       LG  10조\n",
       "1  1002  Samsung  44조\n",
       "2  1003  Hyundai  22조\n",
       "3  1004      Kia   3조\n",
       "4  1005      NaN  22조\n",
       "5  1006      NaN   3조"
      ]
     },
     "execution_count": 192,
     "metadata": {},
     "output_type": "execute_result"
    }
   ],
   "source": [
    "pd.merge(df1, df2, how = \"outer\")\n"
   ]
  },
  {
   "cell_type": "code",
   "execution_count": 193,
   "id": "6557ca8c",
   "metadata": {},
   "outputs": [
    {
     "data": {
      "text/html": [
       "<div>\n",
       "<style scoped>\n",
       "    .dataframe tbody tr th:only-of-type {\n",
       "        vertical-align: middle;\n",
       "    }\n",
       "\n",
       "    .dataframe tbody tr th {\n",
       "        vertical-align: top;\n",
       "    }\n",
       "\n",
       "    .dataframe thead th {\n",
       "        text-align: right;\n",
       "    }\n",
       "</style>\n",
       "<table border=\"1\" class=\"dataframe\">\n",
       "  <thead>\n",
       "    <tr style=\"text-align: right;\">\n",
       "      <th></th>\n",
       "      <th>고객번호</th>\n",
       "      <th>시총</th>\n",
       "      <th>기업명</th>\n",
       "    </tr>\n",
       "  </thead>\n",
       "  <tbody>\n",
       "    <tr>\n",
       "      <th>0</th>\n",
       "      <td>1001</td>\n",
       "      <td>10조</td>\n",
       "      <td>LG</td>\n",
       "    </tr>\n",
       "    <tr>\n",
       "      <th>1</th>\n",
       "      <td>1002</td>\n",
       "      <td>44조</td>\n",
       "      <td>Samsung</td>\n",
       "    </tr>\n",
       "    <tr>\n",
       "      <th>2</th>\n",
       "      <td>1005</td>\n",
       "      <td>22조</td>\n",
       "      <td>NaN</td>\n",
       "    </tr>\n",
       "    <tr>\n",
       "      <th>3</th>\n",
       "      <td>1006</td>\n",
       "      <td>3조</td>\n",
       "      <td>NaN</td>\n",
       "    </tr>\n",
       "    <tr>\n",
       "      <th>4</th>\n",
       "      <td>1003</td>\n",
       "      <td>22조</td>\n",
       "      <td>Hyundai</td>\n",
       "    </tr>\n",
       "    <tr>\n",
       "      <th>5</th>\n",
       "      <td>1004</td>\n",
       "      <td>3조</td>\n",
       "      <td>Kia</td>\n",
       "    </tr>\n",
       "  </tbody>\n",
       "</table>\n",
       "</div>"
      ],
      "text/plain": [
       "   고객번호   시총      기업명\n",
       "0  1001  10조       LG\n",
       "1  1002  44조  Samsung\n",
       "2  1005  22조      NaN\n",
       "3  1006   3조      NaN\n",
       "4  1003  22조  Hyundai\n",
       "5  1004   3조      Kia"
      ]
     },
     "execution_count": 193,
     "metadata": {},
     "output_type": "execute_result"
    }
   ],
   "source": [
    "pd.merge(df2, df1, how = \"outer\")"
   ]
  },
  {
   "cell_type": "code",
   "execution_count": 195,
   "id": "162e4473",
   "metadata": {},
   "outputs": [
    {
     "data": {
      "text/html": [
       "<div>\n",
       "<style scoped>\n",
       "    .dataframe tbody tr th:only-of-type {\n",
       "        vertical-align: middle;\n",
       "    }\n",
       "\n",
       "    .dataframe tbody tr th {\n",
       "        vertical-align: top;\n",
       "    }\n",
       "\n",
       "    .dataframe thead th {\n",
       "        text-align: right;\n",
       "    }\n",
       "</style>\n",
       "<table border=\"1\" class=\"dataframe\">\n",
       "  <thead>\n",
       "    <tr style=\"text-align: right;\">\n",
       "      <th></th>\n",
       "      <th>고객번호</th>\n",
       "      <th>기업명</th>\n",
       "      <th>시총</th>\n",
       "    </tr>\n",
       "  </thead>\n",
       "  <tbody>\n",
       "    <tr>\n",
       "      <th>0</th>\n",
       "      <td>1001</td>\n",
       "      <td>LG</td>\n",
       "      <td>10조</td>\n",
       "    </tr>\n",
       "    <tr>\n",
       "      <th>1</th>\n",
       "      <td>1002</td>\n",
       "      <td>Samsung</td>\n",
       "      <td>44조</td>\n",
       "    </tr>\n",
       "    <tr>\n",
       "      <th>2</th>\n",
       "      <td>1005</td>\n",
       "      <td>NaN</td>\n",
       "      <td>22조</td>\n",
       "    </tr>\n",
       "    <tr>\n",
       "      <th>3</th>\n",
       "      <td>1006</td>\n",
       "      <td>NaN</td>\n",
       "      <td>3조</td>\n",
       "    </tr>\n",
       "  </tbody>\n",
       "</table>\n",
       "</div>"
      ],
      "text/plain": [
       "   고객번호      기업명   시총\n",
       "0  1001       LG  10조\n",
       "1  1002  Samsung  44조\n",
       "2  1005      NaN  22조\n",
       "3  1006      NaN   3조"
      ]
     },
     "execution_count": 195,
     "metadata": {},
     "output_type": "execute_result"
    }
   ],
   "source": [
    "pd.merge(df1, df2, how=\"right\")"
   ]
  },
  {
   "cell_type": "code",
   "execution_count": 196,
   "id": "ef9f5538",
   "metadata": {},
   "outputs": [
    {
     "data": {
      "text/html": [
       "<div>\n",
       "<style scoped>\n",
       "    .dataframe tbody tr th:only-of-type {\n",
       "        vertical-align: middle;\n",
       "    }\n",
       "\n",
       "    .dataframe tbody tr th {\n",
       "        vertical-align: top;\n",
       "    }\n",
       "\n",
       "    .dataframe thead th {\n",
       "        text-align: right;\n",
       "    }\n",
       "</style>\n",
       "<table border=\"1\" class=\"dataframe\">\n",
       "  <thead>\n",
       "    <tr style=\"text-align: right;\">\n",
       "      <th></th>\n",
       "      <th>고객번호</th>\n",
       "      <th>기업명</th>\n",
       "      <th>시총</th>\n",
       "    </tr>\n",
       "  </thead>\n",
       "  <tbody>\n",
       "    <tr>\n",
       "      <th>0</th>\n",
       "      <td>1001</td>\n",
       "      <td>LG</td>\n",
       "      <td>10조</td>\n",
       "    </tr>\n",
       "    <tr>\n",
       "      <th>1</th>\n",
       "      <td>1002</td>\n",
       "      <td>Samsung</td>\n",
       "      <td>44조</td>\n",
       "    </tr>\n",
       "    <tr>\n",
       "      <th>2</th>\n",
       "      <td>1003</td>\n",
       "      <td>Hyundai</td>\n",
       "      <td>22조</td>\n",
       "    </tr>\n",
       "    <tr>\n",
       "      <th>3</th>\n",
       "      <td>1004</td>\n",
       "      <td>Kia</td>\n",
       "      <td>3조</td>\n",
       "    </tr>\n",
       "  </tbody>\n",
       "</table>\n",
       "</div>"
      ],
      "text/plain": [
       "   고객번호      기업명   시총\n",
       "0  1001       LG  10조\n",
       "1  1002  Samsung  44조\n",
       "2  1003  Hyundai  22조\n",
       "3  1004      Kia   3조"
      ]
     },
     "execution_count": 196,
     "metadata": {},
     "output_type": "execute_result"
    }
   ],
   "source": [
    "pd.merge(df1, df2, how=\"left\")"
   ]
  },
  {
   "cell_type": "code",
   "execution_count": 199,
   "id": "f35d5b7e",
   "metadata": {},
   "outputs": [
    {
     "data": {
      "text/html": [
       "<div>\n",
       "<style scoped>\n",
       "    .dataframe tbody tr th:only-of-type {\n",
       "        vertical-align: middle;\n",
       "    }\n",
       "\n",
       "    .dataframe tbody tr th {\n",
       "        vertical-align: top;\n",
       "    }\n",
       "\n",
       "    .dataframe thead th {\n",
       "        text-align: right;\n",
       "    }\n",
       "</style>\n",
       "<table border=\"1\" class=\"dataframe\">\n",
       "  <thead>\n",
       "    <tr style=\"text-align: right;\">\n",
       "      <th></th>\n",
       "      <th>Unnamed: 0</th>\n",
       "      <th>country</th>\n",
       "      <th>rank</th>\n",
       "      <th>grade</th>\n",
       "      <th>president</th>\n",
       "      <th>gdp</th>\n",
       "      <th>boolean_rank</th>\n",
       "      <th>etc</th>\n",
       "      <th>check</th>\n",
       "      <th>birth</th>\n",
       "    </tr>\n",
       "  </thead>\n",
       "  <tbody>\n",
       "    <tr>\n",
       "      <th>0</th>\n",
       "      <td>0</td>\n",
       "      <td>kor</td>\n",
       "      <td>1</td>\n",
       "      <td>A</td>\n",
       "      <td>yoon</td>\n",
       "      <td>1000</td>\n",
       "      <td>True</td>\n",
       "      <td>0</td>\n",
       "      <td>pass</td>\n",
       "      <td>2020.12.03</td>\n",
       "    </tr>\n",
       "    <tr>\n",
       "      <th>1</th>\n",
       "      <td>1</td>\n",
       "      <td>usa</td>\n",
       "      <td>2</td>\n",
       "      <td>B</td>\n",
       "      <td>biden</td>\n",
       "      <td>2000</td>\n",
       "      <td>True</td>\n",
       "      <td>0</td>\n",
       "      <td>pass</td>\n",
       "      <td>2021.03.13</td>\n",
       "    </tr>\n",
       "    <tr>\n",
       "      <th>2</th>\n",
       "      <td>2</td>\n",
       "      <td>China</td>\n",
       "      <td>3</td>\n",
       "      <td>C</td>\n",
       "      <td>NaN</td>\n",
       "      <td>3000</td>\n",
       "      <td>False</td>\n",
       "      <td>0</td>\n",
       "      <td>pass</td>\n",
       "      <td>1998.07.13</td>\n",
       "    </tr>\n",
       "    <tr>\n",
       "      <th>3</th>\n",
       "      <td>7</td>\n",
       "      <td>singapore</td>\n",
       "      <td>5</td>\n",
       "      <td>E</td>\n",
       "      <td>jiao</td>\n",
       "      <td>2000</td>\n",
       "      <td>False</td>\n",
       "      <td>0</td>\n",
       "      <td>pass</td>\n",
       "      <td>1955.08.13</td>\n",
       "    </tr>\n",
       "  </tbody>\n",
       "</table>\n",
       "</div>"
      ],
      "text/plain": [
       "   Unnamed: 0    country  rank grade president   gdp  boolean_rank  etc check  \\\n",
       "0           0        kor     1     A      yoon  1000          True    0  pass   \n",
       "1           1        usa     2     B     biden  2000          True    0  pass   \n",
       "2           2      China     3     C       NaN  3000         False    0  pass   \n",
       "3           7  singapore     5     E      jiao  2000         False    0  pass   \n",
       "\n",
       "        birth  \n",
       "0  2020.12.03  \n",
       "1  2021.03.13  \n",
       "2  1998.07.13  \n",
       "3  1955.08.13  "
      ]
     },
     "execution_count": 199,
     "metadata": {},
     "output_type": "execute_result"
    }
   ],
   "source": [
    "pd.merge(df1, df2, how=\"outer\")\n",
    "df.to_csv(\"pandas result.csv\", encoding=\"utf-8-sig\") # 최종 결과 csv 저장\n",
    "pd.read_csv(\"pandas result.csv\") # 최종 결과 csv 파일 read"
   ]
  },
  {
   "cell_type": "code",
   "execution_count": 206,
   "id": "f13bcb5d",
   "metadata": {},
   "outputs": [
    {
     "name": "stdout",
     "output_type": "stream",
     "text": [
      "   A  B\n",
      "0  1  3\n",
      "1  2  4\n",
      "======\n",
      "   A  B\n",
      "0  5  7\n",
      "1  6  8\n"
     ]
    }
   ],
   "source": [
    "# concat\n",
    "df_1 = pd.DataFrame({\"A\": [1,2], \"B\" : [3,4]})\n",
    "df_2 = pd.DataFrame({\"A\": [5,6], \"B\" : [7,8]})\n",
    "print(df_1)\n",
    "print(\"======\")\n",
    "print(df_2)"
   ]
  },
  {
   "cell_type": "code",
   "execution_count": 207,
   "id": "f011b14a",
   "metadata": {},
   "outputs": [
    {
     "name": "stdout",
     "output_type": "stream",
     "text": [
      "   A  B\n",
      "0  1  3\n",
      "1  2  4\n",
      "2  5  7\n",
      "3  6  8\n"
     ]
    }
   ],
   "source": [
    "# (1) 세로로 합친다\n",
    "result = pd.concat([df_1,df_2], axis=0, ignore_index = True)\n",
    "print(result)"
   ]
  },
  {
   "cell_type": "code",
   "execution_count": 208,
   "id": "1b54c9c1",
   "metadata": {},
   "outputs": [
    {
     "name": "stdout",
     "output_type": "stream",
     "text": [
      "   0  1  2  3\n",
      "0  1  3  5  7\n",
      "1  2  4  6  8\n"
     ]
    }
   ],
   "source": [
    "# (2) 가로로 합친다\n",
    "\n",
    "result2 = pd.concat([df_1,df_2], axis = 1, ignore_index = True)\n",
    "print(result2)"
   ]
  },
  {
   "cell_type": "code",
   "execution_count": 212,
   "id": "51f0d33d",
   "metadata": {},
   "outputs": [
    {
     "data": {
      "text/html": [
       "<div>\n",
       "<style scoped>\n",
       "    .dataframe tbody tr th:only-of-type {\n",
       "        vertical-align: middle;\n",
       "    }\n",
       "\n",
       "    .dataframe tbody tr th {\n",
       "        vertical-align: top;\n",
       "    }\n",
       "\n",
       "    .dataframe thead th {\n",
       "        text-align: right;\n",
       "    }\n",
       "</style>\n",
       "<table border=\"1\" class=\"dataframe\">\n",
       "  <thead>\n",
       "    <tr style=\"text-align: right;\">\n",
       "      <th></th>\n",
       "      <th>영화</th>\n",
       "      <th>개봉 연도</th>\n",
       "      <th>관객 수</th>\n",
       "      <th>평점</th>\n",
       "    </tr>\n",
       "  </thead>\n",
       "  <tbody>\n",
       "    <tr>\n",
       "      <th>0</th>\n",
       "      <td>명량</td>\n",
       "      <td>2014</td>\n",
       "      <td>1761</td>\n",
       "      <td>8.88</td>\n",
       "    </tr>\n",
       "    <tr>\n",
       "      <th>1</th>\n",
       "      <td>극한직업</td>\n",
       "      <td>2019</td>\n",
       "      <td>1626</td>\n",
       "      <td>9.20</td>\n",
       "    </tr>\n",
       "    <tr>\n",
       "      <th>2</th>\n",
       "      <td>신과함께-죄와 벌</td>\n",
       "      <td>2017</td>\n",
       "      <td>1441</td>\n",
       "      <td>8.73</td>\n",
       "    </tr>\n",
       "    <tr>\n",
       "      <th>3</th>\n",
       "      <td>국제시장</td>\n",
       "      <td>2014</td>\n",
       "      <td>1426</td>\n",
       "      <td>9.16</td>\n",
       "    </tr>\n",
       "    <tr>\n",
       "      <th>4</th>\n",
       "      <td>괴물</td>\n",
       "      <td>2006</td>\n",
       "      <td>1301</td>\n",
       "      <td>8.62</td>\n",
       "    </tr>\n",
       "    <tr>\n",
       "      <th>5</th>\n",
       "      <td>도둑들</td>\n",
       "      <td>2012</td>\n",
       "      <td>1298</td>\n",
       "      <td>7.64</td>\n",
       "    </tr>\n",
       "    <tr>\n",
       "      <th>6</th>\n",
       "      <td>7번방의 선물</td>\n",
       "      <td>2013</td>\n",
       "      <td>1281</td>\n",
       "      <td>8.83</td>\n",
       "    </tr>\n",
       "    <tr>\n",
       "      <th>7</th>\n",
       "      <td>암살</td>\n",
       "      <td>2015</td>\n",
       "      <td>1270</td>\n",
       "      <td>9.10</td>\n",
       "    </tr>\n",
       "  </tbody>\n",
       "</table>\n",
       "</div>"
      ],
      "text/plain": [
       "          영화  개봉 연도  관객 수    평점\n",
       "0         명량   2014  1761  8.88\n",
       "1       극한직업   2019  1626  9.20\n",
       "2  신과함께-죄와 벌   2017  1441  8.73\n",
       "3       국제시장   2014  1426  9.16\n",
       "4         괴물   2006  1301  8.62\n",
       "5        도둑들   2012  1298  7.64\n",
       "6    7번방의 선물   2013  1281  8.83\n",
       "7         암살   2015  1270  9.10"
      ]
     },
     "execution_count": 212,
     "metadata": {},
     "output_type": "execute_result"
    }
   ],
   "source": [
    "import pandas as pd\n",
    "data = {\n",
    "    '영화' : ['명량', '극한직업', '신과함께-죄와 벌', '국제시장', '괴물', '도둑들', '7번방의 선물', '암살'],\n",
    "    '개봉 연도' : [2014, 2019, 2017, 2014, 2006, 2012, 2013, 2015],\n",
    "    '관객 수' : [1761, 1626, 1441, 1426, 1301, 1298, 1281, 1270], # (단위 : 만 명)\n",
    "    '평점' : [8.88, 9.20, 8.73, 9.16, 8.62, 7.64, 8.83, 9.10]\n",
    "}\n",
    "df = pd.DataFrame(data)\n",
    "df"
   ]
  },
  {
   "cell_type": "code",
   "execution_count": null,
   "id": "1fed014e",
   "metadata": {},
   "outputs": [],
   "source": [
    "# 1) 전체 데이터 중에서 \"영화\" 정보만 출력하시오.\n",
    "# 2) 전체 데이터 중에서 \"영화\", \"평점\" 정보를 출력하시오\n",
    "# 3) 2015년 이후에 개봉한 영화 데이터 중에서 \"영화\", \"개봉연도\" 정보를 출력하시오.\n",
    "# 4) 주어진 계산식을 참고하여 \"추천 점수\" column을 추가하시오.\n",
    "# * 추천점수 = (관객수 * 평점) // 100\n",
    "# 5) 전체 데이터를 \"개봉연도\" 기준 내림차순으로 출력하시오"
   ]
  },
  {
   "cell_type": "code",
   "execution_count": 259,
   "id": "edaeb2d0",
   "metadata": {},
   "outputs": [
    {
     "data": {
      "text/plain": [
       "0           명량\n",
       "1         극한직업\n",
       "2    신과함께-죄와 벌\n",
       "3         국제시장\n",
       "4           괴물\n",
       "5          도둑들\n",
       "6      7번방의 선물\n",
       "7           암살\n",
       "Name: 영화, dtype: object"
      ]
     },
     "execution_count": 259,
     "metadata": {},
     "output_type": "execute_result"
    }
   ],
   "source": [
    "# 1) 전체 데이터 중에서 \"영화\" 정보만 출력하시오.\n",
    "df[\"영화\"]"
   ]
  },
  {
   "cell_type": "code",
   "execution_count": 258,
   "id": "6c623d6f",
   "metadata": {},
   "outputs": [
    {
     "data": {
      "text/plain": [
       "0           명량\n",
       "1         극한직업\n",
       "2    신과함께-죄와 벌\n",
       "3         국제시장\n",
       "4           괴물\n",
       "5          도둑들\n",
       "6      7번방의 선물\n",
       "7           암살\n",
       "Name: 영화, dtype: object"
      ]
     },
     "execution_count": 258,
     "metadata": {},
     "output_type": "execute_result"
    }
   ],
   "source": [
    "df.영화"
   ]
  },
  {
   "cell_type": "code",
   "execution_count": 261,
   "id": "eae6a819",
   "metadata": {},
   "outputs": [
    {
     "data": {
      "text/plain": [
       "0           명량\n",
       "1         극한직업\n",
       "2    신과함께-죄와 벌\n",
       "3         국제시장\n",
       "4           괴물\n",
       "5          도둑들\n",
       "6      7번방의 선물\n",
       "7           암살\n",
       "Name: 영화, dtype: object"
      ]
     },
     "execution_count": 261,
     "metadata": {},
     "output_type": "execute_result"
    }
   ],
   "source": [
    "df.loc[:,\"영화\"]"
   ]
  },
  {
   "cell_type": "code",
   "execution_count": 224,
   "id": "1fdf68c4",
   "metadata": {
    "scrolled": true
   },
   "outputs": [
    {
     "data": {
      "text/html": [
       "<div>\n",
       "<style scoped>\n",
       "    .dataframe tbody tr th:only-of-type {\n",
       "        vertical-align: middle;\n",
       "    }\n",
       "\n",
       "    .dataframe tbody tr th {\n",
       "        vertical-align: top;\n",
       "    }\n",
       "\n",
       "    .dataframe thead th {\n",
       "        text-align: right;\n",
       "    }\n",
       "</style>\n",
       "<table border=\"1\" class=\"dataframe\">\n",
       "  <thead>\n",
       "    <tr style=\"text-align: right;\">\n",
       "      <th></th>\n",
       "      <th>영화</th>\n",
       "      <th>평점</th>\n",
       "    </tr>\n",
       "  </thead>\n",
       "  <tbody>\n",
       "    <tr>\n",
       "      <th>0</th>\n",
       "      <td>명량</td>\n",
       "      <td>8.88</td>\n",
       "    </tr>\n",
       "    <tr>\n",
       "      <th>1</th>\n",
       "      <td>극한직업</td>\n",
       "      <td>9.20</td>\n",
       "    </tr>\n",
       "    <tr>\n",
       "      <th>2</th>\n",
       "      <td>신과함께-죄와 벌</td>\n",
       "      <td>8.73</td>\n",
       "    </tr>\n",
       "    <tr>\n",
       "      <th>3</th>\n",
       "      <td>국제시장</td>\n",
       "      <td>9.16</td>\n",
       "    </tr>\n",
       "    <tr>\n",
       "      <th>4</th>\n",
       "      <td>괴물</td>\n",
       "      <td>8.62</td>\n",
       "    </tr>\n",
       "    <tr>\n",
       "      <th>5</th>\n",
       "      <td>도둑들</td>\n",
       "      <td>7.64</td>\n",
       "    </tr>\n",
       "    <tr>\n",
       "      <th>6</th>\n",
       "      <td>7번방의 선물</td>\n",
       "      <td>8.83</td>\n",
       "    </tr>\n",
       "    <tr>\n",
       "      <th>7</th>\n",
       "      <td>암살</td>\n",
       "      <td>9.10</td>\n",
       "    </tr>\n",
       "  </tbody>\n",
       "</table>\n",
       "</div>"
      ],
      "text/plain": [
       "          영화    평점\n",
       "0         명량  8.88\n",
       "1       극한직업  9.20\n",
       "2  신과함께-죄와 벌  8.73\n",
       "3       국제시장  9.16\n",
       "4         괴물  8.62\n",
       "5        도둑들  7.64\n",
       "6    7번방의 선물  8.83\n",
       "7         암살  9.10"
      ]
     },
     "execution_count": 224,
     "metadata": {},
     "output_type": "execute_result"
    }
   ],
   "source": [
    "# 2) 전체 데이터 중에서 \"영화\", \"평점\" 정보를 출력하시오\n",
    "df[['영화', \"평점\"]]"
   ]
  },
  {
   "cell_type": "code",
   "execution_count": 272,
   "id": "60cb5d82",
   "metadata": {},
   "outputs": [
    {
     "data": {
      "text/html": [
       "<div>\n",
       "<style scoped>\n",
       "    .dataframe tbody tr th:only-of-type {\n",
       "        vertical-align: middle;\n",
       "    }\n",
       "\n",
       "    .dataframe tbody tr th {\n",
       "        vertical-align: top;\n",
       "    }\n",
       "\n",
       "    .dataframe thead th {\n",
       "        text-align: right;\n",
       "    }\n",
       "</style>\n",
       "<table border=\"1\" class=\"dataframe\">\n",
       "  <thead>\n",
       "    <tr style=\"text-align: right;\">\n",
       "      <th></th>\n",
       "      <th>영화</th>\n",
       "      <th>개봉 연도</th>\n",
       "    </tr>\n",
       "  </thead>\n",
       "  <tbody>\n",
       "    <tr>\n",
       "      <th>1</th>\n",
       "      <td>극한직업</td>\n",
       "      <td>2019</td>\n",
       "    </tr>\n",
       "    <tr>\n",
       "      <th>2</th>\n",
       "      <td>신과함께-죄와 벌</td>\n",
       "      <td>2017</td>\n",
       "    </tr>\n",
       "  </tbody>\n",
       "</table>\n",
       "</div>"
      ],
      "text/plain": [
       "          영화  개봉 연도\n",
       "1       극한직업   2019\n",
       "2  신과함께-죄와 벌   2017"
      ]
     },
     "execution_count": 272,
     "metadata": {},
     "output_type": "execute_result"
    }
   ],
   "source": [
    "# 3) 2015년 이후에 개봉한 영화 데이터 중에서 \"영화\", \"개봉연도\" 정보를 출력하시오.\n",
    "df.loc[df[\"개봉 연도\"]>=2015, [\"영화\", \"개봉 연도\"]]\n",
    "df[df[\"개봉 연도\"]> 2015] [[\"영화\", \"개봉 연도\"]]"
   ]
  },
  {
   "cell_type": "code",
   "execution_count": 256,
   "id": "31927f04",
   "metadata": {
    "scrolled": true
   },
   "outputs": [
    {
     "data": {
      "text/html": [
       "<div>\n",
       "<style scoped>\n",
       "    .dataframe tbody tr th:only-of-type {\n",
       "        vertical-align: middle;\n",
       "    }\n",
       "\n",
       "    .dataframe tbody tr th {\n",
       "        vertical-align: top;\n",
       "    }\n",
       "\n",
       "    .dataframe thead th {\n",
       "        text-align: right;\n",
       "    }\n",
       "</style>\n",
       "<table border=\"1\" class=\"dataframe\">\n",
       "  <thead>\n",
       "    <tr style=\"text-align: right;\">\n",
       "      <th></th>\n",
       "      <th>영화</th>\n",
       "      <th>개봉 연도</th>\n",
       "      <th>관객 수</th>\n",
       "      <th>평점</th>\n",
       "      <th>추천점수</th>\n",
       "    </tr>\n",
       "  </thead>\n",
       "  <tbody>\n",
       "    <tr>\n",
       "      <th>0</th>\n",
       "      <td>명량</td>\n",
       "      <td>2014</td>\n",
       "      <td>1761</td>\n",
       "      <td>8.88</td>\n",
       "      <td>156.0</td>\n",
       "    </tr>\n",
       "    <tr>\n",
       "      <th>1</th>\n",
       "      <td>극한직업</td>\n",
       "      <td>2019</td>\n",
       "      <td>1626</td>\n",
       "      <td>9.20</td>\n",
       "      <td>149.0</td>\n",
       "    </tr>\n",
       "    <tr>\n",
       "      <th>2</th>\n",
       "      <td>신과함께-죄와 벌</td>\n",
       "      <td>2017</td>\n",
       "      <td>1441</td>\n",
       "      <td>8.73</td>\n",
       "      <td>125.0</td>\n",
       "    </tr>\n",
       "    <tr>\n",
       "      <th>3</th>\n",
       "      <td>국제시장</td>\n",
       "      <td>2014</td>\n",
       "      <td>1426</td>\n",
       "      <td>9.16</td>\n",
       "      <td>130.0</td>\n",
       "    </tr>\n",
       "    <tr>\n",
       "      <th>4</th>\n",
       "      <td>괴물</td>\n",
       "      <td>2006</td>\n",
       "      <td>1301</td>\n",
       "      <td>8.62</td>\n",
       "      <td>112.0</td>\n",
       "    </tr>\n",
       "    <tr>\n",
       "      <th>5</th>\n",
       "      <td>도둑들</td>\n",
       "      <td>2012</td>\n",
       "      <td>1298</td>\n",
       "      <td>7.64</td>\n",
       "      <td>99.0</td>\n",
       "    </tr>\n",
       "    <tr>\n",
       "      <th>6</th>\n",
       "      <td>7번방의 선물</td>\n",
       "      <td>2013</td>\n",
       "      <td>1281</td>\n",
       "      <td>8.83</td>\n",
       "      <td>113.0</td>\n",
       "    </tr>\n",
       "    <tr>\n",
       "      <th>7</th>\n",
       "      <td>암살</td>\n",
       "      <td>2015</td>\n",
       "      <td>1270</td>\n",
       "      <td>9.10</td>\n",
       "      <td>115.0</td>\n",
       "    </tr>\n",
       "  </tbody>\n",
       "</table>\n",
       "</div>"
      ],
      "text/plain": [
       "          영화  개봉 연도  관객 수    평점   추천점수\n",
       "0         명량   2014  1761  8.88  156.0\n",
       "1       극한직업   2019  1626  9.20  149.0\n",
       "2  신과함께-죄와 벌   2017  1441  8.73  125.0\n",
       "3       국제시장   2014  1426  9.16  130.0\n",
       "4         괴물   2006  1301  8.62  112.0\n",
       "5        도둑들   2012  1298  7.64   99.0\n",
       "6    7번방의 선물   2013  1281  8.83  113.0\n",
       "7         암살   2015  1270  9.10  115.0"
      ]
     },
     "execution_count": 256,
     "metadata": {},
     "output_type": "execute_result"
    }
   ],
   "source": [
    "df[\"추천점수\"] = (df[\"관객 수\"] * df[\"평점\"])//100\n",
    "df"
   ]
  },
  {
   "cell_type": "code",
   "execution_count": 257,
   "id": "3355bdec",
   "metadata": {},
   "outputs": [
    {
     "data": {
      "text/html": [
       "<div>\n",
       "<style scoped>\n",
       "    .dataframe tbody tr th:only-of-type {\n",
       "        vertical-align: middle;\n",
       "    }\n",
       "\n",
       "    .dataframe tbody tr th {\n",
       "        vertical-align: top;\n",
       "    }\n",
       "\n",
       "    .dataframe thead th {\n",
       "        text-align: right;\n",
       "    }\n",
       "</style>\n",
       "<table border=\"1\" class=\"dataframe\">\n",
       "  <thead>\n",
       "    <tr style=\"text-align: right;\">\n",
       "      <th></th>\n",
       "      <th>영화</th>\n",
       "      <th>개봉 연도</th>\n",
       "      <th>관객 수</th>\n",
       "      <th>평점</th>\n",
       "      <th>추천점수</th>\n",
       "    </tr>\n",
       "  </thead>\n",
       "  <tbody>\n",
       "    <tr>\n",
       "      <th>1</th>\n",
       "      <td>극한직업</td>\n",
       "      <td>2019</td>\n",
       "      <td>1626</td>\n",
       "      <td>9.20</td>\n",
       "      <td>149.0</td>\n",
       "    </tr>\n",
       "    <tr>\n",
       "      <th>2</th>\n",
       "      <td>신과함께-죄와 벌</td>\n",
       "      <td>2017</td>\n",
       "      <td>1441</td>\n",
       "      <td>8.73</td>\n",
       "      <td>125.0</td>\n",
       "    </tr>\n",
       "    <tr>\n",
       "      <th>7</th>\n",
       "      <td>암살</td>\n",
       "      <td>2015</td>\n",
       "      <td>1270</td>\n",
       "      <td>9.10</td>\n",
       "      <td>115.0</td>\n",
       "    </tr>\n",
       "    <tr>\n",
       "      <th>0</th>\n",
       "      <td>명량</td>\n",
       "      <td>2014</td>\n",
       "      <td>1761</td>\n",
       "      <td>8.88</td>\n",
       "      <td>156.0</td>\n",
       "    </tr>\n",
       "    <tr>\n",
       "      <th>3</th>\n",
       "      <td>국제시장</td>\n",
       "      <td>2014</td>\n",
       "      <td>1426</td>\n",
       "      <td>9.16</td>\n",
       "      <td>130.0</td>\n",
       "    </tr>\n",
       "    <tr>\n",
       "      <th>6</th>\n",
       "      <td>7번방의 선물</td>\n",
       "      <td>2013</td>\n",
       "      <td>1281</td>\n",
       "      <td>8.83</td>\n",
       "      <td>113.0</td>\n",
       "    </tr>\n",
       "    <tr>\n",
       "      <th>5</th>\n",
       "      <td>도둑들</td>\n",
       "      <td>2012</td>\n",
       "      <td>1298</td>\n",
       "      <td>7.64</td>\n",
       "      <td>99.0</td>\n",
       "    </tr>\n",
       "    <tr>\n",
       "      <th>4</th>\n",
       "      <td>괴물</td>\n",
       "      <td>2006</td>\n",
       "      <td>1301</td>\n",
       "      <td>8.62</td>\n",
       "      <td>112.0</td>\n",
       "    </tr>\n",
       "  </tbody>\n",
       "</table>\n",
       "</div>"
      ],
      "text/plain": [
       "          영화  개봉 연도  관객 수    평점   추천점수\n",
       "1       극한직업   2019  1626  9.20  149.0\n",
       "2  신과함께-죄와 벌   2017  1441  8.73  125.0\n",
       "7         암살   2015  1270  9.10  115.0\n",
       "0         명량   2014  1761  8.88  156.0\n",
       "3       국제시장   2014  1426  9.16  130.0\n",
       "6    7번방의 선물   2013  1281  8.83  113.0\n",
       "5        도둑들   2012  1298  7.64   99.0\n",
       "4         괴물   2006  1301  8.62  112.0"
      ]
     },
     "execution_count": 257,
     "metadata": {},
     "output_type": "execute_result"
    }
   ],
   "source": [
    "df.sort_values(by=[\"개봉 연도\"], ascending = False)"
   ]
  },
  {
   "cell_type": "markdown",
   "id": "50f68095",
   "metadata": {},
   "source": []
  },
  {
   "cell_type": "code",
   "execution_count": null,
   "id": "2a68bd9c",
   "metadata": {},
   "outputs": [],
   "source": []
  }
 ],
 "metadata": {
  "kernelspec": {
   "display_name": "Python 3 (ipykernel)",
   "language": "python",
   "name": "python3"
  },
  "language_info": {
   "codemirror_mode": {
    "name": "ipython",
    "version": 3
   },
   "file_extension": ".py",
   "mimetype": "text/x-python",
   "name": "python",
   "nbconvert_exporter": "python",
   "pygments_lexer": "ipython3",
   "version": "3.10.9"
  }
 },
 "nbformat": 4,
 "nbformat_minor": 5
}
