{
 "cells": [
  {
   "cell_type": "code",
   "execution_count": 1,
   "id": "776164e9",
   "metadata": {},
   "outputs": [
    {
     "name": "stdout",
     "output_type": "stream",
     "text": [
      "Hello World\n"
     ]
    }
   ],
   "source": [
    "print(\"Hello World\")"
   ]
  },
  {
   "cell_type": "markdown",
   "id": "a26d2ed5",
   "metadata": {},
   "source": [
    "## 1.1 Markdown 작성해보기"
   ]
  },
  {
   "cell_type": "markdown",
   "id": "3cb5fc8b",
   "metadata": {},
   "source": [
    "## 1.2 Jupyter Notebook 단축키"
   ]
  },
  {
   "cell_type": "markdown",
   "id": "985cad95",
   "metadata": {},
   "source": [
    "m ; 현재 셀을 마크다운 셀로 바꿈\n",
    "dd ; 현재 셀 삭제\n",
    "b ; 현재 셀 하단에 셀 삽입\n",
    "o ; 현재 셀 실행 결과를 on/off함\n",
    "shift + arrow up/down ; 화살표를 통해 현재 셀을 포함한 여러 셀 선택\n",
    "shift + tab : 함수에 대한 설명이 나옴"
   ]
  },
  {
   "cell_type": "markdown",
   "id": "e5c7263d",
   "metadata": {},
   "source": [
    "# <kbd> 1 <kbd>"
   ]
  },
  {
   "cell_type": "code",
   "execution_count": null,
   "id": "ad161e1c",
   "metadata": {},
   "outputs": [],
   "source": [
    " "
   ]
  },
  {
   "cell_type": "code",
   "execution_count": null,
   "id": "91f7eb90",
   "metadata": {},
   "outputs": [],
   "source": []
  },
  {
   "cell_type": "code",
   "execution_count": null,
   "id": "15227b91",
   "metadata": {},
   "outputs": [],
   "source": []
  },
  {
   "cell_type": "code",
   "execution_count": null,
   "id": "ea78f7df",
   "metadata": {},
   "outputs": [],
   "source": []
  },
  {
   "cell_type": "code",
   "execution_count": null,
   "id": "39bbb601",
   "metadata": {},
   "outputs": [],
   "source": []
  },
  {
   "cell_type": "code",
   "execution_count": null,
   "id": "9bd83bb1",
   "metadata": {},
   "outputs": [],
   "source": []
  },
  {
   "cell_type": "code",
   "execution_count": null,
   "id": "758e2b41",
   "metadata": {},
   "outputs": [],
   "source": []
  },
  {
   "cell_type": "code",
   "execution_count": null,
   "id": "ea09a836",
   "metadata": {},
   "outputs": [],
   "source": []
  },
  {
   "cell_type": "code",
   "execution_count": null,
   "id": "da02180c",
   "metadata": {},
   "outputs": [],
   "source": []
  }
 ],
 "metadata": {
  "kernelspec": {
   "display_name": "Python 3 (ipykernel)",
   "language": "python",
   "name": "python3"
  },
  "language_info": {
   "codemirror_mode": {
    "name": "ipython",
    "version": 3
   },
   "file_extension": ".py",
   "mimetype": "text/x-python",
   "name": "python",
   "nbconvert_exporter": "python",
   "pygments_lexer": "ipython3",
   "version": "3.10.9"
  },
  "widgets": {
   "application/vnd.jupyter.widget-state+json": {
    "state": {},
    "version_major": 2,
    "version_minor": 0
   }
  }
 },
 "nbformat": 4,
 "nbformat_minor": 5
}
