{
 "cells": [
  {
   "cell_type": "markdown",
   "metadata": {
    "id": "pX4JIrl61O0B"
   },
   "source": [
    "## 02. 테이블 = DataFrame"
   ]
  },
  {
   "cell_type": "markdown",
   "metadata": {
    "id": "FmzWcuxs1O0E"
   },
   "source": [
    "### 이번 실습에서는 다음 내용들을 배웁니다.\n",
    "\n",
    "\n",
    "- pandas의 기본 구조인 DataFrame을 이해하고, pandas에 대한 다양한 데이터 처리 기능에 대해 배웁니다.\n",
    "\n",
    "\n",
    "- 파이썬에서 엑셀 데이터를 사용하는 방법에 대해 배웁니다."
   ]
  },
  {
   "cell_type": "code",
   "execution_count": 1,
   "metadata": {
    "id": "ZKf33GYu1O0F"
   },
   "outputs": [],
   "source": [
    "# pandas 라이브러리를 불러옵니다. pd를 약칭으로 사용합니다.\n",
    "import numpy as np\n",
    "import pandas as pd\n",
    "import matplotlib.pyplot as plt\n",
    "import seaborn as sns"
   ]
  },
  {
   "cell_type": "markdown",
   "metadata": {
    "id": "SHBTRrGn1O0G"
   },
   "source": [
    "- DataFrame은 2차원 테이블이고, 테이블의 한 줄(행/열)을 Series라고 합니다.\n",
    "\n",
    "\n",
    "- Series의 모임이 곧, DataFrame이 됩니다."
   ]
  },
  {
   "cell_type": "code",
   "execution_count": 2,
   "metadata": {
    "id": "1G20jiji1O0G"
   },
   "outputs": [],
   "source": [
    "# s는 1, 3, 5, 6, 8을 원소로 가지는 pandas.Series\n"
   ]
  },
  {
   "cell_type": "code",
   "execution_count": 3,
   "metadata": {
    "id": "DDCcZvf_1O0H"
   },
   "outputs": [
    {
     "ename": "SyntaxError",
     "evalue": "invalid syntax (4108332407.py, line 2)",
     "output_type": "error",
     "traceback": [
      "\u001b[0;36m  Input \u001b[0;32mIn [3]\u001b[0;36m\u001b[0m\n\u001b[0;31m    df =\u001b[0m\n\u001b[0m        ^\u001b[0m\n\u001b[0;31mSyntaxError\u001b[0m\u001b[0;31m:\u001b[0m invalid syntax\n"
     ]
    }
   ],
   "source": [
    "# 12x4 행렬에 1부터 48까지의 숫자를 원소를 가지고, index는 0부터 시작하고, coulmns은 순서대로 X1, X2, X3, X4로 하는 DataFrame 생성\n",
    "df =\n"
   ]
  },
  {
   "cell_type": "code",
   "execution_count": null,
   "metadata": {
    "id": "f-DQfAg81O0I"
   },
   "outputs": [],
   "source": [
    "# dataframe index\n"
   ]
  },
  {
   "cell_type": "code",
   "execution_count": null,
   "metadata": {
    "id": "aDIg6Pgt1O0I"
   },
   "outputs": [],
   "source": [
    "# dataframe columns\n"
   ]
  },
  {
   "cell_type": "code",
   "execution_count": null,
   "metadata": {
    "id": "idHPKHbk1O0I"
   },
   "outputs": [],
   "source": [
    "# dataframe values\n"
   ]
  },
  {
   "cell_type": "code",
   "execution_count": null,
   "metadata": {
    "id": "zxrzV21l_R8u"
   },
   "outputs": [],
   "source": [
    "# 특정 column을 가져오기\n"
   ]
  },
  {
   "cell_type": "code",
   "execution_count": null,
   "metadata": {
    "id": "D82NIyGl_Vxg"
   },
   "outputs": [],
   "source": [
    "# X1 column에 2 더하기\n"
   ]
  },
  {
   "cell_type": "code",
   "execution_count": null,
   "metadata": {
    "id": "3tMDFroS1O0I"
   },
   "outputs": [],
   "source": [
    "# dataframe의 맨 위 다섯줄을 보여주는 head()\n"
   ]
  },
  {
   "cell_type": "code",
   "execution_count": null,
   "metadata": {
    "id": "esOQrRqz1O0I"
   },
   "outputs": [],
   "source": [
    "# 10줄\n"
   ]
  },
  {
   "cell_type": "code",
   "execution_count": null,
   "metadata": {
    "id": "UfzLGbmi1O0J"
   },
   "outputs": [],
   "source": [
    "# dataframe에 대한 전체적인 요약정보를 보여줍니다. index, columns, null/not-null/dtype/memory usage가 표시됩니다.\n"
   ]
  },
  {
   "cell_type": "code",
   "execution_count": null,
   "metadata": {
    "id": "mJIdXzru1O0J"
   },
   "outputs": [],
   "source": [
    "# dataframe에 대한 전체적인 통계정보를 보여줍니다.\n"
   ]
  },
  {
   "cell_type": "code",
   "execution_count": null,
   "metadata": {
    "id": "phhfsYic1O0J"
   },
   "outputs": [],
   "source": [
    "# X2 column를 기준으로 내림차순 정렬\n"
   ]
  },
  {
   "cell_type": "markdown",
   "metadata": {},
   "source": [
    "## 03. 원하는 데이터를 찾아오자"
   ]
  },
  {
   "cell_type": "markdown",
   "metadata": {
    "id": "TvB4WvhU1O0J"
   },
   "source": [
    "### Fancy Indexing ! (***)\n",
    "\n",
    "- 데이터를 filtering <=> Search !\n",
    "\n",
    "- 전체 데이터에서 원하는 일부의 데이터를 찾아오는 방법 !"
   ]
  },
  {
   "cell_type": "code",
   "execution_count": null,
   "metadata": {
    "id": "9AL-CdKx1O0J"
   },
   "outputs": [],
   "source": [
    "# pandas dataframe은 column 이름을 이용하여 기본적인 Indexing이 가능합니다.\n",
    "# X1 column을 indexing\n"
   ]
  },
  {
   "cell_type": "code",
   "execution_count": null,
   "metadata": {
    "id": "mQxYHIcj1O0K"
   },
   "outputs": [],
   "source": [
    "# dataframe에서 slicing을 이용하면 row 단위로 잘려나옵니다.\n",
    "# 앞에서 3줄을 slicing 합니다.\n"
   ]
  },
  {
   "cell_type": "code",
   "execution_count": null,
   "metadata": {
    "id": "eSGPlexr1O0K"
   },
   "outputs": [],
   "source": [
    "# df에서 index value를 기준으로 indexing도 가능합니다. (여전히 row 단위)\n",
    "# 두번째 row\n"
   ]
  },
  {
   "cell_type": "code",
   "execution_count": null,
   "metadata": {
    "id": "Ga2iIs5i1O0K"
   },
   "outputs": [],
   "source": [
    "# df.loc는 특정값을 기준으로 indexing합니다. (key - value)\n"
   ]
  },
  {
   "cell_type": "code",
   "execution_count": null,
   "metadata": {
    "id": "83TvGhjv1O0K"
   },
   "outputs": [],
   "source": [
    "# df.loc에 2차원 indexing도 가능합니다.\n"
   ]
  },
  {
   "cell_type": "code",
   "execution_count": null,
   "metadata": {},
   "outputs": [],
   "source": [
    "## boolean mask == filter\n",
    "# Q. df에서 X2 column이 20 이상인 모든 데이터(row)를 출력하세요.\n",
    "\n",
    "\n",
    "# Q2. df에서 X2 column이 20 이상인 X4를 출력하세요.\n"
   ]
  },
  {
   "cell_type": "code",
   "execution_count": null,
   "metadata": {},
   "outputs": [],
   "source": [
    "# Q3. X3 column에서 10 이상 30 이하인 데이터를 뽑아주세요.\n",
    "\n",
    "\n",
    "\n",
    "# Q4. X3 column에서 10이하 30 이상인 데이터를 뽑아주세요.\n"
   ]
  },
  {
   "cell_type": "code",
   "execution_count": null,
   "metadata": {
    "id": "Kfwoiv4d1O0L"
   },
   "outputs": [],
   "source": [
    "# iloc로 2차원 indexing을 하게되면, row 기준으로 index 3,4를 가져오고 column 기준으로 0, 1을 가져옵니다.\n",
    "# Q. 3번째 row부터 8번째 row까지, 첫번째 column부터 3개\n"
   ]
  },
  {
   "cell_type": "markdown",
   "metadata": {
    "id": "UMZgXZmV1O0N"
   },
   "source": [
    "## 04. 엑셀의 피벗 테이블? 판다스에도 있다!\n",
    "\n",
    "- pivot table이란 기존 테이블 구조를 특정 column을 기준으로 재구조화한 테이블을 말합니다.\n",
    "\n",
    "- 특정 column을 기준으로 pivot하기 때문에, 어떤 column에 어떤 연산을 하느냐에 따라서 만들어지는 결과가 바뀝니다.\n",
    "\n",
    "- 주로 어떤 column을 기준으로 데이터를 해석하고 싶을 때 사용합니다."
   ]
  },
  {
   "cell_type": "markdown",
   "metadata": {
    "id": "XVC6o-cr1O0M"
   },
   "source": [
    "Data Source : https://www.kaggle.com/c/titanic/data"
   ]
  },
  {
   "cell_type": "code",
   "execution_count": null,
   "metadata": {
    "id": "Wat_rYUl1O0M"
   },
   "outputs": [],
   "source": [
    "# 타이타닉 데이터 불러오기\n",
    "titanic = "
   ]
  },
  {
   "cell_type": "code",
   "execution_count": null,
   "metadata": {
    "id": "W_Sh_g4oAw6o"
   },
   "outputs": [],
   "source": [
    "# 데이터 크기, 데이터 Column 정보, Null count(결측치 개수), column별 데이터 타입\n",
    "titanic.info()\n",
    "\n",
    "# 통계량\n",
    "titanic.describe()"
   ]
  },
  {
   "cell_type": "code",
   "execution_count": null,
   "metadata": {
    "id": "9YBW7IRO1O0N"
   },
   "outputs": [],
   "source": [
    "# 성별을 기준으로 생존률 파악 --> Mean vs Sum\n"
   ]
  },
  {
   "cell_type": "code",
   "execution_count": null,
   "metadata": {
    "id": "fXzMTqeq1O0N"
   },
   "outputs": [],
   "source": [
    "# 사회 계급을 기준으로 생존률 파악\n",
    " "
   ]
  }
 ],
 "metadata": {
  "anaconda-cloud": {},
  "colab": {
   "collapsed_sections": [],
   "name": "Chapter.02 데이터 분석 라이브러리-06. Pandas method (실습).ipynb",
   "provenance": []
  },
  "kernelspec": {
   "display_name": "Python 3 (ipykernel)",
   "language": "python",
   "name": "python3"
  },
  "language_info": {
   "codemirror_mode": {
    "name": "ipython",
    "version": 3
   },
   "file_extension": ".py",
   "mimetype": "text/x-python",
   "name": "python",
   "nbconvert_exporter": "python",
   "pygments_lexer": "ipython3",
   "version": "3.10.5"
  }
 },
 "nbformat": 4,
 "nbformat_minor": 1
}
