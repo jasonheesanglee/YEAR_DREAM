{
 "cells": [
  {
   "cell_type": "markdown",
   "metadata": {
    "id": "c52Pi1pmO5bJ"
   },
   "source": [
    "### 이번 실습에서는 다음 내용들을 배웁니다.\n",
    "\n",
    "\n",
    "- 사전(dictionary) 구조에 대해 배웁니다.\n",
    "\n",
    "\n",
    "- 사전과 리스트의 차이점에 대해 배웁니다."
   ]
  },
  {
   "cell_type": "markdown",
   "metadata": {
    "id": "OcKajPQpO5bW"
   },
   "source": [
    "### 4. 사전(Dictionary) (**)\n",
    "\n",
    "\n",
    "\n",
    "**파이썬에서 리스트와 함께 굉장히 많이 사용되는 구조. 특히 이번 교육과정 중에 많이 사용되니 꼭 마스터하는 것을 추천한다.**\n",
    "\n",
    "\n",
    "- 파이썬에서 제공하는 사전 자료형은 key - value 방법을 통해 저장한다.\n",
    "\n",
    "| name | code |\n",
    "| --- | --- |\n",
    "| \"John\" | 0011 |\n",
    "| \"Maria\" | 1234 |\n",
    "\n",
    "\n",
    "- 이런 table concept을 의미하며, 정수 index가 아닌 key값을 통해서 value를 access한다.\n",
    "\n",
    "> key-value 방식으로 저장을 하는 것으로 얻는 이점은?\n",
    "\n",
    "> A. 순서가 아닌 의미가 있는 값을 통해서 데이터 접근이 가능하다.\n",
    "\n",
    "\n",
    "\n",
    "- 파이썬에서 사전 자료형은 {}을 이용하여 표현하는데, 집합과의 차이점을 두기 위해 원소에 *반드시* <kbd>:</kbd>가 들어가야 한다.\n",
    "\n",
    "\n",
    "- 사전을 표현할 때는 {key : value, key2 : value2, ... } 형태로 표현한다.\n",
    "\n",
    "e.g. {'a' : 1', \"b\" : 3}"
   ]
  },
  {
   "cell_type": "markdown",
   "metadata": {
    "id": "I5tpF-GuO5bW"
   },
   "source": [
    "### 사전을 만드는 방법"
   ]
  },
  {
   "cell_type": "code",
   "execution_count": null,
   "metadata": {
    "id": "kiYvkSfLO5bW"
   },
   "outputs": [],
   "source": [
    "# 위에 나온 테이블 예시를 사전으로 만들어봅니다.\n",
    "D = "
   ]
  },
  {
   "cell_type": "code",
   "execution_count": null,
   "metadata": {
    "id": "MJWxWTZeO5bW"
   },
   "outputs": [],
   "source": [
    "# 사전 D에 key가 'a'이고 value가 3인 원소를 추가하자.\n"
   ]
  },
  {
   "cell_type": "code",
   "execution_count": null,
   "metadata": {
    "id": "fQjnyillO5bW"
   },
   "outputs": [],
   "source": [
    "# key값이 이미 존재하는 경우에는 key값을 통한 indexing이 되며,\n",
    "# key값이 존재하지 않을 때는 assignment를 사용하여 원소를 추가한다.\n"
   ]
  },
  {
   "cell_type": "code",
   "execution_count": null,
   "metadata": {
    "id": "-TTBHEUYO5bW"
   },
   "outputs": [],
   "source": [
    "D2 = {'a' : 1 , 'a' : 2, 'b': 3} # 무엇이 문제일까?\n",
    "D2"
   ]
  },
  {
   "cell_type": "markdown",
   "metadata": {
    "id": "bS4jvsvKO5bW"
   },
   "source": [
    "> **TIP** 사전을 만들 때 key는 중복이 있으면 절대 안된다.\n",
    "\n",
    "> 사전에서 key가 될 수 있는 data type은 **immutable**이어야 한다.\n",
    "\n",
    "> **immutable : tuple, int, float, str**"
   ]
  },
  {
   "cell_type": "markdown",
   "metadata": {
    "id": "xvva48l5O5bW"
   },
   "source": [
    "### 사전 관련 함수"
   ]
  },
  {
   "cell_type": "markdown",
   "metadata": {
    "id": "AuiC0cXuO5bW"
   },
   "source": [
    "#### 사전의 모든 key값들 보기 keys()"
   ]
  },
  {
   "cell_type": "code",
   "execution_count": null,
   "metadata": {
    "id": "XeYkcSA_O5bW"
   },
   "outputs": [],
   "source": [
    "D = {'name': 'kim', 'phone': '01012345679', 'birth': '1234'}\n"
   ]
  },
  {
   "cell_type": "markdown",
   "metadata": {
    "id": "qzv5wDxPO5bW"
   },
   "source": [
    "#### 사전의 모든 value들 보기 values()"
   ]
  },
  {
   "cell_type": "code",
   "execution_count": null,
   "metadata": {
    "id": "E6TL46qWO5bW"
   },
   "outputs": [],
   "source": []
  },
  {
   "cell_type": "markdown",
   "metadata": {
    "id": "wYi8lJzZO5bW"
   },
   "source": [
    "#### 사전의 모든 key, value 쌍 보기 items()"
   ]
  },
  {
   "cell_type": "code",
   "execution_count": null,
   "metadata": {
    "id": "S1MvTj0ZO5bW"
   },
   "outputs": [],
   "source": []
  },
  {
   "cell_type": "markdown",
   "metadata": {},
   "source": [
    "#### 사전의 원소 제거하기 pop()"
   ]
  },
  {
   "cell_type": "code",
   "execution_count": null,
   "metadata": {},
   "outputs": [],
   "source": []
  },
  {
   "cell_type": "markdown",
   "metadata": {
    "id": "PgZpX_dXO5bX"
   },
   "source": [
    "### Sequence에 해당 데이터가 존재하는지 확인하기 : `in` operator\n",
    "\n",
    "\n",
    "- in이라는 operator는 모든 연속형 데이터 타입에 사용할 수 있다.\n",
    "\n",
    "\n",
    "- 사전의 경우에는 key값을 대상으로 하고, 리스트, 튜플, 집합, 문자열에 대해서는 해당 원소가 존재하는지 찾아서 True / False 를 알려준다."
   ]
  },
  {
   "cell_type": "code",
   "execution_count": null,
   "metadata": {
    "id": "Sx2dWMd5O5bX"
   },
   "outputs": [],
   "source": [
    "\"phone\" in D"
   ]
  },
  {
   "cell_type": "code",
   "execution_count": null,
   "metadata": {
    "id": "rnlSH8PIO5bX"
   },
   "outputs": [],
   "source": [
    "\"Lee\" in D  # in이라는 연산은 사전에서는 key에 적용된다."
   ]
  },
  {
   "cell_type": "code",
   "execution_count": null,
   "metadata": {
    "id": "AFXTWwHCO5bX"
   },
   "outputs": [],
   "source": [
    "# 리스트, 튜플, 집합에서도 테스트\n",
    "L = [1, 2, 3]\n",
    "t = (4, 5, 6)\n",
    "s = {7, 8, 9}\n",
    "st = \"Hello World\"\n"
   ]
  },
  {
   "cell_type": "markdown",
   "metadata": {},
   "source": [
    "### 연습문제. 도서 관리하기\n",
    "\n",
    "- 도서관에서 도서 관련 정보를 프로그램에 저장하려고 합니다.\n",
    "\n",
    "\n",
    "- 도서와 관련된 정보는 \"책 제목 / 도서번호 / 도서분류\" 가 있습니다.\n",
    "\n",
    "\n",
    "- 현재 도서는 총 5권이 있습니다. 5권에 해당하는 도서 정보는 다음과 같습니다. (실제 존재하는 도서가 아닌 예제를 위한 가상의 도서입니다)\n",
    "\n",
    "<br>\n",
    "\n",
    "\"기초 파이썬 프로그래밍 | 0011 |프로그래밍/IT\"\n",
    "\n",
    "\"한 번에 배우는 데이터 분석 | 1234 |프로그래밍/IT\"\n",
    "\n",
    "\"40세에 돌아본 인생 | 3014 | 인문교양\"\n",
    "\n",
    "\"집밥 101 | 9744 | 요리\"\n",
    "\n",
    "\"300일로 끝내는 나홀로 세계여행 | 8861 | 여행\"\n",
    "<br>\n",
    "\n",
    "\n",
    "- 다음 두 가지 방식으로 데이터를 관리해보려고 합니다. 각 방식대로 프로그램을 작성해보고 차이점에 대해 생각해보세요.\n",
    "\n",
    "<br>\n",
    "\n",
    "1. 리스트로 관리하기\n",
    "\n",
    "> 도서이름들을 관리하는 name_list\n",
    "\n",
    "> 도서번호들을 관리하는 number_list\n",
    "\n",
    "> 도서분류들은 관리하는 category_list\n",
    "<br>\n",
    "\n",
    "2. 사전으로 관리하기\n",
    "\n",
    "> 0, 1, 2, 3, 4를 key로 하고 value는 각 도서정보(사전)인 사전을 만든다.\n",
    "\n",
    "> 각 도서정보는 \"name\", \"number\", \"category\"를 key로 하고 value는 각 도서의 해당하는 정보를 적는다."
   ]
  },
  {
   "cell_type": "code",
   "execution_count": null,
   "metadata": {},
   "outputs": [],
   "source": []
  }
 ],
 "metadata": {
  "colab": {
   "collapsed_sections": [],
   "name": "Chapter.01 파이썬 프로그래밍-04. Data Type (실습).ipynb",
   "provenance": []
  },
  "kernelspec": {
   "display_name": "Python 3 (ipykernel)",
   "language": "python",
   "name": "python3"
  },
  "language_info": {
   "codemirror_mode": {
    "name": "ipython",
    "version": 3
   },
   "file_extension": ".py",
   "mimetype": "text/x-python",
   "name": "python",
   "nbconvert_exporter": "python",
   "pygments_lexer": "ipython3",
   "version": "3.10.5"
  }
 },
 "nbformat": 4,
 "nbformat_minor": 1
}
