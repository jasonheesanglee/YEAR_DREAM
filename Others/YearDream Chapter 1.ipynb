{
 "cells": [
  {
   "cell_type": "markdown",
   "id": "75008b62",
   "metadata": {},
   "source": [
    "### Python Data Type\n",
    "\n",
    "1. int (v)\n",
    "2. float\n",
    "3. str (v)\n",
    "4. list (v)\n",
    "5. tuple\n",
    "6. set\n",
    "7. dict"
   ]
  },
  {
   "cell_type": "code",
   "execution_count": 13,
   "id": "93e0d137",
   "metadata": {},
   "outputs": [
    {
     "data": {
      "text/plain": [
       "10"
      ]
     },
     "execution_count": 13,
     "metadata": {},
     "output_type": "execute_result"
    }
   ],
   "source": [
    "# 1. int\n",
    "\n",
    "a = 10 # Dynamic type binding\n",
    "# 10 = a # = is not =, it is more like <- (lvalue (variable) = rvalue (value / data))\n",
    "a"
   ]
  },
  {
   "cell_type": "code",
   "execution_count": 15,
   "id": "cf767feb",
   "metadata": {},
   "outputs": [
    {
     "data": {
      "text/plain": [
       "10"
      ]
     },
     "execution_count": 15,
     "metadata": {},
     "output_type": "execute_result"
    }
   ],
   "source": [
    "b = a # a is already a data\n",
    "b"
   ]
  },
  {
   "cell_type": "code",
   "execution_count": 26,
   "id": "78a36912",
   "metadata": {},
   "outputs": [
    {
     "name": "stdout",
     "output_type": "stream",
     "text": [
      "Hello World\n",
      "\n",
      "Hello World\n",
      "!!!\n",
      "\n",
      "\n",
      "Hello World!!!\n",
      "!!!Hello World\n"
     ]
    }
   ],
   "source": [
    "# 3. str (= character sequence)\n",
    "\n",
    "s = \"Hello World\"\n",
    "print(s)\n",
    "print()\n",
    "\n",
    "s2 = \"!!!\"\n",
    "print(s)\n",
    "print(s2)\n",
    "print()\n",
    "\n",
    "print(s + s2) # concatenation\n",
    "print(s2 + s)"
   ]
  },
  {
   "cell_type": "code",
   "execution_count": 27,
   "id": "691dc0a8",
   "metadata": {},
   "outputs": [
    {
     "data": {
      "text/plain": [
       "'!!!'"
      ]
     },
     "execution_count": 27,
     "metadata": {},
     "output_type": "execute_result"
    }
   ],
   "source": [
    "s\n",
    "s2"
   ]
  },
  {
   "cell_type": "code",
   "execution_count": 40,
   "id": "6ae9b87a",
   "metadata": {},
   "outputs": [
    {
     "name": "stdout",
     "output_type": "stream",
     "text": [
      "[1, 2, 3, 4, 5]\n",
      "[1, 3.14, 'a', [1, 2]]\n",
      "\n",
      "[1, 10, 3, 4, 5]\n",
      "[1, 10, 'a', 3, 4, 5]\n",
      "[1, 10, 3, 4, 5]\n"
     ]
    }
   ],
   "source": [
    "# 4. List : Flexible\n",
    "L = [1, 2, 3, 4, 5]\n",
    "L2 = [1, 3.14, \"a\", [1, 2]]\n",
    "print(L)\n",
    "print(L2)\n",
    "print()\n",
    "\n",
    "# 4.1 Update Element\n",
    "L[1] = 10 # L의 두번째 원소를 10으로 바꿈.\n",
    "print(L)\n",
    "\n",
    "# 4.2 Insert Element\n",
    "L.insert(2,\"a\") # L의 세번째 원소 앞에 \"a\"를 추가함.\n",
    "print(L)\n",
    "\n",
    "# 4.3 Remove Element\n",
    "L.remove(\"a\") # L에 첫번째부터 보면서 처음으로 만난 \"a\"를 제거함.\n",
    "print(L)\n"
   ]
  },
  {
   "cell_type": "code",
   "execution_count": 45,
   "id": "4491f20c",
   "metadata": {},
   "outputs": [
    {
     "name": "stdout",
     "output_type": "stream",
     "text": [
      "['a', 10, 3, 4, 5]\n",
      "[1, 3.14, 'a', ['a', 2]]\n"
     ]
    },
    {
     "data": {
      "text/plain": [
       "(['a', 10, 3, 4, 5], [1, 3.14, 'a', ['a', 2]])"
      ]
     },
     "execution_count": 45,
     "metadata": {},
     "output_type": "execute_result"
    }
   ],
   "source": [
    "L[0] = \"a\"\n",
    "L2[3][0] = \"a\"\n",
    "print(L)\n",
    "print(L2)\n",
    "\n",
    "L, L2"
   ]
  },
  {
   "cell_type": "markdown",
   "id": "3314ae1e",
   "metadata": {},
   "source": [
    "### Python if, while, for\n",
    "\n",
    "- if : 조건문\n",
    "\n",
    "- while : 조건에 따른 반복문 (무한루프)\n",
    "\n",
    "- for : 횟수에 따른 반복문"
   ]
  },
  {
   "cell_type": "code",
   "execution_count": 97,
   "id": "5e2cf714",
   "metadata": {},
   "outputs": [
    {
     "name": "stdout",
     "output_type": "stream",
     "text": [
      "2 x 1 = 2\n",
      "2 x 2 = 4\n",
      "2 x 3 = 6\n",
      "2 x 4 = 8\n",
      "2 x 5 = 10\n",
      "2 x 6 = 12\n",
      "2 x 7 = 14\n",
      "2 x 8 = 16\n",
      "2 x 9 = 18\n",
      "\n",
      "2 x 1 = 2\n",
      "2 x 2 = 4\n",
      "2 x 3 = 6\n",
      "2 x 4 = 8\n",
      "2 x 5 = 10\n",
      "2 x 6 = 12\n",
      "2 x 7 = 14\n",
      "2 x 8 = 16\n",
      "2 x 9 = 18\n",
      "\n",
      "2 x 1 = 2\n",
      "2 x 2 = 4\n",
      "2 x 3 = 6\n",
      "2 x 4 = 8\n",
      "2 x 5 = 10\n",
      "2 x 6 = 12\n",
      "2 x 7 = 14\n",
      "2 x 8 = 16\n",
      "2 x 9 = 18\n",
      "--while--\n",
      "2 x 1 = 2\n",
      "2 x 2 = 4\n",
      "2 x 3 = 6\n",
      "2 x 4 = 8\n",
      "2 x 5 = 10\n",
      "2 x 6 = 12\n",
      "2 x 7 = 14\n",
      "2 x 8 = 16\n",
      "2 x 9 = 18\n"
     ]
    }
   ],
   "source": [
    "# Q. 구구단 2단 출력\n",
    "\n",
    "a = 2\n",
    "\n",
    "\n",
    "for i in range(1,10):\n",
    "    print(\"2 x\", i, \"=\", i*2)\n",
    "\n",
    "print()\n",
    "\n",
    "# fstring\n",
    "\n",
    "for i in range(1,10):\n",
    "    print(\"{} x {} = {}\".format(a, i, i*2))\n",
    "\n",
    "print()\n",
    "\n",
    "for number in range(1,10):\n",
    "    print(f\"2 x {number} = {2*number}\")\n",
    "\n",
    "print(\"-\"*2+\"while\"+\"-\"*2)\n",
    "\n",
    "number = 1\n",
    "\n",
    "while 1 <= number <= 9:\n",
    "    print(f\"2 x {number} = {2*number}\")\n",
    "    number = number + 1\n"
   ]
  },
  {
   "cell_type": "code",
   "execution_count": 67,
   "id": "39afc19f",
   "metadata": {},
   "outputs": [
    {
     "name": "stdout",
     "output_type": "stream",
     "text": [
      "2 x 1 = 2\n",
      "2 x 2 = 4\n",
      "2 x 3 = 6\n",
      "2 x 4 = 8\n",
      "2 x 5 = 10\n",
      "2 x 6 = 12\n",
      "2 x 7 = 14\n",
      "2 x 8 = 16\n",
      "2 x 9 = 18\n"
     ]
    }
   ],
   "source": [
    "number = 0\n",
    "\n",
    "while 0 <= number <= 9:\n",
    "    if number == 0:\n",
    "        number = number + 1\n",
    "        continue\n",
    "    else:\n",
    "        print(f\"2 x {number} = {2*number}\")\n",
    "        number = number + 1\n",
    "        "
   ]
  },
  {
   "cell_type": "code",
   "execution_count": null,
   "id": "7244d0ac",
   "metadata": {},
   "outputs": [],
   "source": [
    "\n",
    "def bubble_sort(lst1):\n",
    "    \n",
    "    N = len(lst1)\n",
    "    for k in lst1:\n",
    "        for i in range(N):\n",
    "            for j in range(i - i -1):\n",
    "                if lst1[j] > lst1[j+1]:\n",
    "                    lst1[j], lst1[j+1] = lst1[j+1], lst1[j]\n",
    "                return\n",
    "\n",
    "        print(lst1)\n",
    "\n",
    "\n",
    "lst1 = [5, 4, 3, 2, 1]\n",
    "\n",
    "while(1):\n",
    "    print(\"first list: \"), bubble_sort(lst1)\n",
    "    if(lst1 == [1,2,3,4,5]):\n",
    "        break"
   ]
  },
  {
   "cell_type": "code",
   "execution_count": 69,
   "id": "d7a877e4",
   "metadata": {},
   "outputs": [],
   "source": [
    "list1 = [5, 4, 3, 2, 1]\n",
    "list2 = [3, 1, 2, 5, 4]\n",
    "\n",
    "def bubbleSort(L):\n",
    "    N = len(L)\n",
    "    for i in range(N):\n",
    "        for j in range(N - 1 - i):\n",
    "            if L[j] > L[j + 1]:\n",
    "                L[j], L[j + 1] = L[j + 1], L[j]\n",
    "                print(L)\n",
    "            \n",
    "                "
   ]
  },
  {
   "cell_type": "code",
   "execution_count": null,
   "id": "00bca3d6",
   "metadata": {},
   "outputs": [],
   "source": [
    "''''''        \n",
    "while(1):\n",
    "    bubble_sort(lst2)\n",
    "    if lst2 == [1, 2, 3, 4, 5]:\n",
    "        break\n",
    "''''''\n",
    "\n",
    "lst2 = [5, 4, 3, 2, 1]\n",
    "lst3 = [3, 1, 2, 5, 4]\n"
   ]
  },
  {
   "cell_type": "code",
   "execution_count": null,
   "id": "8a4e39fe",
   "metadata": {},
   "outputs": [],
   "source": []
  },
  {
   "cell_type": "code",
   "execution_count": 80,
   "id": "dad78d38",
   "metadata": {},
   "outputs": [
    {
     "data": {
      "text/plain": [
       "12.9375"
      ]
     },
     "execution_count": 80,
     "metadata": {},
     "output_type": "execute_result"
    }
   ],
   "source": [
    "12.9375\n",
    "\n",
    "binary 1100.0111\n",
    "normalized mantissa 1.100 0111 *2^3 \n",
    "exponent 127+3 = 130\n",
    "\n",
    "0100 0001 0100 0111 0000 0000 0000 0000\n",
    "  4   1     4    7   0    0    0    0\n",
    "\n",
    "0x41470000\n"
   ]
  },
  {
   "cell_type": "code",
   "execution_count": null,
   "id": "555c7327",
   "metadata": {},
   "outputs": [
    {
     "name": "stdout",
     "output_type": "stream",
     "text": [
      "0b1100.1111\n",
      "12\n",
      "0.9375\n",
      "\n",
      "1100\n"
     ]
    }
   ],
   "source": [
    "from binary_fractions import Binary\n",
    "\n",
    "\n",
    "\n",
    "num = 12.9375\n",
    "a = Binary(num)\n",
    "print(a)\n",
    "\n",
    "\n",
    "result=''\n",
    "result_1=\"\"\n",
    "\n",
    "integer_num = int(num)\n",
    "fractionalPart = num - int(num)\n",
    "\n",
    "print(integer_num)\n",
    "print(fractionalPart)\n",
    "\n",
    "print()\n",
    "\n",
    "while (integer_num > 0):\n",
    "    remainder = integer_num % 2\n",
    "    integer_num = integer_num // 2\n",
    "    result = str(remainder) + result\n",
    "print(result)\n",
    "\n",
    "while (fractionalPart):\n",
    "    fractionalPart_1 = fractionalPart*2\n",
    "    bit = int(fractionalPart_1)\n",
    "    if (bit == 1) :   \n",
    "        fractionalPart_1 -= bit  \n",
    "        result_1 += '1'\n",
    "    else : \n",
    "        result_1 += '0'\n",
    "    fractionalPart_1 -= 1\n",
    "return result_1\n",
    "\n",
    "print(\"What\")\n"
   ]
  },
  {
   "cell_type": "code",
   "execution_count": 378,
   "id": "ebce8a71",
   "metadata": {
    "scrolled": true
   },
   "outputs": [
    {
     "name": "stdout",
     "output_type": "stream",
     "text": [
      "Please enter your number: 12.9375\n",
      "Your input number is 12.9375 <class 'float'>\n",
      "\n",
      "0.9375\n",
      "fractions = 0.875\n",
      "fractions_1 = 1\n",
      "fractions = 0.75\n",
      "fractions_1 = 1\n",
      "fractions = 0.5\n",
      "fractions_1 = 1\n",
      "fractions = 0.0\n",
      "fractions_1 = 1\n",
      "result = 1100.\n",
      "result_1 = 1111\n",
      "binary = 1100.1111\n",
      "\n",
      "binary first char = 1\n",
      "rest of binary = 100.1111\n",
      "rest of binary = 1001111\n",
      "\n",
      "16\n",
      "\n",
      "01000001010011110000000000000000\n",
      "32\n",
      "\n",
      "4\n",
      "1\n",
      "4\n",
      "15\n",
      "0\n",
      "0\n",
      "0\n",
      "0\n",
      "[4, 1, 4, 15, 0, 0, 0, 0]\n",
      "4\n",
      "1\n",
      "4\n",
      "15\n",
      "0\n",
      "0\n",
      "0\n",
      "0\n",
      "[4, 1, 4, 15, 0, 0, 0, 0]\n",
      "0x414F0000\n"
     ]
    }
   ],
   "source": [
    "Input = input(\"Please enter your number: \")\n",
    "\n",
    "\n",
    "if Input.isdecimal() == True:\n",
    "    Input = int(Input)\n",
    "\n",
    "else:\n",
    "    Input = float(Input)\n",
    "\n",
    "print(\"Your input number is\", Input, type(Input))\n",
    "\n",
    "\n",
    "\n",
    "decimal = int(Input)\n",
    "fractions = float(Input) - float(decimal)\n",
    "\n",
    "if int(Input) < 0:\n",
    "    positive_negative = 1\n",
    "else:\n",
    "    positive_negative = 0\n",
    "\n",
    "\n",
    "# print(decimal) # decimal = integer\n",
    "# print(fractions) # fractions = float\n",
    "\n",
    "\n",
    "print()\n",
    "\n",
    "result = \"\"\n",
    "\n",
    "\n",
    "while decimal > 0:\n",
    "    remainder = decimal % 2\n",
    "    decimal = decimal // 2\n",
    "    result = str(remainder) + result\n",
    "\n",
    "result_1 = \"\"\n",
    "\n",
    "result += \".\"\n",
    "\n",
    "print(fractions)\n",
    "\n",
    "while 0 < fractions < 1:\n",
    "    fractions *= 2\n",
    "    fractions_1 = int(fractions)\n",
    "    \n",
    "    if fractions_1 == 1:\n",
    "        fractions -= fractions_1\n",
    "        result_1 += \"1\"\n",
    "        print(\"fractions =\", fractions)    \n",
    "        print(\"fractions_1 =\", fractions_1)\n",
    "        \n",
    "    else :\n",
    "        result_1 += \"0\"\n",
    "\n",
    "\n",
    "if str(Input).isdecimal() == True:\n",
    "        result_1 = None    \n",
    "\n",
    "print(\"result =\", result)\n",
    "print(\"result_1 =\", result_1)\n",
    "\n",
    "\n",
    "if result_1 == None:\n",
    "    binary = result\n",
    "\n",
    "else:\n",
    "    binary = result + result_1\n",
    "\n",
    "print(\"binary =\", binary)\n",
    "\n",
    "print()\n",
    "\n",
    "if binary.find(\".\") == 1 or 0:\n",
    "    binary = binary\n",
    "\n",
    "else:\n",
    "    binary_first_char = binary[:1]\n",
    "    binary_rest = binary[1:]\n",
    "    \n",
    "    print(\"binary first char =\", binary_first_char)\n",
    "    print(\"rest of binary =\", binary_rest)\n",
    "\n",
    "    br_1 = str(binary_rest).split(\".\")[0]\n",
    "    br_2 = str(binary_rest).split(\".\")[1]\n",
    "    binary_rest = br_1 + br_2\n",
    "\n",
    "print(\"rest of binary =\", binary_rest)\n",
    "\n",
    "result_2 = \"\"\n",
    "\n",
    "print()\n",
    "\n",
    "exponent = 127 +(binary.find(\".\") - 1)\n",
    "\n",
    "while(exponent > 0):\n",
    "    remainder_1 = exponent % 2\n",
    "    exponent = exponent // 2\n",
    "    result_2 = str(remainder_1) + result_2\n",
    "    \n",
    "bit = str(positive_negative) + str(result_2) + str(binary_rest)\n",
    "print(len(bit))\n",
    "\n",
    "print()\n",
    "\n",
    "if len(bit) > 32:\n",
    "    bit = bit[0:32]\n",
    "\n",
    "else:\n",
    "    for i in range(32 - len(bit)):\n",
    "        bit = bit + \"0\"\n",
    "    \n",
    "print(bit)\n",
    "print(len(bit))\n",
    "\n",
    "print()\n",
    "\n",
    "class Binary_hexa:\n",
    "    def __init__(self, val_1, val_2, val_3, val_4):\n",
    "        self.val_1 = int(val_1)*8\n",
    "        self.val_2 = int(val_2)*4\n",
    "        self.val_3 = int(val_3)*2\n",
    "        self.val_4 = int(val_4)*1\n",
    "        self.multi = self.val_1 + self.val_2 + self.val_3 + self.val_4\n",
    "\n",
    "\n",
    "\n",
    "first = bit[0:4]\n",
    "second = bit[4:8]\n",
    "third = bit[8:12]\n",
    "fourth = bit[12:16]\n",
    "fifth = bit[16:20]\n",
    "sixth = bit[20:24]\n",
    "seventh = bit[24:28]\n",
    "eighth = bit[28:32]\n",
    "\n",
    "\n",
    "\n",
    "\n",
    "first = Binary_hexa(first[0], first[1], first[2], first[3])\n",
    "first = first.multi\n",
    "print(first)\n",
    "\n",
    "second = Binary_hexa(second[0], second[1], second[2], second[3])\n",
    "second = second.multi\n",
    "print(second)\n",
    "\n",
    "third = Binary_hexa(third[0], third[1], third[2], third[3])\n",
    "third = third.multi\n",
    "print(third)\n",
    "\n",
    "fourth = Binary_hexa(fourth[0], fourth[1], fourth[2], fourth[3])\n",
    "fourth = fourth.multi\n",
    "print(fourth)\n",
    "\n",
    "fifth = Binary_hexa(fifth[0], fifth[1], fifth[2], fifth[3])\n",
    "fifth = fifth.multi\n",
    "print(fifth)\n",
    "\n",
    "sixth = Binary_hexa(sixth[0], sixth[1], sixth[2], sixth[3])\n",
    "sixth = sixth.multi\n",
    "print(sixth)\n",
    "\n",
    "seventh = Binary_hexa(seventh[0], seventh[1], seventh[2], seventh[3])\n",
    "seventh = seventh.multi\n",
    "print(seventh)\n",
    "\n",
    "eighth = Binary_hexa(eighth[0], eighth[1], eighth[2], eighth[3])\n",
    "eighth = eighth.multi\n",
    "print(eighth)\n",
    "\n",
    "hexa_list = [first, second, third, fourth, fifth, sixth, seventh, eighth]\n",
    "print(hexa_list)\n",
    "\n",
    "new_list = []\n",
    "\n",
    "for i in hexa_list:\n",
    "    print(i)\n",
    "    \n",
    "    if i == 10:\n",
    "        new_list.append(\"A\")\n",
    "    elif i == 11:\n",
    "        new_list.append(\"B\")\n",
    "    elif i == 12:\n",
    "        new_list.append(\"C\")\n",
    "    elif i == 13:\n",
    "        new_list.append(\"D\")\n",
    "    elif i == 14:\n",
    "        new_list.append(\"E\")\n",
    "    elif i == 15:\n",
    "        new_list.append(\"F\")\n",
    "    else:\n",
    "        new_list.append(i)\n",
    "        \n",
    "\n",
    "print(hexa_list)\n",
    "\n",
    "hexa_string = \"\"\n",
    "for i in new_list:\n",
    "    hexa_string = \"\".join(map(str,new_list))\n",
    "\n",
    "\n",
    "\n",
    "_32bit = str(positive_negative) + \"x\" + hexa_string\n",
    "print(_32bit)"
   ]
  },
  {
   "cell_type": "code",
   "execution_count": null,
   "id": "c2ed9c97",
   "metadata": {},
   "outputs": [],
   "source": []
  },
  {
   "cell_type": "code",
   "execution_count": 63,
   "id": "1fe4c082",
   "metadata": {},
   "outputs": [
    {
     "name": "stdout",
     "output_type": "stream",
     "text": [
      "Welcome to Python Pizza Deliveries!\n",
      "What size pizza do you want? S, M, or L : 1234\n",
      "No pizza really?\n",
      "What size pizza do you want? S, M, or L : L\n",
      "No pizza really?\n"
     ]
    },
    {
     "ename": "KeyboardInterrupt",
     "evalue": "Interrupted by user",
     "output_type": "error",
     "traceback": [
      "\u001b[0;31m---------------------------------------------------------------------------\u001b[0m",
      "\u001b[0;31mKeyboardInterrupt\u001b[0m                         Traceback (most recent call last)",
      "Cell \u001b[0;32mIn[63], line 11\u001b[0m\n\u001b[1;32m      6\u001b[0m \u001b[38;5;28mprint\u001b[39m(\u001b[38;5;124m\"\u001b[39m\u001b[38;5;124mWelcome to Python Pizza Deliveries!\u001b[39m\u001b[38;5;124m\"\u001b[39m)\n\u001b[1;32m     10\u001b[0m \u001b[38;5;28;01mwhile\u001b[39;00m \u001b[38;5;28;01mTrue\u001b[39;00m:\n\u001b[0;32m---> 11\u001b[0m     size \u001b[38;5;241m=\u001b[39m \u001b[38;5;28;43minput\u001b[39;49m\u001b[43m(\u001b[49m\u001b[38;5;124;43m\"\u001b[39;49m\u001b[38;5;124;43mWhat size pizza do you want? S, M, or L : \u001b[39;49m\u001b[38;5;124;43m\"\u001b[39;49m\u001b[43m)\u001b[49m\n\u001b[1;32m     12\u001b[0m     \u001b[38;5;28;01mif\u001b[39;00m \u001b[38;5;129;01mnot\u001b[39;00m size \u001b[38;5;241m==\u001b[39m \u001b[38;5;124m\"\u001b[39m\u001b[38;5;124mS\u001b[39m\u001b[38;5;124m\"\u001b[39m \u001b[38;5;129;01mor\u001b[39;00m \u001b[38;5;124m\"\u001b[39m\u001b[38;5;124mM\u001b[39m\u001b[38;5;124m\"\u001b[39m \u001b[38;5;129;01mor\u001b[39;00m \u001b[38;5;124m\"\u001b[39m\u001b[38;5;124mL\u001b[39m\u001b[38;5;124m\"\u001b[39m:\n\u001b[1;32m     13\u001b[0m         \u001b[38;5;28;01mif\u001b[39;00m size \u001b[38;5;241m!=\u001b[39m \u001b[38;5;124m\"\u001b[39m\u001b[38;5;124mS\u001b[39m\u001b[38;5;124m\"\u001b[39m \u001b[38;5;129;01mor\u001b[39;00m \u001b[38;5;124m\"\u001b[39m\u001b[38;5;124mM\u001b[39m\u001b[38;5;124m\"\u001b[39m \u001b[38;5;129;01mor\u001b[39;00m \u001b[38;5;124m\"\u001b[39m\u001b[38;5;124mL\u001b[39m\u001b[38;5;124m\"\u001b[39m:\n",
      "File \u001b[0;32m/opt/homebrew/Caskroom/miniconda/base/lib/python3.10/site-packages/ipykernel/kernelbase.py:1175\u001b[0m, in \u001b[0;36mKernel.raw_input\u001b[0;34m(self, prompt)\u001b[0m\n\u001b[1;32m   1171\u001b[0m \u001b[38;5;28;01mif\u001b[39;00m \u001b[38;5;129;01mnot\u001b[39;00m \u001b[38;5;28mself\u001b[39m\u001b[38;5;241m.\u001b[39m_allow_stdin:\n\u001b[1;32m   1172\u001b[0m     \u001b[38;5;28;01mraise\u001b[39;00m StdinNotImplementedError(\n\u001b[1;32m   1173\u001b[0m         \u001b[38;5;124m\"\u001b[39m\u001b[38;5;124mraw_input was called, but this frontend does not support input requests.\u001b[39m\u001b[38;5;124m\"\u001b[39m\n\u001b[1;32m   1174\u001b[0m     )\n\u001b[0;32m-> 1175\u001b[0m \u001b[38;5;28;01mreturn\u001b[39;00m \u001b[38;5;28;43mself\u001b[39;49m\u001b[38;5;241;43m.\u001b[39;49m\u001b[43m_input_request\u001b[49m\u001b[43m(\u001b[49m\n\u001b[1;32m   1176\u001b[0m \u001b[43m    \u001b[49m\u001b[38;5;28;43mstr\u001b[39;49m\u001b[43m(\u001b[49m\u001b[43mprompt\u001b[49m\u001b[43m)\u001b[49m\u001b[43m,\u001b[49m\n\u001b[1;32m   1177\u001b[0m \u001b[43m    \u001b[49m\u001b[38;5;28;43mself\u001b[39;49m\u001b[38;5;241;43m.\u001b[39;49m\u001b[43m_parent_ident\u001b[49m\u001b[43m[\u001b[49m\u001b[38;5;124;43m\"\u001b[39;49m\u001b[38;5;124;43mshell\u001b[39;49m\u001b[38;5;124;43m\"\u001b[39;49m\u001b[43m]\u001b[49m\u001b[43m,\u001b[49m\n\u001b[1;32m   1178\u001b[0m \u001b[43m    \u001b[49m\u001b[38;5;28;43mself\u001b[39;49m\u001b[38;5;241;43m.\u001b[39;49m\u001b[43mget_parent\u001b[49m\u001b[43m(\u001b[49m\u001b[38;5;124;43m\"\u001b[39;49m\u001b[38;5;124;43mshell\u001b[39;49m\u001b[38;5;124;43m\"\u001b[39;49m\u001b[43m)\u001b[49m\u001b[43m,\u001b[49m\n\u001b[1;32m   1179\u001b[0m \u001b[43m    \u001b[49m\u001b[43mpassword\u001b[49m\u001b[38;5;241;43m=\u001b[39;49m\u001b[38;5;28;43;01mFalse\u001b[39;49;00m\u001b[43m,\u001b[49m\n\u001b[1;32m   1180\u001b[0m \u001b[43m\u001b[49m\u001b[43m)\u001b[49m\n",
      "File \u001b[0;32m/opt/homebrew/Caskroom/miniconda/base/lib/python3.10/site-packages/ipykernel/kernelbase.py:1217\u001b[0m, in \u001b[0;36mKernel._input_request\u001b[0;34m(self, prompt, ident, parent, password)\u001b[0m\n\u001b[1;32m   1214\u001b[0m             \u001b[38;5;28;01mbreak\u001b[39;00m\n\u001b[1;32m   1215\u001b[0m \u001b[38;5;28;01mexcept\u001b[39;00m \u001b[38;5;167;01mKeyboardInterrupt\u001b[39;00m:\n\u001b[1;32m   1216\u001b[0m     \u001b[38;5;66;03m# re-raise KeyboardInterrupt, to truncate traceback\u001b[39;00m\n\u001b[0;32m-> 1217\u001b[0m     \u001b[38;5;28;01mraise\u001b[39;00m \u001b[38;5;167;01mKeyboardInterrupt\u001b[39;00m(\u001b[38;5;124m\"\u001b[39m\u001b[38;5;124mInterrupted by user\u001b[39m\u001b[38;5;124m\"\u001b[39m) \u001b[38;5;28;01mfrom\u001b[39;00m \u001b[38;5;28mNone\u001b[39m\n\u001b[1;32m   1218\u001b[0m \u001b[38;5;28;01mexcept\u001b[39;00m \u001b[38;5;167;01mException\u001b[39;00m:\n\u001b[1;32m   1219\u001b[0m     \u001b[38;5;28mself\u001b[39m\u001b[38;5;241m.\u001b[39mlog\u001b[38;5;241m.\u001b[39mwarning(\u001b[38;5;124m\"\u001b[39m\u001b[38;5;124mInvalid Message:\u001b[39m\u001b[38;5;124m\"\u001b[39m, exc_info\u001b[38;5;241m=\u001b[39m\u001b[38;5;28;01mTrue\u001b[39;00m)\n",
      "\u001b[0;31mKeyboardInterrupt\u001b[0m: Interrupted by user"
     ]
    }
   ],
   "source": [
    "bill = \"\"\n",
    "New_bill = \"\"\n",
    "Final_bill = \"\"\n",
    "\n",
    "\n",
    "print(\"Welcome to Python Pizza Deliveries!\")\n",
    "\n",
    "\n",
    "\n",
    "while True:\n",
    "    size = input(\"What size pizza do you want? S, M, or L : \")\n",
    "    if not size == \"S\" or \"M\" or \"L\":\n",
    "        if size != \"S\" or \"M\" or \"L\":\n",
    "            print(\"No pizza really?\")\n",
    "        \n",
    "\n",
    "        \n",
    "        \n",
    "if size == \"S\":\n",
    "    bill = 15\n",
    "elif size == \"M\":\n",
    "    bill = 20\n",
    "else:\n",
    "    bill = 25\n",
    "\n",
    "\n",
    "print(\"$\",bill)\n",
    "print()\n",
    "\n",
    "add_pepperoni = input(\"Do you want pepperoni? Y or N : \")\n",
    "\n",
    "\n",
    "    \n",
    "New_bill = bill\n",
    "\n",
    "if size == \"S\" and add_pepperoni == \"Y\":\n",
    "    New_bill = bill + 2\n",
    "elif (size == \"M\" or \"L\") and add_pepperoni == \"Y\":\n",
    "    New_bill = bill + 3\n",
    "elif add_pepperoni == \"N\":\n",
    "    print(\"It's pepperoni, you don't like it?\")\n",
    "    New_bill = bill\n",
    "else:\n",
    "    print(\"yo, where is your option\")\n",
    "    \n",
    "\n",
    "print(\"$\",New_bill)\n",
    "print()\n",
    "extra_cheese = input(\"Do you want extra cheese? Y or N : \")\n",
    "    \n",
    "if extra_cheese == \"Y\":\n",
    "    Final_bill = New_bill + 1\n",
    "elif extra_cheese == \"N\":\n",
    "    print(\"No cheese? really?\")\n",
    "    Final_bill = New_bill\n",
    "\n",
    "else:\n",
    "    print(\"guess you forgot to choose your option\")\n",
    "    \n",
    "    \n",
    "    \n",
    "print(f\"Your final bill is: ${Final_bill}\")"
   ]
  },
  {
   "cell_type": "markdown",
   "id": "2d0cf90d",
   "metadata": {},
   "source": [
    "# "
   ]
  },
  {
   "cell_type": "code",
   "execution_count": 21,
   "id": "a2aa1b89",
   "metadata": {},
   "outputs": [
    {
     "name": "stdout",
     "output_type": "stream",
     "text": [
      "Type 'encode' to encrypt, type 'decode' to decrypt:\n",
      "encode\n",
      "Type your message:\n",
      "hello\n",
      "Type the shift number:\n",
      "5\n",
      "mjqqt\n"
     ]
    }
   ],
   "source": [
    "alphabet = ['a', 'b', 'c', 'd', 'e', 'f', 'g', 'h', 'i', 'j', 'k', 'l', 'm', 'n', 'o', 'p', 'q', 'r', 's', 't', 'u', 'v', 'w', 'x', 'y', 'z']\n",
    "direction = input(\"Type 'encode' to encrypt, type 'decode' to decrypt:\\n\")\n",
    "text = input(\"Type your message:\\n\").lower()\n",
    "shift = int(input(\"Type the shift number:\\n\"))\n",
    "#TODO-1: Create a function called 'encrypt' that takes the 'text' and 'shift' as inputs.\n",
    "    #TODO-2: Inside the 'encrypt' function, shift each letter of the 'text' forwards in the alphabet by the shift amount and print the encrypted text.\n",
    "    #e.g.\n",
    "    #plain_text = \"hello\"\n",
    "    #shift = 5\n",
    "    #cipher_text = \"mjqqt\"\n",
    "    #print output: \"The encoded text is mjqqt\"\n",
    "\n",
    "    \n",
    "new_list = []\n",
    "if direction.lower() == \"encode\":\n",
    "    for i in text:\n",
    "        j = alphabet.index(i)\n",
    "        j = j + shift \n",
    "        k = alphabet[j]\n",
    "        new_list.append(k)\n",
    "\n",
    "elif direction.lower() == \"decode\":\n",
    "    for i in text:\n",
    "        l = alphabet.index(i)\n",
    "        l = l - shift\n",
    "        m = alphabet[l]\n",
    "        new_list.append(m)\n",
    "\n",
    "else:\n",
    "    print(\"Wrong input, please renew the session and type either 'encode' or 'decode'\")\n",
    "        \n",
    "encoded_word = \"\"\n",
    "for i in new_list:\n",
    "    encoded_word = \"\".join(map(str,new_list))\n",
    "\n",
    "print(encoded_word)\n",
    "        "
   ]
  },
  {
   "cell_type": "code",
   "execution_count": null,
   "id": "6cbc9144",
   "metadata": {},
   "outputs": [],
   "source": []
  }
 ],
 "metadata": {
  "kernelspec": {
   "display_name": "Python 3 (ipykernel)",
   "language": "python",
   "name": "python3"
  },
  "language_info": {
   "codemirror_mode": {
    "name": "ipython",
    "version": 3
   },
   "file_extension": ".py",
   "mimetype": "text/x-python",
   "name": "python",
   "nbconvert_exporter": "python",
   "pygments_lexer": "ipython3",
   "version": "3.10.9"
  }
 },
 "nbformat": 4,
 "nbformat_minor": 5
}
