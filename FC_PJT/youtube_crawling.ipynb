{
 "cells": [
  {
   "cell_type": "code",
   "execution_count": 1,
   "metadata": {},
   "outputs": [],
   "source": [
    "import os\n",
    "import pandas as pd\n",
    "import selenium\n",
    "from selenium import webdriver\n",
    "from selenium.webdriver.support.ui import WebDriverWait\n",
    "from selenium.webdriver.support import expected_conditions as EC\n",
    "from selenium.webdriver.common.action_chains import ActionChains\n",
    "from selenium.webdriver.common.by import By\n",
    "import chromedriver_autoinstaller"
   ]
  },
  {
   "cell_type": "code",
   "execution_count": 2,
   "metadata": {},
   "outputs": [],
   "source": [
    "options = webdriver.ChromeOptions()\n",
    "\n",
    "# options.add_argument(\"--headless\")\n",
    "options.add_argument(\"--no-sandbox\")\n",
    "options.add_argument(\"--disable-dev-shm-usage\")\n",
    "browser = webdriver.Chrome(\"chromedriver\", options=options)"
   ]
  },
  {
   "cell_type": "code",
   "execution_count": 3,
   "metadata": {},
   "outputs": [],
   "source": [
    "AI_url = \"https://www.youtube.com/results?search_query=AI\"\n",
    "browser.get(AI_url)\n"
   ]
  },
  {
   "cell_type": "code",
   "execution_count": 4,
   "metadata": {
    "scrolled": true
   },
   "outputs": [
    {
     "data": {
      "text/plain": [
       "<selenium.webdriver.remote.webelement.WebElement (session=\"68d7a7723ac02180fe2ff92f9c79825d\", element=\"83da2379-b1d9-42b3-a4b4-64cca6b8b307\")>"
      ]
     },
     "execution_count": 4,
     "metadata": {},
     "output_type": "execute_result"
    }
   ],
   "source": [
    "wait = WebDriverWait(browser, 10)\n",
    "wait.until(EC.presence_of_element_located((By.ID, 'contents')))"
   ]
  },
  {
   "cell_type": "code",
   "execution_count": 5,
   "metadata": {},
   "outputs": [
    {
     "name": "stdout",
     "output_type": "stream",
     "text": [
      "<selenium.webdriver.remote.webelement.WebElement (session=\"68d7a7723ac02180fe2ff92f9c79825d\", element=\"22b6c7ea-3947-4897-926d-f7c70ad74c96\")>\n",
      "https://www.youtube.com/watch?v=HFf3wKkurtA&pp=ygUCQUk%3D\n",
      "Clicked\n",
      "showmore_noneed\n",
      "description =  Something unusual is buried in the Budget papers – Treasury calls it the Structural Shifts Shaping the Economy, one of which is artificial intelligence. Goldman Sachs reckons that two-thirds of all occupations will be at least partially automated. Australia is falling behind other countries, particularly the US. Subscribe: http://a\n",
      "title =  How will AI change the economy? | Alan Kohler | ABC News\n"
     ]
    },
    {
     "ename": "AttributeError",
     "evalue": "'tuple' object has no attribute 'is_displayed'",
     "output_type": "error",
     "traceback": [
      "\u001b[0;31m---------------------------------------------------------------------------\u001b[0m",
      "\u001b[0;31mAttributeError\u001b[0m                            Traceback (most recent call last)",
      "Cell \u001b[0;32mIn[5], line 40\u001b[0m\n\u001b[1;32m     37\u001b[0m actions\u001b[38;5;241m.\u001b[39mmove_to_element(element)\n\u001b[1;32m     38\u001b[0m actions\u001b[38;5;241m.\u001b[39mperform()\n\u001b[0;32m---> 40\u001b[0m \u001b[43mwait\u001b[49m\u001b[38;5;241;43m.\u001b[39;49m\u001b[43muntil\u001b[49m\u001b[43m(\u001b[49m\u001b[43mEC\u001b[49m\u001b[38;5;241;43m.\u001b[39;49m\u001b[43mvisibility_of\u001b[49m\u001b[43m(\u001b[49m\u001b[43m(\u001b[49m\u001b[43mBy\u001b[49m\u001b[38;5;241;43m.\u001b[39;49m\u001b[43mXPATH\u001b[49m\u001b[43m,\u001b[49m\u001b[43m \u001b[49m\u001b[38;5;124;43m\"\u001b[39;49m\u001b[38;5;124;43m/html/body/ytd-app/div[1]/ytd-page-manager/ytd-search/div[1]/ytd-two-column-search-results-renderer/div/ytd-section-list-renderer/div[2]/ytd-item-section-renderer[last()]/div[3]/ytd-video-renderer[last()]/div[1]/ytd-thumbnail/a\u001b[39;49m\u001b[38;5;124;43m\"\u001b[39;49m\u001b[43m)\u001b[49m\u001b[43m)\u001b[49m\u001b[43m)\u001b[49m\n\u001b[1;32m     41\u001b[0m video_count \u001b[38;5;241m=\u001b[39m \u001b[38;5;28mlen\u001b[39m(browser\u001b[38;5;241m.\u001b[39mfind_elements(By\u001b[38;5;241m.\u001b[39mXPATH, \u001b[38;5;124m\"\u001b[39m\u001b[38;5;124m/html/body/ytd-app/div[1]/ytd-page-manager/ytd-search/div[1]/ytd-two-column-search-results-renderer/div/ytd-section-list-renderer/div[2]//a[@class=\u001b[39m\u001b[38;5;124m'\u001b[39m\u001b[38;5;124myt-simple-endpoint inline-block style-scope ytd-thumbnail\u001b[39m\u001b[38;5;124m'\u001b[39m\u001b[38;5;124m and not(ancestor::*[contains(@class,\u001b[39m\u001b[38;5;124m'\u001b[39m\u001b[38;5;124mpromoted\u001b[39m\u001b[38;5;124m'\u001b[39m\u001b[38;5;124m)])]\u001b[39m\u001b[38;5;124m\"\u001b[39m))\n\u001b[1;32m     44\u001b[0m scrolls \u001b[38;5;241m+\u001b[39m\u001b[38;5;241m=\u001b[39m \u001b[38;5;241m1\u001b[39m\n",
      "File \u001b[0;32m/opt/homebrew/Caskroom/miniconda/base/lib/python3.10/site-packages/selenium/webdriver/support/wait.py:86\u001b[0m, in \u001b[0;36mWebDriverWait.until\u001b[0;34m(self, method, message)\u001b[0m\n\u001b[1;32m     84\u001b[0m \u001b[38;5;28;01mwhile\u001b[39;00m \u001b[38;5;28;01mTrue\u001b[39;00m:\n\u001b[1;32m     85\u001b[0m     \u001b[38;5;28;01mtry\u001b[39;00m:\n\u001b[0;32m---> 86\u001b[0m         value \u001b[38;5;241m=\u001b[39m \u001b[43mmethod\u001b[49m\u001b[43m(\u001b[49m\u001b[38;5;28;43mself\u001b[39;49m\u001b[38;5;241;43m.\u001b[39;49m\u001b[43m_driver\u001b[49m\u001b[43m)\u001b[49m\n\u001b[1;32m     87\u001b[0m         \u001b[38;5;28;01mif\u001b[39;00m value:\n\u001b[1;32m     88\u001b[0m             \u001b[38;5;28;01mreturn\u001b[39;00m value\n",
      "File \u001b[0;32m/opt/homebrew/Caskroom/miniconda/base/lib/python3.10/site-packages/selenium/webdriver/support/expected_conditions.py:156\u001b[0m, in \u001b[0;36mvisibility_of.<locals>._predicate\u001b[0;34m(_)\u001b[0m\n\u001b[1;32m    155\u001b[0m \u001b[38;5;28;01mdef\u001b[39;00m \u001b[38;5;21m_predicate\u001b[39m(_):\n\u001b[0;32m--> 156\u001b[0m     \u001b[38;5;28;01mreturn\u001b[39;00m \u001b[43m_element_if_visible\u001b[49m\u001b[43m(\u001b[49m\u001b[43melement\u001b[49m\u001b[43m)\u001b[49m\n",
      "File \u001b[0;32m/opt/homebrew/Caskroom/miniconda/base/lib/python3.10/site-packages/selenium/webdriver/support/expected_conditions.py:162\u001b[0m, in \u001b[0;36m_element_if_visible\u001b[0;34m(element, visibility)\u001b[0m\n\u001b[1;32m    161\u001b[0m \u001b[38;5;28;01mdef\u001b[39;00m \u001b[38;5;21m_element_if_visible\u001b[39m(element, visibility\u001b[38;5;241m=\u001b[39m\u001b[38;5;28;01mTrue\u001b[39;00m):\n\u001b[0;32m--> 162\u001b[0m     \u001b[38;5;28;01mreturn\u001b[39;00m element \u001b[38;5;28;01mif\u001b[39;00m \u001b[43melement\u001b[49m\u001b[38;5;241;43m.\u001b[39;49m\u001b[43mis_displayed\u001b[49m() \u001b[38;5;241m==\u001b[39m visibility \u001b[38;5;28;01melse\u001b[39;00m \u001b[38;5;28;01mFalse\u001b[39;00m\n",
      "\u001b[0;31mAttributeError\u001b[0m: 'tuple' object has no attribute 'is_displayed'"
     ]
    }
   ],
   "source": [
    "# Getting video description\n",
    "titlelist = []\n",
    "descriptionlist = []\n",
    "scrolls = 0\n",
    "\n",
    "while scrolls < 1000:\n",
    "    videotitles = browser.find_elements(By.XPATH, \"/html/body/ytd-app/div[1]/ytd-page-manager/ytd-search/div[1]/ytd-two-column-search-results-renderer/div/ytd-section-list-renderer/div[2]/ytd-item-section-renderer[1]/div[3]/ytd-video-renderer[1]/div[1]/div/div[1]/div/h3/a\")\n",
    "    for videotitle in videotitles:\n",
    "        print(videotitle)\n",
    "        videolink = videotitle.get_attribute(\"href\")\n",
    "        print(videolink)\n",
    "        browser.get(videolink)\n",
    "        print(\"Clicked\")\n",
    "        wait.until(EC.presence_of_element_located((By.ID, 'description')))\n",
    "        descriptionsss = browser.find_element(By.ID, 'description')\n",
    "        wait.until(EC.presence_of_element_located((By.XPATH, '/html/body/ytd-app/div[1]/ytd-page-manager/ytd-watch-flexy/div[5]/div[1]/div/div[2]/ytd-watch-metadata/div/div[3]/div[1]/div/ytd-text-inline-expander/tp-yt-paper-button[1]')))\n",
    "        showmore = descriptionsss.find_element(By.XPATH, '/html/body/ytd-app/div[1]/ytd-page-manager/ytd-watch-flexy/div[5]/div[1]/div/div[2]/ytd-watch-metadata/div/div[3]/div[1]/div/ytd-text-inline-expander/tp-yt-paper-button[1]')\n",
    "        if showmore == True:\n",
    "            showmore.click()\n",
    "            print(\"showmore_clicked\")\n",
    "            description = browser.find_element(By.XPATH, '/html/body/ytd-app/div[1]/ytd-page-manager/ytd-watch-flexy/div[5]/div[1]/div/div[2]/ytd-watch-metadata/div/div[3]/div[1]/div/ytd-text-inline-expander/yt-attributed-string/span')\n",
    "        else:\n",
    "            print(\"showmore_noneed\")\n",
    "            description = browser.find_element(By.XPATH, '/html/body/ytd-app/div[1]/ytd-page-manager/ytd-watch-flexy/div[5]/div[1]/div/div[2]/ytd-watch-metadata/div/div[3]/div[1]/div/ytd-text-inline-expander/div[1]/span[1]/yt-attributed-string/span')\n",
    "        print(\"description = \", description.text)\n",
    "        descriptionlist.append(description.text)\n",
    "#         wait.until(EC.presence_of_element_located((By.XPATH, \"/html/body/ytd-app/div[1]/ytd-page-manager/ytd-watch-flexy/div[5]/div[1]/div/div[2]/ytd-watch-metadata/div/div[1]/h1/yt-formatted-string\")))\n",
    "        title = browser.find_element(By.XPATH, \"/html/body/ytd-app/div[1]/ytd-page-manager/ytd-watch-flexy/div[5]/div[1]/div/div[2]/ytd-watch-metadata/div/div[1]/h1/yt-formatted-string\")\n",
    "        print(\"title = \", title.text)\n",
    "        titlelist.append(title.text)\n",
    "\n",
    "        browser.back()\n",
    "\n",
    "    wait = WebDriverWait(browser, 20)\n",
    "    element = wait.until(EC.visibility_of_element_located((By.XPATH, '/html/body/ytd-app/div[1]/ytd-page-manager/ytd-search/div[1]/ytd-two-column-search-results-renderer/div/ytd-section-list-renderer/div[2]/ytd-item-section-renderer[last()]')))\n",
    "    actions = ActionChains(browser)\n",
    "    actions.move_to_element(element)\n",
    "    actions.perform()\n",
    "\n",
    "    wait.until(EC.visibility_of((By.XPATH, \"/html/body/ytd-app/div[1]/ytd-page-manager/ytd-search/div[1]/ytd-two-column-search-results-renderer/div/ytd-section-list-renderer/div[2]/ytd-item-section-renderer[last()]/div[3]/ytd-video-renderer[last()]/div[1]/ytd-thumbnail/a\")))\n",
    "    video_count = len(browser.find_elements(By.XPATH, \"/html/body/ytd-app/div[1]/ytd-page-manager/ytd-search/div[1]/ytd-two-column-search-results-renderer/div/ytd-section-list-renderer/div[2]//a[@class='yt-simple-endpoint inline-block style-scope ytd-thumbnail' and not(ancestor::*[contains(@class,'promoted')])]\"))\n",
    "\n",
    "        \n",
    "    scrolls += 1\n",
    "    print(scrolls)\n",
    "\n",
    "browser.quit()\n",
    "print(titlelist)\n",
    "print(descriptionlist)\n"
   ]
  },
  {
   "cell_type": "code",
   "execution_count": null,
   "metadata": {},
   "outputs": [],
   "source": []
  }
 ],
 "metadata": {
  "kernelspec": {
   "display_name": "Python 3 (ipykernel)",
   "language": "python",
   "name": "python3"
  },
  "language_info": {
   "codemirror_mode": {
    "name": "ipython",
    "version": 3
   },
   "file_extension": ".py",
   "mimetype": "text/x-python",
   "name": "python",
   "nbconvert_exporter": "python",
   "pygments_lexer": "ipython3",
   "version": "3.10.9"
  }
 },
 "nbformat": 4,
 "nbformat_minor": 2
}
