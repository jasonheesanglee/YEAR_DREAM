{
 "cells": [
  {
   "cell_type": "markdown",
   "id": "b920d8fb",
   "metadata": {},
   "source": [
    "## FastCampus PJT - Team 3\n",
    "##### 심성식 김민수 심승현 이희상 이용기"
   ]
  },
  {
   "cell_type": "markdown",
   "id": "4b6f8146",
   "metadata": {},
   "source": [
    "### 라이브러리 관련 및 환경 셋업"
   ]
  },
  {
   "cell_type": "markdown",
   "id": "c410720e",
   "metadata": {},
   "source": [
    "###### 필요한 모듈 설치"
   ]
  },
  {
   "cell_type": "code",
   "execution_count": null,
   "id": "df8b9367",
   "metadata": {},
   "outputs": [],
   "source": [
    "# !pip install numpy\n",
    "# !pip install pandas\n",
    "# !pip install matplotlib\n",
    "# !pip install scipy\n",
    "# !pip install seaborn"
   ]
  },
  {
   "cell_type": "markdown",
   "id": "2bfcc0ba",
   "metadata": {},
   "source": [
    "###### 필요한 모듈 모두 불러오기"
   ]
  },
  {
   "cell_type": "code",
   "execution_count": 1,
   "id": "d000597f",
   "metadata": {},
   "outputs": [],
   "source": [
    "import os\n",
    "import time\n",
    "import numpy as np\n",
    "import pandas as pd\n",
    "from matplotlib import rc\n",
    "import matplotlib.pyplot as plt\n",
    "import matplotlib.font_manager as fm\n",
    "import re\n",
    "import glob\n",
    "import seaborn as sns\n",
    "import datetime"
   ]
  },
  {
   "cell_type": "markdown",
   "id": "ed83b167",
   "metadata": {},
   "source": [
    "###### 폰트 확인"
   ]
  },
  {
   "cell_type": "code",
   "execution_count": 2,
   "id": "7d472ea0",
   "metadata": {},
   "outputs": [
    {
     "name": "stdout",
     "output_type": "stream",
     "text": [
      "AppleGothic font found at  /System/Library/Fonts/Supplemental/AppleGothic.ttf\n"
     ]
    }
   ],
   "source": [
    "rc('font', family='AppleGothic')\n",
    "plt.rcParams['axes.unicode_minus'] = False\n",
    "font_path = fm.findfont('AppleGothic')\n",
    "if not font_path:\n",
    "    print('Warning: AppleGothic font not found')\n",
    "else:\n",
    "    print(\"AppleGothic font found at \", font_path)\n",
    "\n",
    "font_prop = fm.FontProperties(fname=font_path, size=12)\n"
   ]
  },
  {
   "cell_type": "markdown",
   "id": "f2bc9b35",
   "metadata": {},
   "source": [
    "### 경로 설정"
   ]
  },
  {
   "cell_type": "markdown",
   "id": "f93c2c0a",
   "metadata": {},
   "source": [
    "###### 폴더 생성 및 경로 variable 생성"
   ]
  },
  {
   "cell_type": "code",
   "execution_count": 3,
   "id": "fb5e71d6",
   "metadata": {},
   "outputs": [],
   "source": [
    "# Creating folders and variables for data paths\n",
    "\n",
    "dataset = \"./dataset/\"\n",
    "GROUPED = dataset + \"Grouped/\"\n",
    "FINAL_GROUP = dataset + \"Grouped_Final/\"\n",
    "\n",
    "if not os.path.exists(\"./dataset\"):\n",
    "    os.mkdir(\"./dataset\")\n",
    "\n",
    "if not os.path.exists(dataset + \"Grouped\"):\n",
    "    os.mkdir(dataset + \"Grouped\")\n",
    "\n",
    "if not os.path.exists(dataset + \"Grouped_Final\"):\n",
    "    os.mkdir(dataset + \"Grouped_Final\")"
   ]
  },
  {
   "cell_type": "markdown",
   "id": "aba00fb1",
   "metadata": {},
   "source": [
    "###### 파일 경로 불러올 딕셔너리 생성"
   ]
  },
  {
   "cell_type": "code",
   "execution_count": 4,
   "id": "c9594895",
   "metadata": {
    "scrolled": true
   },
   "outputs": [
    {
     "data": {
      "text/plain": [
       "'\\n\\ntype all_file_locations[\"key\"] to call\\nkeys are \"dataset\", \"grouped\", \"group_final\", etc.; to be added further.\\n\\n'"
      ]
     },
     "execution_count": 4,
     "metadata": {},
     "output_type": "execute_result"
    }
   ],
   "source": [
    "# Adding up all file locations into a dictionary.\n",
    "\n",
    "file_locations = {\n",
    "    \"dataset\" : dataset,\n",
    "    'grouped': GROUPED,\n",
    "    'group_final' : FINAL_GROUP #,\n",
    "    # to be added further\n",
    "}\n",
    "\n",
    "all_file_locations = {}\n",
    "for key, value in file_locations.items():\n",
    "    all_file_locations[key] = glob.glob(value + \"*.csv\")\n",
    "\n",
    "'''\n",
    "\n",
    "type all_file_locations[\"key\"] to call\n",
    "keys are \"dataset\", \"grouped\", \"group_final\", etc.; to be added further.\n",
    "\n",
    "'''"
   ]
  },
  {
   "cell_type": "markdown",
   "id": "28e97cc0",
   "metadata": {},
   "source": [
    "#### 준비"
   ]
  },
  {
   "cell_type": "markdown",
   "id": "f64b3c82",
   "metadata": {},
   "source": [
    "###### Definition 설정"
   ]
  },
  {
   "cell_type": "code",
   "execution_count": 5,
   "id": "c4f6f51c",
   "metadata": {},
   "outputs": [],
   "source": [
    "# Local definitions - 1\n",
    "\n",
    "def clean_course_name(course_name):\n",
    "    '''\n",
    "    course name 중 첫 구절이 ( 으로 시작하고, \n",
    "    ~ 로 스플릿한 구절 중 0번째 len이 7인 경우; 예시: \"(220123\"\n",
    "    ) 이후의 course name을 return합니다.\n",
    "    \n",
    "    아래와 같이 사용해 주시면 편합니다.\n",
    "    df[\"course_name\"] = df[\"course_name\"].apply(clean_course_name)\n",
    "\n",
    "    '''\n",
    "    if course_name.startswith(\"(\"):\n",
    "        # Classify the date range to cleanse.\n",
    "        if \"~\" in course_name:\n",
    "            temp = course_name.split(\"~\")[0]\n",
    "            # if the value before ~ is in year format, remove the whole bracket.\n",
    "            if len(temp) == 7:\n",
    "                return course_name.split(\")\")[1]\n",
    "            else:\n",
    "                return course_name\n",
    "        else:\n",
    "            return course_name\n",
    "    else:\n",
    "        return course_name"
   ]
  },
  {
   "cell_type": "code",
   "execution_count": 6,
   "id": "0dd2413c",
   "metadata": {},
   "outputs": [],
   "source": [
    "# Local definitions - 2\n",
    "\n",
    "def course_packages(row):\n",
    "    '''\n",
    "    패키지명을 return하는 코드입니다.\n",
    "    \n",
    "    아래와 같이 apply 해주시고 적용 희망하시는 row를 대치시켜주시면 됩니다.\n",
    "    df[\"course_group\"] = df.apply(course_packages, axis=1)\n",
    "    \n",
    "    '''\n",
    "    # Splitting course classifier (: and -) to extract package name\n",
    "    parts = re.split(\"[:|-]\", row[\"course_name\"])\n",
    "    # Finding course names without package classifier\n",
    "    if len(parts) <= 1:\n",
    "        # [무료강의] as an exception, it makes more sense if we classify itself alone.\n",
    "        if parts[0].startswith(\"[무료강의]\"):\n",
    "            return \"[무료강의]\"\n",
    "        # Classify all other courses without package classifier into Other.\n",
    "        return (\"Other\")\n",
    "    # Finding course names with package classifier.\n",
    "    elif len(parts) > 1:\n",
    "        # Classify [kit] first, as it needs to be separated from other [ ] covered words.\n",
    "        if parts[0].startswith(\"[kit]\"):\n",
    "            return \"[kit]\"\n",
    "        # Removing (( ))\n",
    "        elif parts[0].startswith(\"((\"):\n",
    "            return parts[0].split(\"))\")[1]\n",
    "        # Removing ( )\n",
    "        elif parts[0].startswith(\"(\"):\n",
    "            return parts[0].split(\")\")[1]\n",
    "        # Removing [ ]\n",
    "        elif parts[0].startswith(\"[\"):\n",
    "            return parts[0].split(\"]\")[1]\n",
    "        else:\n",
    "            return parts[0]\n",
    "    else:\n",
    "        return parts[0]\n"
   ]
  },
  {
   "cell_type": "markdown",
   "id": "9f7a104b",
   "metadata": {},
   "source": [
    "###### 컬럼명 영문으로 변경 - Encoding 이슈 방지"
   ]
  },
  {
   "cell_type": "code",
   "execution_count": 7,
   "id": "75a75c3c",
   "metadata": {},
   "outputs": [],
   "source": [
    "# Changing column names from Korean to English\n",
    "\n",
    "df = pd.read_csv('./eda-proj-fc-purchase.csv')\n",
    "df.rename(columns={\"거래id\":\"transaction_id\", \"유형\":\"l_type\", \"고객id\":\"customer_id\",\"코스ID\":\"courseID\",\"사이트\":\"site\", \"포맷\":\"l_format\",\n",
    "                   \"카테고리\":\"l_categories\", \"코스(상품) 이름\":\"course_name\", \"거래일자\":\"transaction_date_time\",\"쿠폰이름\":\"coupon_name\",\n",
    "                   \"판매가격\":\"sold_price\",\"결제수단\":\"payment_method\",\"실거래금액\":\"actual_sold_price\",\"쿠폰할인액\":\"coupon_discount\",\n",
    "                   \"거래금액\":\"transaction_amount\",\"환불금액\":\"refund_amount\"\n",
    "                   },\n",
    "          inplace=True)\n",
    "df.to_csv(dataset + \"rowdata_eng.csv\", index=False)"
   ]
  },
  {
   "cell_type": "markdown",
   "id": "632bf7dc",
   "metadata": {},
   "source": [
    "###### 날짜/시간 데이터 변환 및 분리"
   ]
  },
  {
   "cell_type": "code",
   "execution_count": 8,
   "id": "87295913",
   "metadata": {},
   "outputs": [],
   "source": [
    "# Converting date_time to date and time.\n",
    "\n",
    "rowdata = pd.read_csv(dataset+\"rowdata_eng.csv\")\n",
    "\n",
    "df = rowdata['transaction_date_time'].str.split(\" \", n=5, expand=True)\n",
    "rowdata['Date'] = df[0].str.cat([df[1], df[2]], sep=\"\")\n",
    "rowdata['Time'] = df[3].str.cat([df[4]], sep=\" \")\n",
    "\n",
    "# Converting time to 24H format\n",
    "\n",
    "rowdata[\"Time\"] = rowdata[\"Time\"].str.replace(\"오후\", \"PM\").str.replace(\"오전\",\"AM\")\n",
    "rowdata['Time'] = rowdata['Time'].apply(lambda x: datetime.datetime.strptime(x, '%p %I:%M:%S').strftime('%H:%M:%S'))\n",
    "df = rowdata\n",
    "# rowdata.to_csv(dataset + \"date_time_converted.csv\", index=False)"
   ]
  },
  {
   "cell_type": "markdown",
   "id": "a21312aa",
   "metadata": {},
   "source": [
    "###### 불필요한 데이터 처리"
   ]
  },
  {
   "cell_type": "code",
   "execution_count": 9,
   "id": "b5382d5f",
   "metadata": {
    "scrolled": true
   },
   "outputs": [
    {
     "name": "stdout",
     "output_type": "stream",
     "text": [
      "Number of rows before deletion: 159328\n",
      "Number of rows after deletion: 159327\n"
     ]
    }
   ],
   "source": [
    "# Deleting Rows\n",
    "\n",
    "# 크리에이티브\n",
    "print(\"Number of rows before deletion:\", len(df))\n",
    "df = df[df[\"l_categories\"] != \"크리에이티브\"]\n",
    "print(\"Number of rows after deletion:\", len(df))\n",
    "\n",
    "# rowdata_eng.to_csv(dataset + \"Bye_Creative.csv\", index=False)"
   ]
  },
  {
   "cell_type": "markdown",
   "id": "3d622c62",
   "metadata": {},
   "source": [
    "###### 숫자 데이터 컬럼 형 변환 (Obj -> Float)"
   ]
  },
  {
   "cell_type": "code",
   "execution_count": 10,
   "id": "72a038fe",
   "metadata": {},
   "outputs": [],
   "source": [
    "# Convert dtype\n",
    "df = df.replace(\"-\",np.nan)\n",
    "df[\"sold_price\"] = df[\"sold_price\"].astype(float)\n",
    "df[\"actual_sold_price\"] = df[\"actual_sold_price\"].astype(float)\n",
    "df[\"coupon_discount\"] = df[\"coupon_discount\"].astype(float)\n",
    "df[\"transaction_amount\"] = df[\"transaction_amount\"].astype(float)\n",
    "df[\"refund_amount\"] = df[\"refund_amount\"].astype(float)\n",
    "type_converted = df"
   ]
  },
  {
   "cell_type": "markdown",
   "id": "dbca2465",
   "metadata": {},
   "source": [
    "###### 코스 이름 컬럼 cleansing"
   ]
  },
  {
   "cell_type": "code",
   "execution_count": 12,
   "id": "45e8cbed",
   "metadata": {},
   "outputs": [],
   "source": [
    "# Removing date range in course_name\n",
    "\n",
    "type_converted[\"course_name\"] = type_converted[\"course_name\"].apply(clean_course_name)\n",
    "df = type_converted\n",
    "\n",
    "# df.to_csv(dataset +\"course_name_cleansed.csv\", index = False)"
   ]
  },
  {
   "cell_type": "markdown",
   "id": "44f890e5",
   "metadata": {},
   "source": [
    "###### 패키지 별 분류"
   ]
  },
  {
   "cell_type": "code",
   "execution_count": 21,
   "id": "ac948586",
   "metadata": {},
   "outputs": [],
   "source": [
    "# Grouping courses by Packages\n",
    "\n",
    "# \"The Red\" had many variances, needed to cleanse the course_name once again solely for this\n",
    "df[\"course_name\"] = df[\"course_name\"].apply(lambda x: x.replace(\" \", \"\").lower())\n",
    "\n",
    "# Applying def course_packages.\n",
    "df[\"course_group\"] = df.apply(course_packages, axis=1)\n",
    "\n",
    "# Generating CSV file for each Package.\n",
    "grouped_df = df.groupby(\"course_group\")\n",
    "# for group_name, group_df in grouped_df:\n",
    "#     groupname = group_name.replace(\"/\", \"_\")\n",
    "#     filename = f\"{groupname}.csv\"\n",
    "#     group_df.to_csv(GROUPED + f\"{filename}\", index=False)"
   ]
  },
  {
   "cell_type": "markdown",
   "id": "c541922a",
   "metadata": {},
   "source": [
    "###### 패키지 별 분류된 CSV파일 생성"
   ]
  },
  {
   "cell_type": "code",
   "execution_count": 26,
   "id": "9ca54fce",
   "metadata": {},
   "outputs": [],
   "source": [
    "# Some packages only had one course each, needed to re-classify them as others\n",
    "for file in all_file_locations[\"grouped\"]:\n",
    "    df = pd.read_csv(file, low_memory=False)\n",
    "    # print(file, file.split(\"/\")[-1].split(\".\")[0] ,len(set(df[\"course_name\"])))\n",
    "\n",
    "df_new = pd.DataFrame()\n",
    "for group_name, group_df in grouped_df:\n",
    "    # We don't need to check Other.csv as we want to add more data to it\n",
    "    if group_name == \"Other\":\n",
    "        continue\n",
    "    else:\n",
    "        # Check if any Package has only one course\n",
    "        if len(set(group_df[\"course_name\"])) == 1:\n",
    "            # There is only one course in [무료강의], but as it seemed more legit if we separate it from Others.\n",
    "            if group_name == \"[무료강의]\":\n",
    "                # Adding up [무료강의].csv to final CSV folder\n",
    "                group_df.to_csv(FINAL_GROUP + \"[무료강의].csv\", index=False)\n",
    "                pass\n",
    "            else:\n",
    "                # Add all packages that only has one course to df_new\n",
    "                df_new = pd.concat([df_new, group_df])\n",
    "\n",
    "        else:\n",
    "            # Adding all the packages with multiple courses to the final CSV folder.\n",
    "            filetitle = group_name.replace(\"/\", \"_\")\n",
    "            group_df.to_csv(FINAL_GROUP + f\"{filetitle}.csv\", index=False)\n",
    "\n",
    "df_other = pd.read_csv(GROUPED + \"Other.csv\")\n",
    "df_all = pd.concat([df_new, df_other])\n",
    "df_all.to_csv(FINAL_GROUP + \"Others.csv\", index=False)"
   ]
  },
  {
   "cell_type": "code",
   "execution_count": null,
   "id": "99a04f1a",
   "metadata": {},
   "outputs": [],
   "source": []
  },
  {
   "cell_type": "code",
   "execution_count": null,
   "id": "81516d9d",
   "metadata": {},
   "outputs": [],
   "source": []
  },
  {
   "cell_type": "markdown",
   "id": "18ad646b",
   "metadata": {},
   "source": [
    "## 이 밑으로는 사실 기억이 잘 안납니다..."
   ]
  },
  {
   "cell_type": "code",
   "execution_count": 28,
   "id": "1bfd3dc8",
   "metadata": {},
   "outputs": [
    {
     "ename": "AttributeError",
     "evalue": "'DataFrameGroupBy' object has no attribute 'groupby'",
     "output_type": "error",
     "traceback": [
      "\u001b[0;31m---------------------------------------------------------------------------\u001b[0m",
      "\u001b[0;31mAttributeError\u001b[0m                            Traceback (most recent call last)",
      "Cell \u001b[0;32mIn[28], line 3\u001b[0m\n\u001b[1;32m      1\u001b[0m total_pck \u001b[38;5;241m=\u001b[39m grouped_df\n\u001b[0;32m----> 3\u001b[0m pck_prchsd_usr \u001b[38;5;241m=\u001b[39m \u001b[43mtotal_pck\u001b[49m\u001b[38;5;241;43m.\u001b[39;49m\u001b[43mgroupby\u001b[49m(\u001b[38;5;124m\"\u001b[39m\u001b[38;5;124mcourse_group\u001b[39m\u001b[38;5;124m\"\u001b[39m)[\u001b[38;5;124m\"\u001b[39m\u001b[38;5;124mcustomer_id\u001b[39m\u001b[38;5;124m\"\u001b[39m]\u001b[38;5;241m.\u001b[39mnunique()\u001b[38;5;241m.\u001b[39mrename(\u001b[38;5;124m\"\u001b[39m\u001b[38;5;124mpck_purchased_user\u001b[39m\u001b[38;5;124m\"\u001b[39m)\n\u001b[1;32m      4\u001b[0m total_prchsd_usr \u001b[38;5;241m=\u001b[39m total_pck\u001b[38;5;241m.\u001b[39mgroupby(\u001b[38;5;124m\"\u001b[39m\u001b[38;5;124mcourse_group\u001b[39m\u001b[38;5;124m\"\u001b[39m)[\u001b[38;5;124m\"\u001b[39m\u001b[38;5;124mtransaction_id\u001b[39m\u001b[38;5;124m\"\u001b[39m]\u001b[38;5;241m.\u001b[39mnunique()\u001b[38;5;241m.\u001b[39mrename(\u001b[38;5;124m\"\u001b[39m\u001b[38;5;124mtotal_purchased_user\u001b[39m\u001b[38;5;124m\"\u001b[39m)\n\u001b[1;32m      5\u001b[0m comparison_df \u001b[38;5;241m=\u001b[39m pd\u001b[38;5;241m.\u001b[39mconcat([pck_prchsd_usr, total_prchsd_usr], axis\u001b[38;5;241m=\u001b[39m\u001b[38;5;241m1\u001b[39m)\n",
      "File \u001b[0;32m/opt/homebrew/Caskroom/miniconda/base/lib/python3.10/site-packages/pandas/core/groupby/groupby.py:987\u001b[0m, in \u001b[0;36mGroupBy.__getattr__\u001b[0;34m(self, attr)\u001b[0m\n\u001b[1;32m    984\u001b[0m \u001b[38;5;28;01mif\u001b[39;00m attr \u001b[38;5;129;01min\u001b[39;00m \u001b[38;5;28mself\u001b[39m\u001b[38;5;241m.\u001b[39mobj:\n\u001b[1;32m    985\u001b[0m     \u001b[38;5;28;01mreturn\u001b[39;00m \u001b[38;5;28mself\u001b[39m[attr]\n\u001b[0;32m--> 987\u001b[0m \u001b[38;5;28;01mraise\u001b[39;00m \u001b[38;5;167;01mAttributeError\u001b[39;00m(\n\u001b[1;32m    988\u001b[0m     \u001b[38;5;124mf\u001b[39m\u001b[38;5;124m\"\u001b[39m\u001b[38;5;124m'\u001b[39m\u001b[38;5;132;01m{\u001b[39;00m\u001b[38;5;28mtype\u001b[39m(\u001b[38;5;28mself\u001b[39m)\u001b[38;5;241m.\u001b[39m\u001b[38;5;18m__name__\u001b[39m\u001b[38;5;132;01m}\u001b[39;00m\u001b[38;5;124m'\u001b[39m\u001b[38;5;124m object has no attribute \u001b[39m\u001b[38;5;124m'\u001b[39m\u001b[38;5;132;01m{\u001b[39;00mattr\u001b[38;5;132;01m}\u001b[39;00m\u001b[38;5;124m'\u001b[39m\u001b[38;5;124m\"\u001b[39m\n\u001b[1;32m    989\u001b[0m )\n",
      "\u001b[0;31mAttributeError\u001b[0m: 'DataFrameGroupBy' object has no attribute 'groupby'"
     ]
    }
   ],
   "source": [
    "total_pck = pd.read_csv(dataset + \"package_clarified.csv\", encoding=\"utf-8-sig\")\n",
    "\n",
    "pck_prchsd_usr = total_pck.groupby(\"course_group\")[\"customer_id\"].nunique().rename(\"pck_purchased_user\")\n",
    "total_prchsd_usr = total_pck.groupby(\"course_group\")[\"transaction_id\"].nunique().rename(\"total_purchased_user\")\n",
    "comparison_df = pd.concat([pck_prchsd_usr, total_prchsd_usr], axis=1)\n",
    "print(comparison_df)"
   ]
  },
  {
   "cell_type": "markdown",
   "id": "d17f3f1f",
   "metadata": {},
   "source": [
    "이 아래 바차트까진 그래도... 그러려니 봐줄만은 합니다.."
   ]
  },
  {
   "cell_type": "code",
   "execution_count": null,
   "id": "13b1f313",
   "metadata": {},
   "outputs": [],
   "source": [
    "fig, ax = plt.subplots()\n",
    "\n",
    "for file_loc in all_file_locations[\"group_final\"]:\n",
    "    filename = file_loc.split(\"/\")[-1].split(\".\")[0]\n",
    "    if filename == \"Others\":\n",
    "        pass\n",
    "    else:\n",
    "        file = pd.read_csv(file_loc, encoding=\"utf-8-sig\")\n",
    "        pck_prchsd_usr = file.groupby(\"course_group\")[\"customer_id\"].nunique().rename(\"pck_purchased_user\")\n",
    "        ax.bar(pck_prchsd_usr.index, pck_prchsd_usr.values, width=0.8, label=filename[:4])"
   ]
  },
  {
   "cell_type": "code",
   "execution_count": null,
   "id": "af0132a9",
   "metadata": {},
   "outputs": [],
   "source": [
    "# Add chart title and axis labels\n",
    "ax.set_title('Number of Unique Customers per Course Group')\n",
    "ax.set_xlabel('Course Group')\n",
    "ax.set_ylabel('Number of Unique Customers')\n",
    "plt.xticks(alpha=0.5, fontsize=7,rotation=45)\n",
    "ax.legend().remove()\n",
    "\n",
    "# Display the chart\n",
    "plt.show()"
   ]
  },
  {
   "cell_type": "markdown",
   "id": "f1fc9f19",
   "metadata": {},
   "source": [
    "되도록이면... 아래는 실행시키지 않으시는게... 트릭아이를 보시게 될 수도 있습니다... 전 주의드렸습니다...ㅠㅠ"
   ]
  },
  {
   "cell_type": "code",
   "execution_count": null,
   "id": "8a6715cf",
   "metadata": {},
   "outputs": [],
   "source": [
    "def my_autopct(pct):\n",
    "    return ('%.3f' % pct) if pct > 5 else ''\n",
    "\n",
    "compsizes = comparison_df[\"pck_purchased_user\"].values\n",
    "totalsizes = comparison_df[\"total_purchased_user\"].values\n",
    "percentages = compsizes / totalsizes\n",
    "labels = comparison_df.index.values\n",
    "print(comparison_df)\n",
    "# print(sum(comparison_df.values))\n",
    "print(comparison_df.values.sum())\n",
    "print(labels)\n",
    "\n",
    "colors = ['blue', 'orange', 'green', 'red', 'skyblue', 'yellow']\n",
    "fig, ax = plt.subplots()\n",
    "ax.pie(percentages, labels=labels, colors=colors, autopct=my_autopct, startangle=90, counterclock=False)\n",
    "\n",
    "ax.tick_params(axis='both', which='both', length=0)\n",
    "ax.legend().set_visible(False)\n",
    "\n",
    "plt.title('Proportion of Customers per Course Group')\n",
    "\n",
    "\n",
    "plt.axis(\"equal\")\n",
    "plt.show()"
   ]
  }
 ],
 "metadata": {
  "kernelspec": {
   "display_name": "Python 3 (ipykernel)",
   "language": "python",
   "name": "python3"
  },
  "language_info": {
   "codemirror_mode": {
    "name": "ipython",
    "version": 3
   },
   "file_extension": ".py",
   "mimetype": "text/x-python",
   "name": "python",
   "nbconvert_exporter": "python",
   "pygments_lexer": "ipython3",
   "version": "3.10.9"
  }
 },
 "nbformat": 4,
 "nbformat_minor": 5
}
