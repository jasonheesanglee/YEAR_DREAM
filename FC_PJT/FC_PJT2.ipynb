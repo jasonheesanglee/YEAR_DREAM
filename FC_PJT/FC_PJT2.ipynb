{
 "cells": [
  {
   "cell_type": "code",
   "execution_count": null,
   "id": "df8b9367",
   "metadata": {},
   "outputs": [],
   "source": [
    "# !pip install numpy\n",
    "# !pip install pandas\n",
    "# !pip install matplotlib\n",
    "# !pip install scipy\n",
    "# !pip install seaborn"
   ]
  },
  {
   "cell_type": "code",
   "execution_count": 1,
   "id": "d000597f",
   "metadata": {},
   "outputs": [],
   "source": [
    "import os\n",
    "import numpy as np\n",
    "import pandas as pd\n",
    "from matplotlib import rc\n",
    "import matplotlib.pyplot as plt\n",
    "import matplotlib.font_manager as fm\n",
    "import re\n",
    "import glob\n",
    "import seaborn as sns\n",
    "from datetime import datetime, timedelta"
   ]
  },
  {
   "cell_type": "code",
   "execution_count": 2,
   "id": "e58fbd31",
   "metadata": {},
   "outputs": [
    {
     "data": {
      "text/plain": [
       "'/Users/b05/Desktop/YEAR_DREAM/FC_PJT'"
      ]
     },
     "execution_count": 2,
     "metadata": {},
     "output_type": "execute_result"
    }
   ],
   "source": [
    "os.getcwd()"
   ]
  },
  {
   "cell_type": "code",
   "execution_count": 3,
   "id": "7d472ea0",
   "metadata": {},
   "outputs": [
    {
     "name": "stdout",
     "output_type": "stream",
     "text": [
      "AppleGothic font found at  /System/Library/Fonts/Supplemental/AppleGothic.ttf\n"
     ]
    }
   ],
   "source": [
    "# Checking Fonts\n",
    "\n",
    "rc('font', family='AppleGothic')\n",
    "plt.rcParams['axes.unicode_minus'] = False\n",
    "font_path = fm.findfont('AppleGothic')\n",
    "if not font_path:\n",
    "    print('Warning: AppleGothic font not found')\n",
    "else:\n",
    "    print(\"AppleGothic font found at \", font_path)\n",
    "\n",
    "font_prop = fm.FontProperties(fname=font_path, size=12)"
   ]
  },
  {
   "cell_type": "code",
   "execution_count": 4,
   "id": "fb5e71d6",
   "metadata": {},
   "outputs": [],
   "source": [
    "# Creating variables for data paths\n",
    "dataset = \"./dataset/\"\n",
    "GROUPED = dataset + \"Grouped/\""
   ]
  },
  {
   "cell_type": "code",
   "execution_count": 5,
   "id": "5cbb1bc9",
   "metadata": {},
   "outputs": [],
   "source": [
    "if not os.path.exists(dataset + \"Grouped\"):\n",
    "    os.mkdir(dataset + \"Grouped\")"
   ]
  },
  {
   "cell_type": "code",
   "execution_count": 6,
   "id": "c9594895",
   "metadata": {},
   "outputs": [],
   "source": [
    "file_locations = {\n",
    "    'grouped': GROUPED    \n",
    "}\n",
    "\n",
    "all_file_locations = {}\n",
    "for key, value in file_locations.items():\n",
    "    all_file_locations[key] = glob.glob(value + \"*.csv\")"
   ]
  },
  {
   "cell_type": "code",
   "execution_count": 7,
   "id": "75aeabc5",
   "metadata": {},
   "outputs": [],
   "source": [
    "df = pd.read_csv(dataset+'eda-proj-fc-purchase.csv')"
   ]
  },
  {
   "cell_type": "code",
   "execution_count": 8,
   "id": "5e15b8f2",
   "metadata": {},
   "outputs": [],
   "source": [
    "df.rename(columns={\"거래id\":\"transaction_id\", \"유형\":\"l_type\", \"고객id\":\"customer_id\",\"코스ID\":\"courseID\",\"사이트\":\"site\", \"포맷\":\"l_format\", \"카테고리\":\"l_categories\", \"코스(상품) 이름\":\"course_name\", \"거래일자\":\"transaction_date_time\",\"쿠폰이름\":\"coupon_name\",\"판매가격\":\"sold_price\",\"결제수단\":\"payment_method\",\"실거래금액\":\"actual_sold_price\",\"쿠폰할인액\":\"coupon_discount\",\"거래금액\":\"transaction_amount\",\"환불금액\":\"refund_amount\"}, inplace=True)\n",
    "df.to_csv(dataset + \"rowdata_eng.csv\", index=False)"
   ]
  },
  {
   "cell_type": "code",
   "execution_count": 9,
   "id": "a1488d6c",
   "metadata": {},
   "outputs": [],
   "source": [
    "rowdata_eng = pd.read_csv(dataset+\"rowdata_eng.csv\")"
   ]
  },
  {
   "cell_type": "code",
   "execution_count": 10,
   "id": "87295913",
   "metadata": {},
   "outputs": [],
   "source": [
    "df = rowdata_eng['transaction_date_time'].str.split(\" \", n=5, expand=True)\n",
    "rowdata_eng['Date'] = df[0].str.cat([df[1], df[2]], sep=\"\")\n",
    "rowdata_eng['Time'] = df[4].str.cat([df[3]], sep=\" \")\n",
    "rowdata_eng.to_csv(dataset + \"times.csv\", index=False)"
   ]
  },
  {
   "cell_type": "code",
   "execution_count": 12,
   "id": "37a0a9a3",
   "metadata": {},
   "outputs": [
    {
     "data": {
      "text/plain": [
       "0         10:12:33 오후\n",
       "1          6:12:57 오후\n",
       "2         11:12:15 오후\n",
       "3         11:12:03 오후\n",
       "4         11:12:10 오후\n",
       "             ...     \n",
       "159323    12:01:08 오전\n",
       "159324    12:01:12 오전\n",
       "159325    12:01:21 오전\n",
       "159326    11:01:24 오전\n",
       "159327     4:01:00 오전\n",
       "Name: Time, Length: 159328, dtype: object"
      ]
     },
     "execution_count": 12,
     "metadata": {},
     "output_type": "execute_result"
    }
   ],
   "source": [
    "times = pd.read_csv(dataset + \"times.csv\")\n",
    "\n",
    "# for i in times[\"Time\"]:\n",
    "#     print(i)\n",
    "    "
   ]
  },
  {
   "cell_type": "code",
   "execution_count": null,
   "id": "34ea3c5e",
   "metadata": {},
   "outputs": [],
   "source": [
    "# for i, time in times.iteritems():\n",
    "for i in rowdata_eng[\"Time\"]:\n",
    "    \n",
    "\n",
    "# if 오후\" in time:\n",
    "#     df[3] = \"PM\"\n",
    "# else:\n",
    "#     df[3] = \"AM\"\n",
    "\n",
    "# row_data_dtsplit = rowdata_eng\n",
    "\n",
    "# rowdata_eng.to_csv(dataset + \"times.csv\", index=False)"
   ]
  },
  {
   "cell_type": "code",
   "execution_count": null,
   "id": "d016da58",
   "metadata": {},
   "outputs": [],
   "source": [
    "tsplit = row_data_dtsplit[\"Time\"]\n",
    "for i, time in tsplit.iteritems():\n",
    "    if \"오후\" in time:\n",
    "        time = time.replace(\"오후 \",\"\")\n",
    "        print(time)\n",
    "        if int(time.split(\":\")[0]) == \"12\" and \"오후\" in time:\n",
    "            time = time.replace(\"오후 \",\"\")\n",
    "            \n",
    "        else:\n",
    "            x = int(time.split(\":\")[0]) + 12\n",
    "            y = time.split(\":\")[1]\n",
    "            z = time.split(\":\")[2]\n",
    "            xyz = [str(x),\":\", str(y), \":\", str(z)]\n",
    "            time_str = \"\".join(xyz)\n",
    "            row_data_dtsplit.at[i, \"Time\"] = time_str\n",
    "    else:\n",
    "        time = time.replace(\"오전 \", \"\")\n",
    "        if int(time.split(\":\")[0]) == 12:\n",
    "            x = 0\n",
    "            time.split(\":\")[0] = \"0\"\n",
    "            y = time.split(\":\")[1]\n",
    "            z = time.split(\":\")[2]\n",
    "            xyz = [str(x),\":\", str(y), \":\", str(z)]\n",
    "            time_str = \"\".join(xyz)\n",
    "            row_data_dtsplit.at[i, \"Time\"] = time_str\n",
    "        else:\n",
    "            time = time.replace(\"오전 \", \"\")\n",
    "    \n",
    "\n",
    "row_time_data = row_data_dtsplit\n",
    "row_data_dtsplit.to_csv(dataset + \"row_data_dtsplit.csv\", index=False)"
   ]
  },
  {
   "cell_type": "code",
   "execution_count": null,
   "id": "178ef755",
   "metadata": {},
   "outputs": [],
   "source": [
    "def clean_course_data(course_name):\n",
    "    if course_name.startswith(\"(\"):\n",
    "        if \"~\" in course_name:\n",
    "            return course_name.split(\")\")[1]\n",
    "        else:\n",
    "            return course_name\n",
    "    else:\n",
    "        return course_name\n",
    "    \n",
    "row_time_data[\"course_name\"] = row_time_data[\"course_name\"].apply(clean_course_data)\n",
    "course_name_cleansed = row_time_data\n",
    "# row_time_data.to_csv(dataset +\"course_name_cleansed.csv\", index = False)"
   ]
  },
  {
   "cell_type": "code",
   "execution_count": null,
   "id": "ac948586",
   "metadata": {},
   "outputs": [],
   "source": [
    "def group_columns(row):\n",
    "    parts = re.split(\"[:|-]\", row[\"course_name\".lower()])\n",
    "    if len(parts) <= 1:\n",
    "        if parts[0].startswith(\"[무료 강의]\"):\n",
    "            return \"[무료 강의]\"\n",
    "        return (\"Other\")\n",
    "#-----------------------------------------------------------------------------\n",
    "    elif \" \" in parts[0]:\n",
    "        parts[0] = parts[0].replace(\" \",\"\")\n",
    "        if parts[0].startswith(\"[Kit]\"):\n",
    "            return \"Kit\"\n",
    "        elif parts[0].startswith(\"((\"):\n",
    "            return parts[0].split(\"))\")[1]\n",
    "        elif parts[0].startswith(\"(\"):\n",
    "            return parts[0].split(\")\")[1]\n",
    "        elif parts[0].startswith(\"[\"):\n",
    "            return parts[0].split(\"]\")[1]\n",
    "        else:\n",
    "            return parts[0]\n",
    "\n",
    "course_name_cleansed[\"course_group\"] = course_name_cleansed.apply(group_columns, axis=1)\n",
    "grouped_df = course_name_cleansed.groupby(\"course_group\")\n",
    "for group_name, group_df in grouped_df:\n",
    "    print(\"Group: \", group_name)\n",
    "    groupname = group_name.replace(\"/\",\"_\")\n",
    "    filename = f\"{groupname.strip()}.csv\"\n",
    "    group_df.to_csv(GROUPED + f\"{filename}\", index=False)\n",
    "    "
   ]
  },
  {
   "cell_type": "code",
   "execution_count": null,
   "id": "d68ce0b4",
   "metadata": {},
   "outputs": [],
   "source": [
    "for file in all_file_locations[\"grouped\"]:\n",
    "    df = pd.read_csv(file)\n",
    "    print(file, file.split(\"/\")[-1].split(\".\")[0] ,len(set(df[\"course_name\"])))"
   ]
  },
  {
   "cell_type": "code",
   "execution_count": null,
   "id": "bd27db16",
   "metadata": {},
   "outputs": [],
   "source": [
    "# df_new = pd.DataFrame()\n",
    "df_new = pd.read_csv(GROUPED + \"Other.csv\")\n",
    "for file in all_file_locations[\"grouped\"]:\n",
    "    if file == GROUPED + \"Other.csv\":\n",
    "        continue\n",
    "    else:\n",
    "        df = pd.read_csv(file)\n",
    "        if len(set(df[\"course_name\"])) == 1:\n",
    "            df_new = pd.concat([df_new, df])\n",
    "        else:\n",
    "            pass\n",
    "\n",
    "pd.concat([df_new, df_other])\n",
    "df_new.to_csv(GROUPED + \"Others.csv\", index=False)"
   ]
  },
  {
   "cell_type": "code",
   "execution_count": null,
   "id": "5b02097b",
   "metadata": {},
   "outputs": [],
   "source": []
  }
 ],
 "metadata": {
  "kernelspec": {
   "display_name": "Python 3 (ipykernel)",
   "language": "python",
   "name": "python3"
  },
  "language_info": {
   "codemirror_mode": {
    "name": "ipython",
    "version": 3
   },
   "file_extension": ".py",
   "mimetype": "text/x-python",
   "name": "python",
   "nbconvert_exporter": "python",
   "pygments_lexer": "ipython3",
   "version": "3.10.9"
  }
 },
 "nbformat": 4,
 "nbformat_minor": 5
}
