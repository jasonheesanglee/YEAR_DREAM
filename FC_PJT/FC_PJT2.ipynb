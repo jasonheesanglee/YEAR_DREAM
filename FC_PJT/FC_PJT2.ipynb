{
 "cells": [
  {
   "cell_type": "markdown",
   "id": "bc15b0b1",
   "metadata": {},
   "source": [
    "## FastCampus PJT - Team 3\n",
    "##### 심성식 김민수 심승현 이희상 이용기"
   ]
  },
  {
   "cell_type": "markdown",
   "id": "62d59820",
   "metadata": {},
   "source": [
    "### 라이브러리 관련 및 환경 셋업"
   ]
  },
  {
   "cell_type": "markdown",
   "id": "f4929672",
   "metadata": {},
   "source": [
    "###### 필요한 모듈 설치"
   ]
  },
  {
   "cell_type": "code",
   "execution_count": null,
   "id": "df8b9367",
   "metadata": {},
   "outputs": [],
   "source": [
    "# !pip install numpy\n",
    "# !pip install pandas\n",
    "# !pip install matplotlib\n",
    "# !pip install scipy\n",
    "# !pip install seaborn\n",
    "# !pip install openpyxl"
   ]
  },
  {
   "cell_type": "markdown",
   "id": "45ce6d4a",
   "metadata": {},
   "source": [
    "###### 필요한 모듈 모두 불러오기"
   ]
  },
  {
   "cell_type": "code",
   "execution_count": null,
   "id": "d000597f",
   "metadata": {},
   "outputs": [],
   "source": [
    "import os\n",
    "import time\n",
    "from bs4 import BeautifulSoup\n",
    "from selenium import webdriver\n",
    "from selenium.webdriver.common.by import By\n",
    "import numpy as np\n",
    "import pandas as pd\n",
    "import urllib.request\n",
    "from matplotlib import rc\n",
    "import matplotlib.pyplot as plt\n",
    "import matplotlib.font_manager as fm\n",
    "import re\n",
    "import glob\n",
    "import seaborn as sns\n",
    "import datetime\n",
    "import csv"
   ]
  },
  {
   "cell_type": "markdown",
   "id": "6117a21e",
   "metadata": {},
   "source": [
    "###### 폰트 확인"
   ]
  },
  {
   "cell_type": "code",
   "execution_count": null,
   "id": "7d472ea0",
   "metadata": {},
   "outputs": [],
   "source": [
    "rc('font', family='AppleGothic')\n",
    "plt.rcParams['axes.unicode_minus'] = False\n",
    "font_path = fm.findfont('AppleGothic')\n",
    "if not font_path:\n",
    "    print('Warning: AppleGothic font not found')\n",
    "else:\n",
    "    print(\"AppleGothic font found at \", font_path)\n",
    "\n",
    "font_prop = fm.FontProperties(fname=font_path, size=12)\n"
   ]
  },
  {
   "cell_type": "markdown",
   "id": "bd3a13fb",
   "metadata": {},
   "source": [
    "### 경로 설정"
   ]
  },
  {
   "cell_type": "markdown",
   "id": "72c511cf",
   "metadata": {},
   "source": [
    "###### 폴더 생성 및 경로 variable 생성"
   ]
  },
  {
   "cell_type": "code",
   "execution_count": null,
   "id": "fb5e71d6",
   "metadata": {},
   "outputs": [],
   "source": [
    "# Creating folders and variables for data paths\n",
    "\n",
    "dataset = \"./dataset/\"\n",
    "GROUPED = dataset + \"Grouped/\"\n",
    "FINAL_GROUP = dataset + \"Grouped_Final/\"\n",
    "\n",
    "if not os.path.exists(\"./dataset\"):\n",
    "    os.mkdir(\"./dataset\")\n",
    "\n",
    "if not os.path.exists(dataset + \"Grouped\"):\n",
    "    os.mkdir(dataset + \"Grouped\")\n",
    "\n",
    "if not os.path.exists(dataset + \"Grouped_Final\"):\n",
    "    os.mkdir(dataset + \"Grouped_Final\")"
   ]
  },
  {
   "cell_type": "markdown",
   "id": "875b0561",
   "metadata": {},
   "source": [
    "###### 파일 경로 불러올 딕셔너리 생성"
   ]
  },
  {
   "cell_type": "code",
   "execution_count": null,
   "id": "c9594895",
   "metadata": {
    "scrolled": true
   },
   "outputs": [],
   "source": [
    "# Adding up all file locations into a dictionary.\n",
    "\n",
    "file_locations = {\n",
    "    \"dataset\" : dataset,\n",
    "    'grouped': GROUPED,\n",
    "    'group_final' : FINAL_GROUP #,\n",
    "    # to be added further\n",
    "}\n",
    "\n",
    "all_file_locations = {}\n",
    "for key, value in file_locations.items():\n",
    "    all_file_locations[key] = glob.glob(value + \"*.csv\")\n",
    "\n",
    "'''\n",
    "\n",
    "type all_file_locations[\"key\"] to call\n",
    "keys are \"dataset\", \"grouped\", \"group_final\", etc.; to be added further.\n",
    "\n",
    "'''"
   ]
  },
  {
   "cell_type": "markdown",
   "id": "3689db70",
   "metadata": {},
   "source": [
    "#### 준비"
   ]
  },
  {
   "cell_type": "markdown",
   "id": "bc46c442",
   "metadata": {},
   "source": [
    "###### Definition 설정"
   ]
  },
  {
   "cell_type": "code",
   "execution_count": null,
   "id": "c4f6f51c",
   "metadata": {},
   "outputs": [],
   "source": [
    "# Local definitions - 1\n",
    "\n",
    "def clean_course_name(course_name):\n",
    "    '''\n",
    "    course name 중 첫 구절이 ( 으로 시작하고, \n",
    "    ~ 로 스플릿한 구절 중 0번째 len이 7인 경우; 예시: \"(220123\"\n",
    "    ) 이후의 course name을 return합니다.\n",
    "    \n",
    "    아래와 같이 사용해 주시면 편합니다.\n",
    "    df[\"course_name\"] = df[\"course_name\"].apply(clean_course_name)\n",
    "\n",
    "    '''\n",
    "    if course_name.startswith(\"(\"):\n",
    "        # Classify the date range to cleanse.\n",
    "        if \"~\" in course_name:\n",
    "            temp = course_name.split(\"~\")[0]\n",
    "            # if the value before ~ is in year format, remove the whole bracket.\n",
    "            if len(temp) == 7:\n",
    "                return course_name.split(\")\")[1]\n",
    "            else:\n",
    "                return course_name\n",
    "        else:\n",
    "            return course_name\n",
    "    else:\n",
    "        return course_name"
   ]
  },
  {
   "cell_type": "code",
   "execution_count": null,
   "id": "0dd2413c",
   "metadata": {},
   "outputs": [],
   "source": [
    "# Local definitions - 2\n",
    "\n",
    "def course_packages(row):\n",
    "    '''\n",
    "    패키지명을 return하는 코드입니다.\n",
    "    \n",
    "    아래와 같이 apply 해주시고 적용 희망하시는 row를 대치시켜주시면 됩니다.\n",
    "    df[\"course_group\"] = df.apply(course_packages, axis=1)\n",
    "    \n",
    "    '''\n",
    "    # Splitting course classifier (: and -) to extract package name\n",
    "    parts = re.split(\"[:|-]\", row[\"course_name\"])\n",
    "    # Finding course names without package classifier\n",
    "    if len(parts) <= 1:\n",
    "        # [무료강의] as an exception, it makes more sense if we classify itself alone.\n",
    "        if parts[0].startswith(\"[무료강의]\"):\n",
    "            return \"[무료강의]\"\n",
    "        # Classify all other courses without package classifier into Other.\n",
    "        return (\"Other\")\n",
    "    # Finding course names with package classifier.\n",
    "    elif len(parts) > 1:\n",
    "        # Classify [kit] first, as it needs to be separated from other [ ] covered words.\n",
    "        if parts[0].startswith(\"[kit]\"):\n",
    "            return \"[kit]\"\n",
    "        # Removing (( ))\n",
    "        elif parts[0].startswith(\"((\"):\n",
    "            return parts[0].split(\"))\")[1]\n",
    "        # Removing ( )\n",
    "        elif parts[0].startswith(\"(\"):\n",
    "            return parts[0].split(\")\")[1]\n",
    "        # Removing [ ]\n",
    "        elif parts[0].startswith(\"[\"):\n",
    "            return parts[0].split(\"]\")[1]\n",
    "        else:\n",
    "            return parts[0]\n",
    "    else:\n",
    "        return parts[0]\n"
   ]
  },
  {
   "cell_type": "code",
   "execution_count": null,
   "id": "fcce19b7",
   "metadata": {},
   "outputs": [],
   "source": [
    "# Local definitions - 3\n",
    "\n",
    "def coupons(df):\n",
    "    '''\n",
    "    coupon name을 통해 특수 형태의 쿠폰 분류,\n",
    "    예외의 경우, 타 column 활용하여 쿠폰 분류\n",
    "    \n",
    "    아래와 같이 사용해 주시면 편합니다.\n",
    "    df = coupons(df)\n",
    "    \n",
    "    '''\n",
    "    # Find the length of DataFrame\n",
    "    for i in range(len(df)):\n",
    "        # Counter Set\n",
    "        found = False\n",
    "        # if dict key is in coupon name, insert dict value in coupon type\n",
    "        if isinstance(df[\"coupon_name\"][i], str):\n",
    "            for key, value in external_coupons.items():\n",
    "                if key in df[\"coupon_name\"][i]:\n",
    "                    df.at[i, \"coupon_type\"] = value\n",
    "                    # counter\n",
    "                    found = True\n",
    "                    break\n",
    "            else:\n",
    "                for key, value in internal_coupons.items():\n",
    "                    if key in df[\"coupon_name\"][i]:\n",
    "                        df.at[i, \"coupon_type\"] = value\n",
    "                        found = True\n",
    "                        break\n",
    "        # if not found from the above,\n",
    "        if not found:\n",
    "            # first, set all remaining coupon's type as general\n",
    "            if isinstance(df[\"coupon_name\"][i], str):\n",
    "                df.at[i, \"coupon_type\"] = \"general\"\n",
    "            # then, find 100% discount coupon and assign it as \"free\"\n",
    "            if df[\"actual_sold_price\"][i] == 0.0 and df[\"transaction_amount\"][i] == 0.0:\n",
    "                df.at[i, \"coupon_type\"] = \"free\"\n",
    "            # then, find % discount coupons and assign it as its percent\n",
    "            if isinstance(df[\"coupon_discount\"][i], float) and isinstance(df[\"coupon_name\"][i], str) and \"%\" in df[\"coupon_name\"][i]:\n",
    "                df.at[i, \"coupon_type\"] = f\"{df['coupon_name'][i].split('%')[0][-2:]} percent\"\n",
    "            else:\n",
    "                continue\n",
    "    return df\n"
   ]
  },
  {
   "cell_type": "markdown",
   "id": "8d6fea52",
   "metadata": {},
   "source": [
    "###### 컬럼명 영문으로 변경 - Encoding 이슈 방지"
   ]
  },
  {
   "cell_type": "code",
   "execution_count": null,
   "id": "75a75c3c",
   "metadata": {},
   "outputs": [],
   "source": [
    "# Changing column names from Korean to English\n",
    "\n",
    "df = pd.read_csv('./eda-proj-fc-purchase.csv')\n",
    "df.rename(columns={\"거래id\":\"transaction_id\", \"유형\":\"l_type\", \"고객id\":\"customer_id\",\"코스ID\":\"courseID\",\"사이트\":\"site\", \"포맷\":\"l_format\",\n",
    "                   \"카테고리\":\"l_categories\", \"코스(상품) 이름\":\"course_name\", \"거래일자\":\"transaction_date_time\",\"쿠폰이름\":\"coupon_name\",\n",
    "                   \"판매가격\":\"sold_price\",\"결제수단\":\"payment_method\",\"실거래금액\":\"actual_sold_price\",\"쿠폰할인액\":\"coupon_discount\",\n",
    "                   \"거래금액\":\"transaction_amount\",\"환불금액\":\"refund_amount\"\n",
    "                   },\n",
    "          inplace=True)\n",
    "df.to_csv(dataset + \"rawdata_eng.csv\", index=False)"
   ]
  },
  {
   "cell_type": "markdown",
   "id": "9879b904",
   "metadata": {},
   "source": [
    "###### 사전 데이터 탐색\n",
    "\n",
    "- 이어드림 과정에서 배운 다양한 분석기법을 활용하고 학습하고 주제로 이어지는 의미 있는 데이터를 추출을 목적으로 수행"
   ]
  },
  {
   "cell_type": "markdown",
   "id": "6cdfb946",
   "metadata": {},
   "source": [
    "### 우리가 주목한 데이터"
   ]
  },
  {
   "cell_type": "code",
   "execution_count": null,
   "id": "5efa0606",
   "metadata": {},
   "outputs": [],
   "source": [
    "df.l_categories.value_counts()"
   ]
  },
  {
   "cell_type": "code",
   "execution_count": null,
   "id": "cc8491fa",
   "metadata": {
    "scrolled": true
   },
   "outputs": [],
   "source": [
    "grouped = df.groupby(\"l_categories\")\n",
    "df_temp = pd.DataFrame()\n",
    "df_temp[\"count\"] = grouped.size()\n",
    "df_temp[\"home_lecture_num\"] = grouped[\"course_name\"].nunique()\n",
    "df_temp[\"c_count\"] = grouped.size() / len(df) * 100\n",
    "df_temp[\"h_count\"] = grouped[\"course_name\"].nunique() / df[\"course_name\"].nunique() * 100\n",
    "\n",
    "df_temp = df_temp.sort_values(by=\"count\", ascending=False)\n",
    "df_temp"
   ]
  },
  {
   "cell_type": "code",
   "execution_count": null,
   "id": "cba18eb2",
   "metadata": {
    "scrolled": true
   },
   "outputs": [],
   "source": [
    "x_label = df_temp.index\n",
    "x = np.arange(len(x_label))\n",
    "y_1 = df_temp['c_count']\n",
    "y_2 = df_temp['h_count']\n",
    "# 넓이 지정\n",
    "width = 0.35\n",
    "# subplots 생성\n",
    "fig, axes = plt.subplots()\n",
    "# 넓이 설정\n",
    "axes.barh(x - width/2, y_1, width, align='center', alpha=0.5, color=(33/255,229/255,222/255))\n",
    "axes.barh(x + width/2, y_2, width, align='center', alpha=0.8, color=(224/255,80/255,255/255))\n",
    "# xtick 설정\n",
    "plt.yticks(x)\n",
    "axes.set_yticklabels(x_label)\n",
    "plt.xlabel('전체강의대비 비율%%')\n",
    "plt.title('')\n",
    "plt.legend(['결재강의비율', '홈페이지비율'])\n",
    "plt.show()"
   ]
  },
  {
   "cell_type": "markdown",
   "id": "7c719b4b",
   "metadata": {},
   "source": [
    "# 전처리"
   ]
  },
  {
   "cell_type": "markdown",
   "id": "c8bcdbaa",
   "metadata": {},
   "source": [
    "###### 날짜/시간 데이터 변환 및 분리"
   ]
  },
  {
   "cell_type": "code",
   "execution_count": null,
   "id": "87295913",
   "metadata": {},
   "outputs": [],
   "source": [
    "# Converting date_time to date and time.\n",
    "\n",
    "rawdata = pd.read_csv(dataset+\"rawdata_eng.csv\")\n",
    "\n",
    "df = rawdata['transaction_date_time'].str.split(\" \", n=5, expand=True)\n",
    "print(df)\n",
    "rawdata['FullDate'] = df[0].str.cat([df[1], df[2]], sep=\"\")\n",
    "rawdata['year'] = df[0].replace(\".\",\"\")\n",
    "rawdata['month'] = df[1].replace(\".\",\"\")\n",
    "rawdata['day'] = df[2].replace(\".\",\"\")\n",
    "\n",
    "rawdata['FullTime'] = df[3].str.cat([df[4]], sep=\" \")\n",
    "times = df[4].str.split(\":\", expand=True)\n",
    "rawdata[\"hour\"] = times[0]\n",
    "rawdata[\"minute\"] = times[1]\n",
    "rawdata[\"second\"] = times[2]\n",
    "# Converting time to 24H format\n",
    "\n",
    "rawdata[\"FullTime\"] = rawdata[\"FullTime\"].str.replace(\"오후\", \"PM\").str.replace(\"오전\",\"AM\")\n",
    "rawdata['FullTime'] = rawdata['FullTime'].apply(lambda x: datetime.datetime.strptime(x, '%p %I:%M:%S').strftime('%H:%M:%S'))\n",
    "df = rawdata\n",
    "# rawdata.to_csv(dataset + \"rawdata.csv\", index=False)"
   ]
  },
  {
   "cell_type": "markdown",
   "id": "d13b6b56",
   "metadata": {},
   "source": [
    "###### 불필요한 데이터 처리"
   ]
  },
  {
   "cell_type": "code",
   "execution_count": null,
   "id": "a4241540",
   "metadata": {
    "scrolled": true
   },
   "outputs": [],
   "source": [
    "# Deleting Rows\n",
    "\n",
    "# 크리에이티브\n",
    "print(\"Number of rows before deletion:\", len(df))\n",
    "df = df[df[\"l_categories\"] != \"크리에이티브\"]\n",
    "print(\"Number of rows after deletion:\", len(df))\n",
    "\n",
    "# Format 컬럼\n",
    "\n",
    "df = df.drop(\"l_format\", axis=1)\n",
    "df = df.drop(\"l_type\", axis=1)\n",
    "\n",
    "# rowdata_eng.to_csv(dataset + \"columns_deleted.csv\", index=False)"
   ]
  },
  {
   "cell_type": "markdown",
   "id": "11b4a451",
   "metadata": {},
   "source": [
    "###### 숫자 데이터 컬럼 형 변환 (Obj -> Float)"
   ]
  },
  {
   "cell_type": "code",
   "execution_count": null,
   "id": "d637c518",
   "metadata": {},
   "outputs": [],
   "source": [
    "# Convert dtype\n",
    "df = df.replace(\"-\",np.nan)\n",
    "df[\"sold_price\"] = df[\"sold_price\"].astype(float)\n",
    "df[\"actual_sold_price\"] = df[\"actual_sold_price\"].astype(float)\n",
    "df[\"coupon_discount\"] = df[\"coupon_discount\"].astype(float)\n",
    "df[\"transaction_amount\"] = df[\"transaction_amount\"].astype(float)\n",
    "df[\"refund_amount\"] = df[\"refund_amount\"].astype(float)\n",
    "type_converted = df\n",
    "# type_converted.to_csv(dataset + \"space_PLEASE.csv\", index=False)"
   ]
  },
  {
   "cell_type": "markdown",
   "id": "2b8e7961",
   "metadata": {},
   "source": [
    "###### 코스 이름 컬럼 cleansing"
   ]
  },
  {
   "cell_type": "code",
   "execution_count": null,
   "id": "45e8cbed",
   "metadata": {},
   "outputs": [],
   "source": [
    "# Removing date range in course_name\n",
    "\n",
    "type_converted[\"course_name\"] = type_converted[\"course_name\"].apply(clean_course_name)\n",
    "df_yes_space = type_converted\n",
    "df_yes_space\n",
    "df_yes_space.to_csv(dataset +\"df_yes_space.csv\", index = False)"
   ]
  },
  {
   "cell_type": "markdown",
   "id": "5b851919",
   "metadata": {},
   "source": [
    "###### 패키지 별 분류"
   ]
  },
  {
   "cell_type": "code",
   "execution_count": null,
   "id": "ac948586",
   "metadata": {},
   "outputs": [],
   "source": [
    "# Grouping courses by Packages\n",
    "\n",
    "# \"The Red\" had many variances, needed to cleanse the course_name once again solely for this\n",
    "df_yes_space[\"course_name\"] = df_yes_space[\"course_name\"].apply(lambda x: x.replace(\" \", \"\").lower())\n",
    "df_no_space = df_yes_space\n",
    "\n",
    "# Applying def course_packages.\n",
    "df_no_space[\"course_group\"] = df_no_space.apply(course_packages, axis=1)\n",
    "df_no_space[\"course_name\"] = rawdata[\"course_name\"]\n",
    "df_no_space.to_csv(dataset +\"Packages_Separated.csv\", index = False)\n",
    "\n",
    "# Generating CSV file for each Package.\n",
    "grouped_df = df_no_space.groupby(\"course_group\")\n",
    "\n",
    "for group_name, group_df in grouped_df:\n",
    "    if group_name == \"Other\":\n",
    "#     groupname = group_name.replace(\"/\", \"_\")\n",
    "        filename = f\"{group_name}.csv\"\n",
    "        group_df.to_csv(GROUPED + f\"{filename}\", index=False)\n",
    "    else:\n",
    "        pass"
   ]
  },
  {
   "cell_type": "markdown",
   "id": "6f1d3cb9",
   "metadata": {},
   "source": [
    "###### 패키지 별 분류된 CSV파일 생성"
   ]
  },
  {
   "cell_type": "code",
   "execution_count": null,
   "id": "9ca54fce",
   "metadata": {},
   "outputs": [],
   "source": [
    "# Some packages only had one course each, needed to re-classify them as others\n",
    "for file in all_file_locations[\"grouped\"]:\n",
    "    df = pd.read_csv(file, low_memory=False)\n",
    "    # print(file, file.split(\"/\")[-1].split(\".\")[0] ,len(set(df[\"course_name\"])))\n",
    "\n",
    "df_new = pd.DataFrame()\n",
    "for group_name, group_df in grouped_df:\n",
    "    # We don't need to check Other.csv as we want to add more data to it\n",
    "    if group_name == \"Other\":\n",
    "        continue\n",
    "    else:\n",
    "        # Check if any Package has only one course\n",
    "        if len(set(group_df[\"course_name\"])) == 1:\n",
    "            # There is only one course in [무료강의], but as it seemed more legit if we separate it from Others.\n",
    "            if group_name == \"[무료강의]\":\n",
    "                # Adding up [무료강의].csv to final CSV folder\n",
    "                group_df.to_csv(FINAL_GROUP + \"[무료강의].csv\", index=False)\n",
    "                pass\n",
    "            else:\n",
    "                # Add all packages that only has one course to df_new\n",
    "                df_new = pd.concat([df_new, group_df])\n",
    "                \n",
    "\n",
    "        else:\n",
    "            # Adding all the packages with multiple courses to the final CSV folder.\n",
    "            filetitle = group_name.replace(\"/\", \"_\")\n",
    "            group_df.to_csv(FINAL_GROUP + f\"{filetitle}.csv\", index=False)\n",
    "\n",
    "df_other = pd.read_csv(GROUPED + \"Other.csv\")\n",
    "df_all = pd.concat([df_new, df_other])\n",
    "df_all.to_csv(FINAL_GROUP + \"Others.csv\", index=False)"
   ]
  },
  {
   "cell_type": "markdown",
   "id": "52dbffec",
   "metadata": {},
   "source": [
    "###### 쿠폰 분류 추가"
   ]
  },
  {
   "cell_type": "code",
   "execution_count": null,
   "id": "2f09dc14",
   "metadata": {},
   "outputs": [],
   "source": [
    "internal_coupons = {\"내부\" : \"internal\",\n",
    "                    \"검수\" : \"internal\",\n",
    "                    \"검토\" : \"internal\",\n",
    "                    \"협업\" : \"internal\",\n",
    "                    \"업무\" : \"internal\",\n",
    "                    \"참고\" : \"internal\",\n",
    "                    \"직원\" : \"internal\",\n",
    "                    \"강사\" : \"internal\",\n",
    "                    \"QA\" : \"internal\",\n",
    "                    \"테스트\" : \"internal\",\n",
    "                    \"조교\" : \"internal\",\n",
    "                    \"test\" : \"internal\",\n",
    "                    \"마케팅\" : \"internal\",\n",
    "                    \"신해동\" : \"internal\"\n",
    "                   }\n",
    "external_coupons = {\"WELCOME\" : \"welcome\",\n",
    "                    \"welcome\" : \"welcome\",\n",
    "                    \"Welcome\" : \"welcome\",\n",
    "                     \"페이백\" : \"payback\",\n",
    "                     \"1+1\" : \"bogo\",\n",
    "                     \"산학\" : \"univ\",\n",
    "                     \"기수강자\" : \"return\",\n",
    "                     \"미리보기\" : \"preview\",\n",
    "                     \"100%\": \"free\",\n",
    "                     \"무료\" : \"free\"\n",
    "                    }"
   ]
  },
  {
   "cell_type": "code",
   "execution_count": null,
   "id": "f9e46a1d",
   "metadata": {},
   "outputs": [],
   "source": [
    "df = pd.read_csv(dataset + 'Packages_Separated.csv') #추가할 데이터 부르기\n",
    "\n",
    "df = coupons(df)\n",
    "df.to_csv(dataset+\"final_prep_file.csv\")"
   ]
  },
  {
   "cell_type": "markdown",
   "id": "6b8a9c95",
   "metadata": {},
   "source": [
    "###### 패키지, 쿠폰 타입 별 판매 수량"
   ]
  },
  {
   "cell_type": "code",
   "execution_count": null,
   "id": "f1c63f59",
   "metadata": {},
   "outputs": [],
   "source": [
    "df_per_type_sold = pd.read_csv(dataset + \"final_prep_file.csv\")\n",
    "\n",
    "grouped = df_per_type_sold.groupby(\"course_group\")\n",
    "df_temp = pd.DataFrame()\n",
    "df_temp[\"package_count\"] = grouped.size()\n",
    "df_temp = df_temp.sort_values(by=\"package_count\",ascending=False)\n",
    "\n",
    "df_temp"
   ]
  },
  {
   "cell_type": "code",
   "execution_count": null,
   "id": "58ff2988",
   "metadata": {
    "scrolled": true
   },
   "outputs": [],
   "source": [
    "grouped_2 = df_per_type_sold.groupby(\"coupon_type\")\n",
    "df_temp2 = pd.DataFrame()\n",
    "df_temp2[\"coupon_type_count\"] = grouped_2.size()\n",
    "df_temp2 = df_temp2.sort_values(by=\"coupon_type_count\", ascending=False)\n",
    "\n",
    "df_temp2"
   ]
  },
  {
   "cell_type": "markdown",
   "id": "e61f4a4d",
   "metadata": {},
   "source": [
    "# 주제와 관련된 데이터 탐색"
   ]
  },
  {
   "cell_type": "markdown",
   "id": "da3a3b43",
   "metadata": {},
   "source": [
    "## 주 수요층 분석을 통한 매출증대 전략\n",
    "### 주 고객은 누구인가?"
   ]
  },
  {
   "cell_type": "markdown",
   "id": "f140896f",
   "metadata": {},
   "source": [
    "###### 카테고리별 매출 비교"
   ]
  },
  {
   "cell_type": "code",
   "execution_count": null,
   "id": "4308c14c",
   "metadata": {},
   "outputs": [],
   "source": [
    "df = df_vis[df_vis.refund_amount.isnull()]\n",
    "temp = df[[\"l_categories\" , \"sold_price\" , \"actual_sold_price\" ,\"coupon_discount\" , \"transaction_amount\", \"refund_amount\"]]\n",
    "temp2 = temp.groupby(\"l_categories\").sum().reset_index()\n",
    "plt.title(\"모든 카테고리별 총 매출\")\n",
    "plt.xticks(rotation=90)\n",
    "sns.barplot(data = temp2.sort_values(\"actual_sold_price\",ascending=False) , x = \"l_categories\" , y = 'actual_sold_price' , \\\n",
    "            palette = [\"#EA96A3\" ,\"#B89C49\", \"#98A246\", \"#60AE47\", \"#4AAE8A\", \"#4BABA4\", \"#4FABBC\", \"#6DAEE2\", \"#B6A8EB\",\"#DF8FE7\",\"#E890C6\"] )"
   ]
  },
  {
   "cell_type": "code",
   "execution_count": null,
   "id": "ed5889da",
   "metadata": {
    "scrolled": false
   },
   "outputs": [],
   "source": [
    "# 첫 구매로도 프로그래밍, 데사 ... 순임\n",
    "plt.figure(figsize=(10,10))\n",
    "plt.title(\"카테고리별 총 매출 비율\")\n",
    "plt.xticks(rotation=45)\n",
    "wedgeprops={'width': 0.8, 'edgecolor': 'w', 'linewidth': 5}\n",
    "explode = [0.10, 0, 0,0,0,0,0,0,0,0]\n",
    "plt.pie(x=temp2[\"actual_sold_price\"] / temp2[\"actual_sold_price\"].sum() * 100 \\\n",
    "    , labels = temp2[\"l_categories\"] , autopct='%.1f%%' , wedgeprops=wedgeprops,\\\n",
    "        textprops={'size':10}, pctdistance = 0.7, startangle = 95, counterclock = False,\n",
    "        colors = [\"#ea96a3\" ,\"#b89c49\", \"#98a246\", \"#60ae47\", \"#4aae8a\", \"#4baba4\", \"#4fabbc\", \"#6daee2\", \"#b6a8eb\",\"#df8fe7\",\"#e890c6\"])"
   ]
  },
  {
   "cell_type": "markdown",
   "id": "d13b904f",
   "metadata": {},
   "source": [
    "- **주고객** : **프로그래밍**과 **데이터사이언스 분야**\n",
    "    - 강의구독수 와 매출의 상당부분을 차지하고 있다.\n",
    "    \n",
    "           프로그래밍 분야가 약 50% 차지 \n",
    "    \n",
    "           (프로그래밍 약 29.7% 데이터사이언스 19.4)"
   ]
  },
  {
   "cell_type": "markdown",
   "id": "aa60a07a",
   "metadata": {},
   "source": [
    "###### 2022년 카페고리별 첫구매 비율"
   ]
  },
  {
   "cell_type": "code",
   "execution_count": null,
   "id": "b399ddfe",
   "metadata": {},
   "outputs": [],
   "source": [
    "pay_df.columns\n",
    "only_pay =pay_df[pay_df.refund_amount.isna()]\n",
    "# 2022년 처음구매한 카테고리 pie\n",
    "sort_df = only_pay.sort_values(\"FullTime\")\n",
    "# 2022년에 처음 구매한 정보\n",
    "first_payment_mask = ~sort_df.duplicated(\"customer_id\")\n",
    "firts_pay_df = sort_df[first_payment_mask]\n",
    "# 첫 구매로도 프로그래밍, 데사 ... 순임\n",
    "plt.figure(figsize=(10,10))\n",
    "plt.title(\"2022년 처음 구매한 카테고리\")\n",
    "plt.xticks(rotation=45)\n",
    "wedgeprops={'width': 0.8, 'edgecolor': 'w', 'linewidth': 5}\n",
    "explode = [0.10, 0, 0,0,0,0,0,0,0,0]\n",
    "plt.pie(x=firts_pay_df.value_counts(\"l_categories\").values /firts_pay_df.value_counts(\"l_categories\").values.sum() * 100 \\\n",
    "    , labels = firts_pay_df.value_counts(\"l_categories\").index , autopct='%.1f%%' , wedgeprops=wedgeprops,\\\n",
    "    textprops={'size':10}, pctdistance = 0.7, startangle = 210, counterclock = False,\n",
    "    colors = [\"#e890c6\" , \"#ea96a3\" , \"#e19153\", \"#b89c49\", \"#98a246\", \"#60ae47\", \"#4aae8a\", \"#4baba4\", \"#4fabbc\", \"#6daee2\", \"#b6a8eb\",\"#df8fe7\"])\n",
    "    "
   ]
  },
  {
   "cell_type": "markdown",
   "id": "89130008",
   "metadata": {},
   "source": [
    "###### 패스트 캠퍼스 홈페이지에 있는 상품의 Top10 태그비교."
   ]
  },
  {
   "cell_type": "code",
   "execution_count": null,
   "id": "de529d27",
   "metadata": {},
   "outputs": [],
   "source": [
    "# 시간 관계상 별도 모듈에서 실행 후 생성된 Excel 하단 블록에서 불러와서 사용\n",
    "'''\n",
    "driver = webdriver.Chrome()\n",
    "# url = 'https://fastcampus.co.kr/category_online_datascience'\n",
    "url = 'https://fastcampus.co.kr/category_online_programming'\n",
    "driver.get(url)\n",
    "\n",
    "ul_element = driver.find_element(\"class name\", \"card__labels\")\n",
    "li_elements = ul_element.find_elements(\"tag name\", \"li\")\n",
    "li_texts = [li.text for li in li_elements]\n",
    "\n",
    "for text in li_texts:\n",
    "    print(text)\n",
    "card_containers = driver.find_elements(\"class name\", \"card__container\")\n",
    "data = []\n",
    "\n",
    "for card_container in card_containers:\n",
    "  \n",
    "    card_title = card_container.find_element(\"class name\", \"card__title\").text\n",
    "    li_elements = card_container.find_elements(\"tag name\", \"li\")\n",
    "    li_texts = [li.text for li in li_elements]\n",
    "    \n",
    "    data.append((card_title, li_texts))\n",
    "\n",
    "with open(\"data.csv\", \"w\", newline=\"\", encoding=\"utf-8-sig\") as file:\n",
    "    writer = csv.writer(file)\n",
    "    writer.writerow([\"제목\", \"태그\"])\n",
    "    \n",
    "    for item in data:\n",
    "        writer.writerow(item)\n",
    "'''"
   ]
  },
  {
   "cell_type": "code",
   "execution_count": null,
   "id": "664bf769",
   "metadata": {},
   "outputs": [],
   "source": [
    "# 기존 전처리 완료 데이터\n",
    "df = pd.read_csv(dataset + \"final_prep_file.csv\")\n",
    "# 데이터 사이언스 태그 데이터\n",
    "dstag_df = pd.read_csv('./data_datascience.csv')\n",
    "#  프로그래밍 카테고리 태그 데이터\n",
    "tag_df = pd.read_csv('./data.csv')\n",
    "\n",
    "programming_courses = df[df['l_categories'] == '프로그래밍']\n",
    "unique_course_names = programming_courses['course_name'].nunique()\n",
    "num_titles = len(tag_df)\n",
    "# print(\"프로그래밍 카테고리\")\n",
    "# print(\"제공된 상품 데이터 수:\", unique_course_names)\n",
    "# print(\"현재 패캠 상품 데이터 수:\", num_titles)\n",
    "\n",
    "# df 데이터프레임에서 카테고리가 '프로그래밍'인 '코스(상품) 이름'의 유니크한 값 추출\n",
    "programming_courses = df[df['l_categories'] == '프로그래밍']\n",
    "unique_course_names = programming_courses['course_name'].unique()\n",
    "\n",
    "# tag_df 데이터프레임의 '제목' 컬럼 추출\n",
    "tag_titles = tag_df['제목']\n",
    "\n",
    "# 유니크한 값에서 다른 4개의 상품 이름 추출\n",
    "diff_course_names = set(unique_course_names) - set(tag_titles)\n",
    "diff_course_names = list(diff_course_names)[:4]\n",
    "\n",
    "# 결과 출력\n",
    "diff_course_names\n",
    "\n",
    "programming_courses = df[df['l_categories'] == '프로그래밍']['course_name'].unique()\n",
    "# 상품 이름 비교하여 일치하는 값을 추출\n",
    "matching_courses = tag_df[tag_df['제목'].isin(programming_courses)]\n",
    "count = len(matching_courses)\n",
    "# print(\"상품 이름이 겹치는 데이터 수 :\",count)\n",
    "\n",
    "count = len(df[df['l_categories'] == '프로그래밍']['course_name'].unique())\n",
    "count\n",
    "df[df['l_categories'] == '프로그래밍']['course_name'].unique()\n",
    "\n",
    "from collections import Counter\n",
    "# '태그' 컬럼의 모든 값을 문자열로 결합하여 공백으로 구분된 하나의 문자열로 만듭니다\n",
    "tag_string = ' '.join(tag_df['태그'].astype(str).tolist())\n",
    "# 문자열을 공백으로 분리하여 단어로 분리합니다\n",
    "words = tag_string.split()\n",
    "# 단어의 빈도수를 계산합니다\n",
    "word_counts = Counter(words)\n",
    "# 가장 많이 등장하는 단어 1개와 그 빈도수를 출력합니다\n",
    "most_common_word, count = word_counts.most_common(1)[0]\n",
    "# print(\"가장 많이 등장하는 단어:\", most_common_word)\n",
    "# print(\"빈도수:\", count)\n",
    "\n",
    "# '제목' 컬럼과 '태그' 컬럼을 하나의 리스트로 합칩니다\n",
    "combined_text = list(tag_df['제목']) + list(tag_df['태그'])\n",
    "\n",
    "# 모든 단어를 소문자로 변환하여 카운트합니다 (':' 기호는 제외)\n",
    "word_counts = Counter([re.sub(r':', '', word.lower()) for text in combined_text for word in text.split()])\n",
    "\n",
    "# 가장 많이 등장하는 단어 10개를 추출합니다 (첫 번째 행 제외)\n",
    "top_10_words = word_counts.most_common(11)[1:]\n",
    "\n",
    "# 결과를 데이터프레임으로 변환하여 출력합니다\n",
    "top_10_df = pd.DataFrame(top_10_words, columns=['단어', '빈도수'])\n",
    "# print(top_10_df)\n",
    "\n",
    "words = [word for word, _ in top_10_words[::-1]]\n",
    "frequencies = [freq for _, freq in top_10_words[::-1]]\n",
    "\n",
    "fig, ax = plt.subplots(figsize=(10, 4))\n",
    "ax.barh(words, frequencies, color='#00b2ff')\n",
    "ax.set_facecolor('white')\n",
    "fig.patch.set_facecolor('white')\n",
    "\n",
    "ax.set_title('현재 상품 중 Top 10 단어 빈도수', color='black')\n",
    "\n",
    "ax.tick_params(axis='y', colors='black')\n",
    "\n",
    "ax.set_facecolor('white')\n",
    "ax.spines['top'].set_visible(False)\n",
    "ax.spines['right'].set_visible(False)\n",
    "ax.spines['bottom'].set_visible(False)\n",
    "ax.spines['left'].set_visible(False)\n",
    "\n",
    "plt.show()\n",
    "\n"
   ]
  },
  {
   "cell_type": "code",
   "execution_count": null,
   "id": "33f1bb28",
   "metadata": {},
   "outputs": [],
   "source": [
    "# 데이터프레임에서 필요한 컬럼 선택\n",
    "df = pd.read_csv(dataset + \"final_prep_file.csv\")\n",
    "\n",
    "selected_columns = ['customer_id', 'transaction_id']\n",
    "df_selected = df[selected_columns]\n",
    "# \"고객id\"를 기준으로 그룹화\n",
    "grouped = df_selected.groupby('customer_id')\n",
    "# 첫 결제자의 수\n",
    "first_purchase_count = grouped['transaction_id'].nunique().sum()\n",
    "# 재구매자의 수\n",
    "repeat_purchase_count = grouped['transaction_id'].nunique().gt(1).sum()\n",
    "print(\"첫 결제자의 수:\", first_purchase_count)\n",
    "print(\"재구매자의 수:\", repeat_purchase_count)\n",
    "selected_columns = ['customer_id', 'transaction_id']\n",
    "df_selected = df[selected_columns]\n",
    "grouped = df_selected.groupby('customer_id')\n",
    "first_purchase_count = grouped['transaction_id'].nunique().sum()\n",
    "repeat_purchase_count = grouped['transaction_id'].nunique().gt(1).sum()\n",
    "data = [first_purchase_count, repeat_purchase_count]\n",
    "labels = ['첫 결제자', '']\n",
    "colors = ['#F1E405', '#fff']\n",
    "explode = (0, 0)\n",
    "fig, ax = plt.subplots()\n",
    "wedges, texts, autotexts = ax.pie(data, labels=labels, colors=colors, autopct='%1.1f%%', startangle=40, explode=explode)\n",
    "ax.set_title('첫 결제자와 재구매자 비율')\n",
    "ax.axis('equal')\n",
    "autotexts[1].set_color('white')\n",
    "ax.legend(loc='upper left')\n",
    "plt.show()"
   ]
  },
  {
   "cell_type": "markdown",
   "id": "6d127e2a",
   "metadata": {},
   "source": [
    "### 주어진 데이터에서의 매출 동향"
   ]
  },
  {
   "cell_type": "code",
   "execution_count": null,
   "id": "07301c60",
   "metadata": {},
   "outputs": [],
   "source": [
    "df_vis = pd.read_csv(dataset + \"final_prep_file.csv\")\n",
    "\n",
    "mask1 = pd.DataFrame()\n",
    "null_rows = df_vis[df_vis.isnull().any(axis=1)]\n",
    "mask1 = mask1.append(null_rows)\n",
    "mask1 = mask1.astype(bool) # Convert to boolean mask\n",
    "\n",
    "pay_df = df_vis[mask1]\n",
    "\n",
    "# 쿠폰 발급은 언제가 가장 많이 됨? \n",
    "use_coupon = pay_df[~pay_df[\"coupon_discount\"].isna()]\n",
    "\n",
    "plt.figure(figsize=(15,10))\n",
    "plt.subplot(1,3,1)\n",
    "plt.title(\"[월별] 실제 매출\")\n",
    "plt.ylim(0.5e9,3.0e9)\n",
    "sns.lineplot(x = np.arange(0,12) , y = [pay_df.groupby('month').sum().reset_index()['actual_sold_price'].mean()] * 12  ,\\\n",
    "    color = \"darkslategray\", linestyle = \"dashdot\")\n",
    "sns.barplot(data = pay_df.groupby('month').sum().reset_index() , x = \"month\" , y = 'actual_sold_price')\n",
    "\n",
    "plt.subplot(1,3,2)\n",
    "plt.title(\"쿠폰발급 횟수\")\n",
    "plt.ylim(2000,10000)\n",
    "sns.barplot( x = use_coupon[\"month\"].value_counts().index, y = use_coupon[\"month\"].value_counts().values)\n",
    "\n",
    "\n",
    "plt.subplot(1,3,3)\n",
    "plt.title(\"[월별] 쿠폰 할인 총 금액\")\n",
    "plt.ylim(0.2e9,1.0e9)\n",
    "sns.barplot(data = df.groupby('month').sum().reset_index() , x = \"month\" , y = 'coupon_discount')\n"
   ]
  },
  {
   "cell_type": "markdown",
   "id": "239b6048",
   "metadata": {},
   "source": [
    "- 12,1월, 7~9월 을 기준으로 하강\n",
    "\n",
    "       5월에 하강하는 부드러운 곡선 형태를 그리고 있다.\n",
    "\n",
    "- 쿠폰 발급횟수와 비슷한 형태의 그래프를 보이지만\n",
    "\n",
    "       매출이 떨어지는 5,6월과 9,10월등 다소 차이 나는 부분이 있다.\n",
    "\n",
    "- 2022년 이전의 데이터가 없어서 이 데이터가 주기성을 띄는지 알 수 없음.\n",
    "\n",
    "        5월의 감소가 특이성을 보일 수 있다는 것을 전재로\n",
    "        외출이 많은 날이나 코로나와 연관 시켜서 기상청 자료와\n",
    "        코로나 대책본부 보고서를 참고 \n",
    "        그러나 의미 있는 데이터를 얻지는 못함."
   ]
  },
  {
   "cell_type": "code",
   "execution_count": null,
   "id": "9aef5836",
   "metadata": {},
   "outputs": [],
   "source": [
    "plt.figure(figsize=(5,10))\n",
    "plt.title(\"[월별] 실제 매출\")\n",
    "plt.ylim(0.5e9,3.0e9)\n",
    "sns.lineplot(data = pay_df.groupby('month').sum().reset_index() , x = pay_df.groupby('month').sum().reset_index().index, y = 'actual_sold_price',\\\n",
    "    color = \"lightcoral\" )\n",
    "sns.lineplot(x = np.arange(0,12) , y = [pay_df.groupby('month').sum().reset_index()['actual_sold_price'].mean()] * 12  ,\\\n",
    "    color = \"darkslategray\", linestyle = \"dashdot\")\n",
    "sns.barplot(data = pay_df.groupby('month').sum().reset_index() , x = \"month\" , y = 'actual_sold_price')"
   ]
  },
  {
   "cell_type": "code",
   "execution_count": null,
   "id": "d29e3a1d",
   "metadata": {
    "scrolled": true
   },
   "outputs": [],
   "source": [
    "# 2022년 들어 프로그래밍을 구매한 이후 다른 강의를 구매한 수/비율\n",
    "from datetime import datetime\n",
    "from tqdm import tqdm\n",
    "answer = []\n",
    "\n",
    "# 시간별 정렬하기 위한 데이터 처리 \n",
    "# for i in tqdm(range(len(pay_df))):\n",
    "#   str_time = datetime(2022, pay_df.iloc[i][\"month\"], pay_df.iloc[i][\"day\"],\\\n",
    "#                       pay_df.iloc[i][\"hour\"],pay_df.iloc[i][\"minute\"],pay_df.iloc[i][\"second\"]).isoformat()\n",
    "#   answer.append(str_time)\n",
    "    \n",
    "for i in tqdm(range(len(pay_df))):\n",
    "    month = int(pay_df.iloc[i][\"month\"])\n",
    "    day = int(pay_df.iloc[i][\"day\"])\n",
    "    hour = int(pay_df.iloc[i][\"hour\"])\n",
    "    minute = int(pay_df.iloc[i][\"minute\"])\n",
    "    second = int(pay_df.iloc[i][\"second\"]) if not pd.isna(pay_df.iloc[i][\"second\"]) else 0\n",
    "    str_time = datetime(2022, month, day, hour, minute, second).isoformat()\n",
    "    answer.append(str_time)\n",
    "\n",
    "pay_df[\"FullTime\"] = answer\n",
    "# 시간별 정렬 \n",
    "# duplicate시 가장 시간이 빠른 정보만 남음 > 2022년 첫 구매는 무엇을 하였는가?\n",
    "time_sort_df = pay_df.sort_values(\"FullTime\")\n",
    "first_pay_time_sort = time_sort_df.drop_duplicates(\"customer_id\")\n",
    "first_pay_mask = time_sort_df.duplicated(\"customer_id\")\n",
    "remove_first_pay_user = time_sort_df[first_pay_mask]\n",
    "first_count = []\n",
    "for i in range(1,13):\n",
    "    first_count.append(len(first_pay_time_sort[first_pay_time_sort[\"month\"] == i][[\"customer_id\"]].drop_duplicates()))\n",
    "    remove_count = []\n",
    "for i in range(1,13):\n",
    "    remove_count.append(len(remove_first_pay_user[remove_first_pay_user[\"month\"] == i][[\"customer_id\"]].drop_duplicates()) )\n",
    "plt.title(\"[월별] 구매 횟수\")\n",
    "sns.lineplot(data = first_count, marker = \"o\" , color = \"#ea96a3\",label = \"첫구매\",markersize=5)\n",
    "sns.lineplot(data = remove_count, marker = \"o\", color = \"#6daee2\", label = \"2회이상 재구매\",markersize=5)\n",
    "# g.set_xticklabels(['1','2','3','4','5','6','7','8','9','10','11','12'])\n",
    "plt.xticks([0,1,2,3,4,5,6,7,8,9,10,11] , ['1월','2월','3월','4월','5월','6월','7월','8월','9월','10월','11월','12월'])\n"
   ]
  },
  {
   "cell_type": "markdown",
   "id": "82926e30",
   "metadata": {},
   "source": [
    "### 주어진 데이터 외적으로 주고객에게 매출 상승 시킬 방안은?\n",
    "- 프로그래머스 사이트의 경력개발자, 예비 개발자의 니즈를 채워줄 만한 일부 컨텐츠의 비율이 낮다. \n",
    "\n",
    " - (출처: https://programmers.co.kr)\n"
   ]
  },
  {
   "cell_type": "code",
   "execution_count": null,
   "id": "72bd473a",
   "metadata": {},
   "outputs": [],
   "source": [
    "contains_react = tag_df[tag_df['제목'].str.contains('리액트|React|react', case=False) | tag_df['태그'].str.contains('리액트|React|react', case=False)]\n",
    "contains_flutter = tag_df[tag_df['제목'].str.contains('플러터|Flutter|flutter', case=False) | tag_df['태그'].str.contains('플러터|Flutter|flutter', case=False)]\n",
    "contains_next = tag_df[tag_df['제목'].str.contains('넥스트|Next|next|Next.js|next.js', case=False) | tag_df['태그'].str.contains('넥스트|Next|next|Next.js|next.js', case=False)]\n",
    "contains_node = tag_df[tag_df['제목'].str.contains('노드|Node|node|Node.js|node.js', case=False) | tag_df['태그'].str.contains('노드|Node|node|Node.js|node.js', case=False)]\n",
    "contains_springboot = tag_df[tag_df['제목'].str.contains('스프링부트|SpringBoot|Springboot|springboot', case=False) | tag_df['태그'].str.contains('스프링부트|SpringBoot|Springboot|springboot', case=False)]\n",
    "\n",
    "count_react = len(contains_react)\n",
    "count_flutter = len(contains_flutter)\n",
    "count_next = len(contains_next)\n",
    "count_node = len(contains_node)\n",
    "count_springboot = len(contains_springboot)\n",
    "print(count_react,count_flutter,count_next,count_node,count_springboot)\n",
    "\n",
    "categories = ['리액트', '플러터', '넥스트', '노드', '스프링부트']\n",
    "counts = [count_react, count_flutter, count_next, count_node, count_springboot]\n",
    "counts_ticks = [0, 2, 4, 6, 8, 10, 12, 14, 16, 18]\n",
    "\n",
    "# 그래프 설정\n",
    "fig, ax = plt.subplots(figsize=(8, 2))\n",
    "ax.set_facecolor('white') \n",
    "fig.patch.set_facecolor('white')  # 전체 배경색을 검은색으로 설정\n",
    "ax.barh(categories, counts, color='#00b2ff', linewidth=2, height=0.8)\n",
    "ax.set_xticks(counts_ticks)  # x축 눈금 설정\n",
    "\n",
    "# 그래프에 제목과 축 레이블 추가\n",
    "ax.set_title('태그에 포함된 단어 수', color='black')\n",
    "\n",
    "\n",
    "# 그래프 눈금과 레이블 색상 설정\n",
    "ax.tick_params(colors='black')\n",
    "ax.invert_yaxis()  # y축 뒤집기\n",
    "\n",
    "# 그래프 배경색과 테두리 숨김\n",
    "ax.spines['top'].set_visible(False)\n",
    "ax.spines['right'].set_visible(False)\n",
    "ax.spines['bottom'].set_visible(False)\n",
    "ax.spines['left'].set_visible(False)\n",
    "plt.show()\n"
   ]
  },
  {
   "cell_type": "code",
   "execution_count": null,
   "id": "1e31f0e5",
   "metadata": {},
   "outputs": [],
   "source": [
    "import matplotlib.pyplot as plt\n",
    "\n",
    "categories = ['리액트', '플러터', '넥스트', '노드', '스프링부트']\n",
    "counts = [count_react, count_flutter, count_next, count_node, count_springboot]\n",
    "colors = ['#989898', '#ea96a3', '#6daee2', '#505050', '#787878']  # 각 항목의 색상 지정\n",
    "explode = [0.1 if count in sorted(counts)[:2] else 0 for count in counts]\n",
    "\n",
    "fig, ax = plt.subplots(figsize=(8, 8))\n",
    "ax.set_facecolor('white') \n",
    "fig.patch.set_facecolor('white')  \n",
    "\n",
    "# 파이 차트 그리기\n",
    "wedges, texts, autotexts = ax.pie(counts, labels=categories, colors=colors, autopct='%1.1f%%', startangle=0, explode=explode, wedgeprops={'edgecolor': 'white'})\n",
    "\n",
    "# 도넛 형태로 가운데 뚫기\n",
    "center_circle = plt.Circle((0, 0), 0.35, color='white', fc='white', linewidth=0)\n",
    "fig.gca().add_artist(center_circle)\n",
    "\n",
    "# 텍스트 색상 설정\n",
    "for text, autotext in zip(texts, autotexts):\n",
    "    text.set_color('black')\n",
    "    autotext.set_color('black')\n",
    "\n",
    "# 그래프에 제목 추가\n",
    "ax.set_title('태그에 포함된 단어 수', color='black')\n",
    "\n",
    "plt.show()"
   ]
  },
  {
   "cell_type": "code",
   "execution_count": null,
   "id": "237f8e23",
   "metadata": {
    "scrolled": true
   },
   "outputs": [],
   "source": []
  },
  {
   "cell_type": "code",
   "execution_count": null,
   "id": "7c68abcd",
   "metadata": {},
   "outputs": [],
   "source": [
    "# '제목' 컬럼과 '태그' 컬럼을 하나의 리스트로 합칩니다\n",
    "dscombined_text = list(dstag_df['제목']) + list(dstag_df['태그'])\n",
    "# 모든 단어를 소문자로 변환하여 카운트합니다 (':' 기호는 제외)\n",
    "dsword_counts = Counter([re.sub(r':', '', word.lower()) for text in dscombined_text for word in text.split()])\n",
    "\n",
    "# 가장 많이 등장하는 단어 10개를 추출합니다 (첫 번째 행 제외)\n",
    "dstop_10_words = dsword_counts.most_common(11)[1:]\n",
    "\n",
    "# 'red'와 'the'를 제외한 결과를 데이터프레임으로 변환하여 출력합니다\n",
    "dstop_10_df = pd.DataFrame([(re.sub(r'\\s+', '', word.strip()), count) for i, (word, count) in enumerate(dstop_10_words[:10], start=1) if word.strip() and word.strip() not in ['red', 'the']], columns=['단어', '빈도수'])\n",
    "# print(dstop_10_df)\n",
    "\n",
    "contains_pandas = dstag_df[dstag_df['제목'].str.contains('판다스|Pandas|pandas', case=False) | dstag_df['태그'].str.contains('판다스|Pandas|pandas', case=False)]\n",
    "contains_tensorflow = dstag_df[dstag_df['제목'].str.contains('텐서플로우|Tensorflow|tensorflow', case=False) | dstag_df['태그'].str.contains('텐서플로우|Tensorflow|tensorflow', case=False)]\n",
    "contains_torch = dstag_df[dstag_df['제목'].str.contains('토치|Torch|torch', case=False) | dstag_df['태그'].str.contains('토치|Torch|torch', case=False)]\n",
    "contains_pytorch = dstag_df[dstag_df['제목'].str.contains('파이토치|Pytorch|pytorch', case=False) | dstag_df['태그'].str.contains('파이토치|Pytorch|pytorch', case=False)]\n",
    "contains_numpy = dstag_df[dstag_df['제목'].str.contains('넘파이|Numpy|numpy', case=False) | dstag_df['태그'].str.contains('넘파이|Numpy|numpy', case=False)]\n",
    "\n",
    "count_pandas = len(contains_pandas)\n",
    "count_tensorflow = len(contains_tensorflow)\n",
    "count_torch = len(contains_torch)\n",
    "count_pytorch = len(contains_pytorch)\n",
    "count_numpy = len(contains_numpy)\n",
    "# print(\"리액트:\", count_pandas,\"플러터:\",count_tensorflow,count_torch,count_pytorch,count_numpy)\n",
    "\n",
    "categories = ['판다스', '텐서플로우', '토치', '파이토치', '넘파이']\n",
    "counts = [count_pandas, count_tensorflow, count_torch, count_pytorch, count_numpy]\n",
    "counts_ticks = [0, 2, 4, 6, 8, 10, 12, 14, 16, 18]\n",
    "\n",
    "# 그래프 설정\n",
    "fig, ax = plt.subplots(figsize=(8, 2))\n",
    "ax.set_facecolor('black') \n",
    "fig.patch.set_facecolor('black')  # 전체 배경색을 검은색으로 설정\n",
    "ax.barh(categories, counts, color='#00b2ff', linewidth=2, height=0.8)\n",
    "ax.set_xticks(counts_ticks)  # x축 눈금 설정\n",
    "\n",
    "# 그래프에 제목과 축 레이블 추가\n",
    "ax.set_title('태그에 포함된 단어 수', color='white')\n",
    "\n",
    "\n",
    "# 그래프 눈금과 레이블 색상 설정\n",
    "ax.tick_params(colors='white')\n",
    "ax.invert_yaxis()  # y축 뒤집기\n",
    "\n",
    "# 그래프 배경색과 테두리 숨김\n",
    "ax.spines['top'].set_visible(False)\n",
    "ax.spines['right'].set_visible(False)\n",
    "ax.spines['bottom'].set_visible(False)\n",
    "ax.spines['left'].set_visible(False)\n",
    "plt.show()\n"
   ]
  },
  {
   "cell_type": "markdown",
   "id": "0f7602ba",
   "metadata": {},
   "source": [
    "### 주 고객층 분석을 통한 부진한 카테고리의 활성화 방안\n",
    "- 투자/재테크, 부업/창업의 판매수 개선의 필요성\n",
    "    - 프로래밍 구매자는 다른 분야에도 상당함 관심을 가지고 있다.\n",
    "    - 주 고객층인 프로그래밍과 연계된 상품개발필요"
   ]
  },
  {
   "cell_type": "code",
   "execution_count": null,
   "id": "ea6ba9c8",
   "metadata": {},
   "outputs": [],
   "source": [
    "mask1 = df.l_categories == \"프로그래밍\"\n",
    "extract_index = df[mask1].customer_id.values\n",
    "extract_mask = df[\"customer_id\"].apply(lambda x: True if x in extract_index else False)\n",
    "new_data = df[extract_mask][\"l_categories\"].value_counts()[1:]\n",
    "new_data = new_data\n",
    "categories = new_data.index.values\n",
    "sales_quantity = new_data.values\n",
    "colors = [\"#B7B7B7\", \"#B7B7B7\", \"#B7B7B7\", \"#B7B7B7\", \"#B7B7B7\", \"#B7B7B7\", \"#B7B7B7\", \"#B7B7B7\", \"#B7B7B7\",  (224/255,80/255,255/255),(33/255,229/255,222/255)]\n",
    "colors = colors[1:4] + colors[5:]  # Remove unwanted colors\n",
    "explode = [0] + [0.1 if color != \"#B7B7B7\" else 0 for color in colors[1:]]\n",
    "fig, ax = plt.subplots(figsize=(8, 8))\n",
    "wedges, texts, autotexts = ax.pie(sales_quantity, labels=[\"\", *categories[1:]], colors=colors, startangle=30, explode=explode,\n",
    "                                  autopct=lambda pct: f\"{pct:.1f}%\" if pct <= 3.0 else '')\n",
    "for text, autotext in zip(texts, autotexts):\n",
    "    if text.get_text() == \"부업/창업\" or text.get_text() == \"투자/재테크\":\n",
    "        text.set_color('black')\n",
    "        autotext.set_color('black')\n",
    "    else:\n",
    "        text.set_text(\"\")\n",
    "centre_circle = plt.Circle((0, 0), 0.6, fc='white', linewidth=0)\n",
    "fig.gca().add_artist(centre_circle)\n",
    "plt.title(\"프로그래밍 구매자가 구매한 다른 카테고리\")\n",
    "plt.axis('equal')\n",
    "plt.show()"
   ]
  },
  {
   "cell_type": "code",
   "execution_count": null,
   "id": "f8bd3bba",
   "metadata": {},
   "outputs": [],
   "source": [
    "# 프로그래밍 구매자가 구매한 다른 카테고리\n",
    "mask1 = df.l_categories == \"프로그래밍\"\n",
    "extract_index = df[mask1].customer_id.values\n",
    "extract_mask = df[\"customer_id\"].apply(lambda x : True if x in extract_index else False)\n",
    "new_data = df[extract_mask][\"l_categories\"].value_counts()[1:]\n",
    "plt.title(\"프로그래밍 구매자가 구매한 다른 카테고리\")\n",
    "plt.xticks(rotation=45)\n",
    "sns.barplot(x=new_data.index.values , y=new_data.values,\n",
    "            palette = [\"#EA96A3\" ,\"#B89C49\", \"#98A246\", \"#60AE47\", \"#4AAE8A\", \"#4BABA4\", \"#4FABBC\", \"#6DAEE2\", \"#B6A8EB\",\"#DF8FE7\",\"#E890C6\"])"
   ]
  },
  {
   "cell_type": "markdown",
   "id": "fbe6e448",
   "metadata": {},
   "source": [
    "### 신 컨텐츠 개발을 통한 기대수익 증대"
   ]
  },
  {
   "cell_type": "markdown",
   "id": "bb9d9c84",
   "metadata": {},
   "source": [
    "#### 데이터적으로 신콘텐츠 탐색"
   ]
  },
  {
   "cell_type": "code",
   "execution_count": null,
   "id": "03029dc7",
   "metadata": {},
   "outputs": [],
   "source": [
    "category_names = new_data.index.values[:9] # new_data 정의 : new_data = df_pay[extract_mask][\"category\"].value_counts()[1:] \n",
    "results = {\n",
    "    'l_categories': new_data.values[:9]\n",
    "}\n",
    "\n",
    "\n",
    "def survey(results, category_names):\n",
    "   \n",
    "    labels = list(results.keys())\n",
    "    data = np.array(list(results.values()))\n",
    "    data_cum = data.cumsum(axis=1)\n",
    "    category_colors = plt.colormaps['RdYlGn'](\n",
    "        np.linspace(0.15, 0.85, data.shape[1]))\n",
    "\n",
    "    fig, ax = plt.subplots(figsize=(18, 1.6))\n",
    "    ax.invert_yaxis()\n",
    "    #ax.xaxis.set_visible(False)\n",
    "    ax.set_xlim(0, np.sum(data, axis=1).max())\n",
    "\n",
    "    for i, (colname, color) in enumerate(zip(category_names, category_colors)):\n",
    "        widths = data[:, i]\n",
    "        starts = data_cum[:, i] - widths\n",
    "        rects = ax.barh(labels, widths, left=starts, height=0.5,\n",
    "                        label=colname, color=color)\n",
    "\n",
    "        r, g, b, _ = color\n",
    "        text_color = 'white' if r * g * b < 0.5 else 'darkgrey'\n",
    "        #ax.bar_label(rects,label_type='center', color=text_color,padding=-5)\n",
    "    ax.legend(ncols=len(category_names), bbox_to_anchor=(0, -0.2),\n",
    "              loc='upper left', fontsize='small')\n",
    "\n",
    "    return fig, ax\n",
    "\n",
    "\n",
    "survey(results, category_names)\n",
    "plt.title(\"프로그래밍 구매자가 구매한 다른 카테고리\")\n",
    "plt.show()"
   ]
  },
  {
   "cell_type": "markdown",
   "id": "40955b9e",
   "metadata": {},
   "source": [
    "### (그래프 변경남음)부동산"
   ]
  },
  {
   "cell_type": "code",
   "execution_count": null,
   "id": "e96bdf9e",
   "metadata": {},
   "outputs": [],
   "source": [
    "home_lecture = pd.read_excel('./hompage_Lecture_num.xlsx')\n",
    "home_lecture[\"home_lecture_num_ratio\"] = home_lecture[\"home_lecture_num\"] / home_lecture[\"home_lecture_num\"].sum() * 100\n",
    "temp_home = home_lecture.sort_values(\"home_lecture_num_ratio\",ascending=False)\n",
    "temp_home[temp_home[\"category\"] == \"부동산/금융\"]['home_lecture_num_ratio']\n",
    "plt.title(\"카테고리별 홈페이지 강의 보유 비율\")\n",
    "plt.xticks(rotation = 45)\n",
    "ax = sns.barplot(data = temp_home , x = \"category\" ,y = \"home_lecture_num_ratio\" , \n",
    "            palette = [\"dimgray\",\"dimgray\",\"dimgray\",\"dimgray\",\"dimgray\",\"dimgray\",\"dimgray\",\"dimgray\",\"#ea96a3\",\"dimgray\",\"dimgray\" ]\n",
    "            )\n",
    "plt.text(7.5, 5, str(temp_home[temp_home[\"category\"] == \"부동산/금융\"]['home_lecture_num_ratio'].values[0])[:4] +\"%\", fontsize=12)\n",
    "cat2 = temp2['l_categories'].apply(lambda x : 1 if x  == \"부동산/금융\" else 0)\n",
    "temp2['ovr'] = cat2\n",
    "temp3 = temp2.groupby(\"ovr\").sum()"
   ]
  },
  {
   "cell_type": "code",
   "execution_count": null,
   "id": "dc56c98e",
   "metadata": {},
   "outputs": [],
   "source": [
    "# 부동산/ 금융 \n",
    "\n",
    "# 첫 구매로도 프로그래밍, 데사 ... 순임\n",
    "plt.figure(figsize=(10,10))\n",
    "plt.title(\"부동산/금융 전체 매출 비율\")\n",
    "plt.xticks(rotation=45)\n",
    "wedgeprops={'width': 0.8, 'edgecolor': 'w', 'linewidth': 5}\n",
    "explode = [0, 0.1]\n",
    "plt.pie(x=temp3[\"actual_sold_price\"]/temp3[\"actual_sold_price\"].sum() * 100 \\\n",
    "    , labels = [\"Others\", \"부동산/금융\"] , autopct='%.1f%%' , wedgeprops=wedgeprops,\\\n",
    "        textprops={'size':10}, pctdistance = 0.7, startangle = 110, counterclock = False,\n",
    "        explode= explode, colors = [\"gray\" ,\"#ea96a3\"])\n",
    "\n",
    "(temp3[\"actual_sold_price\"]/temp3[\"actual_sold_price\"].sum() * 100)[1]"
   ]
  },
  {
   "cell_type": "code",
   "execution_count": null,
   "id": "a70c68d5",
   "metadata": {},
   "outputs": [],
   "source": [
    "# 부동산/ 금융 \n",
    "\n",
    "# 첫 구매로도 프로그래밍, 데사 ... 순임\n",
    "plt.title(\"부동산/금융 전체 매출 비율\")\n",
    "explode = [0, 0.1]\n",
    "ax = sns.barplot(x= [\"Other\",\"부동산/금융\"],\n",
    "    y = temp3[\"actual_sold_price\"]/temp3[\"actual_sold_price\"].sum() * 100, palette = [\"gray\" ,\"#ea96a3\"])\n",
    "plt.text(0.9, 13, str((temp3[\"actual_sold_price\"]/temp3[\"actual_sold_price\"].sum() * 100)[1])[:4] +\"%\", fontsize=12)"
   ]
  },
  {
   "cell_type": "code",
   "execution_count": null,
   "id": "e6a32771",
   "metadata": {},
   "outputs": [],
   "source": [
    "plt.title(\"모든 카테고리별 총 매출\")\n",
    "plt.xticks(rotation=90)\n",
    "sns.barplot(data = temp2.sort_values(\"actual_sold_price\",ascending=False) , x = \"l_categories\" , y = 'actual_sold_price' , \\\n",
    "    palette = [\"dimgray\",\"dimgray\",\"dimgray\",\"deepskyblue\",\"dimgray\",\"dimgray\",\"dimgray\",\"dimgray\",\"dimgray\",\"dimgray\",\"dimgray\" ] )"
   ]
  },
  {
   "cell_type": "code",
   "execution_count": null,
   "id": "18f98fc6",
   "metadata": {},
   "outputs": [],
   "source": []
  },
  {
   "cell_type": "markdown",
   "id": "033ca53e",
   "metadata": {},
   "source": [
    "### 디자인 구매후 프로그래밍을 구매하지 않는디자인 콘텐츠만을 소비하는 층이 존재"
   ]
  },
  {
   "cell_type": "code",
   "execution_count": null,
   "id": "722a13ad",
   "metadata": {},
   "outputs": [],
   "source": [
    "df_vis_2 = pd.read_csv(dataset + \"final_prep_file.csv\")\n",
    "\n",
    "df_pay_2 = pd.DataFrame()\n",
    "null_rows = df_vis_2[df_vis_2.isnull().any(axis=1)]\n",
    "df_pay_2 = df_pay_2.append(null_rows)\n",
    "# print(df_pay_2)\n",
    "df_pay_2 = df_pay_2.astype(bool) # Convert to boolean mask\n",
    "# df_pay_2\n",
    "df_pay_2 = df_vis_2[df_pay_2]\n",
    "df_pay_2.l_categories.unique()\n",
    "\n",
    "# mask1 : 일러스트\n",
    "# mask2 : 영상/3D\n",
    "# mask3 : 디자인\n",
    "mask1 = df_pay_2.l_categories == \"일러스트\"\n",
    "mask2 = df_pay_2.l_categories == \"영상/3D\"\n",
    "mask3 = df_pay_2.l_categories == \"디자인\"\n",
    "\n",
    "extract_index = df_pay_2[mask1 | mask2 | mask3].customer_id.values\n",
    "\n",
    "extract_mask = df_pay_2[\"customer_id\"].apply(lambda x : True if x in extract_index else False)\n",
    "\n",
    "result = df_pay_2[extract_mask][\"l_categories\"].value_counts()\n",
    "\n",
    "# print(result)\n",
    "\n",
    "# 디자인 계열 수치 보기위한 table 생성\n",
    "new_result = result\n",
    "\n",
    "new_result['디자인 계열'] = new_result[1] + new_result[2] + new_result[3]\n",
    "new_result = new_result.sort_values(ascending=False)\n",
    "new_result = new_result.drop(['일러스트','영상/3D','디자인'])\n",
    "# print(new_result)\n",
    "# 막대그래프 시각화\n",
    "plt.rc('font', family='AppleGothic')\n",
    "\n",
    "plt.title(\"일러스트, 영상/3D, 디자인 구매자가 구매한 다른 카테고리\")\n",
    "plt.xticks(rotation=45)\n",
    "\n",
    "#sns.set_palette(sns.color_palette(colors))\n",
    "sns.barplot(x = new_result.index.values, y=new_result.values)"
   ]
  },
  {
   "cell_type": "code",
   "execution_count": null,
   "id": "a777f642",
   "metadata": {},
   "outputs": [],
   "source": [
    "# 파이차트 시각화\n",
    "wedgeprops={'width': 0.5, 'edgecolor': 'k', 'linewidth': 0.7}\n",
    "explode = [0.05,0,0,0,0,0,0,0]\n",
    "pctdistance = [0.8] * 8\n",
    "plt.figure(figsize=(10,10))\n",
    "plt.title('디자인 계열 구매자가 구매한 다른 카테고리')\n",
    "colors = [\"#EA96A3\", \"#E19153\",\"#B89C49\",'#98A246','#60AE47','#4AAE8A','#4BABA4','#4FABBC','#6DAEE2','#B6A8EB','#DF8FE7','#E890C6']\n",
    "\n",
    "plt.pie(new_result,startangle=85, wedgeprops=wedgeprops,autopct = '%.1f%%',explode=explode,pctdistance=0.8,colors=colors)\n",
    "plt.legend(new_result.index.values,loc = (0,0.8))\n"
   ]
  },
  {
   "cell_type": "code",
   "execution_count": null,
   "id": "2026c8ca",
   "metadata": {},
   "outputs": [],
   "source": [
    "from tqdm import tqdm \n",
    "# 언제 샀던 상관없이 관심이 있다고 판단 \n",
    "mask1 = only_pay.l_categories == \"프로그래밍\"\n",
    "# 구매자 id 추출 \n",
    "# 구매 내역에서 mask1:프로그래밍을 구매한 모든 유저 id 추출\n",
    "extract_index = only_pay[mask1].customer_id.values\n",
    "\n",
    "input_mask = []\n",
    "for i in tqdm(range(len(only_pay))):\n",
    "    if only_pay.iloc[i][\"customer_id\"] in extract_index:\n",
    "        input_mask.append(True)\n",
    "    else:\n",
    "        input_mask.append(False)\n",
    "        \n",
    "# 프로그래밍을 한번이라도 구매한 사람의 모든 구매 내역\n",
    "extract_df = only_pay[input_mask]\n",
    "\n",
    "# extract_df : 프로그래밍을 한번이라도 구매한사람 \n",
    "# df : 전체 \n",
    "# df[영상/3D] - extract_df[영상/3D] = 프로그래밍을 한번이라도 구매하지 않은 사람 수\n",
    "# print(len(only_pay[only_pay[\"l_categories\"] == \"영상/3D\"]) - len(extract_df[extract_df[\"l_categories\"] == \"영상/3D\"])) # 프로그래밍 구매를 하지 않은 사람들\n",
    "# print(len(extract_df[extract_df[\"l_categories\"] == \"영상/3D\"]))\n",
    "\n",
    "plt.title(\"디자인 구매자의 추가구매 성향\")\n",
    "# plt.xticks(rotation=45)\n",
    "sns.barplot(x = [\"프로그래밍 구매 X\", \"프로그래밍 구매 O\"] , y =[8907 , 5016], palette = [\"#ea96a3\" , \"#4baba4\"] )"
   ]
  },
  {
   "cell_type": "markdown",
   "id": "b45f6175",
   "metadata": {},
   "source": [
    "### 데이터 외적으로 신 콘텐츠 탐색"
   ]
  },
  {
   "cell_type": "code",
   "execution_count": null,
   "id": "47f0da81",
   "metadata": {
    "scrolled": true
   },
   "outputs": [],
   "source": [
    "# 프로그래밍 강의 구매자가 구매한 영상/3D관련\n",
    "from tqdm import tqdm \n",
    "input_mask = []\n",
    "for i in tqdm(range(len(df))):\n",
    "    if df.iloc[i][\"customer_id\"] in extract_index:\n",
    "        input_mask.append(True)\n",
    "    else:\n",
    "        input_mask.append(False)\n",
    "extract_df = df[input_mask]\n",
    "program_buy_3d = extract_df[extract_df[\"l_categories\"] == \"영상/3D\"]\n",
    "\n",
    "# course name \n",
    "only_name = df[df['l_categories'] == \"영상/3D\"].drop_duplicates(\"course_name\")[\"course_name\"]\n",
    "only_name = pd.DataFrame(only_name)\n",
    "only_name[\"Division\"] = np.nan\n",
    "\n",
    "searchfor_vp = ['촬영', '편집', '영상' ,'카메라', '인스타', '프리미어프로', '비디오','유튜브',\"십다 프리미어\",\"이필성\"]\n",
    "searchfor_motion = ['모션그래픽', '그래픽' ,'아트웍', 'Cinema4D 포트폴리오' ]\n",
    "searchfor_blender = ['블렌더']\n",
    "searchfor_3d = ['픽셀게임', '아이패드 모델링', '제페토', '판타지 캐릭터', '게임 캐릭터', '매치무브 온보딩',\n",
    "'히어로부터 크리쳐', '라이엇게임즈', 'Unity', '후디니 디스트럭션', '라이팅', '라이팅', '게임 배경의 모든 것', 'VFX', 'FX 아티스트', '게임 캐릭터 모델링' ]\n",
    "\n",
    "\n",
    "answer = []\n",
    "for index, i in enumerate(only_name['course_name']):\n",
    "    if pd.Series(i).str.contains('|'.join(searchfor_vp)).values == True:\n",
    "        answer.append(\"영상/사진\")\n",
    "        continue\n",
    "    if pd.Series(i).str.contains('|'.join(searchfor_motion)).values == True:\n",
    "        answer.append(\"모션그래픽\")\n",
    "        continue\n",
    "    if pd.Series(i).str.contains('|'.join(searchfor_blender)).values == True:\n",
    "        answer.append(\"블렌더\")\n",
    "        continue\n",
    "    if pd.Series(i).str.contains('|'.join(searchfor_3d)).values == True:\n",
    "        answer.append(\"3D.CG\")\n",
    "        continue\n",
    "    answer.append(np.nan)\n",
    "\n",
    "only_name[\"Division\"] = answer\n",
    "only_name[\"Division\"].value_counts()\n",
    "\n",
    "# 전체 데이터에 병합\n",
    "merge_data = program_buy_3d.merge(only_name,how = \"left\")\n",
    "\n",
    "# 소 카테고리별 구매 건수\n",
    "merge_data[merge_data['l_categories'] == \"영상/3D\"][\"Division\"].value_counts()\n",
    "\n",
    "ThreeD_total = merge_data[merge_data['l_categories'] == \"영상/3D\"][\"Division\"].value_counts()\n",
    "ThreeD_total.index = [\"영상/사진\" , \"3D/CG\" , \"모션 그래픽\" , \"블렌더\"]\n",
    "# ThreeD_total\n",
    "\n",
    "index_list = [ThreeD_total.index[0] , ThreeD_total.index[2], ThreeD_total.index[1], ThreeD_total.index[3] ]\n",
    "value_list = [ThreeD_total.values[0] , ThreeD_total.values[2], ThreeD_total.values[1], ThreeD_total.values[3] ]\n",
    "\n",
    "# index_list\n",
    "# value_list\n",
    "\n",
    "wedgeprops={'width': 0.8, 'edgecolor': 'w', 'linewidth': 5}\n",
    "plt.pie(x= np.array(value_list) / np.array(value_list).sum() * 100 \\\n",
    "    , labels = index_list , autopct='%.1f%%' , wedgeprops=wedgeprops,\\\n",
    "        textprops={'size':10}, pctdistance = 0.7, startangle = 200, counterclock = False, explode= (-0.02,-0.02,0.07,0.1),\n",
    "        colors = [\"cornflowerblue\" ,\"skyblue\", \"coral\",\"fuchsia\"])\n",
    "\n",
    "# 디자인 구매자의 추가구매 성향\n",
    "print(len(only_pay[only_pay[\"l_categories\"] == \"영상/3D\"]) - len(extract_df[extract_df[\"l_categories\"] == \"영상/3D\"])) # 프로그래밍 구매를 하지 않은 사람들\n",
    "print(len(extract_df[extract_df[\"l_categories\"] == \"영상/3D\"]))"
   ]
  },
  {
   "cell_type": "code",
   "execution_count": null,
   "id": "3b41185a",
   "metadata": {},
   "outputs": [],
   "source": []
  },
  {
   "cell_type": "code",
   "execution_count": null,
   "id": "287415c3",
   "metadata": {},
   "outputs": [],
   "source": []
  },
  {
   "cell_type": "markdown",
   "id": "f22bf829",
   "metadata": {},
   "source": [
    "# ????"
   ]
  },
  {
   "cell_type": "code",
   "execution_count": null,
   "id": "8f45bb44",
   "metadata": {},
   "outputs": [],
   "source": [
    "# 디자인계열 구매발생 비율\n",
    "design_result = result[1:4]\n",
    "design_result = design_result / design_result.sum() # 비율로 처리할 경우\n",
    "\n",
    "design_result = design_result.to_frame().T\n",
    "\n",
    "design_result.plot.bar(stacked=True, legend=\"reverse\", figsize=(5,10))"
   ]
  },
  {
   "cell_type": "code",
   "execution_count": null,
   "id": "9b26e344",
   "metadata": {},
   "outputs": [],
   "source": [
    "result = result.drop('디자인 계열')\n",
    "\n",
    "plt.title(\"일러스트, 영상/3D, 디자인 구매자가 구매한 다른 카테고리\")\n",
    "plt.xticks(rotation=45)\n",
    "\n",
    "plt.rc('font', family='AppleGothic')\n",
    "\n",
    "sns.barplot(x = result.index.values, y=result.values)"
   ]
  },
  {
   "cell_type": "code",
   "execution_count": null,
   "id": "81562733",
   "metadata": {},
   "outputs": [],
   "source": [
    "# mask1 : 일러스트\n",
    "# mask2 : 영상/3D\n",
    "# mask3 : 디자인\n",
    "\n",
    "# 일러스트,영상/3D,디자인 카테고리 구매자가 구매한 카테고리 subplot\n",
    "plt.figure(figsize=(30,10))\n",
    "plt.rc('font', family='AppleGothic')\n",
    "\n",
    "mask_list = [mask1, mask2, mask3]\n",
    "category_list = ['일러스트', '영상/3D', '디자인']\n",
    "colors = ['']\n",
    "idx = 1\n",
    "for mask,category in zip(mask_list,category_list):\n",
    "    extract_index = df_pay_2[mask].customer_id.values\n",
    "\n",
    "    extract_mask = df_pay_2[\"customer_id\"].apply(lambda x : True if x in extract_index else False)\n",
    "\n",
    "    result = df_pay_2[extract_mask][\"l_categories\"].value_counts()\n",
    "    plt.subplot(1,3,idx)\n",
    "    idx += 1\n",
    "\n",
    "    plt.title(f\"{category} 구매자가 구매한 다른 카테고리\")\n",
    "    plt.xticks(rotation=45)\n",
    "\n",
    "\n",
    "    sns.barplot(x = result.index.values, y=result.values)"
   ]
  },
  {
   "cell_type": "code",
   "execution_count": null,
   "id": "c1d5ca03",
   "metadata": {},
   "outputs": [],
   "source": [
    "print(result)\n",
    "\n",
    "df_pay_2"
   ]
  },
  {
   "cell_type": "code",
   "execution_count": null,
   "id": "f6e64165",
   "metadata": {},
   "outputs": [],
   "source": [
    "# 강의 량 계산 코드\n",
    "\n",
    "course_amount = []\n",
    "course_amount_list = df_pay_2.l_categories.unique()\n",
    "for category in course_amount_list:\n",
    "    course_amount.append(set(df_pay_2[df_pay_2['l_categories'] == category].course_name.values).__len__())\n",
    "\n",
    "course_amount = pd.Series(data=course_amount, index=course_amount_list)#.drop('크리에이티브')\n",
    "\n",
    "course_amount"
   ]
  },
  {
   "cell_type": "code",
   "execution_count": null,
   "id": "d4e04250",
   "metadata": {},
   "outputs": [],
   "source": [
    "# 부동산/금융 카테고리에서 유의미한 자료 찾아보려다 현재 중지\n",
    "\n",
    "df_pay_3 = df_pay_2[['l_categories', 'transaction_amount']]\n",
    "\n",
    "df_pay_3 = df_pay_3.sort_values('l_categories')\n",
    "pay1_table = df_pay_3.pivot_table('transaction_amount','l_categories',aggfunc=np.sum)#.drop('크리에이티브')\n",
    "print(pay1_table)\n",
    "pay1_table = pd.concat([pay1_table,df_pay_2['l_categories'].value_counts()],axis=1)\n",
    "print(pay1_table)\n",
    "pay1_table['거래당 평균 거래액'] = pay1_table.transaction_amount / pay1_table['l_categories']\n",
    "pay1_table['강의 개수'] = course_amount\n",
    "pay1_table = pay1_table.sort_values('transaction_amount',ascending=False)\n",
    "pay1_table"
   ]
  },
  {
   "cell_type": "code",
   "execution_count": null,
   "id": "a3ab9e32",
   "metadata": {
    "scrolled": true
   },
   "outputs": [],
   "source": []
  },
  {
   "cell_type": "markdown",
   "id": "ec5f1da5",
   "metadata": {},
   "source": [
    "###### 신규 데이터에 새로 생긴 데이터 찾기"
   ]
  },
  {
   "cell_type": "code",
   "execution_count": null,
   "id": "abb87a54",
   "metadata": {
    "scrolled": true
   },
   "outputs": [],
   "source": []
  },
  {
   "cell_type": "markdown",
   "id": "4315e380",
   "metadata": {},
   "source": [
    "###### 머신러닝/모바일/기타 프레임워크/라이브러리 "
   ]
  },
  {
   "cell_type": "code",
   "execution_count": null,
   "id": "dc0a41d8",
   "metadata": {},
   "outputs": [],
   "source": []
  },
  {
   "cell_type": "code",
   "execution_count": null,
   "id": "204ae989",
   "metadata": {},
   "outputs": [],
   "source": []
  },
  {
   "cell_type": "code",
   "execution_count": null,
   "id": "3311b247",
   "metadata": {},
   "outputs": [],
   "source": []
  },
  {
   "cell_type": "code",
   "execution_count": null,
   "id": "a56df0f3",
   "metadata": {},
   "outputs": [],
   "source": []
  },
  {
   "cell_type": "code",
   "execution_count": null,
   "id": "42c82ef1",
   "metadata": {},
   "outputs": [],
   "source": []
  },
  {
   "cell_type": "code",
   "execution_count": null,
   "id": "15ca9fb4",
   "metadata": {},
   "outputs": [],
   "source": []
  },
  {
   "cell_type": "code",
   "execution_count": null,
   "id": "962817e1",
   "metadata": {},
   "outputs": [],
   "source": []
  }
 ],
 "metadata": {
  "kernelspec": {
   "display_name": "Python 3 (ipykernel)",
   "language": "python",
   "name": "python3"
  },
  "language_info": {
   "codemirror_mode": {
    "name": "ipython",
    "version": 3
   },
   "file_extension": ".py",
   "mimetype": "text/x-python",
   "name": "python",
   "nbconvert_exporter": "python",
   "pygments_lexer": "ipython3",
   "version": "3.10.9"
  }
 },
 "nbformat": 4,
 "nbformat_minor": 5
}
