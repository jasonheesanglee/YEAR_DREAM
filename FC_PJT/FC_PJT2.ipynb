{
 "cells": [
  {
   "cell_type": "markdown",
   "id": "bc15b0b1",
   "metadata": {},
   "source": [
    "## FastCampus PJT - Team 3\n",
    "##### 심성식 김민수 심승현 이희상 이용기"
   ]
  },
  {
   "cell_type": "markdown",
   "id": "62d59820",
   "metadata": {},
   "source": [
    "### 라이브러리 관련 및 환경 셋업"
   ]
  },
  {
   "cell_type": "markdown",
   "id": "f4929672",
   "metadata": {},
   "source": [
    "###### 필요한 모듈 설치"
   ]
  },
  {
   "cell_type": "code",
   "execution_count": 1,
   "id": "df8b9367",
   "metadata": {},
   "outputs": [],
   "source": [
    "# !pip install numpy\n",
    "# !pip install pandas\n",
    "# !pip install matplotlib\n",
    "# !pip install scipy\n",
    "# !pip install seaborn"
   ]
  },
  {
   "cell_type": "markdown",
   "id": "45ce6d4a",
   "metadata": {},
   "source": [
    "###### 필요한 모듈 모두 불러오기"
   ]
  },
  {
   "cell_type": "code",
   "execution_count": 2,
   "id": "d000597f",
   "metadata": {},
   "outputs": [],
   "source": [
    "import os\n",
    "import time\n",
    "import numpy as np\n",
    "import pandas as pd\n",
    "from matplotlib import rc\n",
    "import matplotlib.pyplot as plt\n",
    "import matplotlib.font_manager as fm\n",
    "import re\n",
    "import glob\n",
    "import seaborn as sns\n",
    "import datetime"
   ]
  },
  {
   "cell_type": "markdown",
   "id": "6117a21e",
   "metadata": {},
   "source": [
    "###### 폰트 확인"
   ]
  },
  {
   "cell_type": "code",
   "execution_count": 3,
   "id": "7d472ea0",
   "metadata": {},
   "outputs": [
    {
     "name": "stdout",
     "output_type": "stream",
     "text": [
      "AppleGothic font found at  /System/Library/Fonts/Supplemental/AppleGothic.ttf\n"
     ]
    }
   ],
   "source": [
    "rc('font', family='AppleGothic')\n",
    "plt.rcParams['axes.unicode_minus'] = False\n",
    "font_path = fm.findfont('AppleGothic')\n",
    "if not font_path:\n",
    "    print('Warning: AppleGothic font not found')\n",
    "else:\n",
    "    print(\"AppleGothic font found at \", font_path)\n",
    "\n",
    "font_prop = fm.FontProperties(fname=font_path, size=12)\n"
   ]
  },
  {
   "cell_type": "markdown",
   "id": "bd3a13fb",
   "metadata": {},
   "source": [
    "### 경로 설정"
   ]
  },
  {
   "cell_type": "markdown",
   "id": "72c511cf",
   "metadata": {},
   "source": [
    "###### 폴더 생성 및 경로 variable 생성"
   ]
  },
  {
   "cell_type": "code",
   "execution_count": 4,
   "id": "fb5e71d6",
   "metadata": {},
   "outputs": [],
   "source": [
    "# Creating folders and variables for data paths\n",
    "\n",
    "dataset = \"./dataset/\"\n",
    "GROUPED = dataset + \"Grouped/\"\n",
    "FINAL_GROUP = dataset + \"Grouped_Final/\"\n",
    "\n",
    "if not os.path.exists(\"./dataset\"):\n",
    "    os.mkdir(\"./dataset\")\n",
    "\n",
    "if not os.path.exists(dataset + \"Grouped\"):\n",
    "    os.mkdir(dataset + \"Grouped\")\n",
    "\n",
    "if not os.path.exists(dataset + \"Grouped_Final\"):\n",
    "    os.mkdir(dataset + \"Grouped_Final\")"
   ]
  },
  {
   "cell_type": "markdown",
   "id": "875b0561",
   "metadata": {},
   "source": [
    "###### 파일 경로 불러올 딕셔너리 생성"
   ]
  },
  {
   "cell_type": "code",
   "execution_count": 5,
   "id": "c9594895",
   "metadata": {
    "scrolled": true
   },
   "outputs": [
    {
     "data": {
      "text/plain": [
       "'\\n\\ntype all_file_locations[\"key\"] to call\\nkeys are \"dataset\", \"grouped\", \"group_final\", etc.; to be added further.\\n\\n'"
      ]
     },
     "execution_count": 5,
     "metadata": {},
     "output_type": "execute_result"
    }
   ],
   "source": [
    "# Adding up all file locations into a dictionary.\n",
    "\n",
    "file_locations = {\n",
    "    \"dataset\" : dataset,\n",
    "    'grouped': GROUPED,\n",
    "    'group_final' : FINAL_GROUP #,\n",
    "    # to be added further\n",
    "}\n",
    "\n",
    "all_file_locations = {}\n",
    "for key, value in file_locations.items():\n",
    "    all_file_locations[key] = glob.glob(value + \"*.csv\")\n",
    "\n",
    "'''\n",
    "\n",
    "type all_file_locations[\"key\"] to call\n",
    "keys are \"dataset\", \"grouped\", \"group_final\", etc.; to be added further.\n",
    "\n",
    "'''"
   ]
  },
  {
   "cell_type": "markdown",
   "id": "3689db70",
   "metadata": {},
   "source": [
    "#### 준비"
   ]
  },
  {
   "cell_type": "markdown",
   "id": "bc46c442",
   "metadata": {},
   "source": [
    "###### Definition 설정"
   ]
  },
  {
   "cell_type": "code",
   "execution_count": 6,
   "id": "c4f6f51c",
   "metadata": {},
   "outputs": [],
   "source": [
    "# Local definitions - 1\n",
    "\n",
    "def clean_course_name(course_name):\n",
    "    '''\n",
    "    course name 중 첫 구절이 ( 으로 시작하고, \n",
    "    ~ 로 스플릿한 구절 중 0번째 len이 7인 경우; 예시: \"(220123\"\n",
    "    ) 이후의 course name을 return합니다.\n",
    "    \n",
    "    아래와 같이 사용해 주시면 편합니다.\n",
    "    df[\"course_name\"] = df[\"course_name\"].apply(clean_course_name)\n",
    "\n",
    "    '''\n",
    "    if course_name.startswith(\"(\"):\n",
    "        # Classify the date range to cleanse.\n",
    "        if \"~\" in course_name:\n",
    "            temp = course_name.split(\"~\")[0]\n",
    "            # if the value before ~ is in year format, remove the whole bracket.\n",
    "            if len(temp) == 7:\n",
    "                return course_name.split(\")\")[1]\n",
    "            else:\n",
    "                return course_name\n",
    "        else:\n",
    "            return course_name\n",
    "    else:\n",
    "        return course_name"
   ]
  },
  {
   "cell_type": "code",
   "execution_count": 7,
   "id": "0dd2413c",
   "metadata": {},
   "outputs": [],
   "source": [
    "# Local definitions - 2\n",
    "\n",
    "def course_packages(row):\n",
    "    '''\n",
    "    패키지명을 return하는 코드입니다.\n",
    "    \n",
    "    아래와 같이 apply 해주시고 적용 희망하시는 row를 대치시켜주시면 됩니다.\n",
    "    df[\"course_group\"] = df.apply(course_packages, axis=1)\n",
    "    \n",
    "    '''\n",
    "    # Splitting course classifier (: and -) to extract package name\n",
    "    parts = re.split(\"[:|-]\", row[\"course_name\"])\n",
    "    # Finding course names without package classifier\n",
    "    if len(parts) <= 1:\n",
    "        # [무료강의] as an exception, it makes more sense if we classify itself alone.\n",
    "        if parts[0].startswith(\"[무료강의]\"):\n",
    "            return \"[무료강의]\"\n",
    "        # Classify all other courses without package classifier into Other.\n",
    "        return (\"Other\")\n",
    "    # Finding course names with package classifier.\n",
    "    elif len(parts) > 1:\n",
    "        # Classify [kit] first, as it needs to be separated from other [ ] covered words.\n",
    "        if parts[0].startswith(\"[kit]\"):\n",
    "            return \"[kit]\"\n",
    "        # Removing (( ))\n",
    "        elif parts[0].startswith(\"((\"):\n",
    "            return parts[0].split(\"))\")[1]\n",
    "        # Removing ( )\n",
    "        elif parts[0].startswith(\"(\"):\n",
    "            return parts[0].split(\")\")[1]\n",
    "        # Removing [ ]\n",
    "        elif parts[0].startswith(\"[\"):\n",
    "            return parts[0].split(\"]\")[1]\n",
    "        else:\n",
    "            return parts[0]\n",
    "    else:\n",
    "        return parts[0]\n"
   ]
  },
  {
   "cell_type": "code",
   "execution_count": 8,
   "id": "fcce19b7",
   "metadata": {},
   "outputs": [],
   "source": [
    "# Local definitions - 2\n",
    "\n",
    "def coupons(df):\n",
    "    '''\n",
    "    coupon name을 통해 특수 형태의 쿠폰 분류,\n",
    "    예외의 경우, 타 column 활용하여 쿠폰 분류\n",
    "    \n",
    "    아래와 같이 사용해 주시면 편합니다.\n",
    "    df = coupons(df)\n",
    "    \n",
    "    '''\n",
    "    # Find the length of DataFrame\n",
    "    for i in range(len(df)):\n",
    "        # Counter Set\n",
    "        found = False\n",
    "        # if dict key is in coupon name, insert dict value in coupon type\n",
    "        if isinstance(df[\"coupon_name\"][i], str):\n",
    "            for key, value in external_coupons.items():\n",
    "                if key in df[\"coupon_name\"][i]:\n",
    "                    df.at[i, \"coupon_type\"] = value\n",
    "                    # counter\n",
    "                    found = True\n",
    "                    break\n",
    "            else:\n",
    "                for key, value in internal_coupons.items():\n",
    "                    if key in df[\"coupon_name\"][i]:\n",
    "                        df.at[i, \"coupon_type\"] = value\n",
    "                        found = True\n",
    "                        break\n",
    "        # if not found from the above,\n",
    "        if not found:\n",
    "            # first, set all remaining coupon's type as general\n",
    "            if isinstance(df[\"coupon_name\"][i], str):\n",
    "                df.at[i, \"coupon_type\"] = \"general\"\n",
    "            # then, find 100% discount coupon and assign it as \"free\"\n",
    "            if df[\"actual_sold_price\"][i] == 0.0 and df[\"transaction_amount\"][i] == 0.0:\n",
    "                df.at[i, \"coupon_type\"] = \"free\"\n",
    "            # then, find % discount coupons and assign it as its percent\n",
    "            if isinstance(df[\"coupon_discount\"][i], float) and isinstance(df[\"coupon_name\"][i], str) and \"%\" in df[\"coupon_name\"][i]:\n",
    "                df.at[i, \"coupon_type\"] = f\"{df['coupon_name'][i].split('%')[0][-2:]} percent\"\n",
    "            else:\n",
    "                continue\n",
    "    return df\n"
   ]
  },
  {
   "cell_type": "markdown",
   "id": "8d6fea52",
   "metadata": {},
   "source": [
    "###### 컬럼명 영문으로 변경 - Encoding 이슈 방지"
   ]
  },
  {
   "cell_type": "code",
   "execution_count": 9,
   "id": "75a75c3c",
   "metadata": {},
   "outputs": [],
   "source": [
    "# Changing column names from Korean to English\n",
    "\n",
    "df = pd.read_csv('./eda-proj-fc-purchase.csv')\n",
    "df.rename(columns={\"거래id\":\"transaction_id\", \"유형\":\"l_type\", \"고객id\":\"customer_id\",\"코스ID\":\"courseID\",\"사이트\":\"site\", \"포맷\":\"l_format\",\n",
    "                   \"카테고리\":\"l_categories\", \"코스(상품) 이름\":\"course_name\", \"거래일자\":\"transaction_date_time\",\"쿠폰이름\":\"coupon_name\",\n",
    "                   \"판매가격\":\"sold_price\",\"결제수단\":\"payment_method\",\"실거래금액\":\"actual_sold_price\",\"쿠폰할인액\":\"coupon_discount\",\n",
    "                   \"거래금액\":\"transaction_amount\",\"환불금액\":\"refund_amount\"\n",
    "                   },\n",
    "          inplace=True)\n",
    "df.to_csv(dataset + \"rawdata_eng.csv\", index=False)"
   ]
  },
  {
   "cell_type": "markdown",
   "id": "bb72e097",
   "metadata": {},
   "source": [
    "###### 사전 데이터 탐색"
   ]
  },
  {
   "cell_type": "code",
   "execution_count": 20,
   "id": "421c1279",
   "metadata": {},
   "outputs": [
    {
     "data": {
      "text/plain": [
       "프로그래밍       51705\n",
       "데이터 사이언스    26859\n",
       "일러스트        15443\n",
       "영상/3D       13923\n",
       "업무 생산성      13916\n",
       "마케팅         12896\n",
       "부동산/금융      10797\n",
       "디자인         10211\n",
       "투자/재테크       2483\n",
       "부업/창업        1094\n",
       "Name: l_categories, dtype: int64"
      ]
     },
     "execution_count": 20,
     "metadata": {},
     "output_type": "execute_result"
    }
   ],
   "source": [
    "df.l_categories.value_counts()"
   ]
  },
  {
   "cell_type": "code",
   "execution_count": 52,
   "id": "22cfe91b",
   "metadata": {},
   "outputs": [
    {
     "data": {
      "text/html": [
       "<div>\n",
       "<style scoped>\n",
       "    .dataframe tbody tr th:only-of-type {\n",
       "        vertical-align: middle;\n",
       "    }\n",
       "\n",
       "    .dataframe tbody tr th {\n",
       "        vertical-align: top;\n",
       "    }\n",
       "\n",
       "    .dataframe thead th {\n",
       "        text-align: right;\n",
       "    }\n",
       "</style>\n",
       "<table border=\"1\" class=\"dataframe\">\n",
       "  <thead>\n",
       "    <tr style=\"text-align: right;\">\n",
       "      <th></th>\n",
       "      <th>count</th>\n",
       "      <th>home_lecture_num</th>\n",
       "      <th>c_count</th>\n",
       "      <th>h_count</th>\n",
       "    </tr>\n",
       "  </thead>\n",
       "  <tbody>\n",
       "    <tr>\n",
       "      <th>프로그래밍</th>\n",
       "      <td>51705</td>\n",
       "      <td>92</td>\n",
       "      <td>32.452127</td>\n",
       "      <td>22.660099</td>\n",
       "    </tr>\n",
       "    <tr>\n",
       "      <th>데이터 사이언스</th>\n",
       "      <td>26859</td>\n",
       "      <td>82</td>\n",
       "      <td>16.857783</td>\n",
       "      <td>20.197044</td>\n",
       "    </tr>\n",
       "    <tr>\n",
       "      <th>일러스트</th>\n",
       "      <td>15443</td>\n",
       "      <td>36</td>\n",
       "      <td>9.692645</td>\n",
       "      <td>8.866995</td>\n",
       "    </tr>\n",
       "    <tr>\n",
       "      <th>영상/3D</th>\n",
       "      <td>13923</td>\n",
       "      <td>51</td>\n",
       "      <td>8.738632</td>\n",
       "      <td>12.561576</td>\n",
       "    </tr>\n",
       "    <tr>\n",
       "      <th>업무 생산성</th>\n",
       "      <td>13916</td>\n",
       "      <td>30</td>\n",
       "      <td>8.734238</td>\n",
       "      <td>7.389163</td>\n",
       "    </tr>\n",
       "    <tr>\n",
       "      <th>마케팅</th>\n",
       "      <td>12896</td>\n",
       "      <td>37</td>\n",
       "      <td>8.094046</td>\n",
       "      <td>9.113300</td>\n",
       "    </tr>\n",
       "    <tr>\n",
       "      <th>부동산/금융</th>\n",
       "      <td>10797</td>\n",
       "      <td>33</td>\n",
       "      <td>6.776629</td>\n",
       "      <td>8.128079</td>\n",
       "    </tr>\n",
       "    <tr>\n",
       "      <th>디자인</th>\n",
       "      <td>10211</td>\n",
       "      <td>30</td>\n",
       "      <td>6.408832</td>\n",
       "      <td>7.389163</td>\n",
       "    </tr>\n",
       "    <tr>\n",
       "      <th>투자/재테크</th>\n",
       "      <td>2483</td>\n",
       "      <td>11</td>\n",
       "      <td>1.558430</td>\n",
       "      <td>2.709360</td>\n",
       "    </tr>\n",
       "    <tr>\n",
       "      <th>부업/창업</th>\n",
       "      <td>1094</td>\n",
       "      <td>4</td>\n",
       "      <td>0.686638</td>\n",
       "      <td>0.985222</td>\n",
       "    </tr>\n",
       "  </tbody>\n",
       "</table>\n",
       "</div>"
      ],
      "text/plain": [
       "          count  home_lecture_num    c_count    h_count\n",
       "프로그래밍     51705                92  32.452127  22.660099\n",
       "데이터 사이언스  26859                82  16.857783  20.197044\n",
       "일러스트      15443                36   9.692645   8.866995\n",
       "영상/3D     13923                51   8.738632  12.561576\n",
       "업무 생산성    13916                30   8.734238   7.389163\n",
       "마케팅       12896                37   8.094046   9.113300\n",
       "부동산/금융    10797                33   6.776629   8.128079\n",
       "디자인       10211                30   6.408832   7.389163\n",
       "투자/재테크     2483                11   1.558430   2.709360\n",
       "부업/창업      1094                 4   0.686638   0.985222"
      ]
     },
     "execution_count": 52,
     "metadata": {},
     "output_type": "execute_result"
    }
   ],
   "source": [
    "df_temp = pd.DataFrame()\n",
    "\n",
    "df_temp[\"count\"] = df.l_categories.value_counts()\n",
    "df_temp[\"home_lecture_num\"] = df.course_name.groupby(df[\"l_categories\"]).nunique()\n",
    "df_temp[\"c_count\"] = df.l_categories.value_counts(normalize=True) *100\n",
    "sum_value = df_temp[\"home_lecture_num\"].sum()\n",
    "df_temp[\"h_count\"] = (df_temp[\"home_lecture_num\"] / sum_value) * 100\n",
    "\n",
    "df_temp"
   ]
  },
  {
   "cell_type": "markdown",
   "id": "c8bcdbaa",
   "metadata": {},
   "source": [
    "###### 날짜/시간 데이터 변환 및 분리"
   ]
  },
  {
   "cell_type": "code",
   "execution_count": 10,
   "id": "87295913",
   "metadata": {},
   "outputs": [],
   "source": [
    "# Converting date_time to date and time.\n",
    "\n",
    "rawdata = pd.read_csv(dataset+\"rawdata_eng.csv\")\n",
    "\n",
    "df = rawdata['transaction_date_time'].str.split(\" \", n=5, expand=True)\n",
    "rawdata['Date'] = df[0].str.cat([df[1], df[2]], sep=\"\")\n",
    "rawdata['Time'] = df[3].str.cat([df[4]], sep=\" \")\n",
    "\n",
    "# Converting time to 24H format\n",
    "\n",
    "rawdata[\"Time\"] = rawdata[\"Time\"].str.replace(\"오후\", \"PM\").str.replace(\"오전\",\"AM\")\n",
    "rawdata['Time'] = rawdata['Time'].apply(lambda x: datetime.datetime.strptime(x, '%p %I:%M:%S').strftime('%H:%M:%S'))\n",
    "df = rawdata\n",
    "# rawdata.to_csv(dataset + \"rawdata.csv\", index=False)"
   ]
  },
  {
   "cell_type": "markdown",
   "id": "d13b6b56",
   "metadata": {},
   "source": [
    "###### 불필요한 데이터 처리"
   ]
  },
  {
   "cell_type": "code",
   "execution_count": 11,
   "id": "a4241540",
   "metadata": {
    "scrolled": true
   },
   "outputs": [
    {
     "name": "stdout",
     "output_type": "stream",
     "text": [
      "Number of rows before deletion: 159328\n",
      "Number of rows after deletion: 159327\n"
     ]
    }
   ],
   "source": [
    "# Deleting Rows\n",
    "\n",
    "# 크리에이티브\n",
    "print(\"Number of rows before deletion:\", len(df))\n",
    "df = df[df[\"l_categories\"] != \"크리에이티브\"]\n",
    "print(\"Number of rows after deletion:\", len(df))\n",
    "\n",
    "# Format 컬럼\n",
    "\n",
    "df = df.drop(\"l_format\", axis=1)\n",
    "df = df.drop(\"l_type\", axis=1)\n",
    "\n",
    "# rowdata_eng.to_csv(dataset + \"columns_deleted.csv\", index=False)"
   ]
  },
  {
   "cell_type": "markdown",
   "id": "11b4a451",
   "metadata": {},
   "source": [
    "###### 숫자 데이터 컬럼 형 변환 (Obj -> Float)"
   ]
  },
  {
   "cell_type": "code",
   "execution_count": 12,
   "id": "d637c518",
   "metadata": {},
   "outputs": [],
   "source": [
    "# Convert dtype\n",
    "df = df.replace(\"-\",np.nan)\n",
    "df[\"sold_price\"] = df[\"sold_price\"].astype(float)\n",
    "df[\"actual_sold_price\"] = df[\"actual_sold_price\"].astype(float)\n",
    "df[\"coupon_discount\"] = df[\"coupon_discount\"].astype(float)\n",
    "df[\"transaction_amount\"] = df[\"transaction_amount\"].astype(float)\n",
    "df[\"refund_amount\"] = df[\"refund_amount\"].astype(float)\n",
    "type_converted = df\n",
    "# type_converted.to_csv(dataset + \"space_PLEASE.csv\", index=False)"
   ]
  },
  {
   "cell_type": "markdown",
   "id": "2b8e7961",
   "metadata": {},
   "source": [
    "###### 코스 이름 컬럼 cleansing"
   ]
  },
  {
   "cell_type": "code",
   "execution_count": 13,
   "id": "45e8cbed",
   "metadata": {},
   "outputs": [],
   "source": [
    "# Removing date range in course_name\n",
    "\n",
    "type_converted[\"course_name\"] = type_converted[\"course_name\"].apply(clean_course_name)\n",
    "df_yes_space = type_converted\n",
    "df_yes_space\n",
    "df_yes_space.to_csv(dataset +\"df_yes_space.csv\", index = False)"
   ]
  },
  {
   "cell_type": "markdown",
   "id": "5b851919",
   "metadata": {},
   "source": [
    "###### 패키지 별 분류"
   ]
  },
  {
   "cell_type": "code",
   "execution_count": 14,
   "id": "ac948586",
   "metadata": {},
   "outputs": [],
   "source": [
    "# Grouping courses by Packages\n",
    "\n",
    "# \"The Red\" had many variances, needed to cleanse the course_name once again solely for this\n",
    "df_yes_space[\"course_name\"] = df_yes_space[\"course_name\"].apply(lambda x: x.replace(\" \", \"\").lower())\n",
    "df_no_space = df_yes_space\n",
    "\n",
    "# Applying def course_packages.\n",
    "df_no_space[\"course_group\"] = df_no_space.apply(course_packages, axis=1)\n",
    "df_no_space[\"course_name\"] = rawdata[\"course_name\"]\n",
    "df_no_space.to_csv(dataset +\"Packages_Separated.csv\", index = False)\n",
    "\n",
    "# Generating CSV file for each Package.\n",
    "grouped_df = df_no_space.groupby(\"course_group\")\n",
    "\n",
    "for group_name, group_df in grouped_df:\n",
    "    if group_name == \"Other\":\n",
    "#     groupname = group_name.replace(\"/\", \"_\")\n",
    "        filename = f\"{group_name}.csv\"\n",
    "        group_df.to_csv(GROUPED + f\"{filename}\", index=False)\n",
    "    else:\n",
    "        pass"
   ]
  },
  {
   "cell_type": "markdown",
   "id": "6f1d3cb9",
   "metadata": {},
   "source": [
    "###### 패키지 별 분류된 CSV파일 생성"
   ]
  },
  {
   "cell_type": "code",
   "execution_count": 15,
   "id": "9ca54fce",
   "metadata": {},
   "outputs": [],
   "source": [
    "# Some packages only had one course each, needed to re-classify them as others\n",
    "for file in all_file_locations[\"grouped\"]:\n",
    "    df = pd.read_csv(file, low_memory=False)\n",
    "    # print(file, file.split(\"/\")[-1].split(\".\")[0] ,len(set(df[\"course_name\"])))\n",
    "\n",
    "df_new = pd.DataFrame()\n",
    "for group_name, group_df in grouped_df:\n",
    "    # We don't need to check Other.csv as we want to add more data to it\n",
    "    if group_name == \"Other\":\n",
    "        continue\n",
    "    else:\n",
    "        # Check if any Package has only one course\n",
    "        if len(set(group_df[\"course_name\"])) == 1:\n",
    "            # There is only one course in [무료강의], but as it seemed more legit if we separate it from Others.\n",
    "            if group_name == \"[무료강의]\":\n",
    "                # Adding up [무료강의].csv to final CSV folder\n",
    "                group_df.to_csv(FINAL_GROUP + \"[무료강의].csv\", index=False)\n",
    "                pass\n",
    "            else:\n",
    "                # Add all packages that only has one course to df_new\n",
    "                df_new = pd.concat([df_new, group_df])\n",
    "\n",
    "        else:\n",
    "            # Adding all the packages with multiple courses to the final CSV folder.\n",
    "            filetitle = group_name.replace(\"/\", \"_\")\n",
    "            group_df.to_csv(FINAL_GROUP + f\"{filetitle}.csv\", index=False)\n",
    "\n",
    "df_other = pd.read_csv(GROUPED + \"Other.csv\")\n",
    "df_all = pd.concat([df_new, df_other])\n",
    "df_all.to_csv(FINAL_GROUP + \"Others.csv\", index=False)"
   ]
  },
  {
   "cell_type": "markdown",
   "id": "52dbffec",
   "metadata": {},
   "source": [
    "###### 쿠폰 분류 추가"
   ]
  },
  {
   "cell_type": "code",
   "execution_count": 16,
   "id": "2f09dc14",
   "metadata": {},
   "outputs": [],
   "source": [
    "internal_coupons = {\"내부\" : \"internal\",\n",
    "                    \"검수\" : \"internal\",\n",
    "                    \"검토\" : \"internal\",\n",
    "                    \"협업\" : \"internal\",\n",
    "                    \"업무\" : \"internal\",\n",
    "                    \"참고\" : \"internal\",\n",
    "                    \"직원\" : \"internal\",\n",
    "                    \"강사\" : \"internal\",\n",
    "                    \"QA\" : \"internal\",\n",
    "                    \"테스트\" : \"internal\",\n",
    "                    \"조교\" : \"internal\",\n",
    "                    \"test\" : \"internal\",\n",
    "                    \"마케팅\" : \"internal\",\n",
    "                    \"신해동\" : \"internal\"\n",
    "                   }\n",
    "external_coupons = {\"WELCOME\" : \"welcome\",\n",
    "                    \"welcome\" : \"welcome\",\n",
    "                    \"Welcome\" : \"welcome\",\n",
    "                     \"페이백\" : \"payback\",\n",
    "                     \"1+1\" : \"bogo\",\n",
    "                     \"산학\" : \"univ\",\n",
    "                     \"기수강자\" : \"return\",\n",
    "                     \"미리보기\" : \"preview\",\n",
    "                     \"100%\": \"free\",\n",
    "                     \"무료\" : \"free\"\n",
    "                    }"
   ]
  },
  {
   "cell_type": "code",
   "execution_count": 17,
   "id": "f9e46a1d",
   "metadata": {},
   "outputs": [],
   "source": [
    "df = pd.read_csv(dataset + 'Packages_Separated.csv') #추가할 데이터 부르기\n",
    "\n",
    "df = coupons(df)\n",
    "df.to_csv(dataset+\"final_prep_file.csv\")"
   ]
  },
  {
   "cell_type": "code",
   "execution_count": null,
   "id": "f1c63f59",
   "metadata": {},
   "outputs": [],
   "source": []
  },
  {
   "cell_type": "code",
   "execution_count": null,
   "id": "58ff2988",
   "metadata": {},
   "outputs": [],
   "source": []
  }
 ],
 "metadata": {
  "kernelspec": {
   "display_name": "Python 3 (ipykernel)",
   "language": "python",
   "name": "python3"
  },
  "language_info": {
   "codemirror_mode": {
    "name": "ipython",
    "version": 3
   },
   "file_extension": ".py",
   "mimetype": "text/x-python",
   "name": "python",
   "nbconvert_exporter": "python",
   "pygments_lexer": "ipython3",
   "version": "3.10.9"
  }
 },
 "nbformat": 4,
 "nbformat_minor": 5
}
