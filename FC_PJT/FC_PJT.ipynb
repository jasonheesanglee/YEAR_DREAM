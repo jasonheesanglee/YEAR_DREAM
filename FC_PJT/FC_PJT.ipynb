{
 "cells": [
  {
   "cell_type": "code",
   "execution_count": 2,
   "id": "30c29bfc",
   "metadata": {},
   "outputs": [],
   "source": [
    "# !pip install numpy\n",
    "# !pip install pandas\n",
    "# !pip install matplotlib\n",
    "# !pip install scipy\n",
    "# !pip install seaborn"
   ]
  },
  {
   "cell_type": "code",
   "execution_count": 54,
   "id": "73a11454",
   "metadata": {},
   "outputs": [],
   "source": [
    "import os\n",
    "import numpy as np\n",
    "import pandas as pd\n",
    "from matplotlib import rc\n",
    "import matplotlib.pyplot as plt\n",
    "import matplotlib.font_manager as fm\n",
    "import re\n",
    "import glob\n",
    "import seaborn as sns\n",
    "from datetime import datetime, timedelta"
   ]
  },
  {
   "cell_type": "code",
   "execution_count": 3,
   "id": "02da4c98",
   "metadata": {},
   "outputs": [
    {
     "data": {
      "text/plain": [
       "'/Users/b05/Desktop/YEAR_DREAM/FC_PJT'"
      ]
     },
     "execution_count": 3,
     "metadata": {},
     "output_type": "execute_result"
    }
   ],
   "source": [
    "os.getcwd()"
   ]
  },
  {
   "cell_type": "code",
   "execution_count": 4,
   "id": "e7e1e29d",
   "metadata": {},
   "outputs": [
    {
     "name": "stdout",
     "output_type": "stream",
     "text": [
      "AppleGothic font found at  /System/Library/Fonts/Supplemental/AppleGothic.ttf\n"
     ]
    }
   ],
   "source": [
    "# Checking Fonts\n",
    "\n",
    "rc('font', family='AppleGothic')\n",
    "plt.rcParams['axes.unicode_minus'] = False\n",
    "font_path = fm.findfont('AppleGothic')\n",
    "if not font_path:\n",
    "    print('Warning: AppleGothic font not found')\n",
    "else:\n",
    "    print(\"AppleGothic font found at \", font_path)\n",
    "\n",
    "font_prop = fm.FontProperties(fname=font_path, size=12)"
   ]
  },
  {
   "cell_type": "code",
   "execution_count": 5,
   "id": "14f925e2",
   "metadata": {},
   "outputs": [],
   "source": [
    "# Creating variables for data paths\n",
    "dataset = \"./dataset/\""
   ]
  },
  {
   "cell_type": "code",
   "execution_count": 58,
   "id": "6e2488d8",
   "metadata": {},
   "outputs": [],
   "source": [
    "if not os.path.exists(dataset + \"Grouped\"):\n",
    "    os.mkdir(dataset + \"Grouped\")"
   ]
  },
  {
   "cell_type": "code",
   "execution_count": 6,
   "id": "d3da5b78",
   "metadata": {},
   "outputs": [],
   "source": [
    "df = pd.read_csv(dataset+'eda-proj-fc-purchase.csv')"
   ]
  },
  {
   "cell_type": "code",
   "execution_count": 7,
   "id": "cf66220c",
   "metadata": {},
   "outputs": [],
   "source": [
    "df.rename(columns={\"거래id\":\"transaction_id\", \"유형\":\"type\", \"고객id\":\"customer_id\",\"코스ID\":\"courseID\",\"사이트\":\"site\", \"포맷\":\"format\", \"카테고리\":\"category\", \"코스(상품) 이름\":\"course_name\", \"거래일자\":\"transaction_date_time\",\"쿠폰이름\":\"coupon_name\",\"판매가격\":\"sold_price\",\"결제수단\":\"payment_method\",\"실거래금액\":\"actual_sold_price\",\"쿠폰할인액\":\"coupon_discount\",\"거래금액\":\"transaction_amount\",\"환불금액\":\"refund_amount\"}, inplace=True)\n",
    "df.to_csv(dataset + \"rowdata_eng.csv\", index=False)"
   ]
  },
  {
   "cell_type": "code",
   "execution_count": 8,
   "id": "8a11ae35",
   "metadata": {},
   "outputs": [],
   "source": [
    "rowdata_eng = pd.read_csv(dataset+\"rowdata_eng.csv\")"
   ]
  },
  {
   "cell_type": "code",
   "execution_count": 9,
   "id": "73d9f7a4",
   "metadata": {},
   "outputs": [
    {
     "name": "stdout",
     "output_type": "stream",
     "text": [
      "159328\n",
      "159328\n"
     ]
    }
   ],
   "source": [
    "print(len(rowdata_eng[['transaction_date_time']]))\n",
    "print(len(rowdata_eng))"
   ]
  },
  {
   "cell_type": "code",
   "execution_count": 10,
   "id": "1d66f0c1",
   "metadata": {},
   "outputs": [
    {
     "name": "stdout",
     "output_type": "stream",
     "text": [
      "0         오후 10:12:33\n",
      "1          오후 6:12:57\n",
      "2         오후 11:12:15\n",
      "3         오후 11:12:03\n",
      "4         오후 11:12:10\n",
      "             ...     \n",
      "159323    오전 12:01:08\n",
      "159324    오전 12:01:12\n",
      "159325    오전 12:01:21\n",
      "159326    오전 11:01:24\n",
      "159327     오전 4:01:00\n",
      "Name: 3, Length: 159328, dtype: object\n"
     ]
    }
   ],
   "source": [
    "df = rowdata_eng['transaction_date_time'].str.split(\" \", n=3, expand=True)\n",
    "print(df[3])\n",
    "rowdata_eng['Date'] = df[0].str.cat([df[1],df[2]], sep=\"\")\n",
    "rowdata_eng['Time'] = df[3]\n",
    "\n",
    "rowdata_eng.to_csv(dataset+\"rowdata_eng_dtsplit.csv\", index=False)"
   ]
  },
  {
   "cell_type": "code",
   "execution_count": 26,
   "id": "7f6c1847",
   "metadata": {},
   "outputs": [
    {
     "name": "stderr",
     "output_type": "stream",
     "text": [
      "/var/folders/0t/816d84452dn7h591gjkg32_m0000gn/T/ipykernel_35380/1254090522.py:3: FutureWarning: iteritems is deprecated and will be removed in a future version. Use .items instead.\n",
      "  for i, time in tsplit.iteritems():\n"
     ]
    }
   ],
   "source": [
    "rowdata_dtsplit = pd.read_csv(dataset+\"rowdata_eng_dtsplit.csv\")\n",
    "tsplit = rowdata_dtsplit[\"Time\"]\n",
    "for i, time in tsplit.iteritems():\n",
    "    if \"오후\" in time:\n",
    "        time = time.replace(\"오후 \",\"\")\n",
    "        if int(time.split(\":\")[0]) == 12:\n",
    "            pass\n",
    "        else:\n",
    "            x = int(time.split(\":\")[0]) + 12\n",
    "            y = time.split(\":\")[1]\n",
    "            z = time.split(\":\")[2]\n",
    "            xyz = [str(x),\":\", str(y), \":\", str(z)]\n",
    "            time_str = \"\".join(xyz)\n",
    "            rowdata_dtsplit.at[i, \"Time\"] = time_str\n",
    "    else:\n",
    "        time = time.replace(\"오전 \", \"\")\n",
    "        rowdata_dtsplit.at[i, \"Time\"] = time\n",
    "\n",
    "rowdata_dtsplit.to_csv(dataset+\"24h time.csv\",index=False)"
   ]
  },
  {
   "cell_type": "code",
   "execution_count": 27,
   "id": "8b92288f",
   "metadata": {},
   "outputs": [],
   "source": [
    "time_data = pd.read_csv(dataset+\"24h time.csv\")"
   ]
  },
  {
   "cell_type": "code",
   "execution_count": 56,
   "id": "c5e982b5",
   "metadata": {},
   "outputs": [],
   "source": [
    "def clean_course_data(course_name):\n",
    "    if course_name.startswith(\"(\"):\n",
    "        if \"~\" in course_name:\n",
    "            return course_name.split(\")\")[1]\n",
    "        else:\n",
    "            return course_name\n",
    "    else:\n",
    "        return course_name\n",
    "    \n",
    "time_data[\"course_name\"] = time_data[\"course_name\"].apply(clean_course_data)\n",
    "time_data.to_csv(dataset +\"course_name_cleansed.csv\", index = False)"
   ]
  },
  {
   "cell_type": "code",
   "execution_count": 65,
   "id": "c623ea3d",
   "metadata": {},
   "outputs": [
    {
     "name": "stdout",
     "output_type": "stream",
     "text": [
      "Group:   UX Explorer \n",
      "Group:   올인원 패키지 \n",
      "Group:   초격차 패키지 \n",
      "Group:  ((2022 리부트)) 초격차 패키지 \n",
      "Group:  (2022 리뉴얼) 올인원 패키지 \n",
      "Group:  3D 캐릭터를 가장 쉽게 만드는 법\n",
      "Group:  AI/Data Science Conference \n",
      "Group:  CLASS\n",
      "Group:  CLASS \n",
      "Group:  Kafka 완전 정복 \n",
      "Group:  Kubernetes 자격증 마스터 클래스 \n",
      "Group:  Live2D로 만드는 버츄얼 캐릭터 \n",
      "Group:  Next.js 완전 정복 \n",
      "Group:  Other\n",
      "Group:  REC.ON \n",
      "Group:  THE RED \n",
      "Group:  The RED\n",
      "Group:  The RED \n",
      "Group:  The Red \n",
      "Group:  The red \n",
      "Group:  [2022] 올인원 패키지 \n",
      "Group:  [Kit] 닷밀의 미디어아트 그래픽 클래스 \n",
      "Group:  [Kit] 입문자를 위한 풀스택 웹 개발 Kit \n",
      "Group:  [Kit]집에 있는 카메라로 시작하는 Photography \n",
      "Group:  sudo \n",
      "Group:  글로벌 엑스퍼트\n",
      "Group:  글로벌 엑스퍼트 \n",
      "Group:  김동원의 저예산 마케팅을 위한 검색 광고 최적화 \n",
      "Group:  네오아카데미\n",
      "Group:  네오아카데미 \n",
      "Group:  닷밀 미디어아트 그래픽 클래스\n",
      "Group:  매치무브 온보딩 \n",
      "Group:  모두를 위한 앱 개발 \n",
      "Group:  바이블 \n",
      "Group:  부동산 디벨로퍼 아카데미 \n",
      "Group:  사이드 프로젝트 \n",
      "Group:  스프링러너의 스프링 아카데미\n",
      "Group:  시그니처 패키지 \n",
      "Group:  실무 초밀착 리눅스\n",
      "Group:  실무 프로젝트로 배우는 Kotlin & Spring \n",
      "Group:  연습문제 패키지 \n",
      "Group:  옥테인으로 만드는 뉴디멘션\n",
      "Group:  올인원 패키지 \n",
      "Group:  올인원패키지\n",
      "Group:  올인원패키지 \n",
      "Group:  재수강용\n",
      "Group:  쟈니브로스에게 배우는 영상 완성의 3단계 \n",
      "Group:  차원이 다른 캐주얼 캐릭터\n",
      "Group:  초격차 패키지\n",
      "Group:  초격차 패키지 \n",
      "Group:  초단기 완성 \n",
      "Group:  커리어 가이드 \n",
      "Group:  패캠 Univ. 디자인과 \n",
      "Group:  편집하는여자의 영상편집 마스터클래스 \n",
      "Group:  한번에 끝내는 ESG 경영 실무\n",
      "Group:  합격 패스 \n",
      "Group:  합격의 하이패스 \n",
      "Group:  히어로부터 크리쳐까지\n"
     ]
    }
   ],
   "source": [
    "def group_columns(row):\n",
    "    parts = re.split(\"[:|-]\", row[\"course_name\"])\n",
    "    if len(parts) == 1:\n",
    "        return (\"Other\")\n",
    "    return parts[0]\n",
    "\n",
    "time_data[\"course_group\"] = time_data.apply(group_columns, axis=1)\n",
    "grouped_df = time_data.groupby(\"course_group\")\n",
    "for group_name, group_df in grouped_df:\n",
    "    print(\"Group: \", group_name)\n",
    "    groupname = group_name.replace(\"/\",\"_\")\n",
    "    filename = f\"{groupname.strip()}.csv\"\n",
    "    group_df.to_csv(dataset + f\"Grouped/{filename}\", index=False)\n",
    "    "
   ]
  },
  {
   "cell_type": "code",
   "execution_count": null,
   "id": "f21891cd",
   "metadata": {},
   "outputs": [],
   "source": []
  }
 ],
 "metadata": {
  "kernelspec": {
   "display_name": "Python 3 (ipykernel)",
   "language": "python",
   "name": "python3"
  },
  "language_info": {
   "codemirror_mode": {
    "name": "ipython",
    "version": 3
   },
   "file_extension": ".py",
   "mimetype": "text/x-python",
   "name": "python",
   "nbconvert_exporter": "python",
   "pygments_lexer": "ipython3",
   "version": "3.10.9"
  }
 },
 "nbformat": 4,
 "nbformat_minor": 5
}
