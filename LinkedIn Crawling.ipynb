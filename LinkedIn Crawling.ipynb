{
 "cells": [
  {
   "cell_type": "code",
   "execution_count": 1,
   "id": "3f0be533",
   "metadata": {},
   "outputs": [],
   "source": [
    "import selenium\n",
    "import os\n",
    "import chromedriver_autoinstaller\n",
    "import pandas as pd\n",
    "import time\n",
    "from selenium import webdriver\n",
    "from selenium.webdriver.common.keys import Keys\n",
    "from selenium.webdriver.common.action_chains import ActionChains\n",
    "from selenium.webdriver.common.by import By\n",
    "\n",
    "options = webdriver.ChromeOptions()\n",
    "\n",
    "# options.add_argument(\"--headless\")\n",
    "options.add_argument(\"--no-sandbox\")\n",
    "options.add_argument(\"--disable-dev-shm-usage\")\n",
    "browser = webdriver.Chrome(\"chromedriver\", options=options)\n",
    "actions = ActionChains(browser)\n",
    "\n",
    "url = \"https://www.linkedin.com/feed/\"\n",
    "browser.get(url)\n",
    "# browser = webdriver.Chrome()"
   ]
  },
  {
   "cell_type": "code",
   "execution_count": 2,
   "id": "384e1a41",
   "metadata": {},
   "outputs": [],
   "source": [
    "sign_in = browser.find_element(By.XPATH, '/html/body/div[1]/main/div/p/a').get_attribute(\"href\")\n",
    "browser.get(sign_in)"
   ]
  },
  {
   "cell_type": "code",
   "execution_count": 3,
   "id": "70eaff7d",
   "metadata": {},
   "outputs": [],
   "source": [
    "email_input = browser.find_element(By.ID, 'username')\n",
    "email_input.send_keys(\"jason.heesang.lee96@gmail.com\")\n",
    "password_input = browser.find_element(By.ID, 'password')\n",
    "password_input.send_keys('Dlgmltkdcjswo1!')\n",
    "sign_in_button = browser.find_element(By.XPATH, '/html/body/div/main/div[2]/div[1]/form/div[3]/button')\n",
    "sign_in_button.click()"
   ]
  },
  {
   "cell_type": "code",
   "execution_count": 9,
   "id": "fbaacb5d",
   "metadata": {},
   "outputs": [],
   "source": [
    "jobs_button = browser.find_element(By.CSS_SELECTOR, '#global-nav > div > nav > ul > li:nth-child(3) > a').get_attribute('href')\n",
    "browser.get(jobs_button)"
   ]
  },
  {
   "cell_type": "code",
   "execution_count": 10,
   "id": "fe8b746a",
   "metadata": {},
   "outputs": [
    {
     "name": "stdout",
     "output_type": "stream",
     "text": [
      "Which position do you want to search? data scientist\n"
     ]
    }
   ],
   "source": [
    "search_title = browser.find_element(By.CLASS_NAME, 'jobs-search-box__text-input.jobs-search-box__keyboard-text-input')\n",
    "jobsearcher_input = input(\"Which position do you want to search? \")\n",
    "search_title.send_keys(jobsearcher_input)"
   ]
  },
  {
   "cell_type": "code",
   "execution_count": 11,
   "id": "9693d807",
   "metadata": {},
   "outputs": [],
   "source": [
    "time.sleep(0.6)\n",
    "search_title.send_keys(Keys.ENTER)"
   ]
  },
  {
   "cell_type": "code",
   "execution_count": 63,
   "id": "cb0a2112",
   "metadata": {},
   "outputs": [
    {
     "name": "stdout",
     "output_type": "stream",
     "text": [
      "List size is: 25\n",
      "Page 1\n",
      "3591420687\n",
      "3609862632\n",
      "3587688922\n",
      "3611395134\n",
      "3590319297\n",
      "3568526552\n",
      "3552693520\n",
      "3227518449\n",
      "3227515845\n",
      "3524944689\n",
      "3590311843\n"
     ]
    },
    {
     "ename": "NoSuchElementException",
     "evalue": "Message: no such element: Unable to locate element: {\"method\":\"css selector\",\"selector\":\"[data-job-id='3590311843']\"}\n  (Session info: chrome=112.0.5615.137)\nStacktrace:\n0   chromedriver                        0x0000000100a15670 chromedriver + 4298352\n1   chromedriver                        0x0000000100a0dbbc chromedriver + 4266940\n2   chromedriver                        0x0000000100640758 chromedriver + 280408\n3   chromedriver                        0x000000010067bb38 chromedriver + 523064\n4   chromedriver                        0x00000001006b4080 chromedriver + 753792\n5   chromedriver                        0x000000010066e2d0 chromedriver + 467664\n6   chromedriver                        0x000000010066f354 chromedriver + 471892\n7   chromedriver                        0x00000001009d56c4 chromedriver + 4036292\n8   chromedriver                        0x00000001009d9c64 chromedriver + 4054116\n9   chromedriver                        0x00000001009e02d8 chromedriver + 4080344\n10  chromedriver                        0x00000001009da970 chromedriver + 4057456\n11  chromedriver                        0x00000001009b18dc chromedriver + 3889372\n12  chromedriver                        0x00000001009f925c chromedriver + 4182620\n13  chromedriver                        0x00000001009f93b4 chromedriver + 4182964\n14  chromedriver                        0x0000000100a080f4 chromedriver + 4243700\n15  libsystem_pthread.dylib             0x00000001a738bfa8 _pthread_start + 148\n16  libsystem_pthread.dylib             0x00000001a7386da0 thread_start + 8\n",
     "output_type": "error",
     "traceback": [
      "\u001b[0;31m---------------------------------------------------------------------------\u001b[0m",
      "\u001b[0;31mNoSuchElementException\u001b[0m                    Traceback (most recent call last)",
      "Cell \u001b[0;32mIn[63], line 26\u001b[0m\n\u001b[1;32m     24\u001b[0m job_id \u001b[38;5;241m=\u001b[39m card\u001b[38;5;241m.\u001b[39mget_attribute(\u001b[38;5;124m'\u001b[39m\u001b[38;5;124mdata-occludable-job-id\u001b[39m\u001b[38;5;124m'\u001b[39m)\n\u001b[1;32m     25\u001b[0m \u001b[38;5;28mprint\u001b[39m(job_id)\n\u001b[0;32m---> 26\u001b[0m \u001b[43mbrowser\u001b[49m\u001b[38;5;241;43m.\u001b[39;49m\u001b[43mfind_element\u001b[49m\u001b[43m(\u001b[49m\u001b[43mBy\u001b[49m\u001b[38;5;241;43m.\u001b[39;49m\u001b[43mCSS_SELECTOR\u001b[49m\u001b[43m,\u001b[49m\u001b[43m \u001b[49m\u001b[38;5;124;43mf\u001b[39;49m\u001b[38;5;124;43m\"\u001b[39;49m\u001b[38;5;124;43m[data-job-id=\u001b[39;49m\u001b[38;5;124;43m'\u001b[39;49m\u001b[38;5;132;43;01m{\u001b[39;49;00m\u001b[43mjob_id\u001b[49m\u001b[38;5;132;43;01m}\u001b[39;49;00m\u001b[38;5;124;43m'\u001b[39;49m\u001b[38;5;124;43m]\u001b[39;49m\u001b[38;5;124;43m\"\u001b[39;49m\u001b[43m)\u001b[49m\u001b[38;5;241m.\u001b[39mclick()\n\u001b[1;32m     27\u001b[0m jobtitle \u001b[38;5;241m=\u001b[39m browser\u001b[38;5;241m.\u001b[39mfind_element(By\u001b[38;5;241m.\u001b[39mCLASS_NAME, \u001b[38;5;124m'\u001b[39m\u001b[38;5;124mt-24.t-bold.jobs-unified-top-card__job-title\u001b[39m\u001b[38;5;124m'\u001b[39m)\u001b[38;5;241m.\u001b[39mtext\n\u001b[1;32m     28\u001b[0m jobtitle_list\u001b[38;5;241m.\u001b[39mappend(jobtitle)\n",
      "File \u001b[0;32m/opt/homebrew/Caskroom/miniconda/base/lib/python3.10/site-packages/selenium/webdriver/remote/webdriver.py:831\u001b[0m, in \u001b[0;36mWebDriver.find_element\u001b[0;34m(self, by, value)\u001b[0m\n\u001b[1;32m    828\u001b[0m     by \u001b[38;5;241m=\u001b[39m By\u001b[38;5;241m.\u001b[39mCSS_SELECTOR\n\u001b[1;32m    829\u001b[0m     value \u001b[38;5;241m=\u001b[39m \u001b[38;5;124mf\u001b[39m\u001b[38;5;124m'\u001b[39m\u001b[38;5;124m[name=\u001b[39m\u001b[38;5;124m\"\u001b[39m\u001b[38;5;132;01m{\u001b[39;00mvalue\u001b[38;5;132;01m}\u001b[39;00m\u001b[38;5;124m\"\u001b[39m\u001b[38;5;124m]\u001b[39m\u001b[38;5;124m'\u001b[39m\n\u001b[0;32m--> 831\u001b[0m \u001b[38;5;28;01mreturn\u001b[39;00m \u001b[38;5;28;43mself\u001b[39;49m\u001b[38;5;241;43m.\u001b[39;49m\u001b[43mexecute\u001b[49m\u001b[43m(\u001b[49m\u001b[43mCommand\u001b[49m\u001b[38;5;241;43m.\u001b[39;49m\u001b[43mFIND_ELEMENT\u001b[49m\u001b[43m,\u001b[49m\u001b[43m \u001b[49m\u001b[43m{\u001b[49m\u001b[38;5;124;43m\"\u001b[39;49m\u001b[38;5;124;43musing\u001b[39;49m\u001b[38;5;124;43m\"\u001b[39;49m\u001b[43m:\u001b[49m\u001b[43m \u001b[49m\u001b[43mby\u001b[49m\u001b[43m,\u001b[49m\u001b[43m \u001b[49m\u001b[38;5;124;43m\"\u001b[39;49m\u001b[38;5;124;43mvalue\u001b[39;49m\u001b[38;5;124;43m\"\u001b[39;49m\u001b[43m:\u001b[49m\u001b[43m \u001b[49m\u001b[43mvalue\u001b[49m\u001b[43m}\u001b[49m\u001b[43m)\u001b[49m[\u001b[38;5;124m\"\u001b[39m\u001b[38;5;124mvalue\u001b[39m\u001b[38;5;124m\"\u001b[39m]\n",
      "File \u001b[0;32m/opt/homebrew/Caskroom/miniconda/base/lib/python3.10/site-packages/selenium/webdriver/remote/webdriver.py:440\u001b[0m, in \u001b[0;36mWebDriver.execute\u001b[0;34m(self, driver_command, params)\u001b[0m\n\u001b[1;32m    438\u001b[0m response \u001b[38;5;241m=\u001b[39m \u001b[38;5;28mself\u001b[39m\u001b[38;5;241m.\u001b[39mcommand_executor\u001b[38;5;241m.\u001b[39mexecute(driver_command, params)\n\u001b[1;32m    439\u001b[0m \u001b[38;5;28;01mif\u001b[39;00m response:\n\u001b[0;32m--> 440\u001b[0m     \u001b[38;5;28;43mself\u001b[39;49m\u001b[38;5;241;43m.\u001b[39;49m\u001b[43merror_handler\u001b[49m\u001b[38;5;241;43m.\u001b[39;49m\u001b[43mcheck_response\u001b[49m\u001b[43m(\u001b[49m\u001b[43mresponse\u001b[49m\u001b[43m)\u001b[49m\n\u001b[1;32m    441\u001b[0m     response[\u001b[38;5;124m\"\u001b[39m\u001b[38;5;124mvalue\u001b[39m\u001b[38;5;124m\"\u001b[39m] \u001b[38;5;241m=\u001b[39m \u001b[38;5;28mself\u001b[39m\u001b[38;5;241m.\u001b[39m_unwrap_value(response\u001b[38;5;241m.\u001b[39mget(\u001b[38;5;124m\"\u001b[39m\u001b[38;5;124mvalue\u001b[39m\u001b[38;5;124m\"\u001b[39m, \u001b[38;5;28;01mNone\u001b[39;00m))\n\u001b[1;32m    442\u001b[0m     \u001b[38;5;28;01mreturn\u001b[39;00m response\n",
      "File \u001b[0;32m/opt/homebrew/Caskroom/miniconda/base/lib/python3.10/site-packages/selenium/webdriver/remote/errorhandler.py:245\u001b[0m, in \u001b[0;36mErrorHandler.check_response\u001b[0;34m(self, response)\u001b[0m\n\u001b[1;32m    243\u001b[0m         alert_text \u001b[38;5;241m=\u001b[39m value[\u001b[38;5;124m\"\u001b[39m\u001b[38;5;124malert\u001b[39m\u001b[38;5;124m\"\u001b[39m]\u001b[38;5;241m.\u001b[39mget(\u001b[38;5;124m\"\u001b[39m\u001b[38;5;124mtext\u001b[39m\u001b[38;5;124m\"\u001b[39m)\n\u001b[1;32m    244\u001b[0m     \u001b[38;5;28;01mraise\u001b[39;00m exception_class(message, screen, stacktrace, alert_text)  \u001b[38;5;66;03m# type: ignore[call-arg]  # mypy is not smart enough here\u001b[39;00m\n\u001b[0;32m--> 245\u001b[0m \u001b[38;5;28;01mraise\u001b[39;00m exception_class(message, screen, stacktrace)\n",
      "\u001b[0;31mNoSuchElementException\u001b[0m: Message: no such element: Unable to locate element: {\"method\":\"css selector\",\"selector\":\"[data-job-id='3590311843']\"}\n  (Session info: chrome=112.0.5615.137)\nStacktrace:\n0   chromedriver                        0x0000000100a15670 chromedriver + 4298352\n1   chromedriver                        0x0000000100a0dbbc chromedriver + 4266940\n2   chromedriver                        0x0000000100640758 chromedriver + 280408\n3   chromedriver                        0x000000010067bb38 chromedriver + 523064\n4   chromedriver                        0x00000001006b4080 chromedriver + 753792\n5   chromedriver                        0x000000010066e2d0 chromedriver + 467664\n6   chromedriver                        0x000000010066f354 chromedriver + 471892\n7   chromedriver                        0x00000001009d56c4 chromedriver + 4036292\n8   chromedriver                        0x00000001009d9c64 chromedriver + 4054116\n9   chromedriver                        0x00000001009e02d8 chromedriver + 4080344\n10  chromedriver                        0x00000001009da970 chromedriver + 4057456\n11  chromedriver                        0x00000001009b18dc chromedriver + 3889372\n12  chromedriver                        0x00000001009f925c chromedriver + 4182620\n13  chromedriver                        0x00000001009f93b4 chromedriver + 4182964\n14  chromedriver                        0x0000000100a080f4 chromedriver + 4243700\n15  libsystem_pthread.dylib             0x00000001a738bfa8 _pthread_start + 148\n16  libsystem_pthread.dylib             0x00000001a7386da0 thread_start + 8\n"
     ]
    }
   ],
   "source": [
    "numb_cards = browser.find_element(By.CSS_SELECTOR, \"#main > div > div.scaffold-layout__list > div > ul\")\n",
    "li_elements = numb_cards.find_elements(By.TAG_NAME, \"li\")\n",
    "first_degree_li_elements = [li for li in li_elements if li.find_element(By.XPATH, \"./parent::node()\") == numb_cards]\n",
    "num_li_elements = len(first_degree_li_elements)\n",
    "print(\"List size is:\", num_li_elements)\n",
    "\n",
    "\n",
    "jobtitle_list = []\n",
    "company_list = []\n",
    "location_list = []\n",
    "company_size_list = []\n",
    "industry_list = []\n",
    "link_list = []\n",
    "description_list = []\n",
    "\n",
    "page = 1\n",
    "\n",
    "last_page_num = browser.find_element(By.XPATH, '/html/body/div[4]/div[3]/div[4]/div/div/main/div/div[1]/div/div[6]/ul/li[10]').text\n",
    "for i in range(int(last_page_num)):\n",
    "    print(f\"Page {page}\")\n",
    "    time.sleep(2)\n",
    "    \n",
    "    for card in first_degree_li_elements:\n",
    "        job_id = card.get_attribute('data-occludable-job-id')\n",
    "        print(job_id)\n",
    "        browser.find_element(By.CSS_SELECTOR, f\"[data-job-id='{job_id}']\").click()\n",
    "        jobtitle = browser.find_element(By.CLASS_NAME, 't-24.t-bold.jobs-unified-top-card__job-title').text\n",
    "        jobtitle_list.append(jobtitle)\n",
    "        company_name = browser.find_element(By.CLASS_NAME, 'jobs-unified-top-card__company-name').text\n",
    "        company_list.append(company_name)\n",
    "        location_name = browser.find_element(By.CLASS_NAME, 'jobs-unified-top-card__bullet').text\n",
    "        location_list.append(location_name)\n",
    "    #     first_two_lines = [li for li in li_elements if li.find_element(By.XPATH, \"./parent::node()\") == numb_cards]\n",
    "    #     size_industry = browser.find_element(By.XPATH, '//*[@id=\"main\"]/div/div[2]/div/div[2]/div[1]/div/div[1]/div/div[1]/div[1]/div[2]/ul/li[2]/span').text\n",
    "    #     size_industry.find_element(By.)\n",
    "    #     company_size = size_industry.split(\" · \")[0]\n",
    "    #     industry_name = size_industry.split(\" · \")[1]\n",
    "    #     company_size_list.append(company_size)\n",
    "    #     industry_list.append(industry_name)\n",
    "        links_to_page = card.find_element(By.CLASS_NAME, 'full-width.artdeco-entity-lockup__title.ember-view').find_element(By.TAG_NAME, 'a').get_attribute('href')\n",
    "        link_list.append(links_to_page)\n",
    "        description = browser.find_element(By.CLASS_NAME, 'jobs-box__html-content.jobs-description-content__text.t-14.t-normal.jobs-description-content__text--stretch').find_element(By.TAG_NAME, 'span').text\n",
    "        description_list.append(description)\n",
    "        time.sleep(1)\n",
    "    \n",
    "    next_page = browser.find_element(By.CSS_SELECTOR, f'[data-test-pagination-page-btn=\"{str(int(page)+1)}\"]').click()\n",
    "    page += 1\n",
    "    time.sleep(2)\n",
    "    \n",
    "job_post = pd.DataFrame({\"Job Title\" : jobtitle_list,\n",
    "                        \"Company Name\" : company_list,\n",
    "                        \"Location\" : location_list,\n",
    "                        \"Weblink\" : link_list,\n",
    "                        \"Job Description\" : description_list})\n",
    "\n",
    "\n",
    "\n",
    "job_post.to_csv(\"./LinkedIn_Job_Post.csv\", encoding=\"utf-8\")\n",
    "job_post.to_excel(\"./LinkedIn_Job_Post.xlsx\", encoding=\"utf-8\")"
   ]
  },
  {
   "cell_type": "code",
   "execution_count": null,
   "id": "d11fa4c2",
   "metadata": {},
   "outputs": [],
   "source": []
  },
  {
   "cell_type": "code",
   "execution_count": null,
   "id": "b5f85b9a",
   "metadata": {},
   "outputs": [],
   "source": []
  }
 ],
 "metadata": {
  "kernelspec": {
   "display_name": "Python 3 (ipykernel)",
   "language": "python",
   "name": "python3"
  },
  "language_info": {
   "codemirror_mode": {
    "name": "ipython",
    "version": 3
   },
   "file_extension": ".py",
   "mimetype": "text/x-python",
   "name": "python",
   "nbconvert_exporter": "python",
   "pygments_lexer": "ipython3",
   "version": "3.10.9"
  }
 },
 "nbformat": 4,
 "nbformat_minor": 5
}
